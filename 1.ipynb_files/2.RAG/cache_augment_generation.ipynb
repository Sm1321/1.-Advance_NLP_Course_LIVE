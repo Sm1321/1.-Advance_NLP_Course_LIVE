{
 "cells": [
  {
   "cell_type": "code",
   "execution_count": 8,
   "metadata": {},
   "outputs": [],
   "source": [
    "import os\n",
    "os.environ[\"GROQ_API_KEY\"] = os.getenv(\"GROQ_API_KEY\")"
   ]
  },
  {
   "cell_type": "code",
   "execution_count": 9,
   "metadata": {},
   "outputs": [],
   "source": [
    "from langchain_groq import ChatGroq\n",
    "llm = ChatGroq(model=\"llama3-70b-8192\")"
   ]
  },
  {
   "cell_type": "code",
   "execution_count": 10,
   "metadata": {},
   "outputs": [],
   "source": [
    "# Wrap with cache\n",
    "Model_Cache = {}"
   ]
  },
  {
   "cell_type": "code",
   "execution_count": 11,
   "metadata": {},
   "outputs": [],
   "source": [
    "import time\n",
    "def cached_model(query):\n",
    "    start_time = time.time()\n",
    "    if Model_Cache.get(query):\n",
    "        print(\"***CACHE HIT***\")\n",
    "        end_time = time.time()\n",
    "        elapsed = end_time - start_time\n",
    "        print(f\"EXECUTION TIME: {elapsed:.2f} seconds\")\n",
    "        return Model_Cache.get(query)\n",
    "    else:\n",
    "        print(\"***CACHE MISS – EXECUTING MODEL***\")\n",
    "        start_time = time.time()\n",
    "        response = llm.invoke(query)\n",
    "        end_time = time.time()\n",
    "        elapsed = end_time - start_time\n",
    "        print(f\"EXECUTION TIME: {elapsed:.2f} seconds\")\n",
    "        Model_Cache[query] = response\n",
    "        return response"
   ]
  },
  {
   "cell_type": "code",
   "execution_count": 12,
   "metadata": {},
   "outputs": [
    {
     "name": "stdout",
     "output_type": "stream",
     "text": [
      "***CACHE MISS – EXECUTING MODEL***\n",
      "EXECUTION TIME: 0.27 seconds\n",
      "content=\"Hi! It's nice to meet you. Is there something I can help you with or would you like to chat?\" additional_kwargs={} response_metadata={'token_usage': {'completion_tokens': 25, 'prompt_tokens': 11, 'total_tokens': 36, 'completion_time': 0.071428571, 'prompt_time': 0.000120248, 'queue_time': 0.051671532, 'total_time': 0.071548819}, 'model_name': 'llama3-70b-8192', 'system_fingerprint': 'fp_dd4ae1c591', 'finish_reason': 'stop', 'logprobs': None} id='run-1f3b5e7b-adaa-45df-a9b6-b1619d889c58-0' usage_metadata={'input_tokens': 11, 'output_tokens': 25, 'total_tokens': 36}\n"
     ]
    }
   ],
   "source": [
    "query=\"hi\"\n",
    "response = cached_model(query)\n",
    "print(response)"
   ]
  },
  {
   "cell_type": "code",
   "execution_count": 13,
   "metadata": {},
   "outputs": [
    {
     "name": "stdout",
     "output_type": "stream",
     "text": [
      "***CACHE HIT***\n",
      "EXECUTION TIME: 0.00 seconds\n",
      "content=\"Hi! It's nice to meet you. Is there something I can help you with or would you like to chat?\" additional_kwargs={} response_metadata={'token_usage': {'completion_tokens': 25, 'prompt_tokens': 11, 'total_tokens': 36, 'completion_time': 0.071428571, 'prompt_time': 0.000120248, 'queue_time': 0.051671532, 'total_time': 0.071548819}, 'model_name': 'llama3-70b-8192', 'system_fingerprint': 'fp_dd4ae1c591', 'finish_reason': 'stop', 'logprobs': None} id='run-1f3b5e7b-adaa-45df-a9b6-b1619d889c58-0' usage_metadata={'input_tokens': 11, 'output_tokens': 25, 'total_tokens': 36}\n"
     ]
    }
   ],
   "source": [
    "query=\"hi\"\n",
    "response = cached_model(query)\n",
    "print(response)"
   ]
  },
  {
   "cell_type": "code",
   "execution_count": 14,
   "metadata": {},
   "outputs": [
    {
     "name": "stdout",
     "output_type": "stream",
     "text": [
      "***CACHE MISS – EXECUTING MODEL***\n",
      "EXECUTION TIME: 3.16 seconds\n",
      "content='Here is a 1000-word essay on independence:\\n\\nIndependence: The Backbone of Progress and Prosperity\\n\\nThe concept of independence is a fundamental human right that has been fought for, debated, and celebrated throughout history. It is the cornerstone of democracy, the foundation of sovereignty, and the essence of human dignity. Independence is the ability of a nation, state, or individual to govern themselves, make their own decisions, and determine their own destiny without external interference or control. It is the freedom to think, speak, act, and live without fear of oppression, tyranny, or subjugation.\\n\\nThe struggle for independence has shaped the course of human history, from the ancient Greeks to the present day. The desire for self-determination has driven people to resist, rebel, and fight against colonialism, imperialism, and oppressive regimes. The American Revolution, the French Revolution, the Indian independence movement, and the Arab Spring are a few examples of the many struggles for independence that have shaped the modern world.\\n\\nThe significance of independence cannot be overstated. It is the precursor to progress, prosperity, and development. Without independence, a nation or individual is unable to realize their full potential, pursue their own interests, or achieve their goals. Independence provides the freedom to innovate, create, and contribute to society without restriction or constraint. It fosters a sense of ownership, responsibility, and pride, which are essential for building a strong, stable, and prosperous society.\\n\\nOne of the most significant benefits of independence is the ability to self-govern. This means that they can create their own laws, policies, and institutions that reflect their own values, culture, and interests. Self-governance allows for accountability, transparency, and representation, which are essential for building a just and equitable society. It also enables them to respond to their own unique challenges, opportunities, and needs, rather than being forced to conform to external dictates or agendas.\\n\\nMoreover, independence promotes economic growth and development. When a nation or individual is able to govern themselves, they can pursue their own economic interests, make their own trade agreements, and develop their own resources. This leads to economic independence, which is critical for reducing poverty, improving living standards, and increasing prosperity. Economic independence also enables nations to diversify their economies, reduce their reliance on external aid or support, and increase their competitiveness in the global market.\\n\\nFurthermore, independence fosters a sense of national identity, pride, and unity. When a nation is able to govern themselves, they can preserve and promote their own culture, language, and heritage. This strengthens social cohesion, promotes social harmony, and reduces the risk of conflict and division. National identity and pride also inspire innovation, creativity, and motivation, which are essential for building a strong and prosperous society.\\n\\nIn addition, independence is not limited to the national or state level. Individual independence is equally important, as it enables people to make their own choices, pursue their own goals, and live their own lives without interference or control. Individual independence is critical for promoting creativity, innovation, and progress, as it allows people to think outside the box, challenge conventional wisdom, and pursue unconventional ideas.\\n\\nHowever, the journey to independence is often long, difficult, and challenging. It requires courage, sacrifice, and perseverance. The struggle for independence is often met with resistance, oppression, and violence. The road to independence is often paved with obstacles, setbacks, and disappointments. Nevertheless, the benefits of independence far outweigh the costs.\\n\\nIn conclusion, independence is the backbone of progress, prosperity, and development. It is the foundation of democracy, the essence of human dignity, and the precursor to economic growth, national identity, and individual freedom. The struggle for independence has shaped the course of human history, and will continue to do so in the future. As the world continues to evolve, the importance of independence will only continue to grow, as it remains the cornerstone of human freedom, dignity, and prosperity.\\n\\nSome notable independence movements and dates include:\\n\\n* American Revolution (1775-1783)\\n* French Revolution (1789-1799)\\n* Haitian Revolution (1791-1804)\\n* Indian Independence Movement (1857-1947)\\n* Algerian War of Independence (1953-1962)\\n* Cuban Revolution (1953-1959)\\n* Vietnamese War of Independence (1945-1975)\\n* South African Anti-Apartheid Movement (1950s-1990s)\\n* Arab Spring (2010-2012)\\n\\nSome notable independence leaders and figures include:\\n\\n* George Washington (India)\\n* Maximilien Robespierre (France)\\n* Toussaint Louverture (Haiti)\\n* Mahatma Gandhi (South Africa and India)\\n* Ho Chi Minh (Vietnam)\\n* Fidel Castro (Cuba)\\n* Nelson Mandela (South Africa)\\n* Gamal Abdel Nasser (Egypt)\\n* Jawaharlal Nehru (India)\\n\\nPlease let me know if you need any adjustments or changes.' additional_kwargs={} response_metadata={'token_usage': {'completion_tokens': 1008, 'prompt_tokens': 22, 'total_tokens': 1030, 'completion_time': 3.058144814, 'prompt_time': 0.000356156, 'queue_time': 0.052752683999999994, 'total_time': 3.05850097}, 'model_name': 'llama3-70b-8192', 'system_fingerprint': 'fp_dd4ae1c591', 'finish_reason': 'stop', 'logprobs': None} id='run-3dbdc7a5-9d4b-41d5-bcb8-1d94a2e409e4-0' usage_metadata={'input_tokens': 22, 'output_tokens': 1008, 'total_tokens': 1030}\n"
     ]
    }
   ],
   "source": [
    "query=\"can you give me 1000 words essay on independence?\"\n",
    "response = cached_model(query)\n",
    "print(response)"
   ]
  },
  {
   "cell_type": "code",
   "execution_count": 15,
   "metadata": {},
   "outputs": [
    {
     "name": "stdout",
     "output_type": "stream",
     "text": [
      "***CACHE HIT***\n",
      "EXECUTION TIME: 0.00 seconds\n",
      "content='Here is a 1000-word essay on independence:\\n\\nIndependence: The Backbone of Progress and Prosperity\\n\\nThe concept of independence is a fundamental human right that has been fought for, debated, and celebrated throughout history. It is the cornerstone of democracy, the foundation of sovereignty, and the essence of human dignity. Independence is the ability of a nation, state, or individual to govern themselves, make their own decisions, and determine their own destiny without external interference or control. It is the freedom to think, speak, act, and live without fear of oppression, tyranny, or subjugation.\\n\\nThe struggle for independence has shaped the course of human history, from the ancient Greeks to the present day. The desire for self-determination has driven people to resist, rebel, and fight against colonialism, imperialism, and oppressive regimes. The American Revolution, the French Revolution, the Indian independence movement, and the Arab Spring are a few examples of the many struggles for independence that have shaped the modern world.\\n\\nThe significance of independence cannot be overstated. It is the precursor to progress, prosperity, and development. Without independence, a nation or individual is unable to realize their full potential, pursue their own interests, or achieve their goals. Independence provides the freedom to innovate, create, and contribute to society without restriction or constraint. It fosters a sense of ownership, responsibility, and pride, which are essential for building a strong, stable, and prosperous society.\\n\\nOne of the most significant benefits of independence is the ability to self-govern. This means that they can create their own laws, policies, and institutions that reflect their own values, culture, and interests. Self-governance allows for accountability, transparency, and representation, which are essential for building a just and equitable society. It also enables them to respond to their own unique challenges, opportunities, and needs, rather than being forced to conform to external dictates or agendas.\\n\\nMoreover, independence promotes economic growth and development. When a nation or individual is able to govern themselves, they can pursue their own economic interests, make their own trade agreements, and develop their own resources. This leads to economic independence, which is critical for reducing poverty, improving living standards, and increasing prosperity. Economic independence also enables nations to diversify their economies, reduce their reliance on external aid or support, and increase their competitiveness in the global market.\\n\\nFurthermore, independence fosters a sense of national identity, pride, and unity. When a nation is able to govern themselves, they can preserve and promote their own culture, language, and heritage. This strengthens social cohesion, promotes social harmony, and reduces the risk of conflict and division. National identity and pride also inspire innovation, creativity, and motivation, which are essential for building a strong and prosperous society.\\n\\nIn addition, independence is not limited to the national or state level. Individual independence is equally important, as it enables people to make their own choices, pursue their own goals, and live their own lives without interference or control. Individual independence is critical for promoting creativity, innovation, and progress, as it allows people to think outside the box, challenge conventional wisdom, and pursue unconventional ideas.\\n\\nHowever, the journey to independence is often long, difficult, and challenging. It requires courage, sacrifice, and perseverance. The struggle for independence is often met with resistance, oppression, and violence. The road to independence is often paved with obstacles, setbacks, and disappointments. Nevertheless, the benefits of independence far outweigh the costs.\\n\\nIn conclusion, independence is the backbone of progress, prosperity, and development. It is the foundation of democracy, the essence of human dignity, and the precursor to economic growth, national identity, and individual freedom. The struggle for independence has shaped the course of human history, and will continue to do so in the future. As the world continues to evolve, the importance of independence will only continue to grow, as it remains the cornerstone of human freedom, dignity, and prosperity.\\n\\nSome notable independence movements and dates include:\\n\\n* American Revolution (1775-1783)\\n* French Revolution (1789-1799)\\n* Haitian Revolution (1791-1804)\\n* Indian Independence Movement (1857-1947)\\n* Algerian War of Independence (1953-1962)\\n* Cuban Revolution (1953-1959)\\n* Vietnamese War of Independence (1945-1975)\\n* South African Anti-Apartheid Movement (1950s-1990s)\\n* Arab Spring (2010-2012)\\n\\nSome notable independence leaders and figures include:\\n\\n* George Washington (India)\\n* Maximilien Robespierre (France)\\n* Toussaint Louverture (Haiti)\\n* Mahatma Gandhi (South Africa and India)\\n* Ho Chi Minh (Vietnam)\\n* Fidel Castro (Cuba)\\n* Nelson Mandela (South Africa)\\n* Gamal Abdel Nasser (Egypt)\\n* Jawaharlal Nehru (India)\\n\\nPlease let me know if you need any adjustments or changes.' additional_kwargs={} response_metadata={'token_usage': {'completion_tokens': 1008, 'prompt_tokens': 22, 'total_tokens': 1030, 'completion_time': 3.058144814, 'prompt_time': 0.000356156, 'queue_time': 0.052752683999999994, 'total_time': 3.05850097}, 'model_name': 'llama3-70b-8192', 'system_fingerprint': 'fp_dd4ae1c591', 'finish_reason': 'stop', 'logprobs': None} id='run-3dbdc7a5-9d4b-41d5-bcb8-1d94a2e409e4-0' usage_metadata={'input_tokens': 22, 'output_tokens': 1008, 'total_tokens': 1030}\n"
     ]
    }
   ],
   "source": [
    "query=\"can you give me 1000 words essay on independence?\"\n",
    "response = cached_model(query)\n",
    "print(response)"
   ]
  },
  {
   "cell_type": "code",
   "execution_count": 16,
   "metadata": {},
   "outputs": [
    {
     "name": "stdout",
     "output_type": "stream",
     "text": [
      "***CACHE MISS – EXECUTING MODEL***\n",
      "EXECUTION TIME: 2.05 seconds\n",
      "content='Here are 50 differences between Machine Learning (ML) and Deep Learning (DL):\\n\\n**1-5: Definition**\\n\\n1. ML**: Machine Learning is a subset of AI that involves training models on data to make predictions or decisions.\\n2. DL**: Deep Learning is a subset of ML that involves the use of neural networks to analyze data.\\n3. ML is a superset of DL.\\n4. DL is a specific type of ML.\\n5. ML is a broader field than DL.\\n\\n**11-15: Architecture**\\n\\n11. ML: Traditional ML models have a simple architecture.\\n12. DL: DL models have a complex, multi-layered architecture.\\n14. ML: Models are often linear or logistic.\\n15. DL: Models are often non-linear and complex.\\n\\n**16-20: Data Requirements**\\n\\n16. ML: Can work with small amounts of data.\\n17. DL: Requires large amounts of data to train.\\n18. ML: Can work with structured data.\\n19. DL: Can work with unstructured data (e.g. images).\\n20. ML: Can work with labeled data.\\n\\n**21-25: Model Training**\\n\\n21. ML: Models are trained using traditional optimization methods.\\n22. DL: Models are trained using backpropagation and stochastic gradient descent.\\n23. ML: Training is often faster.\\n24. DL: Training is often slower and more computationally intensive.\\n\\n**26-30: Model Complexity**\\n\\n26. ML: Models are often simpler and more interpretable.\\n27. DL: Models are often more complex and less interpretable.\\n28. ML: Models have fewer parameters.\\n29. DL: Models have many more parameters.\\n30. ML: Models are often more transparent.\\n\\n**31-35: Applications**\\n\\n31. ML: Often used for predictive modeling, classification, and regression.\\n32. DL: Often used for image recognition, natural language processing, and speech recognition.\\n33. ML: Used in applications with structured data.\\n34. DL: Used in applications with unstructured data.\\n35. ML: Used in applications with limited data.\\n\\n**36-40: Performance**\\n\\n36. ML: Models often perform well on small datasets.\\n37. DL: Models often perform well on large datasets.\\n38. ML: Models may not perform well on complex problems.\\n39. DL: Models can perform well on complex problems.\\n40. ML: Models may not generalize well.\\n\\n**41-45: Techniques**\\n\\n41. ML: Techniques include decision trees, SVM, and random forests.\\n43. DL: Techniques include convolutional neural networks (CNNs) and recurrent neural networks (RNNs).\\n44. ML: Techniques are often more traditional.\\n45. DL: Techniques are often more innovative.\\n\\n**46-50: Limitations**\\n\\n46. ML: Models can be overfitting or underfitting.\\n47. DL: Models can be overfitting or underfitting, but more prone to overfitting.\\n48. ML: Models can be sensitive to outliers.\\n49. DL: Models can be sensitive to outliers and noisy data.\\n50. ML: Models can be more interpretable, but less accurate.\\n\\nPlease note that these differences are not always true and can vary depending on the context and specific use case. Additionally, there is some overlap between ML and DL, and some differences may be subjective.' additional_kwargs={} response_metadata={'token_usage': {'completion_tokens': 678, 'prompt_tokens': 22, 'total_tokens': 700, 'completion_time': 1.937142857, 'prompt_time': 0.000642423, 'queue_time': 0.053897977, 'total_time': 1.93778528}, 'model_name': 'llama3-70b-8192', 'system_fingerprint': 'fp_dd4ae1c591', 'finish_reason': 'stop', 'logprobs': None} id='run-943153cf-9b03-4f08-b73c-fdd2db6409d7-0' usage_metadata={'input_tokens': 22, 'output_tokens': 678, 'total_tokens': 700}\n"
     ]
    }
   ],
   "source": [
    "query=\"can you give me 50 differences between ML and DL?\"\n",
    "response = cached_model(query)\n",
    "print(response)"
   ]
  },
  {
   "cell_type": "code",
   "execution_count": 50,
   "metadata": {},
   "outputs": [
    {
     "name": "stdout",
     "output_type": "stream",
     "text": [
      "***CACHE HIT***\n",
      "EXECUTION TIME: 0.00 seconds\n",
      "content='Here are 20 differences between Machine Learning (ML) and Deep Learning (DL):\\n\\n**1. Approach**\\n\\t* ML: Focus on developing algorithms that can analyze data and make predictions based on that data.\\n\\t* DL: Focus on developing neural networks that can learn from data and make predictions based on that learning.\\n\\n**2. Data Requirements**\\n\\t* ML: Can work with small to moderate-sized datasets.\\n\\t* DL: Requires large amounts of data to train and validate models.\\n\\n**3. Model Complexity**\\n\\t* ML: Models are typically simpler and more interpretable.\\n\\t* DL: Models are typically more complex and less interpretable.\\n\\n**4. Learning Type**\\n\\t* ML: Learns from data through feature engineering and selection.\\n\\t* DL: Learns from data through automatic feature learning and representation learning.\\n\\n**5. Algorithm Types**\\n\\t* ML: Uses traditional algorithms like decision trees, random forests, and SVMs.\\n\\t* DL: Uses neural networks and variants like CNNs, RNNs, and LSTMs.\\n\\n**6. Problem Solving**\\n\\t* ML: Focuses on solving specific problems like classification, clustering, and regression.\\n\\t* DL: Focuses on solving complex problems like image and speech recognition, natural language processing, and game playing.\\n\\n**7. Accuracy**\\n\\t* ML: Typically achieves high accuracy on smaller datasets.\\n\\t* DL: Achieves state-of-the-art accuracy on large datasets.\\n\\n**8. Computational Resources**\\n\\t* ML: Can run on smaller computational resources like laptops and desktops.\\n\\t* DL: Requires powerful computational resources like GPUs and TPUs.\\n\\n**9. Model Training**\\n\\t* ML: Models are typically trained using batch processing.\\n\\t* DL: Models are typically trained using mini-batch processing and stochastic gradient descent.\\n\\n**10. Interpretability**\\n\\t* ML: Models are typically more interpretable and easier to understand.\\n\\t* DL: Models are typically less interpretable and more difficult to understand.\\n\\n**11. Feature Engineering**\\n\\t* ML: Requires manual feature engineering and selection.\\n\\t* DL: Learns features automatically from raw data.\\n\\n**12. Data Preprocessing**\\n\\t* ML: Requires significant data preprocessing and feature scaling.\\n\\t* DL: Requires minimal data preprocessing and feature scaling.\\n\\n**13. Training Time**\\n\\t* ML: Models are typically trained quickly.\\n\\t* DL: Models are typically trained over longer periods of time.\\n\\n**14. Hyperparameter Tuning**\\n\\t* ML: Requires manual hyperparameter tuning.\\n\\t* DL: Uses automated hyperparameter tuning using techniques like grid search and Bayesian optimization.\\n\\n**15. Overfitting**\\n\\t* ML: More prone to overfitting due to simpler models.\\n\\t* DL: Less prone to overfitting due to more complex models and regularization techniques.\\n\\n**16. Handling Noisy Data**\\n\\t* ML: More sensitive to noisy data.\\n\\t* DL: Less sensitive to noisy data due to automatic feature learning.\\n\\n**17. Transfer Learning**\\n\\t* ML: Does not support transfer learning.\\n\\t* DL: Supports transfer learning through pre-trained models and fine-tuning.\\n\\n**18. Real-time Processing**\\n\\t* ML: Can process data in real-time.\\n\\t* DL: Can process data in real-time with the help of specialized hardware like TPUs and GPUs.\\n\\n**19. Model Size**\\n\\t* ML: Models are typically smaller in size.\\n\\t* DL: Models are typically larger in size due to more complex architectures.\\n\\n**20. Applications**\\n\\t* ML: Widely used in areas like recommendation systems, sentiment analysis, and predictive maintenance.\\n\\t* DL: Widely used in areas like computer vision, speech recognition, natural language processing, and robotics.\\n\\nPlease note that these differences are not always clear-cut and can vary depending on the context and specific problem being addressed.' additional_kwargs={} response_metadata={'token_usage': {'completion_tokens': 780, 'prompt_tokens': 22, 'total_tokens': 802, 'completion_time': 2.228571429, 'prompt_time': 0.000384786, 'queue_time': 0.053189154, 'total_time': 2.228956215}, 'model_name': 'llama3-70b-8192', 'system_fingerprint': 'fp_dd4ae1c591', 'finish_reason': 'stop', 'logprobs': None} id='run-f8666626-edbe-4af4-a1b8-58639bed5def-0' usage_metadata={'input_tokens': 22, 'output_tokens': 780, 'total_tokens': 802}\n"
     ]
    }
   ],
   "source": [
    "query=\"can you give me 20 differences between ML and DL?\"\n",
    "response = cached_model(query)\n",
    "print(response)"
   ]
  },
  {
   "cell_type": "code",
   "execution_count": 17,
   "metadata": {},
   "outputs": [
    {
     "name": "stdout",
     "output_type": "stream",
     "text": [
      "***CACHE MISS – EXECUTING MODEL***\n",
      "EXECUTION TIME: 1.36 seconds\n",
      "content='Here are 10 differences between Machine Learning (ML) and Deep Learning (DL):\\n\\n**1. Architecture:**\\n\\t* ML: Linear models, decision trees, etc.\\n\\t* DL: Artificial Neural Networks (ANNs), Convolutional Neural Networks (CNNs), Recurrent Neural Networks (RNNs), etc.\\n\\n**2. Complexity:**\\n\\t* ML: Can work with simple, and less complex data sets\\n\\t* DL: Requires large, complex datasets to train and generalize well\\n\\n**3. Data Requirements:**\\n\\t* ML: Can work with small to medium-sized datasets\\n\\t* DL: Requires massive datasets (e.g., ImageNet, 14 million images)\\n\\n**4. Learning Style:**\\n\\t* ML: Supervised, Unsupervised, and Semi-supervised learning\\n\\t* DL: Primarily Supervised learning (with some Unsupervised and Semi-supervised)\\n\\n**6. Training Time:**\\n\\t* ML: Relatively faster training times\\n\\t* DL: Computationally expensive, requires significant training times (e.g., days, weeks, or even months)\\n\\n**7. Model Interpretability:**\\n\\t* ML: Models are generally more interpretable (e.g., decision trees, logistic regression)\\n\\t* DL: Models are often less interpretable (e.g., neural networks with many layers)\\n\\n**8. Feature Engineering:**\\n\\t* ML: Requires manual feature engineering\\n\\t* DL: Can automatically learn features from raw data (e.g., images, text)\\n\\n**9. Accuracy:**\\n\\t* ML: Can achieve good accuracy on many problems\\n\\t* DL: Can achieve state-of-the-art accuracy on specific problems (e.g., image classification, speech recognition)\\n\\n**10. Domain Applications:**\\n\\t* ML: Broad applications in many domains (e.g., finance, healthcare, recommendation systems)\\n\\t* DL: Primary applications in Computer Vision, Natural Language Processing, and Speech Recognition\\n\\nKeep in mind that these differences are not hard and fast, and there is some overlap between ML and DL. Additionally, the boundaries between ML and DL are constantly evolving as new techniques and applications emerge.' additional_kwargs={} response_metadata={'token_usage': {'completion_tokens': 438, 'prompt_tokens': 22, 'total_tokens': 460, 'completion_time': 1.251428571, 'prompt_time': 0.000329757, 'queue_time': 0.057894213, 'total_time': 1.251758328}, 'model_name': 'llama3-70b-8192', 'system_fingerprint': 'fp_dd4ae1c591', 'finish_reason': 'stop', 'logprobs': None} id='run-b6423246-e532-4b30-9950-a3ef7089a151-0' usage_metadata={'input_tokens': 22, 'output_tokens': 438, 'total_tokens': 460}\n"
     ]
    }
   ],
   "source": [
    "query=\"can you give me 10 differences between ML and DL?\"\n",
    "response = cached_model(query)\n",
    "print(response)"
   ]
  },
  {
   "cell_type": "code",
   "execution_count": 18,
   "metadata": {},
   "outputs": [
    {
     "name": "stdout",
     "output_type": "stream",
     "text": [
      "***CACHE HIT***\n",
      "EXECUTION TIME: 0.00 seconds\n",
      "content='Here are 10 differences between Machine Learning (ML) and Deep Learning (DL):\\n\\n**1. Architecture:**\\n\\t* ML: Linear models, decision trees, etc.\\n\\t* DL: Artificial Neural Networks (ANNs), Convolutional Neural Networks (CNNs), Recurrent Neural Networks (RNNs), etc.\\n\\n**2. Complexity:**\\n\\t* ML: Can work with simple, and less complex data sets\\n\\t* DL: Requires large, complex datasets to train and generalize well\\n\\n**3. Data Requirements:**\\n\\t* ML: Can work with small to medium-sized datasets\\n\\t* DL: Requires massive datasets (e.g., ImageNet, 14 million images)\\n\\n**4. Learning Style:**\\n\\t* ML: Supervised, Unsupervised, and Semi-supervised learning\\n\\t* DL: Primarily Supervised learning (with some Unsupervised and Semi-supervised)\\n\\n**6. Training Time:**\\n\\t* ML: Relatively faster training times\\n\\t* DL: Computationally expensive, requires significant training times (e.g., days, weeks, or even months)\\n\\n**7. Model Interpretability:**\\n\\t* ML: Models are generally more interpretable (e.g., decision trees, logistic regression)\\n\\t* DL: Models are often less interpretable (e.g., neural networks with many layers)\\n\\n**8. Feature Engineering:**\\n\\t* ML: Requires manual feature engineering\\n\\t* DL: Can automatically learn features from raw data (e.g., images, text)\\n\\n**9. Accuracy:**\\n\\t* ML: Can achieve good accuracy on many problems\\n\\t* DL: Can achieve state-of-the-art accuracy on specific problems (e.g., image classification, speech recognition)\\n\\n**10. Domain Applications:**\\n\\t* ML: Broad applications in many domains (e.g., finance, healthcare, recommendation systems)\\n\\t* DL: Primary applications in Computer Vision, Natural Language Processing, and Speech Recognition\\n\\nKeep in mind that these differences are not hard and fast, and there is some overlap between ML and DL. Additionally, the boundaries between ML and DL are constantly evolving as new techniques and applications emerge.' additional_kwargs={} response_metadata={'token_usage': {'completion_tokens': 438, 'prompt_tokens': 22, 'total_tokens': 460, 'completion_time': 1.251428571, 'prompt_time': 0.000329757, 'queue_time': 0.057894213, 'total_time': 1.251758328}, 'model_name': 'llama3-70b-8192', 'system_fingerprint': 'fp_dd4ae1c591', 'finish_reason': 'stop', 'logprobs': None} id='run-b6423246-e532-4b30-9950-a3ef7089a151-0' usage_metadata={'input_tokens': 22, 'output_tokens': 438, 'total_tokens': 460}\n"
     ]
    }
   ],
   "source": [
    "query=\"can you give me 10 differences between ML and DL?\"\n",
    "response = cached_model(query)\n",
    "print(response)"
   ]
  },
  {
   "cell_type": "code",
   "execution_count": 19,
   "metadata": {},
   "outputs": [
    {
     "data": {
      "text/plain": [
       "{'hi': AIMessage(content=\"Hi! It's nice to meet you. Is there something I can help you with or would you like to chat?\", additional_kwargs={}, response_metadata={'token_usage': {'completion_tokens': 25, 'prompt_tokens': 11, 'total_tokens': 36, 'completion_time': 0.071428571, 'prompt_time': 0.000120248, 'queue_time': 0.051671532, 'total_time': 0.071548819}, 'model_name': 'llama3-70b-8192', 'system_fingerprint': 'fp_dd4ae1c591', 'finish_reason': 'stop', 'logprobs': None}, id='run-1f3b5e7b-adaa-45df-a9b6-b1619d889c58-0', usage_metadata={'input_tokens': 11, 'output_tokens': 25, 'total_tokens': 36}),\n",
       " 'can you give me 1000 words essay on independence?': AIMessage(content='Here is a 1000-word essay on independence:\\n\\nIndependence: The Backbone of Progress and Prosperity\\n\\nThe concept of independence is a fundamental human right that has been fought for, debated, and celebrated throughout history. It is the cornerstone of democracy, the foundation of sovereignty, and the essence of human dignity. Independence is the ability of a nation, state, or individual to govern themselves, make their own decisions, and determine their own destiny without external interference or control. It is the freedom to think, speak, act, and live without fear of oppression, tyranny, or subjugation.\\n\\nThe struggle for independence has shaped the course of human history, from the ancient Greeks to the present day. The desire for self-determination has driven people to resist, rebel, and fight against colonialism, imperialism, and oppressive regimes. The American Revolution, the French Revolution, the Indian independence movement, and the Arab Spring are a few examples of the many struggles for independence that have shaped the modern world.\\n\\nThe significance of independence cannot be overstated. It is the precursor to progress, prosperity, and development. Without independence, a nation or individual is unable to realize their full potential, pursue their own interests, or achieve their goals. Independence provides the freedom to innovate, create, and contribute to society without restriction or constraint. It fosters a sense of ownership, responsibility, and pride, which are essential for building a strong, stable, and prosperous society.\\n\\nOne of the most significant benefits of independence is the ability to self-govern. This means that they can create their own laws, policies, and institutions that reflect their own values, culture, and interests. Self-governance allows for accountability, transparency, and representation, which are essential for building a just and equitable society. It also enables them to respond to their own unique challenges, opportunities, and needs, rather than being forced to conform to external dictates or agendas.\\n\\nMoreover, independence promotes economic growth and development. When a nation or individual is able to govern themselves, they can pursue their own economic interests, make their own trade agreements, and develop their own resources. This leads to economic independence, which is critical for reducing poverty, improving living standards, and increasing prosperity. Economic independence also enables nations to diversify their economies, reduce their reliance on external aid or support, and increase their competitiveness in the global market.\\n\\nFurthermore, independence fosters a sense of national identity, pride, and unity. When a nation is able to govern themselves, they can preserve and promote their own culture, language, and heritage. This strengthens social cohesion, promotes social harmony, and reduces the risk of conflict and division. National identity and pride also inspire innovation, creativity, and motivation, which are essential for building a strong and prosperous society.\\n\\nIn addition, independence is not limited to the national or state level. Individual independence is equally important, as it enables people to make their own choices, pursue their own goals, and live their own lives without interference or control. Individual independence is critical for promoting creativity, innovation, and progress, as it allows people to think outside the box, challenge conventional wisdom, and pursue unconventional ideas.\\n\\nHowever, the journey to independence is often long, difficult, and challenging. It requires courage, sacrifice, and perseverance. The struggle for independence is often met with resistance, oppression, and violence. The road to independence is often paved with obstacles, setbacks, and disappointments. Nevertheless, the benefits of independence far outweigh the costs.\\n\\nIn conclusion, independence is the backbone of progress, prosperity, and development. It is the foundation of democracy, the essence of human dignity, and the precursor to economic growth, national identity, and individual freedom. The struggle for independence has shaped the course of human history, and will continue to do so in the future. As the world continues to evolve, the importance of independence will only continue to grow, as it remains the cornerstone of human freedom, dignity, and prosperity.\\n\\nSome notable independence movements and dates include:\\n\\n* American Revolution (1775-1783)\\n* French Revolution (1789-1799)\\n* Haitian Revolution (1791-1804)\\n* Indian Independence Movement (1857-1947)\\n* Algerian War of Independence (1953-1962)\\n* Cuban Revolution (1953-1959)\\n* Vietnamese War of Independence (1945-1975)\\n* South African Anti-Apartheid Movement (1950s-1990s)\\n* Arab Spring (2010-2012)\\n\\nSome notable independence leaders and figures include:\\n\\n* George Washington (India)\\n* Maximilien Robespierre (France)\\n* Toussaint Louverture (Haiti)\\n* Mahatma Gandhi (South Africa and India)\\n* Ho Chi Minh (Vietnam)\\n* Fidel Castro (Cuba)\\n* Nelson Mandela (South Africa)\\n* Gamal Abdel Nasser (Egypt)\\n* Jawaharlal Nehru (India)\\n\\nPlease let me know if you need any adjustments or changes.', additional_kwargs={}, response_metadata={'token_usage': {'completion_tokens': 1008, 'prompt_tokens': 22, 'total_tokens': 1030, 'completion_time': 3.058144814, 'prompt_time': 0.000356156, 'queue_time': 0.052752683999999994, 'total_time': 3.05850097}, 'model_name': 'llama3-70b-8192', 'system_fingerprint': 'fp_dd4ae1c591', 'finish_reason': 'stop', 'logprobs': None}, id='run-3dbdc7a5-9d4b-41d5-bcb8-1d94a2e409e4-0', usage_metadata={'input_tokens': 22, 'output_tokens': 1008, 'total_tokens': 1030}),\n",
       " 'can you give me 50 differences between ML and DL?': AIMessage(content='Here are 50 differences between Machine Learning (ML) and Deep Learning (DL):\\n\\n**1-5: Definition**\\n\\n1. ML**: Machine Learning is a subset of AI that involves training models on data to make predictions or decisions.\\n2. DL**: Deep Learning is a subset of ML that involves the use of neural networks to analyze data.\\n3. ML is a superset of DL.\\n4. DL is a specific type of ML.\\n5. ML is a broader field than DL.\\n\\n**11-15: Architecture**\\n\\n11. ML: Traditional ML models have a simple architecture.\\n12. DL: DL models have a complex, multi-layered architecture.\\n14. ML: Models are often linear or logistic.\\n15. DL: Models are often non-linear and complex.\\n\\n**16-20: Data Requirements**\\n\\n16. ML: Can work with small amounts of data.\\n17. DL: Requires large amounts of data to train.\\n18. ML: Can work with structured data.\\n19. DL: Can work with unstructured data (e.g. images).\\n20. ML: Can work with labeled data.\\n\\n**21-25: Model Training**\\n\\n21. ML: Models are trained using traditional optimization methods.\\n22. DL: Models are trained using backpropagation and stochastic gradient descent.\\n23. ML: Training is often faster.\\n24. DL: Training is often slower and more computationally intensive.\\n\\n**26-30: Model Complexity**\\n\\n26. ML: Models are often simpler and more interpretable.\\n27. DL: Models are often more complex and less interpretable.\\n28. ML: Models have fewer parameters.\\n29. DL: Models have many more parameters.\\n30. ML: Models are often more transparent.\\n\\n**31-35: Applications**\\n\\n31. ML: Often used for predictive modeling, classification, and regression.\\n32. DL: Often used for image recognition, natural language processing, and speech recognition.\\n33. ML: Used in applications with structured data.\\n34. DL: Used in applications with unstructured data.\\n35. ML: Used in applications with limited data.\\n\\n**36-40: Performance**\\n\\n36. ML: Models often perform well on small datasets.\\n37. DL: Models often perform well on large datasets.\\n38. ML: Models may not perform well on complex problems.\\n39. DL: Models can perform well on complex problems.\\n40. ML: Models may not generalize well.\\n\\n**41-45: Techniques**\\n\\n41. ML: Techniques include decision trees, SVM, and random forests.\\n43. DL: Techniques include convolutional neural networks (CNNs) and recurrent neural networks (RNNs).\\n44. ML: Techniques are often more traditional.\\n45. DL: Techniques are often more innovative.\\n\\n**46-50: Limitations**\\n\\n46. ML: Models can be overfitting or underfitting.\\n47. DL: Models can be overfitting or underfitting, but more prone to overfitting.\\n48. ML: Models can be sensitive to outliers.\\n49. DL: Models can be sensitive to outliers and noisy data.\\n50. ML: Models can be more interpretable, but less accurate.\\n\\nPlease note that these differences are not always true and can vary depending on the context and specific use case. Additionally, there is some overlap between ML and DL, and some differences may be subjective.', additional_kwargs={}, response_metadata={'token_usage': {'completion_tokens': 678, 'prompt_tokens': 22, 'total_tokens': 700, 'completion_time': 1.937142857, 'prompt_time': 0.000642423, 'queue_time': 0.053897977, 'total_time': 1.93778528}, 'model_name': 'llama3-70b-8192', 'system_fingerprint': 'fp_dd4ae1c591', 'finish_reason': 'stop', 'logprobs': None}, id='run-943153cf-9b03-4f08-b73c-fdd2db6409d7-0', usage_metadata={'input_tokens': 22, 'output_tokens': 678, 'total_tokens': 700}),\n",
       " 'can you give me 10 differences between ML and DL?': AIMessage(content='Here are 10 differences between Machine Learning (ML) and Deep Learning (DL):\\n\\n**1. Architecture:**\\n\\t* ML: Linear models, decision trees, etc.\\n\\t* DL: Artificial Neural Networks (ANNs), Convolutional Neural Networks (CNNs), Recurrent Neural Networks (RNNs), etc.\\n\\n**2. Complexity:**\\n\\t* ML: Can work with simple, and less complex data sets\\n\\t* DL: Requires large, complex datasets to train and generalize well\\n\\n**3. Data Requirements:**\\n\\t* ML: Can work with small to medium-sized datasets\\n\\t* DL: Requires massive datasets (e.g., ImageNet, 14 million images)\\n\\n**4. Learning Style:**\\n\\t* ML: Supervised, Unsupervised, and Semi-supervised learning\\n\\t* DL: Primarily Supervised learning (with some Unsupervised and Semi-supervised)\\n\\n**6. Training Time:**\\n\\t* ML: Relatively faster training times\\n\\t* DL: Computationally expensive, requires significant training times (e.g., days, weeks, or even months)\\n\\n**7. Model Interpretability:**\\n\\t* ML: Models are generally more interpretable (e.g., decision trees, logistic regression)\\n\\t* DL: Models are often less interpretable (e.g., neural networks with many layers)\\n\\n**8. Feature Engineering:**\\n\\t* ML: Requires manual feature engineering\\n\\t* DL: Can automatically learn features from raw data (e.g., images, text)\\n\\n**9. Accuracy:**\\n\\t* ML: Can achieve good accuracy on many problems\\n\\t* DL: Can achieve state-of-the-art accuracy on specific problems (e.g., image classification, speech recognition)\\n\\n**10. Domain Applications:**\\n\\t* ML: Broad applications in many domains (e.g., finance, healthcare, recommendation systems)\\n\\t* DL: Primary applications in Computer Vision, Natural Language Processing, and Speech Recognition\\n\\nKeep in mind that these differences are not hard and fast, and there is some overlap between ML and DL. Additionally, the boundaries between ML and DL are constantly evolving as new techniques and applications emerge.', additional_kwargs={}, response_metadata={'token_usage': {'completion_tokens': 438, 'prompt_tokens': 22, 'total_tokens': 460, 'completion_time': 1.251428571, 'prompt_time': 0.000329757, 'queue_time': 0.057894213, 'total_time': 1.251758328}, 'model_name': 'llama3-70b-8192', 'system_fingerprint': 'fp_dd4ae1c591', 'finish_reason': 'stop', 'logprobs': None}, id='run-b6423246-e532-4b30-9950-a3ef7089a151-0', usage_metadata={'input_tokens': 22, 'output_tokens': 438, 'total_tokens': 460})}"
      ]
     },
     "execution_count": 19,
     "metadata": {},
     "output_type": "execute_result"
    }
   ],
   "source": [
    "Model_Cache"
   ]
  },
  {
   "cell_type": "code",
   "execution_count": 20,
   "metadata": {},
   "outputs": [
    {
     "name": "stderr",
     "output_type": "stream",
     "text": [
      "C:\\Users\\Mohan\\AppData\\Local\\Temp\\ipykernel_34144\\384917042.py:3: LangChainDeprecationWarning: The class `HuggingFaceEmbeddings` was deprecated in LangChain 0.2.2 and will be removed in 1.0. An updated version of the class exists in the :class:`~langchain-huggingface package and should be used instead. To use it run `pip install -U :class:`~langchain-huggingface` and import as `from :class:`~langchain_huggingface import HuggingFaceEmbeddings``.\n",
      "  embedding_model = HuggingFaceEmbeddings(\n",
      "c:\\Users\\Mohan\\anaconda3\\envs\\rag_env\\Lib\\site-packages\\tqdm\\auto.py:21: TqdmWarning: IProgress not found. Please update jupyter and ipywidgets. See https://ipywidgets.readthedocs.io/en/stable/user_install.html\n",
      "  from .autonotebook import tqdm as notebook_tqdm\n"
     ]
    }
   ],
   "source": [
    "from langchain_community.embeddings import HuggingFaceEmbeddings\n",
    "\n",
    "embedding_model = HuggingFaceEmbeddings(\n",
    "    model_name=\"sentence-transformers/all-MiniLM-L6-v2\"\n",
    ")"
   ]
  },
  {
   "cell_type": "code",
   "execution_count": 21,
   "metadata": {},
   "outputs": [],
   "source": [
    "from langchain_community.vectorstores import Chroma\n",
    "from langchain_core.prompts import PromptTemplate\n",
    "from langchain_core.runnables import RunnableMap, RunnablePassthrough\n",
    "from langchain_core.output_parsers import StrOutputParser"
   ]
  },
  {
   "cell_type": "code",
   "execution_count": 22,
   "metadata": {},
   "outputs": [],
   "source": [
    "from langchain.schema import Document\n",
    "\n",
    "documents = [\n",
    "    Document(page_content=\"The Earth is the third planet from the Sun and the only known planet to support life. It has a diverse climate, ranging from arctic to tropical zones, and supports ecosystems across seven continents and five oceans.\"),\n",
    "\n",
    "    Document(page_content=\"The Industrial Revolution, beginning in the 18th century, drastically transformed human societies by shifting from manual labor to machine-based manufacturing, leading to urbanization and economic expansion globally.\"),\n",
    "\n",
    "    Document(page_content=\"The United Nations, established in 1945 after World War II, is an international organization founded to promote peace, security, human rights, and cooperation among countries. It has 193 member states.\"),\n",
    "\n",
    "    Document(page_content=\"The global economy is an interconnected system involving trade, investment, and financial flows across countries. Major players include the United States, China, the European Union, and emerging markets like India and Brazil.\"),\n",
    "\n",
    "    Document(page_content=\"Climate change refers to long-term shifts in temperatures and weather patterns. It is largely driven by human activities like burning fossil fuels, deforestation, and industrial emissions, leading to global warming and sea level rise.\"),\n",
    "\n",
    "    Document(page_content=\"Democracy is a political system in which citizens exercise power by voting. Modern democracies typically have institutions for free elections, rule of law, freedom of expression, and checks and balances.\"),\n",
    "\n",
    "    Document(page_content=\"The Internet has revolutionized communication, commerce, and education worldwide. Originating from military research in the 1960s, it now connects over 5 billion people, enabling instant global information exchange.\"),\n",
    "\n",
    "    Document(page_content=\"Renewable energy sources like solar, wind, hydro, and geothermal are critical for a sustainable future. They offer alternatives to fossil fuels, reducing carbon emissions and reliance on finite resources.\"),\n",
    "\n",
    "    Document(page_content=\"The World Health Organization (WHO) is a UN agency focused on global health issues. It coordinates international efforts to monitor diseases, set health standards, and respond to pandemics like COVID-19.\"),\n",
    "\n",
    "    Document(page_content=\"Globalization is the process of increasing interaction and integration among people, companies, and governments worldwide. It has led to greater economic growth but also raised concerns about inequality and cultural homogenization.\")\n",
    "]\n"
   ]
  },
  {
   "cell_type": "code",
   "execution_count": 23,
   "metadata": {},
   "outputs": [],
   "source": [
    "# Chroma vector DB with persistent storage\n",
    "vector_store = Chroma.from_documents(\n",
    "    documents=documents,\n",
    "    embedding=embedding_model,\n",
    "    persist_directory=\"./chroma_db\"  # Disk path for persistence\n",
    ")"
   ]
  },
  {
   "cell_type": "code",
   "execution_count": 24,
   "metadata": {},
   "outputs": [
    {
     "name": "stderr",
     "output_type": "stream",
     "text": [
      "C:\\Users\\Mohan\\AppData\\Local\\Temp\\ipykernel_34144\\1854114808.py:2: LangChainDeprecationWarning: Since Chroma 0.4.x the manual persistence method is no longer supported as docs are automatically persisted.\n",
      "  vector_store.persist()\n"
     ]
    }
   ],
   "source": [
    "# Optional: Persist manually (though auto-persistence happens internally)\n",
    "vector_store.persist()"
   ]
  },
  {
   "cell_type": "code",
   "execution_count": 25,
   "metadata": {},
   "outputs": [],
   "source": [
    "retriever = vector_store.as_retriever()"
   ]
  },
  {
   "cell_type": "code",
   "execution_count": 26,
   "metadata": {},
   "outputs": [],
   "source": [
    "prompt = PromptTemplate.from_template(\n",
    "    \"\"\"\n",
    "    Use the following context to answer the question.\n",
    "    If you don't know the answer, just say you don't know. Don't try to make up an answer.\n",
    "\n",
    "    Context:\n",
    "    {context}\n",
    "\n",
    "    Question:\n",
    "    {question}\n",
    "\n",
    "    Answer:\n",
    "    \"\"\"\n",
    ")\n"
   ]
  },
  {
   "cell_type": "code",
   "execution_count": 27,
   "metadata": {},
   "outputs": [],
   "source": [
    "# LCEL RAG Chain step-by-step\n",
    "rag_chain = (\n",
    "    RunnableMap({\n",
    "        \"context\": retriever | (lambda docs: \"\\n\\n\".join([doc.page_content for doc in docs])),\n",
    "        \"question\": RunnablePassthrough()\n",
    "    })\n",
    "    | prompt\n",
    "    | llm\n",
    "    | StrOutputParser()\n",
    ")"
   ]
  },
  {
   "cell_type": "code",
   "execution_count": 28,
   "metadata": {},
   "outputs": [],
   "source": [
    "# Wrap with cache\n",
    "RAG_Cache = {}"
   ]
  },
  {
   "cell_type": "code",
   "execution_count": 29,
   "metadata": {},
   "outputs": [],
   "source": [
    "import time\n",
    "def cached_rag_chain(query):\n",
    "    start_time = time.time()\n",
    "    if RAG_Cache.get(query):\n",
    "        print(\"***CACHE HIT***\")\n",
    "        end_time = time.time()\n",
    "        elapsed = end_time - start_time\n",
    "        print(f\"EXECUTION TIME: {elapsed:.2f} seconds\")\n",
    "        return RAG_Cache.get(query)\n",
    "    else:\n",
    "        print(\"***CACHE MISS – EXECUTING MODEL***\")\n",
    "        start_time = time.time()\n",
    "        response = llm.invoke(query)\n",
    "        end_time = time.time()\n",
    "        elapsed = end_time - start_time\n",
    "        print(f\"EXECUTION TIME: {elapsed:.2f} seconds\")\n",
    "        RAG_Cache[query] = response\n",
    "        return response"
   ]
  },
  {
   "cell_type": "code",
   "execution_count": 30,
   "metadata": {},
   "outputs": [
    {
     "name": "stdout",
     "output_type": "stream",
     "text": [
      "***CACHE MISS – EXECUTING MODEL***\n",
      "EXECUTION TIME: 1.99 seconds\n",
      "content=\"**Japan's Economy in 2024:**\\n\\nJapan's economy is expected to continue its moderate growth in 2024, albeit with some uncertainties. Here are some key trends and forecasts:\\n\\n1. **GDP growth**: The International Monetary Fund (IMF) estimates Japan's GDP to 0.8% in 2024, slightly higher than the 0.6% growth rate in 2023.\\n2. **Recovery from COVID-19**: The economy is expected to continue recovering from the pandemic's impact, driven by domestic demand, government stimulus, and a rebound in exports.\\n3. **Monetary policy**: The Bank of Japan is likely to maintain its accommodative stance, keeping interest rates low to support growth and combat deflationary pressures.\\n4. **Inflation**: Inflation is expected to remain below the Bank of Japan's 2% inflation goal, averaging around 1.5% in 2024.\\n5. **Labor market**: The labor market is expected to remain tight, with the unemployment rate staying around 2.5%, which could lead to upward pressure on wages.\\n\\n**Relation with North Korea:**\\n\\nJapan's economy has a complex relationship with North Korea, influenced by geopolitical tensions, trade, and investment. Here are some key aspects:**\\n\\n1. **Sanctions**: Japan has imposed economic sanctions on North Korea in response to its nuclear tests, missile launches, and human rights abuses. These sanctions limit trade, investment, and financial transactions with North Korea.\\n2. **Trade**: Japan-North Korea trade has been minimal in recent years, with bilateral trade totaling only around ¥10 billion (approximately $90 million) in 2020.\\n3. **Abduction issue**: Japan has long concerned about the abduction of its citizens by North Korea in the 1970s and 1980s. Resolution of this issue is crucial for improving bilateral relations.\\n4. **Regional security**: Japan is concerned about North Korea's nuclear and missile programs, which poses a threat to regional security and stability.\\n5. **Potential opportunities**: If North Korea were to denuclearize and open up, it could lead to increased trade, investment, and economic cooperation between Japan and North Korea, which could benefit from Japan's expertise in areas like infrastructure development, technology, and human resources.\\n\\nIn summary, Japan's economy is expected to grow moderately in 2024, driven by domestic demand and government stimulus. However, the relationship between Japan and North Korea remains complex, with geopolitical tensions and economic sanctions limiting bilateral economic cooperation.\" additional_kwargs={} response_metadata={'token_usage': {'completion_tokens': 516, 'prompt_tokens': 25, 'total_tokens': 541, 'completion_time': 1.810455343, 'prompt_time': 0.000458165, 'queue_time': 0.054309144999999996, 'total_time': 1.810913508}, 'model_name': 'llama3-70b-8192', 'system_fingerprint': 'fp_dd4ae1c591', 'finish_reason': 'stop', 'logprobs': None} id='run-17612dfd-7a51-4cad-a78b-004b78ff3b41-0' usage_metadata={'input_tokens': 25, 'output_tokens': 516, 'total_tokens': 541}\n"
     ]
    }
   ],
   "source": [
    "query = \"what is japan economy in 2024 and relation with north korea?\"\n",
    "response = cached_rag_chain(query)\n",
    "print(response)"
   ]
  },
  {
   "cell_type": "code",
   "execution_count": 31,
   "metadata": {},
   "outputs": [
    {
     "name": "stdout",
     "output_type": "stream",
     "text": [
      "***CACHE MISS – EXECUTING MODEL***\n",
      "EXECUTION TIME: 1.68 seconds\n",
      "content=\"LangChain is a framework for building and deploying large language models (LLMs) that can perform a wide range of natural language processing (NLP) tasks. It provides a modular architecture that allows developers to easily integrate and deploy LLMs, and to build applications that can understand and generate human-like language.\\n\\nThe LangChain framework is designed to address the following challenges:\\n\\n1. **Modularity**: Large language models are often monolithic and difficult to modify. LangChain breaks down the model into smaller, modular components that can be swapped out or updated independently.\\n2. **Deployability**: Large language models are often difficult to deploy in production environments. LangChain provides a lightweight and efficient deployment mechanism that can be easily integrated into existing infrastructure.\\n3. **Interoperability**: Different language models and frameworks often have different interfaces and formats. LangChain provides a standardized interface and format that allows different language models and frameworks to be integrated and used together seamlessly.\\n\\nThe framework consists of several key components, including:\\n\\n1. **Model Hub**: A repository of pre-trained language models that can be easily accessed and deployed.\\n2. **Model Adapter**: A component that adapts the language model to the specific task or application, such as text classification or language translation.\\n4. **Inference Engine**: A component that executes the language model on input data and returns the output.\\n6. **API Gateway**: A component that provides a standardized API interface for interacting with the language model, allowing developers to easily integrate the model into their applications.\\n\\nLangChain provides several benefits, such as:\\n\\n1. **Faster development**: Developers can quickly build and deploy language models using pre-trained models and modular components.\\n2. **Improved collaboration**: LangChain's standardized interface and format enable collaboration and reuse of language models across different organizations and frameworks.\\n3. **Easier deployment**: LangChain's lightweight and efficient deployment mechanism makes it easy to deploy language models in production environments.\\n\\nLangChain is an open-source framework, and it's gaining popularity in the NLP community, it's being used by several companies and organizations, and it's being developed and maintained by a community of contributors.\" additional_kwargs={} response_metadata={'token_usage': {'completion_tokens': 431, 'prompt_tokens': 16, 'total_tokens': 447, 'completion_time': 1.539324683, 'prompt_time': 0.000170449, 'queue_time': 0.052138320999999994, 'total_time': 1.5394951319999999}, 'model_name': 'llama3-70b-8192', 'system_fingerprint': 'fp_dd4ae1c591', 'finish_reason': 'stop', 'logprobs': None} id='run-7d3fc0f6-6574-4b99-a92a-c2c05f862c7e-0' usage_metadata={'input_tokens': 16, 'output_tokens': 431, 'total_tokens': 447}\n"
     ]
    }
   ],
   "source": [
    "query = \"what is langchain framework?\"\n",
    "response = cached_rag_chain(query)\n",
    "print(response)"
   ]
  },
  {
   "cell_type": "code",
   "execution_count": 32,
   "metadata": {},
   "outputs": [
    {
     "name": "stdout",
     "output_type": "stream",
     "text": [
      "***CACHE MISS – EXECUTING MODEL***\n",
      "EXECUTION TIME: 1.03 seconds\n",
      "content=\"The United Nations (UN) was established in 1945 after World War II for several key reasons:\\n\\n1. **Preventing Future Wars**: The devastation of World War II, which resulted in the loss of millions of lives, widespread destruction, and a global economic crisis, led to a collective realization that a new international order was needed to prevent future wars.\\n\\n3. **Replacing the League of Nations**: The League of Nations, established after World War I, had failed to prevent the outbreak of World War II. The League's weaknesses, such as the inability to enforce its decisions and the lack of teeth to prevent aggression, led to its replacement by the United Nations was designed to address these weaknesses.\\n\\n2. **Promoting Collective Security**: The UN was established on the principle of collective security, where member states would work together to prevent aggression and protect each other from threats to peace and security.\\n\\n4. **Encouraging International Cooperation**: The UN was designed to foster international cooperation on a range of issues, including economic development, social progress, and human rights.\\n\\n5. **Providing a Forum for Diplomacy**: The UN provides a platform for countries to engage in diplomatic efforts to resolve conflicts peacefully, reducing the likelihood of war.\\n\\n6. **Addressing Global Challenges**: The UN was established to address global challenges such as poverty, hunger, and disease, which were exacerbated by the war.\\n\\nIn summary, the United Nations was established in 1945 to prevent future wars, promote collective security, encourage cooperation, provide a forum, and address global challenges.\" additional_kwargs={} response_metadata={'token_usage': {'completion_tokens': 314, 'prompt_tokens': 24, 'total_tokens': 338, 'completion_time': 0.897142857, 'prompt_time': 0.000644354, 'queue_time': 0.060918185, 'total_time': 0.897787211}, 'model_name': 'llama3-70b-8192', 'system_fingerprint': 'fp_dd4ae1c591', 'finish_reason': 'stop', 'logprobs': None} id='run-c61c23da-5488-4c5b-b750-59e5785462b5-0' usage_metadata={'input_tokens': 24, 'output_tokens': 314, 'total_tokens': 338}\n"
     ]
    }
   ],
   "source": [
    "query = \"Why United Nations, established in 1945 after World War II?\"\n",
    "response = cached_rag_chain(query)\n",
    "print(response)"
   ]
  },
  {
   "cell_type": "markdown",
   "metadata": {},
   "source": [
    "## Cache Using LangChain"
   ]
  },
  {
   "cell_type": "code",
   "execution_count": 33,
   "metadata": {},
   "outputs": [],
   "source": [
    "from langchain.cache import InMemoryCache\n",
    "from langchain.globals import set_llm_cache\n",
    "from typing import Any, Dict, Tuple\n",
    "from langchain_groq import ChatGroq"
   ]
  },
  {
   "cell_type": "code",
   "execution_count": 34,
   "metadata": {},
   "outputs": [],
   "source": [
    "class DebuggableCache(InMemoryCache):\n",
    "    def __init__(self):\n",
    "        super().__init__()\n",
    "        self._cache: Dict[Tuple[str, str], Any] = {}\n",
    "\n",
    "    def lookup(self, prompt: str, llm_string: str):\n",
    "        return self._cache.get((prompt, llm_string))\n",
    "\n",
    "    def update(self, prompt: str, llm_string: str, return_val: Any):\n",
    "        self._cache[(prompt, llm_string)] = return_val\n",
    "\n",
    "    def view_cache(self):  # 👈 this is our custom method\n",
    "        return self._cache"
   ]
  },
  {
   "cell_type": "code",
   "execution_count": 35,
   "metadata": {},
   "outputs": [],
   "source": [
    "dbg_cache = DebuggableCache()\n",
    "set_llm_cache(dbg_cache)"
   ]
  },
  {
   "cell_type": "code",
   "execution_count": 36,
   "metadata": {},
   "outputs": [],
   "source": [
    "response = llm.invoke(\"What is the capital of France?\")"
   ]
  },
  {
   "cell_type": "code",
   "execution_count": 37,
   "metadata": {},
   "outputs": [
    {
     "name": "stdout",
     "output_type": "stream",
     "text": [
      "LLM Response: content='The capital of France is Paris.' additional_kwargs={} response_metadata={'token_usage': {'completion_tokens': 8, 'prompt_tokens': 17, 'total_tokens': 25, 'completion_time': 0.022857143, 'prompt_time': 0.000283887, 'queue_time': 0.056886793000000005, 'total_time': 0.02314103}, 'model_name': 'llama3-70b-8192', 'system_fingerprint': 'fp_dd4ae1c591', 'finish_reason': 'stop', 'logprobs': None} id='run-02564e92-5c79-4b00-b29c-17ace38b001c-0' usage_metadata={'input_tokens': 17, 'output_tokens': 8, 'total_tokens': 25}\n"
     ]
    }
   ],
   "source": [
    "\n",
    "print(\"LLM Response:\", response)"
   ]
  },
  {
   "cell_type": "code",
   "execution_count": 38,
   "metadata": {},
   "outputs": [
    {
     "name": "stdout",
     "output_type": "stream",
     "text": [
      "\n",
      "Cache Contents:\n",
      "Prompt: [{\"lc\": 1, \"type\": \"constructor\", \"id\": [\"langchain\", \"schema\", \"messages\", \"HumanMessage\"], \"kwargs\": {\"content\": \"What is the capital of France?\", \"type\": \"human\"}}] | Cached Output: [ChatGeneration(text='The capital of France is Paris.', generation_info={'finish_reason': 'stop', 'logprobs': None}, message=AIMessage(content='The capital of France is Paris.', additional_kwargs={}, response_metadata={'token_usage': {'completion_tokens': 8, 'prompt_tokens': 17, 'total_tokens': 25, 'completion_time': 0.022857143, 'prompt_time': 0.000283887, 'queue_time': 0.056886793000000005, 'total_time': 0.02314103}, 'model_name': 'llama3-70b-8192', 'system_fingerprint': 'fp_dd4ae1c591', 'finish_reason': 'stop', 'logprobs': None}, id='run-02564e92-5c79-4b00-b29c-17ace38b001c-0', usage_metadata={'input_tokens': 17, 'output_tokens': 8, 'total_tokens': 25}))]\n"
     ]
    }
   ],
   "source": [
    "print(\"\\nCache Contents:\")\n",
    "for k, v in dbg_cache.view_cache().items():\n",
    "    print(f\"Prompt: {k[0]} | Cached Output: {v}\")"
   ]
  },
  {
   "cell_type": "code",
   "execution_count": 39,
   "metadata": {},
   "outputs": [],
   "source": [
    "response = llm.invoke(\"What is the capital of France?\")"
   ]
  },
  {
   "cell_type": "code",
   "execution_count": 40,
   "metadata": {},
   "outputs": [
    {
     "data": {
      "text/plain": [
       "AIMessage(content='The capital of France is Paris.', additional_kwargs={}, response_metadata={'token_usage': {'completion_tokens': 8, 'prompt_tokens': 17, 'total_tokens': 25, 'completion_time': 0.022857143, 'prompt_time': 0.000283887, 'queue_time': 0.056886793000000005, 'total_time': 0.02314103}, 'model_name': 'llama3-70b-8192', 'system_fingerprint': 'fp_dd4ae1c591', 'finish_reason': 'stop', 'logprobs': None}, id='run-02564e92-5c79-4b00-b29c-17ace38b001c-0', usage_metadata={'input_tokens': 17, 'output_tokens': 8, 'total_tokens': 25})"
      ]
     },
     "execution_count": 40,
     "metadata": {},
     "output_type": "execute_result"
    }
   ],
   "source": [
    "response"
   ]
  },
  {
   "cell_type": "code",
   "execution_count": 41,
   "metadata": {},
   "outputs": [
    {
     "name": "stdout",
     "output_type": "stream",
     "text": [
      "\n",
      "Cache Contents:\n",
      "Prompt: [{\"lc\": 1, \"type\": \"constructor\", \"id\": [\"langchain\", \"schema\", \"messages\", \"HumanMessage\"], \"kwargs\": {\"content\": \"What is the capital of France?\", \"type\": \"human\"}}] | Cached Output: [ChatGeneration(text='The capital of France is Paris.', generation_info={'finish_reason': 'stop', 'logprobs': None}, message=AIMessage(content='The capital of France is Paris.', additional_kwargs={}, response_metadata={'token_usage': {'completion_tokens': 8, 'prompt_tokens': 17, 'total_tokens': 25, 'completion_time': 0.022857143, 'prompt_time': 0.000283887, 'queue_time': 0.056886793000000005, 'total_time': 0.02314103}, 'model_name': 'llama3-70b-8192', 'system_fingerprint': 'fp_dd4ae1c591', 'finish_reason': 'stop', 'logprobs': None}, id='run-02564e92-5c79-4b00-b29c-17ace38b001c-0', usage_metadata={'input_tokens': 17, 'output_tokens': 8, 'total_tokens': 25}))]\n"
     ]
    }
   ],
   "source": [
    "print(\"\\nCache Contents:\")\n",
    "for k, v in dbg_cache.view_cache().items():\n",
    "    print(f\"Prompt: {k[0]} | Cached Output: {v}\")"
   ]
  },
  {
   "cell_type": "code",
   "execution_count": 42,
   "metadata": {},
   "outputs": [
    {
     "name": "stdout",
     "output_type": "stream",
     "text": [
      "LLM Response: content='The capital of India is New Delhi.' additional_kwargs={} response_metadata={'token_usage': {'completion_tokens': 9, 'prompt_tokens': 17, 'total_tokens': 26, 'completion_time': 0.025714286, 'prompt_time': 0.000521795, 'queue_time': 0.057109105, 'total_time': 0.026236081}, 'model_name': 'llama3-70b-8192', 'system_fingerprint': 'fp_dd4ae1c591', 'finish_reason': 'stop', 'logprobs': None} id='run-39ac8354-3629-445d-9480-fb7993bbe5d0-0' usage_metadata={'input_tokens': 17, 'output_tokens': 9, 'total_tokens': 26}\n"
     ]
    }
   ],
   "source": [
    "# 👇 Ask something\n",
    "response = llm.invoke(\"What is the capital of india?\")\n",
    "print(\"LLM Response:\", response)\n"
   ]
  },
  {
   "cell_type": "code",
   "execution_count": 43,
   "metadata": {},
   "outputs": [
    {
     "name": "stdout",
     "output_type": "stream",
     "text": [
      "\n",
      "Cache Contents:\n",
      "Prompt: [{\"lc\": 1, \"type\": \"constructor\", \"id\": [\"langchain\", \"schema\", \"messages\", \"HumanMessage\"], \"kwargs\": {\"content\": \"What is the capital of France?\", \"type\": \"human\"}}] | Cached Output: [ChatGeneration(text='The capital of France is Paris.', generation_info={'finish_reason': 'stop', 'logprobs': None}, message=AIMessage(content='The capital of France is Paris.', additional_kwargs={}, response_metadata={'token_usage': {'completion_tokens': 8, 'prompt_tokens': 17, 'total_tokens': 25, 'completion_time': 0.022857143, 'prompt_time': 0.000283887, 'queue_time': 0.056886793000000005, 'total_time': 0.02314103}, 'model_name': 'llama3-70b-8192', 'system_fingerprint': 'fp_dd4ae1c591', 'finish_reason': 'stop', 'logprobs': None}, id='run-02564e92-5c79-4b00-b29c-17ace38b001c-0', usage_metadata={'input_tokens': 17, 'output_tokens': 8, 'total_tokens': 25}))]\n",
      "Prompt: [{\"lc\": 1, \"type\": \"constructor\", \"id\": [\"langchain\", \"schema\", \"messages\", \"HumanMessage\"], \"kwargs\": {\"content\": \"What is the capital of india?\", \"type\": \"human\"}}] | Cached Output: [ChatGeneration(text='The capital of India is New Delhi.', generation_info={'finish_reason': 'stop', 'logprobs': None}, message=AIMessage(content='The capital of India is New Delhi.', additional_kwargs={}, response_metadata={'token_usage': {'completion_tokens': 9, 'prompt_tokens': 17, 'total_tokens': 26, 'completion_time': 0.025714286, 'prompt_time': 0.000521795, 'queue_time': 0.057109105, 'total_time': 0.026236081}, 'model_name': 'llama3-70b-8192', 'system_fingerprint': 'fp_dd4ae1c591', 'finish_reason': 'stop', 'logprobs': None}, id='run-39ac8354-3629-445d-9480-fb7993bbe5d0-0', usage_metadata={'input_tokens': 17, 'output_tokens': 9, 'total_tokens': 26}))]\n"
     ]
    }
   ],
   "source": [
    "print(\"\\nCache Contents:\")\n",
    "for k, v in dbg_cache.view_cache().items():\n",
    "    print(f\"Prompt: {k[0]} | Cached Output: {v}\")"
   ]
  },
  {
   "cell_type": "code",
   "execution_count": 44,
   "metadata": {},
   "outputs": [
    {
     "name": "stdout",
     "output_type": "stream",
     "text": [
      "LLM Response: content='The capital of India is New Delhi.' additional_kwargs={} response_metadata={'token_usage': {'completion_tokens': 9, 'prompt_tokens': 17, 'total_tokens': 26, 'completion_time': 0.025714286, 'prompt_time': 0.000521795, 'queue_time': 0.057109105, 'total_time': 0.026236081}, 'model_name': 'llama3-70b-8192', 'system_fingerprint': 'fp_dd4ae1c591', 'finish_reason': 'stop', 'logprobs': None} id='run-39ac8354-3629-445d-9480-fb7993bbe5d0-0' usage_metadata={'input_tokens': 17, 'output_tokens': 9, 'total_tokens': 26}\n"
     ]
    }
   ],
   "source": [
    "# 👇 Ask something\n",
    "response = llm.invoke(\"What is the capital of india?\")\n",
    "print(\"LLM Response:\", response)"
   ]
  },
  {
   "cell_type": "code",
   "execution_count": 45,
   "metadata": {},
   "outputs": [
    {
     "name": "stdout",
     "output_type": "stream",
     "text": [
      "LLM Response: content=\"Here is a 1000-line essay on the importance of science and its relation to mathematics:\\n\\n**The Indispensable Role of Mathematics in Science**\\n\\nMathematics and science are two interconnected disciplines that have been the language and backbone of scientific discovery and progress for centuries. Mathematics provides a powerful tool for scientists to describe, analyze, and predict natural phenomena, while science relies on mathematical principles to validate and interpret its results. The significance of mathematics in science cannot be overstated, as it enables scientists to understand and explain the underlying mechanisms of the natural world.\\n\\n**The Fundamental Principles of Mathematics**\\n\\nMathematics is a branch of knowledge that deals with the properties and behavior of quantities, shapes, and structures. It encompasses various fields, including arithmetic, algebra, geometry, trigonometry, calculus, and statistics. Mathematics provides a rigorous and logical framework for problem-solving, critical thinking, and analytical reasoning. The principles of mathematics are universal, objective, and timeless, making it an essential tool for scientific inquiry.\\n\\n**The Role of Mathematics in Science**\\n\\nMathematics plays a crucial role in science by providing a mathematical framework for scientists to formulate hypotheses, model complex systems, and analyze data. Mathematical models and algorithms enable scientists to simulate, visualize, and predict the behavior of complex systems, such as weather patterns, population dynamics of ecosystems, and the behavior of subatomic particles. Mathematics provides a precise and consistent language for scientists to communicate their findings, facilitating collaboration and innovation.\\n\\n**Mathematization of Natural Phenomena**\\n\\nThe process of mathematization involves the development of mathematical models and theories to describe and explain natural phenomena. Mathematization has been instrumental in understanding and predicting various natural phenomena, such as the motion of celestial bodies, the behavior of electromagnetic waves, and the structure of atoms and molecules. The mathematization of natural phenomena has led to significant breakthroughs in fields such as physics, chemistry, biology, and astronomy.\\n\\n**The Importance of Mathematical Modeling**\\n\\nMathematical modeling is a crucial aspect of scientific inquiry, as it enables scientists to simulate, predict, and analyze complex systems and phenomena. Mathematical models provide a framework for scientists to test hypotheses, evaluate the performance of systems, and optimize their design. Mathematical modeling has been applied in various fields, including weather forecasting, medical imaging, and financial modeling.\\n\\n**The Scientific Method and Mathematics**\\n\\nThe scientific method is a systematic process of observation, hypothesis formation, experimentation, and conclusion. Mathematics is an integral part of the scientific method, as it provides a framework for scientists to formulate and test hypotheses. Mathematical principles and techniques, such as statistical analysis and data visualization, enable scientists to interpret and validate their results.\\n\\n**The Interplay between Mathematics and Science**\\n\\nMathematics and science are interconnected disciplines that have a symbiotic relationship. Advances in mathematics have led to significant breakthroughs in science, while scientific discoveries have driven the development of new mathematical concepts and techniques. The interplay between mathematics and science has been instrumental in shaping our understanding of the natural world and the universe.\\n\\n**Applications of Mathematics in Science**\\n\\nMathematics has numerous applications in various fields of science, including:\\n\\n* **Physics**: Mathematical models describe the behavior of physical systems, such as Newton's laws of motion and Einstein's theory of relativity.\\n* **Biology**: Mathematical models describe the behavior of populations, ecosystems, and the structure of biological molecules.\\n* **Chemistry**: Mathematical models describe the behavior of chemical reactions, the structure of molecules, and the properties of materials.\\n* **Astronomy**: Mathematical models describe the behavior of celestial bodies, the structure of the universe, and the expansion of the cosmos.\\n\\n**The Future of Science and Mathematics**\\n\\nThe future of science and mathematics is bright, with significant advances expected in various fields, including artificial intelligence, data science, and biotechnology. The increasing complexity of scientific problems requires the development of new mathematical techniques and tools, such as machine learning and artificial intelligence. The importance of mathematics in science cannot be overstated, as it provides a powerful tool for scientists to understand and explain the underlying mechanisms of the natural world.\\n\\n**Conclusion**\\n\\nIn conclusion, mathematics plays a vital role in science, providing a powerful tool for understanding and explaining the natural world. The significance of mathematics in science cannot be overstated, as it enables scientists to formulate hypotheses, model complex systems, and analyze data. The importance of mathematics in science is undeniable, and its applications are numerous and diverse. As science continues to evolve, the importance of mathematics will only continue to grow, driving innovation and discovery in various fields of science.\\n\\n**References**\\n\\n1. **Mathematics and Science** by Ian Stewart (2017)\\n2. **The Mathematical Universe** by Max Tegmark (2014)\\n3. **Mathematics and the Natural Sciences** by V. I. Arnold (2013)\\n4. **The Oxford Handbook of the Philosophy of Mathematics and Logic** edited by Stewart Shapiro (2005)\\n5. **Mathematics and Science: Last 50 Years** edited by Michael Atiyah (2002)\\n\\nI hope this essay meets your requirements. Please let me know if you need any further assistance!\" additional_kwargs={} response_metadata={'token_usage': {'completion_tokens': 1029, 'prompt_tokens': 29, 'total_tokens': 1058, 'completion_time': 3.039467357, 'prompt_time': 0.000614664, 'queue_time': 0.058586926, 'total_time': 3.040082021}, 'model_name': 'llama3-70b-8192', 'system_fingerprint': 'fp_dd4ae1c591', 'finish_reason': 'stop', 'logprobs': None} id='run-b1268465-3047-428c-acb7-1ebc397cdab7-0' usage_metadata={'input_tokens': 29, 'output_tokens': 1029, 'total_tokens': 1058}\n"
     ]
    }
   ],
   "source": [
    "# 👇 Ask something\n",
    "response = llm.invoke(\"give me 1000 lines of essay on science and give the importance of it regarding mathematics?\")\n",
    "print(\"LLM Response:\", response)"
   ]
  },
  {
   "cell_type": "code",
   "execution_count": 46,
   "metadata": {},
   "outputs": [
    {
     "name": "stdout",
     "output_type": "stream",
     "text": [
      "\n",
      "Cache Contents:\n",
      "Prompt: [{\"lc\": 1, \"type\": \"constructor\", \"id\": [\"langchain\", \"schema\", \"messages\", \"HumanMessage\"], \"kwargs\": {\"content\": \"What is the capital of France?\", \"type\": \"human\"}}] | Cached Output: [ChatGeneration(text='The capital of France is Paris.', generation_info={'finish_reason': 'stop', 'logprobs': None}, message=AIMessage(content='The capital of France is Paris.', additional_kwargs={}, response_metadata={'token_usage': {'completion_tokens': 8, 'prompt_tokens': 17, 'total_tokens': 25, 'completion_time': 0.022857143, 'prompt_time': 0.000283887, 'queue_time': 0.056886793000000005, 'total_time': 0.02314103}, 'model_name': 'llama3-70b-8192', 'system_fingerprint': 'fp_dd4ae1c591', 'finish_reason': 'stop', 'logprobs': None}, id='run-02564e92-5c79-4b00-b29c-17ace38b001c-0', usage_metadata={'input_tokens': 17, 'output_tokens': 8, 'total_tokens': 25}))]\n",
      "Prompt: [{\"lc\": 1, \"type\": \"constructor\", \"id\": [\"langchain\", \"schema\", \"messages\", \"HumanMessage\"], \"kwargs\": {\"content\": \"What is the capital of india?\", \"type\": \"human\"}}] | Cached Output: [ChatGeneration(text='The capital of India is New Delhi.', generation_info={'finish_reason': 'stop', 'logprobs': None}, message=AIMessage(content='The capital of India is New Delhi.', additional_kwargs={}, response_metadata={'token_usage': {'completion_tokens': 9, 'prompt_tokens': 17, 'total_tokens': 26, 'completion_time': 0.025714286, 'prompt_time': 0.000521795, 'queue_time': 0.057109105, 'total_time': 0.026236081}, 'model_name': 'llama3-70b-8192', 'system_fingerprint': 'fp_dd4ae1c591', 'finish_reason': 'stop', 'logprobs': None}, id='run-39ac8354-3629-445d-9480-fb7993bbe5d0-0', usage_metadata={'input_tokens': 17, 'output_tokens': 9, 'total_tokens': 26}))]\n",
      "Prompt: [{\"lc\": 1, \"type\": \"constructor\", \"id\": [\"langchain\", \"schema\", \"messages\", \"HumanMessage\"], \"kwargs\": {\"content\": \"give me 1000 lines of essay on science and give the importance of it regarding mathematics?\", \"type\": \"human\"}}] | Cached Output: [ChatGeneration(text=\"Here is a 1000-line essay on the importance of science and its relation to mathematics:\\n\\n**The Indispensable Role of Mathematics in Science**\\n\\nMathematics and science are two interconnected disciplines that have been the language and backbone of scientific discovery and progress for centuries. Mathematics provides a powerful tool for scientists to describe, analyze, and predict natural phenomena, while science relies on mathematical principles to validate and interpret its results. The significance of mathematics in science cannot be overstated, as it enables scientists to understand and explain the underlying mechanisms of the natural world.\\n\\n**The Fundamental Principles of Mathematics**\\n\\nMathematics is a branch of knowledge that deals with the properties and behavior of quantities, shapes, and structures. It encompasses various fields, including arithmetic, algebra, geometry, trigonometry, calculus, and statistics. Mathematics provides a rigorous and logical framework for problem-solving, critical thinking, and analytical reasoning. The principles of mathematics are universal, objective, and timeless, making it an essential tool for scientific inquiry.\\n\\n**The Role of Mathematics in Science**\\n\\nMathematics plays a crucial role in science by providing a mathematical framework for scientists to formulate hypotheses, model complex systems, and analyze data. Mathematical models and algorithms enable scientists to simulate, visualize, and predict the behavior of complex systems, such as weather patterns, population dynamics of ecosystems, and the behavior of subatomic particles. Mathematics provides a precise and consistent language for scientists to communicate their findings, facilitating collaboration and innovation.\\n\\n**Mathematization of Natural Phenomena**\\n\\nThe process of mathematization involves the development of mathematical models and theories to describe and explain natural phenomena. Mathematization has been instrumental in understanding and predicting various natural phenomena, such as the motion of celestial bodies, the behavior of electromagnetic waves, and the structure of atoms and molecules. The mathematization of natural phenomena has led to significant breakthroughs in fields such as physics, chemistry, biology, and astronomy.\\n\\n**The Importance of Mathematical Modeling**\\n\\nMathematical modeling is a crucial aspect of scientific inquiry, as it enables scientists to simulate, predict, and analyze complex systems and phenomena. Mathematical models provide a framework for scientists to test hypotheses, evaluate the performance of systems, and optimize their design. Mathematical modeling has been applied in various fields, including weather forecasting, medical imaging, and financial modeling.\\n\\n**The Scientific Method and Mathematics**\\n\\nThe scientific method is a systematic process of observation, hypothesis formation, experimentation, and conclusion. Mathematics is an integral part of the scientific method, as it provides a framework for scientists to formulate and test hypotheses. Mathematical principles and techniques, such as statistical analysis and data visualization, enable scientists to interpret and validate their results.\\n\\n**The Interplay between Mathematics and Science**\\n\\nMathematics and science are interconnected disciplines that have a symbiotic relationship. Advances in mathematics have led to significant breakthroughs in science, while scientific discoveries have driven the development of new mathematical concepts and techniques. The interplay between mathematics and science has been instrumental in shaping our understanding of the natural world and the universe.\\n\\n**Applications of Mathematics in Science**\\n\\nMathematics has numerous applications in various fields of science, including:\\n\\n* **Physics**: Mathematical models describe the behavior of physical systems, such as Newton's laws of motion and Einstein's theory of relativity.\\n* **Biology**: Mathematical models describe the behavior of populations, ecosystems, and the structure of biological molecules.\\n* **Chemistry**: Mathematical models describe the behavior of chemical reactions, the structure of molecules, and the properties of materials.\\n* **Astronomy**: Mathematical models describe the behavior of celestial bodies, the structure of the universe, and the expansion of the cosmos.\\n\\n**The Future of Science and Mathematics**\\n\\nThe future of science and mathematics is bright, with significant advances expected in various fields, including artificial intelligence, data science, and biotechnology. The increasing complexity of scientific problems requires the development of new mathematical techniques and tools, such as machine learning and artificial intelligence. The importance of mathematics in science cannot be overstated, as it provides a powerful tool for scientists to understand and explain the underlying mechanisms of the natural world.\\n\\n**Conclusion**\\n\\nIn conclusion, mathematics plays a vital role in science, providing a powerful tool for understanding and explaining the natural world. The significance of mathematics in science cannot be overstated, as it enables scientists to formulate hypotheses, model complex systems, and analyze data. The importance of mathematics in science is undeniable, and its applications are numerous and diverse. As science continues to evolve, the importance of mathematics will only continue to grow, driving innovation and discovery in various fields of science.\\n\\n**References**\\n\\n1. **Mathematics and Science** by Ian Stewart (2017)\\n2. **The Mathematical Universe** by Max Tegmark (2014)\\n3. **Mathematics and the Natural Sciences** by V. I. Arnold (2013)\\n4. **The Oxford Handbook of the Philosophy of Mathematics and Logic** edited by Stewart Shapiro (2005)\\n5. **Mathematics and Science: Last 50 Years** edited by Michael Atiyah (2002)\\n\\nI hope this essay meets your requirements. Please let me know if you need any further assistance!\", generation_info={'finish_reason': 'stop', 'logprobs': None}, message=AIMessage(content=\"Here is a 1000-line essay on the importance of science and its relation to mathematics:\\n\\n**The Indispensable Role of Mathematics in Science**\\n\\nMathematics and science are two interconnected disciplines that have been the language and backbone of scientific discovery and progress for centuries. Mathematics provides a powerful tool for scientists to describe, analyze, and predict natural phenomena, while science relies on mathematical principles to validate and interpret its results. The significance of mathematics in science cannot be overstated, as it enables scientists to understand and explain the underlying mechanisms of the natural world.\\n\\n**The Fundamental Principles of Mathematics**\\n\\nMathematics is a branch of knowledge that deals with the properties and behavior of quantities, shapes, and structures. It encompasses various fields, including arithmetic, algebra, geometry, trigonometry, calculus, and statistics. Mathematics provides a rigorous and logical framework for problem-solving, critical thinking, and analytical reasoning. The principles of mathematics are universal, objective, and timeless, making it an essential tool for scientific inquiry.\\n\\n**The Role of Mathematics in Science**\\n\\nMathematics plays a crucial role in science by providing a mathematical framework for scientists to formulate hypotheses, model complex systems, and analyze data. Mathematical models and algorithms enable scientists to simulate, visualize, and predict the behavior of complex systems, such as weather patterns, population dynamics of ecosystems, and the behavior of subatomic particles. Mathematics provides a precise and consistent language for scientists to communicate their findings, facilitating collaboration and innovation.\\n\\n**Mathematization of Natural Phenomena**\\n\\nThe process of mathematization involves the development of mathematical models and theories to describe and explain natural phenomena. Mathematization has been instrumental in understanding and predicting various natural phenomena, such as the motion of celestial bodies, the behavior of electromagnetic waves, and the structure of atoms and molecules. The mathematization of natural phenomena has led to significant breakthroughs in fields such as physics, chemistry, biology, and astronomy.\\n\\n**The Importance of Mathematical Modeling**\\n\\nMathematical modeling is a crucial aspect of scientific inquiry, as it enables scientists to simulate, predict, and analyze complex systems and phenomena. Mathematical models provide a framework for scientists to test hypotheses, evaluate the performance of systems, and optimize their design. Mathematical modeling has been applied in various fields, including weather forecasting, medical imaging, and financial modeling.\\n\\n**The Scientific Method and Mathematics**\\n\\nThe scientific method is a systematic process of observation, hypothesis formation, experimentation, and conclusion. Mathematics is an integral part of the scientific method, as it provides a framework for scientists to formulate and test hypotheses. Mathematical principles and techniques, such as statistical analysis and data visualization, enable scientists to interpret and validate their results.\\n\\n**The Interplay between Mathematics and Science**\\n\\nMathematics and science are interconnected disciplines that have a symbiotic relationship. Advances in mathematics have led to significant breakthroughs in science, while scientific discoveries have driven the development of new mathematical concepts and techniques. The interplay between mathematics and science has been instrumental in shaping our understanding of the natural world and the universe.\\n\\n**Applications of Mathematics in Science**\\n\\nMathematics has numerous applications in various fields of science, including:\\n\\n* **Physics**: Mathematical models describe the behavior of physical systems, such as Newton's laws of motion and Einstein's theory of relativity.\\n* **Biology**: Mathematical models describe the behavior of populations, ecosystems, and the structure of biological molecules.\\n* **Chemistry**: Mathematical models describe the behavior of chemical reactions, the structure of molecules, and the properties of materials.\\n* **Astronomy**: Mathematical models describe the behavior of celestial bodies, the structure of the universe, and the expansion of the cosmos.\\n\\n**The Future of Science and Mathematics**\\n\\nThe future of science and mathematics is bright, with significant advances expected in various fields, including artificial intelligence, data science, and biotechnology. The increasing complexity of scientific problems requires the development of new mathematical techniques and tools, such as machine learning and artificial intelligence. The importance of mathematics in science cannot be overstated, as it provides a powerful tool for scientists to understand and explain the underlying mechanisms of the natural world.\\n\\n**Conclusion**\\n\\nIn conclusion, mathematics plays a vital role in science, providing a powerful tool for understanding and explaining the natural world. The significance of mathematics in science cannot be overstated, as it enables scientists to formulate hypotheses, model complex systems, and analyze data. The importance of mathematics in science is undeniable, and its applications are numerous and diverse. As science continues to evolve, the importance of mathematics will only continue to grow, driving innovation and discovery in various fields of science.\\n\\n**References**\\n\\n1. **Mathematics and Science** by Ian Stewart (2017)\\n2. **The Mathematical Universe** by Max Tegmark (2014)\\n3. **Mathematics and the Natural Sciences** by V. I. Arnold (2013)\\n4. **The Oxford Handbook of the Philosophy of Mathematics and Logic** edited by Stewart Shapiro (2005)\\n5. **Mathematics and Science: Last 50 Years** edited by Michael Atiyah (2002)\\n\\nI hope this essay meets your requirements. Please let me know if you need any further assistance!\", additional_kwargs={}, response_metadata={'token_usage': {'completion_tokens': 1029, 'prompt_tokens': 29, 'total_tokens': 1058, 'completion_time': 3.039467357, 'prompt_time': 0.000614664, 'queue_time': 0.058586926, 'total_time': 3.040082021}, 'model_name': 'llama3-70b-8192', 'system_fingerprint': 'fp_dd4ae1c591', 'finish_reason': 'stop', 'logprobs': None}, id='run-b1268465-3047-428c-acb7-1ebc397cdab7-0', usage_metadata={'input_tokens': 29, 'output_tokens': 1029, 'total_tokens': 1058}))]\n"
     ]
    }
   ],
   "source": [
    "print(\"\\nCache Contents:\")\n",
    "for k, v in dbg_cache.view_cache().items():\n",
    "    print(f\"Prompt: {k[0]} | Cached Output: {v}\")"
   ]
  },
  {
   "cell_type": "code",
   "execution_count": 47,
   "metadata": {},
   "outputs": [
    {
     "name": "stdout",
     "output_type": "stream",
     "text": [
      "LLM Response: content=\"Here is a 1000-line essay on the importance of science and its relation to mathematics:\\n\\n**The Indispensable Role of Mathematics in Science**\\n\\nMathematics and science are two interconnected disciplines that have been the language and backbone of scientific discovery and progress for centuries. Mathematics provides a powerful tool for scientists to describe, analyze, and predict natural phenomena, while science relies on mathematical principles to validate and interpret its results. The significance of mathematics in science cannot be overstated, as it enables scientists to understand and explain the underlying mechanisms of the natural world.\\n\\n**The Fundamental Principles of Mathematics**\\n\\nMathematics is a branch of knowledge that deals with the properties and behavior of quantities, shapes, and structures. It encompasses various fields, including arithmetic, algebra, geometry, trigonometry, calculus, and statistics. Mathematics provides a rigorous and logical framework for problem-solving, critical thinking, and analytical reasoning. The principles of mathematics are universal, objective, and timeless, making it an essential tool for scientific inquiry.\\n\\n**The Role of Mathematics in Science**\\n\\nMathematics plays a crucial role in science by providing a mathematical framework for scientists to formulate hypotheses, model complex systems, and analyze data. Mathematical models and algorithms enable scientists to simulate, visualize, and predict the behavior of complex systems, such as weather patterns, population dynamics of ecosystems, and the behavior of subatomic particles. Mathematics provides a precise and consistent language for scientists to communicate their findings, facilitating collaboration and innovation.\\n\\n**Mathematization of Natural Phenomena**\\n\\nThe process of mathematization involves the development of mathematical models and theories to describe and explain natural phenomena. Mathematization has been instrumental in understanding and predicting various natural phenomena, such as the motion of celestial bodies, the behavior of electromagnetic waves, and the structure of atoms and molecules. The mathematization of natural phenomena has led to significant breakthroughs in fields such as physics, chemistry, biology, and astronomy.\\n\\n**The Importance of Mathematical Modeling**\\n\\nMathematical modeling is a crucial aspect of scientific inquiry, as it enables scientists to simulate, predict, and analyze complex systems and phenomena. Mathematical models provide a framework for scientists to test hypotheses, evaluate the performance of systems, and optimize their design. Mathematical modeling has been applied in various fields, including weather forecasting, medical imaging, and financial modeling.\\n\\n**The Scientific Method and Mathematics**\\n\\nThe scientific method is a systematic process of observation, hypothesis formation, experimentation, and conclusion. Mathematics is an integral part of the scientific method, as it provides a framework for scientists to formulate and test hypotheses. Mathematical principles and techniques, such as statistical analysis and data visualization, enable scientists to interpret and validate their results.\\n\\n**The Interplay between Mathematics and Science**\\n\\nMathematics and science are interconnected disciplines that have a symbiotic relationship. Advances in mathematics have led to significant breakthroughs in science, while scientific discoveries have driven the development of new mathematical concepts and techniques. The interplay between mathematics and science has been instrumental in shaping our understanding of the natural world and the universe.\\n\\n**Applications of Mathematics in Science**\\n\\nMathematics has numerous applications in various fields of science, including:\\n\\n* **Physics**: Mathematical models describe the behavior of physical systems, such as Newton's laws of motion and Einstein's theory of relativity.\\n* **Biology**: Mathematical models describe the behavior of populations, ecosystems, and the structure of biological molecules.\\n* **Chemistry**: Mathematical models describe the behavior of chemical reactions, the structure of molecules, and the properties of materials.\\n* **Astronomy**: Mathematical models describe the behavior of celestial bodies, the structure of the universe, and the expansion of the cosmos.\\n\\n**The Future of Science and Mathematics**\\n\\nThe future of science and mathematics is bright, with significant advances expected in various fields, including artificial intelligence, data science, and biotechnology. The increasing complexity of scientific problems requires the development of new mathematical techniques and tools, such as machine learning and artificial intelligence. The importance of mathematics in science cannot be overstated, as it provides a powerful tool for scientists to understand and explain the underlying mechanisms of the natural world.\\n\\n**Conclusion**\\n\\nIn conclusion, mathematics plays a vital role in science, providing a powerful tool for understanding and explaining the natural world. The significance of mathematics in science cannot be overstated, as it enables scientists to formulate hypotheses, model complex systems, and analyze data. The importance of mathematics in science is undeniable, and its applications are numerous and diverse. As science continues to evolve, the importance of mathematics will only continue to grow, driving innovation and discovery in various fields of science.\\n\\n**References**\\n\\n1. **Mathematics and Science** by Ian Stewart (2017)\\n2. **The Mathematical Universe** by Max Tegmark (2014)\\n3. **Mathematics and the Natural Sciences** by V. I. Arnold (2013)\\n4. **The Oxford Handbook of the Philosophy of Mathematics and Logic** edited by Stewart Shapiro (2005)\\n5. **Mathematics and Science: Last 50 Years** edited by Michael Atiyah (2002)\\n\\nI hope this essay meets your requirements. Please let me know if you need any further assistance!\" additional_kwargs={} response_metadata={'token_usage': {'completion_tokens': 1029, 'prompt_tokens': 29, 'total_tokens': 1058, 'completion_time': 3.039467357, 'prompt_time': 0.000614664, 'queue_time': 0.058586926, 'total_time': 3.040082021}, 'model_name': 'llama3-70b-8192', 'system_fingerprint': 'fp_dd4ae1c591', 'finish_reason': 'stop', 'logprobs': None} id='run-b1268465-3047-428c-acb7-1ebc397cdab7-0' usage_metadata={'input_tokens': 29, 'output_tokens': 1029, 'total_tokens': 1058}\n"
     ]
    }
   ],
   "source": [
    "# 👇 Ask something\n",
    "response = llm.invoke(\"give me 1000 lines of essay on science and give the importance of it regarding mathematics?\")\n",
    "print(\"LLM Response:\", response)"
   ]
  },
  {
   "cell_type": "code",
   "execution_count": null,
   "metadata": {},
   "outputs": [],
   "source": []
  }
 ],
 "metadata": {
  "kernelspec": {
   "display_name": "rag_env",
   "language": "python",
   "name": "python3"
  },
  "language_info": {
   "codemirror_mode": {
    "name": "ipython",
    "version": 3
   },
   "file_extension": ".py",
   "mimetype": "text/x-python",
   "name": "python",
   "nbconvert_exporter": "python",
   "pygments_lexer": "ipython3",
   "version": "3.11.11"
  }
 },
 "nbformat": 4,
 "nbformat_minor": 2
}

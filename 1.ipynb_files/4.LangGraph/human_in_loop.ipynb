{
 "cells": [
  {
   "cell_type": "code",
   "execution_count": null,
   "id": "c702fb3a",
   "metadata": {},
   "outputs": [],
   "source": [
    "from langchain_openai import ChatOpenAI\n",
    "from dotenv import load_dotenv\n",
    "load_dotenv()\n",
    "import os\n",
    "OPENAI_API_KEY=os.getenv(\"OPENAI_API_KEY\")\n",
    "os.environ[\"OPENAI_API_KEY\"]=OPENAI_API_KEY\n",
    "openai_model=ChatOpenAI(model=\"gpt-4o\")\n",
    "openai_model.invoke(\"hi\")\n",
    "\n",
    "from langgraph.graph import StateGraph,MessagesState, START, END\n",
    "from langgraph.graph.message import add_messages\n",
    "from typing import Annotated, Literal, TypedDict\n",
    "from langchain_core.tools import tool\n",
    "from langchain_core.messages import HumanMessage\n",
    "from langgraph.prebuilt import ToolNode, tools_condition\n",
    "from langgraph.checkpoint.memory import MemorySaver\n",
    "from langgraph.prebuilt import ToolNode\n",
    "\n",
    "import os\n",
    "from langchain_community.tools.tavily_search import TavilySearchResults\n",
    "os.environ[\"TAVILY_API_KEY\"]= os.getenv(\"TAVILY_API_KEY\")"
   ]
  },
  {
   "cell_type": "code",
   "execution_count": 7,
   "id": "6384b597",
   "metadata": {},
   "outputs": [],
   "source": [
    "class AgentState(TypedDict):\n",
    "    messages: Annotated[list, add_messages]"
   ]
  },
  {
   "cell_type": "code",
   "execution_count": 8,
   "id": "ef2ad7d4",
   "metadata": {},
   "outputs": [],
   "source": [
    "\n",
    "tavily=TavilySearchResults()"
   ]
  },
  {
   "cell_type": "code",
   "execution_count": 9,
   "id": "08259ad4",
   "metadata": {},
   "outputs": [],
   "source": [
    "\n",
    "tools = [tavily]"
   ]
  },
  {
   "cell_type": "code",
   "execution_count": 10,
   "id": "e21b5705",
   "metadata": {},
   "outputs": [],
   "source": [
    "\n",
    "llm_with_tools = openai_model.bind_tools(tools)"
   ]
  },
  {
   "cell_type": "code",
   "execution_count": 11,
   "id": "bf9fca59",
   "metadata": {},
   "outputs": [],
   "source": [
    "\n",
    "def ai_assistant(state: AgentState):\n",
    "    return {\"messages\": [llm_with_tools.invoke(state[\"messages\"])]}"
   ]
  },
  {
   "cell_type": "code",
   "execution_count": 12,
   "id": "bb56075d",
   "metadata": {},
   "outputs": [],
   "source": [
    "memory = MemorySaver()"
   ]
  },
  {
   "cell_type": "code",
   "execution_count": 13,
   "id": "9c36f4bc",
   "metadata": {},
   "outputs": [
    {
     "data": {
      "text/plain": [
       "<langgraph.graph.state.StateGraph at 0x1ef5e11bdd0>"
      ]
     },
     "execution_count": 13,
     "metadata": {},
     "output_type": "execute_result"
    }
   ],
   "source": [
    "graph_builder = StateGraph(AgentState)\n",
    "graph_builder.add_node(\"ai_assistant\", ai_assistant)\n",
    "\n",
    "tool_node = ToolNode(tools=tools)\n",
    "graph_builder.add_node(\"tools\", tool_node)"
   ]
  },
  {
   "cell_type": "code",
   "execution_count": 14,
   "id": "5d964ac6",
   "metadata": {},
   "outputs": [
    {
     "data": {
      "text/plain": [
       "<langgraph.graph.state.StateGraph at 0x1ef5e11bdd0>"
      ]
     },
     "execution_count": 14,
     "metadata": {},
     "output_type": "execute_result"
    }
   ],
   "source": [
    "\n",
    "graph_builder.add_edge(START, \"ai_assistant\")\n",
    "\n",
    "graph_builder.add_conditional_edges(\n",
    "    \"ai_assistant\",\n",
    "    tools_condition,\n",
    ")\n",
    "graph_builder.add_edge(\"tools\", \"ai_assistant\")"
   ]
  },
  {
   "cell_type": "code",
   "execution_count": 15,
   "id": "9c1bb3c7",
   "metadata": {},
   "outputs": [],
   "source": [
    "\n",
    "app2 = graph_builder.compile(\n",
    "    checkpointer=memory,\n",
    "    # This is new!\n",
    "    interrupt_before=[\"tools\"],\n",
    "    # Note: can also interrupt __after__ tools, if desired.\n",
    "    # interrupt_after=[\"tools\"]\n",
    ")"
   ]
  },
  {
   "cell_type": "code",
   "execution_count": 17,
   "id": "71ed2dab",
   "metadata": {},
   "outputs": [
    {
     "ename": "ReadTimeout",
     "evalue": "HTTPSConnectionPool(host='mermaid.ink', port=443): Read timed out. (read timeout=10)",
     "output_type": "error",
     "traceback": [
      "\u001b[31m---------------------------------------------------------------------------\u001b[39m",
      "\u001b[31mTimeoutError\u001b[39m                              Traceback (most recent call last)",
      "\u001b[36mFile \u001b[39m\u001b[32mc:\\Users\\Mohan\\anaconda3\\envs\\rag_env\\Lib\\site-packages\\urllib3\\connectionpool.py:534\u001b[39m, in \u001b[36mHTTPConnectionPool._make_request\u001b[39m\u001b[34m(self, conn, method, url, body, headers, retries, timeout, chunked, response_conn, preload_content, decode_content, enforce_content_length)\u001b[39m\n\u001b[32m    533\u001b[39m \u001b[38;5;28;01mtry\u001b[39;00m:\n\u001b[32m--> \u001b[39m\u001b[32m534\u001b[39m     response = \u001b[43mconn\u001b[49m\u001b[43m.\u001b[49m\u001b[43mgetresponse\u001b[49m\u001b[43m(\u001b[49m\u001b[43m)\u001b[49m\n\u001b[32m    535\u001b[39m \u001b[38;5;28;01mexcept\u001b[39;00m (BaseSSLError, \u001b[38;5;167;01mOSError\u001b[39;00m) \u001b[38;5;28;01mas\u001b[39;00m e:\n",
      "\u001b[36mFile \u001b[39m\u001b[32mc:\\Users\\Mohan\\anaconda3\\envs\\rag_env\\Lib\\site-packages\\urllib3\\connection.py:516\u001b[39m, in \u001b[36mHTTPConnection.getresponse\u001b[39m\u001b[34m(self)\u001b[39m\n\u001b[32m    515\u001b[39m \u001b[38;5;66;03m# Get the response from http.client.HTTPConnection\u001b[39;00m\n\u001b[32m--> \u001b[39m\u001b[32m516\u001b[39m httplib_response = \u001b[38;5;28;43msuper\u001b[39;49m\u001b[43m(\u001b[49m\u001b[43m)\u001b[49m\u001b[43m.\u001b[49m\u001b[43mgetresponse\u001b[49m\u001b[43m(\u001b[49m\u001b[43m)\u001b[49m\n\u001b[32m    518\u001b[39m \u001b[38;5;28;01mtry\u001b[39;00m:\n",
      "\u001b[36mFile \u001b[39m\u001b[32mc:\\Users\\Mohan\\anaconda3\\envs\\rag_env\\Lib\\http\\client.py:1395\u001b[39m, in \u001b[36mHTTPConnection.getresponse\u001b[39m\u001b[34m(self)\u001b[39m\n\u001b[32m   1394\u001b[39m \u001b[38;5;28;01mtry\u001b[39;00m:\n\u001b[32m-> \u001b[39m\u001b[32m1395\u001b[39m     \u001b[43mresponse\u001b[49m\u001b[43m.\u001b[49m\u001b[43mbegin\u001b[49m\u001b[43m(\u001b[49m\u001b[43m)\u001b[49m\n\u001b[32m   1396\u001b[39m \u001b[38;5;28;01mexcept\u001b[39;00m \u001b[38;5;167;01mConnectionError\u001b[39;00m:\n",
      "\u001b[36mFile \u001b[39m\u001b[32mc:\\Users\\Mohan\\anaconda3\\envs\\rag_env\\Lib\\http\\client.py:325\u001b[39m, in \u001b[36mHTTPResponse.begin\u001b[39m\u001b[34m(self)\u001b[39m\n\u001b[32m    324\u001b[39m \u001b[38;5;28;01mwhile\u001b[39;00m \u001b[38;5;28;01mTrue\u001b[39;00m:\n\u001b[32m--> \u001b[39m\u001b[32m325\u001b[39m     version, status, reason = \u001b[38;5;28;43mself\u001b[39;49m\u001b[43m.\u001b[49m\u001b[43m_read_status\u001b[49m\u001b[43m(\u001b[49m\u001b[43m)\u001b[49m\n\u001b[32m    326\u001b[39m     \u001b[38;5;28;01mif\u001b[39;00m status != CONTINUE:\n",
      "\u001b[36mFile \u001b[39m\u001b[32mc:\\Users\\Mohan\\anaconda3\\envs\\rag_env\\Lib\\http\\client.py:286\u001b[39m, in \u001b[36mHTTPResponse._read_status\u001b[39m\u001b[34m(self)\u001b[39m\n\u001b[32m    285\u001b[39m \u001b[38;5;28;01mdef\u001b[39;00m\u001b[38;5;250m \u001b[39m\u001b[34m_read_status\u001b[39m(\u001b[38;5;28mself\u001b[39m):\n\u001b[32m--> \u001b[39m\u001b[32m286\u001b[39m     line = \u001b[38;5;28mstr\u001b[39m(\u001b[38;5;28mself\u001b[39m.fp.readline(_MAXLINE + \u001b[32m1\u001b[39m), \u001b[33m\"\u001b[39m\u001b[33miso-8859-1\u001b[39m\u001b[33m\"\u001b[39m)\n\u001b[32m    287\u001b[39m     \u001b[38;5;28;01mif\u001b[39;00m \u001b[38;5;28mlen\u001b[39m(line) > _MAXLINE:\n",
      "\u001b[36mFile \u001b[39m\u001b[32mc:\\Users\\Mohan\\anaconda3\\envs\\rag_env\\Lib\\socket.py:718\u001b[39m, in \u001b[36mSocketIO.readinto\u001b[39m\u001b[34m(self, b)\u001b[39m\n\u001b[32m    717\u001b[39m \u001b[38;5;28;01mtry\u001b[39;00m:\n\u001b[32m--> \u001b[39m\u001b[32m718\u001b[39m     \u001b[38;5;28;01mreturn\u001b[39;00m \u001b[38;5;28;43mself\u001b[39;49m\u001b[43m.\u001b[49m\u001b[43m_sock\u001b[49m\u001b[43m.\u001b[49m\u001b[43mrecv_into\u001b[49m\u001b[43m(\u001b[49m\u001b[43mb\u001b[49m\u001b[43m)\u001b[49m\n\u001b[32m    719\u001b[39m \u001b[38;5;28;01mexcept\u001b[39;00m timeout:\n",
      "\u001b[36mFile \u001b[39m\u001b[32mc:\\Users\\Mohan\\anaconda3\\envs\\rag_env\\Lib\\ssl.py:1314\u001b[39m, in \u001b[36mSSLSocket.recv_into\u001b[39m\u001b[34m(self, buffer, nbytes, flags)\u001b[39m\n\u001b[32m   1311\u001b[39m         \u001b[38;5;28;01mraise\u001b[39;00m \u001b[38;5;167;01mValueError\u001b[39;00m(\n\u001b[32m   1312\u001b[39m           \u001b[33m\"\u001b[39m\u001b[33mnon-zero flags not allowed in calls to recv_into() on \u001b[39m\u001b[38;5;132;01m%s\u001b[39;00m\u001b[33m\"\u001b[39m %\n\u001b[32m   1313\u001b[39m           \u001b[38;5;28mself\u001b[39m.\u001b[34m__class__\u001b[39m)\n\u001b[32m-> \u001b[39m\u001b[32m1314\u001b[39m     \u001b[38;5;28;01mreturn\u001b[39;00m \u001b[38;5;28;43mself\u001b[39;49m\u001b[43m.\u001b[49m\u001b[43mread\u001b[49m\u001b[43m(\u001b[49m\u001b[43mnbytes\u001b[49m\u001b[43m,\u001b[49m\u001b[43m \u001b[49m\u001b[43mbuffer\u001b[49m\u001b[43m)\u001b[49m\n\u001b[32m   1315\u001b[39m \u001b[38;5;28;01melse\u001b[39;00m:\n",
      "\u001b[36mFile \u001b[39m\u001b[32mc:\\Users\\Mohan\\anaconda3\\envs\\rag_env\\Lib\\ssl.py:1166\u001b[39m, in \u001b[36mSSLSocket.read\u001b[39m\u001b[34m(self, len, buffer)\u001b[39m\n\u001b[32m   1165\u001b[39m \u001b[38;5;28;01mif\u001b[39;00m buffer \u001b[38;5;129;01mis\u001b[39;00m \u001b[38;5;129;01mnot\u001b[39;00m \u001b[38;5;28;01mNone\u001b[39;00m:\n\u001b[32m-> \u001b[39m\u001b[32m1166\u001b[39m     \u001b[38;5;28;01mreturn\u001b[39;00m \u001b[38;5;28;43mself\u001b[39;49m\u001b[43m.\u001b[49m\u001b[43m_sslobj\u001b[49m\u001b[43m.\u001b[49m\u001b[43mread\u001b[49m\u001b[43m(\u001b[49m\u001b[38;5;28;43mlen\u001b[39;49m\u001b[43m,\u001b[49m\u001b[43m \u001b[49m\u001b[43mbuffer\u001b[49m\u001b[43m)\u001b[49m\n\u001b[32m   1167\u001b[39m \u001b[38;5;28;01melse\u001b[39;00m:\n",
      "\u001b[31mTimeoutError\u001b[39m: The read operation timed out",
      "\nThe above exception was the direct cause of the following exception:\n",
      "\u001b[31mReadTimeoutError\u001b[39m                          Traceback (most recent call last)",
      "\u001b[36mFile \u001b[39m\u001b[32mc:\\Users\\Mohan\\anaconda3\\envs\\rag_env\\Lib\\site-packages\\requests\\adapters.py:667\u001b[39m, in \u001b[36mHTTPAdapter.send\u001b[39m\u001b[34m(self, request, stream, timeout, verify, cert, proxies)\u001b[39m\n\u001b[32m    666\u001b[39m \u001b[38;5;28;01mtry\u001b[39;00m:\n\u001b[32m--> \u001b[39m\u001b[32m667\u001b[39m     resp = \u001b[43mconn\u001b[49m\u001b[43m.\u001b[49m\u001b[43murlopen\u001b[49m\u001b[43m(\u001b[49m\n\u001b[32m    668\u001b[39m \u001b[43m        \u001b[49m\u001b[43mmethod\u001b[49m\u001b[43m=\u001b[49m\u001b[43mrequest\u001b[49m\u001b[43m.\u001b[49m\u001b[43mmethod\u001b[49m\u001b[43m,\u001b[49m\n\u001b[32m    669\u001b[39m \u001b[43m        \u001b[49m\u001b[43murl\u001b[49m\u001b[43m=\u001b[49m\u001b[43murl\u001b[49m\u001b[43m,\u001b[49m\n\u001b[32m    670\u001b[39m \u001b[43m        \u001b[49m\u001b[43mbody\u001b[49m\u001b[43m=\u001b[49m\u001b[43mrequest\u001b[49m\u001b[43m.\u001b[49m\u001b[43mbody\u001b[49m\u001b[43m,\u001b[49m\n\u001b[32m    671\u001b[39m \u001b[43m        \u001b[49m\u001b[43mheaders\u001b[49m\u001b[43m=\u001b[49m\u001b[43mrequest\u001b[49m\u001b[43m.\u001b[49m\u001b[43mheaders\u001b[49m\u001b[43m,\u001b[49m\n\u001b[32m    672\u001b[39m \u001b[43m        \u001b[49m\u001b[43mredirect\u001b[49m\u001b[43m=\u001b[49m\u001b[38;5;28;43;01mFalse\u001b[39;49;00m\u001b[43m,\u001b[49m\n\u001b[32m    673\u001b[39m \u001b[43m        \u001b[49m\u001b[43massert_same_host\u001b[49m\u001b[43m=\u001b[49m\u001b[38;5;28;43;01mFalse\u001b[39;49;00m\u001b[43m,\u001b[49m\n\u001b[32m    674\u001b[39m \u001b[43m        \u001b[49m\u001b[43mpreload_content\u001b[49m\u001b[43m=\u001b[49m\u001b[38;5;28;43;01mFalse\u001b[39;49;00m\u001b[43m,\u001b[49m\n\u001b[32m    675\u001b[39m \u001b[43m        \u001b[49m\u001b[43mdecode_content\u001b[49m\u001b[43m=\u001b[49m\u001b[38;5;28;43;01mFalse\u001b[39;49;00m\u001b[43m,\u001b[49m\n\u001b[32m    676\u001b[39m \u001b[43m        \u001b[49m\u001b[43mretries\u001b[49m\u001b[43m=\u001b[49m\u001b[38;5;28;43mself\u001b[39;49m\u001b[43m.\u001b[49m\u001b[43mmax_retries\u001b[49m\u001b[43m,\u001b[49m\n\u001b[32m    677\u001b[39m \u001b[43m        \u001b[49m\u001b[43mtimeout\u001b[49m\u001b[43m=\u001b[49m\u001b[43mtimeout\u001b[49m\u001b[43m,\u001b[49m\n\u001b[32m    678\u001b[39m \u001b[43m        \u001b[49m\u001b[43mchunked\u001b[49m\u001b[43m=\u001b[49m\u001b[43mchunked\u001b[49m\u001b[43m,\u001b[49m\n\u001b[32m    679\u001b[39m \u001b[43m    \u001b[49m\u001b[43m)\u001b[49m\n\u001b[32m    681\u001b[39m \u001b[38;5;28;01mexcept\u001b[39;00m (ProtocolError, \u001b[38;5;167;01mOSError\u001b[39;00m) \u001b[38;5;28;01mas\u001b[39;00m err:\n",
      "\u001b[36mFile \u001b[39m\u001b[32mc:\\Users\\Mohan\\anaconda3\\envs\\rag_env\\Lib\\site-packages\\urllib3\\connectionpool.py:841\u001b[39m, in \u001b[36mHTTPConnectionPool.urlopen\u001b[39m\u001b[34m(self, method, url, body, headers, retries, redirect, assert_same_host, timeout, pool_timeout, release_conn, chunked, body_pos, preload_content, decode_content, **response_kw)\u001b[39m\n\u001b[32m    839\u001b[39m     new_e = ProtocolError(\u001b[33m\"\u001b[39m\u001b[33mConnection aborted.\u001b[39m\u001b[33m\"\u001b[39m, new_e)\n\u001b[32m--> \u001b[39m\u001b[32m841\u001b[39m retries = \u001b[43mretries\u001b[49m\u001b[43m.\u001b[49m\u001b[43mincrement\u001b[49m\u001b[43m(\u001b[49m\n\u001b[32m    842\u001b[39m \u001b[43m    \u001b[49m\u001b[43mmethod\u001b[49m\u001b[43m,\u001b[49m\u001b[43m \u001b[49m\u001b[43murl\u001b[49m\u001b[43m,\u001b[49m\u001b[43m \u001b[49m\u001b[43merror\u001b[49m\u001b[43m=\u001b[49m\u001b[43mnew_e\u001b[49m\u001b[43m,\u001b[49m\u001b[43m \u001b[49m\u001b[43m_pool\u001b[49m\u001b[43m=\u001b[49m\u001b[38;5;28;43mself\u001b[39;49m\u001b[43m,\u001b[49m\u001b[43m \u001b[49m\u001b[43m_stacktrace\u001b[49m\u001b[43m=\u001b[49m\u001b[43msys\u001b[49m\u001b[43m.\u001b[49m\u001b[43mexc_info\u001b[49m\u001b[43m(\u001b[49m\u001b[43m)\u001b[49m\u001b[43m[\u001b[49m\u001b[32;43m2\u001b[39;49m\u001b[43m]\u001b[49m\n\u001b[32m    843\u001b[39m \u001b[43m\u001b[49m\u001b[43m)\u001b[49m\n\u001b[32m    844\u001b[39m retries.sleep()\n",
      "\u001b[36mFile \u001b[39m\u001b[32mc:\\Users\\Mohan\\anaconda3\\envs\\rag_env\\Lib\\site-packages\\urllib3\\util\\retry.py:474\u001b[39m, in \u001b[36mRetry.increment\u001b[39m\u001b[34m(self, method, url, response, error, _pool, _stacktrace)\u001b[39m\n\u001b[32m    473\u001b[39m \u001b[38;5;28;01mif\u001b[39;00m read \u001b[38;5;129;01mis\u001b[39;00m \u001b[38;5;28;01mFalse\u001b[39;00m \u001b[38;5;129;01mor\u001b[39;00m method \u001b[38;5;129;01mis\u001b[39;00m \u001b[38;5;28;01mNone\u001b[39;00m \u001b[38;5;129;01mor\u001b[39;00m \u001b[38;5;129;01mnot\u001b[39;00m \u001b[38;5;28mself\u001b[39m._is_method_retryable(method):\n\u001b[32m--> \u001b[39m\u001b[32m474\u001b[39m     \u001b[38;5;28;01mraise\u001b[39;00m \u001b[43mreraise\u001b[49m\u001b[43m(\u001b[49m\u001b[38;5;28;43mtype\u001b[39;49m\u001b[43m(\u001b[49m\u001b[43merror\u001b[49m\u001b[43m)\u001b[49m\u001b[43m,\u001b[49m\u001b[43m \u001b[49m\u001b[43merror\u001b[49m\u001b[43m,\u001b[49m\u001b[43m \u001b[49m\u001b[43m_stacktrace\u001b[49m\u001b[43m)\u001b[49m\n\u001b[32m    475\u001b[39m \u001b[38;5;28;01melif\u001b[39;00m read \u001b[38;5;129;01mis\u001b[39;00m \u001b[38;5;129;01mnot\u001b[39;00m \u001b[38;5;28;01mNone\u001b[39;00m:\n",
      "\u001b[36mFile \u001b[39m\u001b[32mc:\\Users\\Mohan\\anaconda3\\envs\\rag_env\\Lib\\site-packages\\urllib3\\util\\util.py:39\u001b[39m, in \u001b[36mreraise\u001b[39m\u001b[34m(tp, value, tb)\u001b[39m\n\u001b[32m     38\u001b[39m         \u001b[38;5;28;01mraise\u001b[39;00m value.with_traceback(tb)\n\u001b[32m---> \u001b[39m\u001b[32m39\u001b[39m     \u001b[38;5;28;01mraise\u001b[39;00m value\n\u001b[32m     40\u001b[39m \u001b[38;5;28;01mfinally\u001b[39;00m:\n",
      "\u001b[36mFile \u001b[39m\u001b[32mc:\\Users\\Mohan\\anaconda3\\envs\\rag_env\\Lib\\site-packages\\urllib3\\connectionpool.py:787\u001b[39m, in \u001b[36mHTTPConnectionPool.urlopen\u001b[39m\u001b[34m(self, method, url, body, headers, retries, redirect, assert_same_host, timeout, pool_timeout, release_conn, chunked, body_pos, preload_content, decode_content, **response_kw)\u001b[39m\n\u001b[32m    786\u001b[39m \u001b[38;5;66;03m# Make the request on the HTTPConnection object\u001b[39;00m\n\u001b[32m--> \u001b[39m\u001b[32m787\u001b[39m response = \u001b[38;5;28;43mself\u001b[39;49m\u001b[43m.\u001b[49m\u001b[43m_make_request\u001b[49m\u001b[43m(\u001b[49m\n\u001b[32m    788\u001b[39m \u001b[43m    \u001b[49m\u001b[43mconn\u001b[49m\u001b[43m,\u001b[49m\n\u001b[32m    789\u001b[39m \u001b[43m    \u001b[49m\u001b[43mmethod\u001b[49m\u001b[43m,\u001b[49m\n\u001b[32m    790\u001b[39m \u001b[43m    \u001b[49m\u001b[43murl\u001b[49m\u001b[43m,\u001b[49m\n\u001b[32m    791\u001b[39m \u001b[43m    \u001b[49m\u001b[43mtimeout\u001b[49m\u001b[43m=\u001b[49m\u001b[43mtimeout_obj\u001b[49m\u001b[43m,\u001b[49m\n\u001b[32m    792\u001b[39m \u001b[43m    \u001b[49m\u001b[43mbody\u001b[49m\u001b[43m=\u001b[49m\u001b[43mbody\u001b[49m\u001b[43m,\u001b[49m\n\u001b[32m    793\u001b[39m \u001b[43m    \u001b[49m\u001b[43mheaders\u001b[49m\u001b[43m=\u001b[49m\u001b[43mheaders\u001b[49m\u001b[43m,\u001b[49m\n\u001b[32m    794\u001b[39m \u001b[43m    \u001b[49m\u001b[43mchunked\u001b[49m\u001b[43m=\u001b[49m\u001b[43mchunked\u001b[49m\u001b[43m,\u001b[49m\n\u001b[32m    795\u001b[39m \u001b[43m    \u001b[49m\u001b[43mretries\u001b[49m\u001b[43m=\u001b[49m\u001b[43mretries\u001b[49m\u001b[43m,\u001b[49m\n\u001b[32m    796\u001b[39m \u001b[43m    \u001b[49m\u001b[43mresponse_conn\u001b[49m\u001b[43m=\u001b[49m\u001b[43mresponse_conn\u001b[49m\u001b[43m,\u001b[49m\n\u001b[32m    797\u001b[39m \u001b[43m    \u001b[49m\u001b[43mpreload_content\u001b[49m\u001b[43m=\u001b[49m\u001b[43mpreload_content\u001b[49m\u001b[43m,\u001b[49m\n\u001b[32m    798\u001b[39m \u001b[43m    \u001b[49m\u001b[43mdecode_content\u001b[49m\u001b[43m=\u001b[49m\u001b[43mdecode_content\u001b[49m\u001b[43m,\u001b[49m\n\u001b[32m    799\u001b[39m \u001b[43m    \u001b[49m\u001b[43m*\u001b[49m\u001b[43m*\u001b[49m\u001b[43mresponse_kw\u001b[49m\u001b[43m,\u001b[49m\n\u001b[32m    800\u001b[39m \u001b[43m\u001b[49m\u001b[43m)\u001b[49m\n\u001b[32m    802\u001b[39m \u001b[38;5;66;03m# Everything went great!\u001b[39;00m\n",
      "\u001b[36mFile \u001b[39m\u001b[32mc:\\Users\\Mohan\\anaconda3\\envs\\rag_env\\Lib\\site-packages\\urllib3\\connectionpool.py:536\u001b[39m, in \u001b[36mHTTPConnectionPool._make_request\u001b[39m\u001b[34m(self, conn, method, url, body, headers, retries, timeout, chunked, response_conn, preload_content, decode_content, enforce_content_length)\u001b[39m\n\u001b[32m    535\u001b[39m \u001b[38;5;28;01mexcept\u001b[39;00m (BaseSSLError, \u001b[38;5;167;01mOSError\u001b[39;00m) \u001b[38;5;28;01mas\u001b[39;00m e:\n\u001b[32m--> \u001b[39m\u001b[32m536\u001b[39m     \u001b[38;5;28;43mself\u001b[39;49m\u001b[43m.\u001b[49m\u001b[43m_raise_timeout\u001b[49m\u001b[43m(\u001b[49m\u001b[43merr\u001b[49m\u001b[43m=\u001b[49m\u001b[43me\u001b[49m\u001b[43m,\u001b[49m\u001b[43m \u001b[49m\u001b[43murl\u001b[49m\u001b[43m=\u001b[49m\u001b[43murl\u001b[49m\u001b[43m,\u001b[49m\u001b[43m \u001b[49m\u001b[43mtimeout_value\u001b[49m\u001b[43m=\u001b[49m\u001b[43mread_timeout\u001b[49m\u001b[43m)\u001b[49m\n\u001b[32m    537\u001b[39m     \u001b[38;5;28;01mraise\u001b[39;00m\n",
      "\u001b[36mFile \u001b[39m\u001b[32mc:\\Users\\Mohan\\anaconda3\\envs\\rag_env\\Lib\\site-packages\\urllib3\\connectionpool.py:367\u001b[39m, in \u001b[36mHTTPConnectionPool._raise_timeout\u001b[39m\u001b[34m(self, err, url, timeout_value)\u001b[39m\n\u001b[32m    366\u001b[39m \u001b[38;5;28;01mif\u001b[39;00m \u001b[38;5;28misinstance\u001b[39m(err, SocketTimeout):\n\u001b[32m--> \u001b[39m\u001b[32m367\u001b[39m     \u001b[38;5;28;01mraise\u001b[39;00m ReadTimeoutError(\n\u001b[32m    368\u001b[39m         \u001b[38;5;28mself\u001b[39m, url, \u001b[33mf\u001b[39m\u001b[33m\"\u001b[39m\u001b[33mRead timed out. (read timeout=\u001b[39m\u001b[38;5;132;01m{\u001b[39;00mtimeout_value\u001b[38;5;132;01m}\u001b[39;00m\u001b[33m)\u001b[39m\u001b[33m\"\u001b[39m\n\u001b[32m    369\u001b[39m     ) \u001b[38;5;28;01mfrom\u001b[39;00m\u001b[38;5;250m \u001b[39m\u001b[34;01merr\u001b[39;00m\n\u001b[32m    371\u001b[39m \u001b[38;5;66;03m# See the above comment about EAGAIN in Python 3.\u001b[39;00m\n",
      "\u001b[31mReadTimeoutError\u001b[39m: HTTPSConnectionPool(host='mermaid.ink', port=443): Read timed out. (read timeout=10)",
      "\nDuring handling of the above exception, another exception occurred:\n",
      "\u001b[31mReadTimeout\u001b[39m                               Traceback (most recent call last)",
      "\u001b[36mCell\u001b[39m\u001b[36m \u001b[39m\u001b[32mIn[17]\u001b[39m\u001b[32m, line 2\u001b[39m\n\u001b[32m      1\u001b[39m \u001b[38;5;28;01mfrom\u001b[39;00m\u001b[38;5;250m \u001b[39m\u001b[34;01mIPython\u001b[39;00m\u001b[34;01m.\u001b[39;00m\u001b[34;01mdisplay\u001b[39;00m\u001b[38;5;250m \u001b[39m\u001b[38;5;28;01mimport\u001b[39;00m Image, display\n\u001b[32m----> \u001b[39m\u001b[32m2\u001b[39m display(Image(\u001b[43mapp2\u001b[49m\u001b[43m.\u001b[49m\u001b[43mget_graph\u001b[49m\u001b[43m(\u001b[49m\u001b[43m)\u001b[49m\u001b[43m.\u001b[49m\u001b[43mdraw_mermaid_png\u001b[49m\u001b[43m(\u001b[49m\u001b[43m)\u001b[49m))\n",
      "\u001b[36mFile \u001b[39m\u001b[32mc:\\Users\\Mohan\\anaconda3\\envs\\rag_env\\Lib\\site-packages\\langchain_core\\runnables\\graph.py:667\u001b[39m, in \u001b[36mGraph.draw_mermaid_png\u001b[39m\u001b[34m(self, curve_style, node_colors, wrap_label_n_words, output_file_path, draw_method, background_color, padding, frontmatter_config)\u001b[39m\n\u001b[32m    659\u001b[39m \u001b[38;5;28;01mfrom\u001b[39;00m\u001b[38;5;250m \u001b[39m\u001b[34;01mlangchain_core\u001b[39;00m\u001b[34;01m.\u001b[39;00m\u001b[34;01mrunnables\u001b[39;00m\u001b[34;01m.\u001b[39;00m\u001b[34;01mgraph_mermaid\u001b[39;00m\u001b[38;5;250m \u001b[39m\u001b[38;5;28;01mimport\u001b[39;00m draw_mermaid_png\n\u001b[32m    661\u001b[39m mermaid_syntax = \u001b[38;5;28mself\u001b[39m.draw_mermaid(\n\u001b[32m    662\u001b[39m     curve_style=curve_style,\n\u001b[32m    663\u001b[39m     node_colors=node_colors,\n\u001b[32m    664\u001b[39m     wrap_label_n_words=wrap_label_n_words,\n\u001b[32m    665\u001b[39m     frontmatter_config=frontmatter_config,\n\u001b[32m    666\u001b[39m )\n\u001b[32m--> \u001b[39m\u001b[32m667\u001b[39m \u001b[38;5;28;01mreturn\u001b[39;00m \u001b[43mdraw_mermaid_png\u001b[49m\u001b[43m(\u001b[49m\n\u001b[32m    668\u001b[39m \u001b[43m    \u001b[49m\u001b[43mmermaid_syntax\u001b[49m\u001b[43m=\u001b[49m\u001b[43mmermaid_syntax\u001b[49m\u001b[43m,\u001b[49m\n\u001b[32m    669\u001b[39m \u001b[43m    \u001b[49m\u001b[43moutput_file_path\u001b[49m\u001b[43m=\u001b[49m\u001b[43moutput_file_path\u001b[49m\u001b[43m,\u001b[49m\n\u001b[32m    670\u001b[39m \u001b[43m    \u001b[49m\u001b[43mdraw_method\u001b[49m\u001b[43m=\u001b[49m\u001b[43mdraw_method\u001b[49m\u001b[43m,\u001b[49m\n\u001b[32m    671\u001b[39m \u001b[43m    \u001b[49m\u001b[43mbackground_color\u001b[49m\u001b[43m=\u001b[49m\u001b[43mbackground_color\u001b[49m\u001b[43m,\u001b[49m\n\u001b[32m    672\u001b[39m \u001b[43m    \u001b[49m\u001b[43mpadding\u001b[49m\u001b[43m=\u001b[49m\u001b[43mpadding\u001b[49m\u001b[43m,\u001b[49m\n\u001b[32m    673\u001b[39m \u001b[43m\u001b[49m\u001b[43m)\u001b[49m\n",
      "\u001b[36mFile \u001b[39m\u001b[32mc:\\Users\\Mohan\\anaconda3\\envs\\rag_env\\Lib\\site-packages\\langchain_core\\runnables\\graph_mermaid.py:282\u001b[39m, in \u001b[36mdraw_mermaid_png\u001b[39m\u001b[34m(mermaid_syntax, output_file_path, draw_method, background_color, padding)\u001b[39m\n\u001b[32m    276\u001b[39m     img_bytes = asyncio.run(\n\u001b[32m    277\u001b[39m         _render_mermaid_using_pyppeteer(\n\u001b[32m    278\u001b[39m             mermaid_syntax, output_file_path, background_color, padding\n\u001b[32m    279\u001b[39m         )\n\u001b[32m    280\u001b[39m     )\n\u001b[32m    281\u001b[39m \u001b[38;5;28;01melif\u001b[39;00m draw_method == MermaidDrawMethod.API:\n\u001b[32m--> \u001b[39m\u001b[32m282\u001b[39m     img_bytes = \u001b[43m_render_mermaid_using_api\u001b[49m\u001b[43m(\u001b[49m\n\u001b[32m    283\u001b[39m \u001b[43m        \u001b[49m\u001b[43mmermaid_syntax\u001b[49m\u001b[43m,\u001b[49m\u001b[43m \u001b[49m\u001b[43moutput_file_path\u001b[49m\u001b[43m,\u001b[49m\u001b[43m \u001b[49m\u001b[43mbackground_color\u001b[49m\n\u001b[32m    284\u001b[39m \u001b[43m    \u001b[49m\u001b[43m)\u001b[49m\n\u001b[32m    285\u001b[39m \u001b[38;5;28;01melse\u001b[39;00m:\n\u001b[32m    286\u001b[39m     supported_methods = \u001b[33m\"\u001b[39m\u001b[33m, \u001b[39m\u001b[33m\"\u001b[39m.join([m.value \u001b[38;5;28;01mfor\u001b[39;00m m \u001b[38;5;129;01min\u001b[39;00m MermaidDrawMethod])\n",
      "\u001b[36mFile \u001b[39m\u001b[32mc:\\Users\\Mohan\\anaconda3\\envs\\rag_env\\Lib\\site-packages\\langchain_core\\runnables\\graph_mermaid.py:400\u001b[39m, in \u001b[36m_render_mermaid_using_api\u001b[39m\u001b[34m(mermaid_syntax, output_file_path, background_color, file_type)\u001b[39m\n\u001b[32m    394\u001b[39m         background_color = \u001b[33mf\u001b[39m\u001b[33m\"\u001b[39m\u001b[33m!\u001b[39m\u001b[38;5;132;01m{\u001b[39;00mbackground_color\u001b[38;5;132;01m}\u001b[39;00m\u001b[33m\"\u001b[39m\n\u001b[32m    396\u001b[39m image_url = (\n\u001b[32m    397\u001b[39m     \u001b[33mf\u001b[39m\u001b[33m\"\u001b[39m\u001b[33mhttps://mermaid.ink/img/\u001b[39m\u001b[38;5;132;01m{\u001b[39;00mmermaid_syntax_encoded\u001b[38;5;132;01m}\u001b[39;00m\u001b[33m\"\u001b[39m\n\u001b[32m    398\u001b[39m     \u001b[33mf\u001b[39m\u001b[33m\"\u001b[39m\u001b[33m?type=\u001b[39m\u001b[38;5;132;01m{\u001b[39;00mfile_type\u001b[38;5;132;01m}\u001b[39;00m\u001b[33m&bgColor=\u001b[39m\u001b[38;5;132;01m{\u001b[39;00mbackground_color\u001b[38;5;132;01m}\u001b[39;00m\u001b[33m\"\u001b[39m\n\u001b[32m    399\u001b[39m )\n\u001b[32m--> \u001b[39m\u001b[32m400\u001b[39m response = \u001b[43mrequests\u001b[49m\u001b[43m.\u001b[49m\u001b[43mget\u001b[49m\u001b[43m(\u001b[49m\u001b[43mimage_url\u001b[49m\u001b[43m,\u001b[49m\u001b[43m \u001b[49m\u001b[43mtimeout\u001b[49m\u001b[43m=\u001b[49m\u001b[32;43m10\u001b[39;49m\u001b[43m)\u001b[49m\n\u001b[32m    401\u001b[39m \u001b[38;5;28;01mif\u001b[39;00m response.status_code == \u001b[32m200\u001b[39m:\n\u001b[32m    402\u001b[39m     img_bytes = response.content\n",
      "\u001b[36mFile \u001b[39m\u001b[32mc:\\Users\\Mohan\\anaconda3\\envs\\rag_env\\Lib\\site-packages\\requests\\api.py:73\u001b[39m, in \u001b[36mget\u001b[39m\u001b[34m(url, params, **kwargs)\u001b[39m\n\u001b[32m     62\u001b[39m \u001b[38;5;28;01mdef\u001b[39;00m\u001b[38;5;250m \u001b[39m\u001b[34mget\u001b[39m(url, params=\u001b[38;5;28;01mNone\u001b[39;00m, **kwargs):\n\u001b[32m     63\u001b[39m \u001b[38;5;250m    \u001b[39m\u001b[33mr\u001b[39m\u001b[33;03m\"\"\"Sends a GET request.\u001b[39;00m\n\u001b[32m     64\u001b[39m \n\u001b[32m     65\u001b[39m \u001b[33;03m    :param url: URL for the new :class:`Request` object.\u001b[39;00m\n\u001b[32m   (...)\u001b[39m\u001b[32m     70\u001b[39m \u001b[33;03m    :rtype: requests.Response\u001b[39;00m\n\u001b[32m     71\u001b[39m \u001b[33;03m    \"\"\"\u001b[39;00m\n\u001b[32m---> \u001b[39m\u001b[32m73\u001b[39m     \u001b[38;5;28;01mreturn\u001b[39;00m \u001b[43mrequest\u001b[49m\u001b[43m(\u001b[49m\u001b[33;43m\"\u001b[39;49m\u001b[33;43mget\u001b[39;49m\u001b[33;43m\"\u001b[39;49m\u001b[43m,\u001b[49m\u001b[43m \u001b[49m\u001b[43murl\u001b[49m\u001b[43m,\u001b[49m\u001b[43m \u001b[49m\u001b[43mparams\u001b[49m\u001b[43m=\u001b[49m\u001b[43mparams\u001b[49m\u001b[43m,\u001b[49m\u001b[43m \u001b[49m\u001b[43m*\u001b[49m\u001b[43m*\u001b[49m\u001b[43mkwargs\u001b[49m\u001b[43m)\u001b[49m\n",
      "\u001b[36mFile \u001b[39m\u001b[32mc:\\Users\\Mohan\\anaconda3\\envs\\rag_env\\Lib\\site-packages\\requests\\api.py:59\u001b[39m, in \u001b[36mrequest\u001b[39m\u001b[34m(method, url, **kwargs)\u001b[39m\n\u001b[32m     55\u001b[39m \u001b[38;5;66;03m# By using the 'with' statement we are sure the session is closed, thus we\u001b[39;00m\n\u001b[32m     56\u001b[39m \u001b[38;5;66;03m# avoid leaving sockets open which can trigger a ResourceWarning in some\u001b[39;00m\n\u001b[32m     57\u001b[39m \u001b[38;5;66;03m# cases, and look like a memory leak in others.\u001b[39;00m\n\u001b[32m     58\u001b[39m \u001b[38;5;28;01mwith\u001b[39;00m sessions.Session() \u001b[38;5;28;01mas\u001b[39;00m session:\n\u001b[32m---> \u001b[39m\u001b[32m59\u001b[39m     \u001b[38;5;28;01mreturn\u001b[39;00m \u001b[43msession\u001b[49m\u001b[43m.\u001b[49m\u001b[43mrequest\u001b[49m\u001b[43m(\u001b[49m\u001b[43mmethod\u001b[49m\u001b[43m=\u001b[49m\u001b[43mmethod\u001b[49m\u001b[43m,\u001b[49m\u001b[43m \u001b[49m\u001b[43murl\u001b[49m\u001b[43m=\u001b[49m\u001b[43murl\u001b[49m\u001b[43m,\u001b[49m\u001b[43m \u001b[49m\u001b[43m*\u001b[49m\u001b[43m*\u001b[49m\u001b[43mkwargs\u001b[49m\u001b[43m)\u001b[49m\n",
      "\u001b[36mFile \u001b[39m\u001b[32mc:\\Users\\Mohan\\anaconda3\\envs\\rag_env\\Lib\\site-packages\\requests\\sessions.py:589\u001b[39m, in \u001b[36mSession.request\u001b[39m\u001b[34m(self, method, url, params, data, headers, cookies, files, auth, timeout, allow_redirects, proxies, hooks, stream, verify, cert, json)\u001b[39m\n\u001b[32m    584\u001b[39m send_kwargs = {\n\u001b[32m    585\u001b[39m     \u001b[33m\"\u001b[39m\u001b[33mtimeout\u001b[39m\u001b[33m\"\u001b[39m: timeout,\n\u001b[32m    586\u001b[39m     \u001b[33m\"\u001b[39m\u001b[33mallow_redirects\u001b[39m\u001b[33m\"\u001b[39m: allow_redirects,\n\u001b[32m    587\u001b[39m }\n\u001b[32m    588\u001b[39m send_kwargs.update(settings)\n\u001b[32m--> \u001b[39m\u001b[32m589\u001b[39m resp = \u001b[38;5;28;43mself\u001b[39;49m\u001b[43m.\u001b[49m\u001b[43msend\u001b[49m\u001b[43m(\u001b[49m\u001b[43mprep\u001b[49m\u001b[43m,\u001b[49m\u001b[43m \u001b[49m\u001b[43m*\u001b[49m\u001b[43m*\u001b[49m\u001b[43msend_kwargs\u001b[49m\u001b[43m)\u001b[49m\n\u001b[32m    591\u001b[39m \u001b[38;5;28;01mreturn\u001b[39;00m resp\n",
      "\u001b[36mFile \u001b[39m\u001b[32mc:\\Users\\Mohan\\anaconda3\\envs\\rag_env\\Lib\\site-packages\\requests\\sessions.py:703\u001b[39m, in \u001b[36mSession.send\u001b[39m\u001b[34m(self, request, **kwargs)\u001b[39m\n\u001b[32m    700\u001b[39m start = preferred_clock()\n\u001b[32m    702\u001b[39m \u001b[38;5;66;03m# Send the request\u001b[39;00m\n\u001b[32m--> \u001b[39m\u001b[32m703\u001b[39m r = \u001b[43madapter\u001b[49m\u001b[43m.\u001b[49m\u001b[43msend\u001b[49m\u001b[43m(\u001b[49m\u001b[43mrequest\u001b[49m\u001b[43m,\u001b[49m\u001b[43m \u001b[49m\u001b[43m*\u001b[49m\u001b[43m*\u001b[49m\u001b[43mkwargs\u001b[49m\u001b[43m)\u001b[49m\n\u001b[32m    705\u001b[39m \u001b[38;5;66;03m# Total elapsed time of the request (approximately)\u001b[39;00m\n\u001b[32m    706\u001b[39m elapsed = preferred_clock() - start\n",
      "\u001b[36mFile \u001b[39m\u001b[32mc:\\Users\\Mohan\\anaconda3\\envs\\rag_env\\Lib\\site-packages\\requests\\adapters.py:713\u001b[39m, in \u001b[36mHTTPAdapter.send\u001b[39m\u001b[34m(self, request, stream, timeout, verify, cert, proxies)\u001b[39m\n\u001b[32m    711\u001b[39m     \u001b[38;5;28;01mraise\u001b[39;00m SSLError(e, request=request)\n\u001b[32m    712\u001b[39m \u001b[38;5;28;01melif\u001b[39;00m \u001b[38;5;28misinstance\u001b[39m(e, ReadTimeoutError):\n\u001b[32m--> \u001b[39m\u001b[32m713\u001b[39m     \u001b[38;5;28;01mraise\u001b[39;00m ReadTimeout(e, request=request)\n\u001b[32m    714\u001b[39m \u001b[38;5;28;01melif\u001b[39;00m \u001b[38;5;28misinstance\u001b[39m(e, _InvalidHeader):\n\u001b[32m    715\u001b[39m     \u001b[38;5;28;01mraise\u001b[39;00m InvalidHeader(e, request=request)\n",
      "\u001b[31mReadTimeout\u001b[39m: HTTPSConnectionPool(host='mermaid.ink', port=443): Read timed out. (read timeout=10)"
     ]
    }
   ],
   "source": [
    "\n",
    "from IPython.display import Image, display\n",
    "display(Image(app2.get_graph().draw_mermaid_png()))"
   ]
  },
  {
   "cell_type": "code",
   "execution_count": null,
   "id": "dd4332b7",
   "metadata": {},
   "outputs": [],
   "source": [
    "\n",
    "user_input = \"what is current a capital of india?\"\n",
    "config = {\"configurable\": {\"thread_id\": \"1\"}}"
   ]
  },
  {
   "cell_type": "code",
   "execution_count": null,
   "id": "c0c993d5",
   "metadata": {},
   "outputs": [],
   "source": [
    "events = app2.stream(\n",
    "    {\"messages\": [(\"user\", user_input)]}, config, stream_mode=\"values\"\n",
    ")"
   ]
  },
  {
   "cell_type": "code",
   "execution_count": null,
   "id": "ffd201b3",
   "metadata": {},
   "outputs": [
    {
     "name": "stdout",
     "output_type": "stream",
     "text": [
      "================================\u001b[1m Human Message \u001b[0m=================================\n",
      "\n",
      "what is current a capital of india?\n",
      "==================================\u001b[1m Ai Message \u001b[0m==================================\n",
      "Tool Calls:\n",
      "  tavily_search_results_json (call_tzUUndQ92QRx1LFIfIinEZXR)\n",
      " Call ID: call_tzUUndQ92QRx1LFIfIinEZXR\n",
      "  Args:\n",
      "    query: current capital of India 2023\n"
     ]
    }
   ],
   "source": [
    "for event in events:\n",
    "    if \"messages\" in event:\n",
    "        event[\"messages\"][-1].pretty_print()"
   ]
  },
  {
   "cell_type": "code",
   "execution_count": null,
   "id": "1e8a100a",
   "metadata": {},
   "outputs": [],
   "source": [
    "snapshot = app2.get_state(config)"
   ]
  },
  {
   "cell_type": "code",
   "execution_count": null,
   "id": "ddb097f1",
   "metadata": {},
   "outputs": [
    {
     "data": {
      "text/plain": [
       "('tools',)"
      ]
     },
     "execution_count": 28,
     "metadata": {},
     "output_type": "execute_result"
    }
   ],
   "source": [
    "\n",
    "snapshot.next"
   ]
  },
  {
   "cell_type": "code",
   "execution_count": null,
   "id": "0cea804c",
   "metadata": {},
   "outputs": [],
   "source": [
    "\n",
    "last_message=snapshot.values[\"messages\"][-1]"
   ]
  },
  {
   "cell_type": "code",
   "execution_count": null,
   "id": "44c445d4",
   "metadata": {},
   "outputs": [
    {
     "data": {
      "text/plain": [
       "[{'name': 'tavily_search_results_json',\n",
       "  'args': {'query': 'current capital of India 2023'},\n",
       "  'id': 'call_tzUUndQ92QRx1LFIfIinEZXR',\n",
       "  'type': 'tool_call'}]"
      ]
     },
     "execution_count": 30,
     "metadata": {},
     "output_type": "execute_result"
    }
   ],
   "source": [
    "\n",
    "last_message.tool_calls"
   ]
  },
  {
   "cell_type": "code",
   "execution_count": null,
   "id": "35a273f1",
   "metadata": {},
   "outputs": [],
   "source": [
    "events = app2.stream(None, config, stream_mode=\"values\")"
   ]
  },
  {
   "cell_type": "code",
   "execution_count": null,
   "id": "d4102be6",
   "metadata": {},
   "outputs": [
    {
     "name": "stdout",
     "output_type": "stream",
     "text": [
      "==================================\u001b[1m Ai Message \u001b[0m==================================\n",
      "Tool Calls:\n",
      "  tavily_search_results_json (call_tzUUndQ92QRx1LFIfIinEZXR)\n",
      " Call ID: call_tzUUndQ92QRx1LFIfIinEZXR\n",
      "  Args:\n",
      "    query: current capital of India 2023\n",
      "=================================\u001b[1m Tool Message \u001b[0m=================================\n",
      "Name: tavily_search_results_json\n",
      "\n",
      "[{\"title\": \"States and Capitals of India 2025 PDF in English Download - Guidely\", \"url\": \"https://guidely.in/blog/states-and-capitals-of-india\", \"content\": \"The capital of India is New Delhi. Q. How many union territories are there ... Bundle PDF Course 2023; Ultimate Bundle PDF Course 2022; English Bundle\", \"score\": 0.72907686}, {\"title\": \"States And Capitals Of India 2025, 28 States And 8 Union Territories ...\", \"url\": \"https://pwonlyias.com/states-and-capitals-of-india/\", \"content\": \"The capital of India is New Delhi. India follows a parliamentary form of government.\", \"score\": 0.6271529}, {\"title\": \"What is the capital of India? States and union territories explained.\", \"url\": \"https://www.usatoday.com/story/news/world/2023/05/24/what-is-the-capital-of-india/70195720007/\", \"content\": \"The capital of India is New Delhi, located in the north-central part of the country to the west of the Yamuna River.\", \"score\": 0.6041426}, {\"title\": \"States and Capitals – How Many States in India? - Current Affairs\", \"url\": \"https://currentaffairs.adda247.com/states-and-capitals/\", \"content\": \"The capital of India is New Delhi, which is a union territory. The other union territories are Andaman and Nicobar Islands, Chandigarh, Dadra and Nagar Haveli, Daman and Diu, Jammu and Kashmir, Ladakh, Lakshadweep, and Puducherry. The states and union territories of India are home to a diverse range of cultures, languages, and religions. They are also home to a wide variety of geographical features, from the snow-capped mountains of the Himalayas to the tropical beaches of the Andaman and [...] India is a vast country in South Asia, the 7th largest by land area. It is divided into 28 states and 8 union territories, each with its own capital city. The states and union territories are further subdivided into districts. New Delhi, located in the National Capital Territory of Delhi, serves as the administrative, political, and cultural capital of India. [...] FAQs\\nPresently, how many States and UTs are present in our country?\\nThere are 28 states and 8 Union territories in the country which was in effect from 26th January 2020.\\nWho is the head of the Union Territories of India?\\nLt. Governors & Administrators are considered to be the head of a Union Territories of India.\\nWhat is the official capital of Republic of India?\\nNew Delhi is the official capital of the Republic of India.\\nWhat is the capital of Arunachal Pradesh?\", \"score\": 0.5486983}, {\"title\": \"States and Capitals of India, 28 States and 8 UTs in India (Updated ...\", \"url\": \"https://www.careerpower.in/states-and-capitals-of-india.html\", \"content\": \"Union Territories Name  Capital\\nAndaman and Nicobar Islands Port Blair\\nChandigarh  Chandigarh\\nDadra & Nagar Haveli and Daman & Diu    Daman\\nDelhi   New Delhi\\nJammu and Kashmir   Srinagar (Summer)\\nJammu (Winter)\\nLakshadweep Kavaratti\\nPuducherry  Pondicherry\\nLadakh  Leh\\nAll State's CM & Governor List 2024: Read This Also\\nStates and Capitals of India Map [...] Indian States and their Capitals\\nIndia has a total of 28 states and 8 union territories. Rajasthan is the largest state in India in terms of area and Goa is the smallest state. The complete list of 28 Indian States and their capitals, and founding date are as follows.\\nList of Indian States, Capitals and Formation Date\\nS.No.   State   Capital Formation Date\\n1   Andhra Pradesh  Amaravati   1 November 1956\\n2   Arunachal Pradesh   Itanagar    20 February 1987\\n3   Assam   Dispur  1950 [...] Goa Goa is famous for its beautiful beaches, vibrant nightlife, unique blend of Indian and Portuguese cultures, and seafood cuisine.\\nGujarat Gujarat is renowned for its industrial and business prowess, the Rann of Kutch desert, vibrant festivals like Navaratri and Diwali, and the Sabarmati Ashram associated with Mahatma Gandhi.\\nHaryana Haryana is known for its agricultural productivity, being a hub for industries, and Chandigarh, a well-planned city known for its architecture and urban design.\", \"score\": 0.52568597}]\n",
      "==================================\u001b[1m Ai Message \u001b[0m==================================\n",
      "\n",
      "The current capital of India is New Delhi.\n"
     ]
    }
   ],
   "source": [
    "\n",
    "for event in events:\n",
    "    if \"messages\" in event:\n",
    "        event[\"messages\"][-1].pretty_print()\n",
    "     "
   ]
  },
  {
   "cell_type": "code",
   "execution_count": null,
   "id": "f5541b20",
   "metadata": {},
   "outputs": [],
   "source": [
    "\n",
    "user_input = \"what is a weather there?\"\n",
    "\n",
    "config = {\"configurable\": {\"thread_id\": \"1\"}}"
   ]
  },
  {
   "cell_type": "code",
   "execution_count": null,
   "id": "4af9b036",
   "metadata": {},
   "outputs": [],
   "source": [
    "events = app2.stream(\n",
    "    {\"messages\": [(\"user\", user_input)]}, config, stream_mode=\"values\"\n",
    ")"
   ]
  },
  {
   "cell_type": "code",
   "execution_count": null,
   "id": "e6cf520f",
   "metadata": {},
   "outputs": [
    {
     "name": "stdout",
     "output_type": "stream",
     "text": [
      "================================\u001b[1m Human Message \u001b[0m=================================\n",
      "\n",
      "what is a weather there?\n",
      "==================================\u001b[1m Ai Message \u001b[0m==================================\n",
      "Tool Calls:\n",
      "  tavily_search_results_json (call_YVJ5isRGASuOPihQGWtpjv6R)\n",
      " Call ID: call_YVJ5isRGASuOPihQGWtpjv6R\n",
      "  Args:\n",
      "    query: current weather in New Delhi\n"
     ]
    }
   ],
   "source": [
    "\n",
    "for event in events:\n",
    "    if \"messages\" in event:\n",
    "        event[\"messages\"][-1].pretty_print()\n",
    "     "
   ]
  },
  {
   "cell_type": "code",
   "execution_count": null,
   "id": "33bb3136",
   "metadata": {},
   "outputs": [],
   "source": [
    "\n",
    "snapshot = app2.get_state(config)"
   ]
  },
  {
   "cell_type": "code",
   "execution_count": null,
   "id": "03c8d167",
   "metadata": {},
   "outputs": [
    {
     "data": {
      "text/plain": [
       "('tools',)"
      ]
     },
     "execution_count": 37,
     "metadata": {},
     "output_type": "execute_result"
    }
   ],
   "source": [
    "\n",
    "snapshot.next"
   ]
  },
  {
   "cell_type": "code",
   "execution_count": null,
   "id": "e2896e4d",
   "metadata": {},
   "outputs": [],
   "source": [
    "\n",
    "last_message=snapshot.values[\"messages\"][-1]"
   ]
  },
  {
   "cell_type": "code",
   "execution_count": null,
   "id": "617c3191",
   "metadata": {},
   "outputs": [
    {
     "data": {
      "text/plain": [
       "[{'name': 'tavily_search_results_json',\n",
       "  'args': {'query': 'current weather in New Delhi'},\n",
       "  'id': 'call_YVJ5isRGASuOPihQGWtpjv6R',\n",
       "  'type': 'tool_call'}]"
      ]
     },
     "execution_count": 39,
     "metadata": {},
     "output_type": "execute_result"
    }
   ],
   "source": [
    "last_message.tool_calls"
   ]
  },
  {
   "cell_type": "code",
   "execution_count": null,
   "id": "d3c013b1",
   "metadata": {},
   "outputs": [],
   "source": [
    "events = app2.stream(None, config, stream_mode=\"values\")"
   ]
  },
  {
   "cell_type": "code",
   "execution_count": null,
   "id": "7757566c",
   "metadata": {},
   "outputs": [
    {
     "name": "stdout",
     "output_type": "stream",
     "text": [
      "==================================\u001b[1m Ai Message \u001b[0m==================================\n",
      "Tool Calls:\n",
      "  tavily_search_results_json (call_YVJ5isRGASuOPihQGWtpjv6R)\n",
      " Call ID: call_YVJ5isRGASuOPihQGWtpjv6R\n",
      "  Args:\n",
      "    query: current weather in New Delhi\n",
      "=================================\u001b[1m Tool Message \u001b[0m=================================\n",
      "Name: tavily_search_results_json\n",
      "\n",
      "[{\"title\": \"Weather in New Delhi\", \"url\": \"https://www.weatherapi.com/\", \"content\": \"{'location': {'name': 'New Delhi', 'region': 'Delhi', 'country': 'India', 'lat': 28.6, 'lon': 77.2, 'tz_id': 'Asia/Kolkata', 'localtime_epoch': 1744564799, 'localtime': '2025-04-13 22:49'}, 'current': {'last_updated_epoch': 1744564500, 'last_updated': '2025-04-13 22:45', 'temp_c': 27.3, 'temp_f': 81.1, 'is_day': 0, 'condition': {'text': 'Mist', 'icon': '//cdn.weatherapi.com/weather/64x64/night/143.png', 'code': 1030}, 'wind_mph': 3.4, 'wind_kph': 5.4, 'wind_degree': 99, 'wind_dir': 'E', 'pressure_mb': 1009.0, 'pressure_in': 29.8, 'precip_mm': 0.0, 'precip_in': 0.0, 'humidity': 42, 'cloud': 0, 'feelslike_c': 25.8, 'feelslike_f': 78.5, 'windchill_c': 31.9, 'windchill_f': 89.4, 'heatindex_c': 30.2, 'heatindex_f': 86.3, 'dewpoint_c': 8.8, 'dewpoint_f': 47.8, 'vis_km': 4.0, 'vis_miles': 2.0, 'uv': 0.0, 'gust_mph': 5.5, 'gust_kph': 8.8}}\", \"score\": 0.9337623}, {\"title\": \"new delhi Weather Forecast 13 Apr 2025 - Times of India\", \"url\": \"https://timesofindia.indiatimes.com/weather/new-delhi-weather-forecast-today/110011\", \"content\": \"Today's Weather in New Delhi: In New Delhi today, the weather is expected to be Haze with a maximum temperature of 34°C and a minimum of 24°C. Sunrise in\", \"score\": 0.93265617}, {\"title\": \"Weather New Delhi in April 2025: Temperature & Climate\", \"url\": \"https://en.climate-data.org/asia/india/delhi/new-delhi-30/t/april-4/\", \"content\": \"Are you planning a holiday with hopefully nice weather in New Delhi in April 2025? ... 13. April, 28 °C | 83 °F, 36 °C | 97 °F, 20 °C | 69 °F, 2.1 mm | 0.1 inch.\", \"score\": 0.92857105}, {\"title\": \"Delhi weather in April 2025 | Delhi 14 day weather - Weather25.com\", \"url\": \"https://www.weather25.com/asia/india/delhi?page=month&month=April\", \"content\": \"Location was added to My Locations\\nLocation was removed from My Locations\\nMarch\\nMay\\nDelhi weather in April 2025\\nThe temperatures in Delhi during April are extremely high, between 27°C and hot as 39°C, drinking water regularly is advisable.\\nYou can expect a few rainy days in Delhi during April, but usually the weather is comfortable in April.\\nOur weather forecast can give you a great sense of what weather to expect in Delhi in April 2025. [...] | Sun | Mon | Tue | Wed | Thu | Fri | Sat |\\n| --- | --- | --- | --- | --- | --- | --- |\\n| \\n | \\n| 1  37° /23° | 2  37° /23° | 3  40° /25° | 4  39° /25° | 5  40° /26° |\\n| 6  40° /25° | 7  40° /26° | 8  40° /26° | 9  40° /26° | 10  41° /27° | 11  41° /28° | 12  41° /28° |\\n| 13  42° /29° | 14  41° /30° | 15  40° /30° | 16  40° /28° | 17  41° /26° | 18  43° /29° | 19  41° /29° |\\n| 20  39° /28° | 21  39° /28° | 22  40° /27° | 23  41° /28° | 24  40° /28° | 25  41° /28° | 26  42° /30° | [...] | Delhi in January |\\n| February | 26° / 14° | 2 | 27 | 0 | 21 mm | \\nPerfect\\n| Delhi in February |\\n| March | 33° / 20° | 2 | 29 | 0 | 18 mm | \\nGood\\n| Delhi in March |\\n| April | 39° / 27° | 1 | 29 | 0 | 15 mm | \\nBad\\n| Delhi in April |\\n| May | 43° / 32° | 1 | 30 | 0 | 17 mm | \\nAwful\\n| Delhi in May |\\n| June | 43° / 34° | 2 | 28 | 0 | 62 mm | \\nAwful\\n| Delhi in June |\\n| July | 38° / 31° | 10 | 21 | 0 | 253 mm | \\nAwful\\n| Delhi in July |\\n| August | 36° / 29° | 9 | 22 | 0 | 242 mm | \\nBad\", \"score\": 0.8335554}, {\"title\": \"New Delhi weather in April 2025 | India: How hot?\", \"url\": \"https://www.weather2travel.com/india/new-delhi/april/\", \"content\": \"21°C min night temperature. 13 hours of daylight per day in April in New Delhi 13. 13 hours of daylight per day. Very high heat & humidity in April in New Delhi\", \"score\": 0.8302782}]\n",
      "==================================\u001b[1m Ai Message \u001b[0m==================================\n",
      "\n",
      "The current weather in New Delhi is misty with a temperature of around 27.3°C (81.1°F). The humidity is 42%, and the wind is blowing from the east at a speed of 5.4 kph (3.4 mph). The visibility is approximately 4 km (2 miles).\n"
     ]
    }
   ],
   "source": [
    "\n",
    "for event in events:\n",
    "    if \"messages\" in event:\n",
    "        event[\"messages\"][-1].pretty_print()"
   ]
  },
  {
   "cell_type": "code",
   "execution_count": null,
   "id": "1d0e0d2a",
   "metadata": {},
   "outputs": [
    {
     "data": {
      "text/plain": [
       "StateSnapshot(values={'messages': [HumanMessage(content='what is current a capital of india?', additional_kwargs={}, response_metadata={}, id='04274344-1659-47a8-9656-caaba03d9839'), AIMessage(content='', additional_kwargs={'tool_calls': [{'id': 'call_tzUUndQ92QRx1LFIfIinEZXR', 'function': {'arguments': '{\"query\":\"current capital of India 2023\"}', 'name': 'tavily_search_results_json'}, 'type': 'function'}], 'refusal': None}, response_metadata={'token_usage': {'completion_tokens': 25, 'prompt_tokens': 87, 'total_tokens': 112, 'completion_tokens_details': {'accepted_prediction_tokens': 0, 'audio_tokens': 0, 'reasoning_tokens': 0, 'rejected_prediction_tokens': 0}, 'prompt_tokens_details': {'audio_tokens': 0, 'cached_tokens': 0}}, 'model_name': 'gpt-4o-2024-08-06', 'system_fingerprint': 'fp_92f14e8683', 'finish_reason': 'tool_calls', 'logprobs': None}, id='run-b2e91930-4426-47df-9bb0-102239f15a47-0', tool_calls=[{'name': 'tavily_search_results_json', 'args': {'query': 'current capital of India 2023'}, 'id': 'call_tzUUndQ92QRx1LFIfIinEZXR', 'type': 'tool_call'}], usage_metadata={'input_tokens': 87, 'output_tokens': 25, 'total_tokens': 112, 'input_token_details': {'audio': 0, 'cache_read': 0}, 'output_token_details': {'audio': 0, 'reasoning': 0}}), ToolMessage(content='[{\"title\": \"States and Capitals of India 2025 PDF in English Download - Guidely\", \"url\": \"https://guidely.in/blog/states-and-capitals-of-india\", \"content\": \"The capital of India is New Delhi. Q. How many union territories are there ... Bundle PDF Course 2023; Ultimate Bundle PDF Course 2022; English Bundle\", \"score\": 0.72907686}, {\"title\": \"States And Capitals Of India 2025, 28 States And 8 Union Territories ...\", \"url\": \"https://pwonlyias.com/states-and-capitals-of-india/\", \"content\": \"The capital of India is New Delhi. India follows a parliamentary form of government.\", \"score\": 0.6271529}, {\"title\": \"What is the capital of India? States and union territories explained.\", \"url\": \"https://www.usatoday.com/story/news/world/2023/05/24/what-is-the-capital-of-india/70195720007/\", \"content\": \"The capital of India is New Delhi, located in the north-central part of the country to the west of the Yamuna River.\", \"score\": 0.6041426}, {\"title\": \"States and Capitals – How Many States in India? - Current Affairs\", \"url\": \"https://currentaffairs.adda247.com/states-and-capitals/\", \"content\": \"The capital of India is New Delhi, which is a union territory. The other union territories are Andaman and Nicobar Islands, Chandigarh, Dadra and Nagar Haveli, Daman and Diu, Jammu and Kashmir, Ladakh, Lakshadweep, and Puducherry. The states and union territories of India are home to a diverse range of cultures, languages, and religions. They are also home to a wide variety of geographical features, from the snow-capped mountains of the Himalayas to the tropical beaches of the Andaman and [...] India is a vast country in South Asia, the 7th largest by land area. It is divided into 28 states and 8 union territories, each with its own capital city. The states and union territories are further subdivided into districts. New Delhi, located in the National Capital Territory of Delhi, serves as the administrative, political, and cultural capital of India. [...] FAQs\\\\nPresently, how many States and UTs are present in our country?\\\\nThere are 28 states and 8 Union territories in the country which was in effect from 26th January 2020.\\\\nWho is the head of the Union Territories of India?\\\\nLt. Governors & Administrators are considered to be the head of a Union Territories of India.\\\\nWhat is the official capital of Republic of India?\\\\nNew Delhi is the official capital of the Republic of India.\\\\nWhat is the capital of Arunachal Pradesh?\", \"score\": 0.5486983}, {\"title\": \"States and Capitals of India, 28 States and 8 UTs in India (Updated ...\", \"url\": \"https://www.careerpower.in/states-and-capitals-of-india.html\", \"content\": \"Union Territories Name  Capital\\\\nAndaman and Nicobar Islands Port Blair\\\\nChandigarh  Chandigarh\\\\nDadra & Nagar Haveli and Daman & Diu    Daman\\\\nDelhi   New Delhi\\\\nJammu and Kashmir   Srinagar (Summer)\\\\nJammu (Winter)\\\\nLakshadweep Kavaratti\\\\nPuducherry  Pondicherry\\\\nLadakh  Leh\\\\nAll State\\'s CM & Governor List 2024: Read This Also\\\\nStates and Capitals of India Map [...] Indian States and their Capitals\\\\nIndia has a total of 28 states and 8 union territories. Rajasthan is the largest state in India in terms of area and Goa is the smallest state. The complete list of 28 Indian States and their capitals, and founding date are as follows.\\\\nList of Indian States, Capitals and Formation Date\\\\nS.No.   State   Capital Formation Date\\\\n1   Andhra Pradesh  Amaravati   1 November 1956\\\\n2   Arunachal Pradesh   Itanagar    20 February 1987\\\\n3   Assam   Dispur  1950 [...] Goa Goa is famous for its beautiful beaches, vibrant nightlife, unique blend of Indian and Portuguese cultures, and seafood cuisine.\\\\nGujarat Gujarat is renowned for its industrial and business prowess, the Rann of Kutch desert, vibrant festivals like Navaratri and Diwali, and the Sabarmati Ashram associated with Mahatma Gandhi.\\\\nHaryana Haryana is known for its agricultural productivity, being a hub for industries, and Chandigarh, a well-planned city known for its architecture and urban design.\", \"score\": 0.52568597}]', name='tavily_search_results_json', id='50f63933-edc5-4864-8c89-41a71463855e', tool_call_id='call_tzUUndQ92QRx1LFIfIinEZXR', artifact={'query': 'current capital of India 2023', 'follow_up_questions': None, 'answer': None, 'images': [], 'results': [{'url': 'https://guidely.in/blog/states-and-capitals-of-india', 'title': 'States and Capitals of India 2025 PDF in English Download - Guidely', 'content': 'The capital of India is New Delhi. Q. How many union territories are there ... Bundle PDF Course 2023; Ultimate Bundle PDF Course 2022; English Bundle', 'score': 0.72907686, 'raw_content': None}, {'url': 'https://pwonlyias.com/states-and-capitals-of-india/', 'title': 'States And Capitals Of India 2025, 28 States And 8 Union Territories ...', 'content': 'The capital of India is New Delhi. India follows a parliamentary form of government.', 'score': 0.6271529, 'raw_content': None}, {'url': 'https://www.usatoday.com/story/news/world/2023/05/24/what-is-the-capital-of-india/70195720007/', 'title': 'What is the capital of India? States and union territories explained.', 'content': 'The capital of India is New Delhi, located in the north-central part of the country to the west of the Yamuna River.', 'score': 0.6041426, 'raw_content': None}, {'url': 'https://currentaffairs.adda247.com/states-and-capitals/', 'title': 'States and Capitals – How Many States in India? - Current Affairs', 'content': 'The capital of India is New Delhi, which is a union territory. The other union territories are Andaman and Nicobar Islands, Chandigarh, Dadra and Nagar Haveli, Daman and Diu, Jammu and Kashmir, Ladakh, Lakshadweep, and Puducherry. The states and union territories of India are home to a diverse range of cultures, languages, and religions. They are also home to a wide variety of geographical features, from the snow-capped mountains of the Himalayas to the tropical beaches of the Andaman and [...] India is a vast country in South Asia, the 7th largest by land area. It is divided into 28 states and 8 union territories, each with its own capital city. The states and union territories are further subdivided into districts. New Delhi, located in the National Capital Territory of Delhi, serves as the administrative, political, and cultural capital of India. [...] FAQs\\nPresently, how many States and UTs are present in our country?\\nThere are 28 states and 8 Union territories in the country which was in effect from 26th January 2020.\\nWho is the head of the Union Territories of India?\\nLt. Governors & Administrators are considered to be the head of a Union Territories of India.\\nWhat is the official capital of Republic of India?\\nNew Delhi is the official capital of the Republic of India.\\nWhat is the capital of Arunachal Pradesh?', 'score': 0.5486983, 'raw_content': None}, {'url': 'https://www.careerpower.in/states-and-capitals-of-india.html', 'title': 'States and Capitals of India, 28 States and 8 UTs in India (Updated ...', 'content': \"Union Territories Name  Capital\\nAndaman and Nicobar Islands Port Blair\\nChandigarh  Chandigarh\\nDadra & Nagar Haveli and Daman & Diu    Daman\\nDelhi   New Delhi\\nJammu and Kashmir   Srinagar (Summer)\\nJammu (Winter)\\nLakshadweep Kavaratti\\nPuducherry  Pondicherry\\nLadakh  Leh\\nAll State's CM & Governor List 2024: Read This Also\\nStates and Capitals of India Map [...] Indian States and their Capitals\\nIndia has a total of 28 states and 8 union territories. Rajasthan is the largest state in India in terms of area and Goa is the smallest state. The complete list of 28 Indian States and their capitals, and founding date are as follows.\\nList of Indian States, Capitals and Formation Date\\nS.No.   State   Capital Formation Date\\n1   Andhra Pradesh  Amaravati   1 November 1956\\n2   Arunachal Pradesh   Itanagar    20 February 1987\\n3   Assam   Dispur  1950 [...] Goa Goa is famous for its beautiful beaches, vibrant nightlife, unique blend of Indian and Portuguese cultures, and seafood cuisine.\\nGujarat Gujarat is renowned for its industrial and business prowess, the Rann of Kutch desert, vibrant festivals like Navaratri and Diwali, and the Sabarmati Ashram associated with Mahatma Gandhi.\\nHaryana Haryana is known for its agricultural productivity, being a hub for industries, and Chandigarh, a well-planned city known for its architecture and urban design.\", 'score': 0.52568597, 'raw_content': None}], 'response_time': 1.83}), AIMessage(content='The current capital of India is New Delhi.', additional_kwargs={'refusal': None}, response_metadata={'token_usage': {'completion_tokens': 11, 'prompt_tokens': 1111, 'total_tokens': 1122, 'completion_tokens_details': {'accepted_prediction_tokens': 0, 'audio_tokens': 0, 'reasoning_tokens': 0, 'rejected_prediction_tokens': 0}, 'prompt_tokens_details': {'audio_tokens': 0, 'cached_tokens': 0}}, 'model_name': 'gpt-4o-2024-08-06', 'system_fingerprint': 'fp_92f14e8683', 'finish_reason': 'stop', 'logprobs': None}, id='run-9c424a08-1938-4baf-a3ad-6a8667f45ad8-0', usage_metadata={'input_tokens': 1111, 'output_tokens': 11, 'total_tokens': 1122, 'input_token_details': {'audio': 0, 'cache_read': 0}, 'output_token_details': {'audio': 0, 'reasoning': 0}}), HumanMessage(content='what is a weather there?', additional_kwargs={}, response_metadata={}, id='02001e0b-a3be-43d0-868d-ada538c681f6'), AIMessage(content='', additional_kwargs={'tool_calls': [{'id': 'call_YVJ5isRGASuOPihQGWtpjv6R', 'function': {'arguments': '{\"query\":\"current weather in New Delhi\"}', 'name': 'tavily_search_results_json'}, 'type': 'function'}], 'refusal': None}, response_metadata={'token_usage': {'completion_tokens': 23, 'prompt_tokens': 1134, 'total_tokens': 1157, 'completion_tokens_details': {'accepted_prediction_tokens': 0, 'audio_tokens': 0, 'reasoning_tokens': 0, 'rejected_prediction_tokens': 0}, 'prompt_tokens_details': {'audio_tokens': 0, 'cached_tokens': 1024}}, 'model_name': 'gpt-4o-2024-08-06', 'system_fingerprint': 'fp_92f14e8683', 'finish_reason': 'tool_calls', 'logprobs': None}, id='run-8e2f90fa-e4b3-436c-b4e4-1271a69ff0fb-0', tool_calls=[{'name': 'tavily_search_results_json', 'args': {'query': 'current weather in New Delhi'}, 'id': 'call_YVJ5isRGASuOPihQGWtpjv6R', 'type': 'tool_call'}], usage_metadata={'input_tokens': 1134, 'output_tokens': 23, 'total_tokens': 1157, 'input_token_details': {'audio': 0, 'cache_read': 1024}, 'output_token_details': {'audio': 0, 'reasoning': 0}}), ToolMessage(content='[{\"title\": \"Weather in New Delhi\", \"url\": \"https://www.weatherapi.com/\", \"content\": \"{\\'location\\': {\\'name\\': \\'New Delhi\\', \\'region\\': \\'Delhi\\', \\'country\\': \\'India\\', \\'lat\\': 28.6, \\'lon\\': 77.2, \\'tz_id\\': \\'Asia/Kolkata\\', \\'localtime_epoch\\': 1744564799, \\'localtime\\': \\'2025-04-13 22:49\\'}, \\'current\\': {\\'last_updated_epoch\\': 1744564500, \\'last_updated\\': \\'2025-04-13 22:45\\', \\'temp_c\\': 27.3, \\'temp_f\\': 81.1, \\'is_day\\': 0, \\'condition\\': {\\'text\\': \\'Mist\\', \\'icon\\': \\'//cdn.weatherapi.com/weather/64x64/night/143.png\\', \\'code\\': 1030}, \\'wind_mph\\': 3.4, \\'wind_kph\\': 5.4, \\'wind_degree\\': 99, \\'wind_dir\\': \\'E\\', \\'pressure_mb\\': 1009.0, \\'pressure_in\\': 29.8, \\'precip_mm\\': 0.0, \\'precip_in\\': 0.0, \\'humidity\\': 42, \\'cloud\\': 0, \\'feelslike_c\\': 25.8, \\'feelslike_f\\': 78.5, \\'windchill_c\\': 31.9, \\'windchill_f\\': 89.4, \\'heatindex_c\\': 30.2, \\'heatindex_f\\': 86.3, \\'dewpoint_c\\': 8.8, \\'dewpoint_f\\': 47.8, \\'vis_km\\': 4.0, \\'vis_miles\\': 2.0, \\'uv\\': 0.0, \\'gust_mph\\': 5.5, \\'gust_kph\\': 8.8}}\", \"score\": 0.9337623}, {\"title\": \"new delhi Weather Forecast 13 Apr 2025 - Times of India\", \"url\": \"https://timesofindia.indiatimes.com/weather/new-delhi-weather-forecast-today/110011\", \"content\": \"Today\\'s Weather in New Delhi: In New Delhi today, the weather is expected to be Haze with a maximum temperature of 34°C and a minimum of 24°C. Sunrise in\", \"score\": 0.93265617}, {\"title\": \"Weather New Delhi in April 2025: Temperature & Climate\", \"url\": \"https://en.climate-data.org/asia/india/delhi/new-delhi-30/t/april-4/\", \"content\": \"Are you planning a holiday with hopefully nice weather in New Delhi in April 2025? ... 13. April, 28 °C | 83 °F, 36 °C | 97 °F, 20 °C | 69 °F, 2.1 mm | 0.1 inch.\", \"score\": 0.92857105}, {\"title\": \"Delhi weather in April 2025 | Delhi 14 day weather - Weather25.com\", \"url\": \"https://www.weather25.com/asia/india/delhi?page=month&month=April\", \"content\": \"Location was added to My Locations\\\\nLocation was removed from My Locations\\\\nMarch\\\\nMay\\\\nDelhi weather in April 2025\\\\nThe temperatures in Delhi during April are extremely high, between 27°C and hot as 39°C, drinking water regularly is advisable.\\\\nYou can expect a few rainy days in Delhi during April, but usually the weather is comfortable in April.\\\\nOur weather forecast can give you a great sense of what weather to expect in Delhi in April 2025. [...] | Sun | Mon | Tue | Wed | Thu | Fri | Sat |\\\\n| --- | --- | --- | --- | --- | --- | --- |\\\\n| \\\\n | \\\\n| 1  37° /23° | 2  37° /23° | 3  40° /25° | 4  39° /25° | 5  40° /26° |\\\\n| 6  40° /25° | 7  40° /26° | 8  40° /26° | 9  40° /26° | 10  41° /27° | 11  41° /28° | 12  41° /28° |\\\\n| 13  42° /29° | 14  41° /30° | 15  40° /30° | 16  40° /28° | 17  41° /26° | 18  43° /29° | 19  41° /29° |\\\\n| 20  39° /28° | 21  39° /28° | 22  40° /27° | 23  41° /28° | 24  40° /28° | 25  41° /28° | 26  42° /30° | [...] | Delhi in January |\\\\n| February | 26° / 14° | 2 | 27 | 0 | 21 mm | \\\\nPerfect\\\\n| Delhi in February |\\\\n| March | 33° / 20° | 2 | 29 | 0 | 18 mm | \\\\nGood\\\\n| Delhi in March |\\\\n| April | 39° / 27° | 1 | 29 | 0 | 15 mm | \\\\nBad\\\\n| Delhi in April |\\\\n| May | 43° / 32° | 1 | 30 | 0 | 17 mm | \\\\nAwful\\\\n| Delhi in May |\\\\n| June | 43° / 34° | 2 | 28 | 0 | 62 mm | \\\\nAwful\\\\n| Delhi in June |\\\\n| July | 38° / 31° | 10 | 21 | 0 | 253 mm | \\\\nAwful\\\\n| Delhi in July |\\\\n| August | 36° / 29° | 9 | 22 | 0 | 242 mm | \\\\nBad\", \"score\": 0.8335554}, {\"title\": \"New Delhi weather in April 2025 | India: How hot?\", \"url\": \"https://www.weather2travel.com/india/new-delhi/april/\", \"content\": \"21°C min night temperature. 13 hours of daylight per day in April in New Delhi 13. 13 hours of daylight per day. Very high heat & humidity in April in New Delhi\", \"score\": 0.8302782}]', name='tavily_search_results_json', id='eaa1dbd5-64aa-4afa-951f-eb5f0224dd5e', tool_call_id='call_YVJ5isRGASuOPihQGWtpjv6R', artifact={'query': 'current weather in New Delhi', 'follow_up_questions': None, 'answer': None, 'images': [], 'results': [{'title': 'Weather in New Delhi', 'url': 'https://www.weatherapi.com/', 'content': \"{'location': {'name': 'New Delhi', 'region': 'Delhi', 'country': 'India', 'lat': 28.6, 'lon': 77.2, 'tz_id': 'Asia/Kolkata', 'localtime_epoch': 1744564799, 'localtime': '2025-04-13 22:49'}, 'current': {'last_updated_epoch': 1744564500, 'last_updated': '2025-04-13 22:45', 'temp_c': 27.3, 'temp_f': 81.1, 'is_day': 0, 'condition': {'text': 'Mist', 'icon': '//cdn.weatherapi.com/weather/64x64/night/143.png', 'code': 1030}, 'wind_mph': 3.4, 'wind_kph': 5.4, 'wind_degree': 99, 'wind_dir': 'E', 'pressure_mb': 1009.0, 'pressure_in': 29.8, 'precip_mm': 0.0, 'precip_in': 0.0, 'humidity': 42, 'cloud': 0, 'feelslike_c': 25.8, 'feelslike_f': 78.5, 'windchill_c': 31.9, 'windchill_f': 89.4, 'heatindex_c': 30.2, 'heatindex_f': 86.3, 'dewpoint_c': 8.8, 'dewpoint_f': 47.8, 'vis_km': 4.0, 'vis_miles': 2.0, 'uv': 0.0, 'gust_mph': 5.5, 'gust_kph': 8.8}}\", 'score': 0.9337623, 'raw_content': None}, {'url': 'https://timesofindia.indiatimes.com/weather/new-delhi-weather-forecast-today/110011', 'title': 'new delhi Weather Forecast 13 Apr 2025 - Times of India', 'content': \"Today's Weather in New Delhi: In New Delhi today, the weather is expected to be Haze with a maximum temperature of 34°C and a minimum of 24°C. Sunrise in\", 'score': 0.93265617, 'raw_content': None}, {'url': 'https://en.climate-data.org/asia/india/delhi/new-delhi-30/t/april-4/', 'title': 'Weather New Delhi in April 2025: Temperature & Climate', 'content': 'Are you planning a holiday with hopefully nice weather in New Delhi in April 2025? ... 13. April, 28 °C | 83 °F, 36 °C | 97 °F, 20 °C | 69 °F, 2.1 mm | 0.1 inch.', 'score': 0.92857105, 'raw_content': None}, {'url': 'https://www.weather25.com/asia/india/delhi?page=month&month=April', 'title': 'Delhi weather in April 2025 | Delhi 14 day weather - Weather25.com', 'content': 'Location was added to My Locations\\nLocation was removed from My Locations\\nMarch\\nMay\\nDelhi weather in April 2025\\nThe temperatures in Delhi during April are extremely high, between 27°C and hot as 39°C, drinking water regularly is advisable.\\nYou can expect a few rainy days in Delhi during April, but usually the weather is comfortable in April.\\nOur weather forecast can give you a great sense of what weather to expect in Delhi in April 2025. [...] | Sun | Mon | Tue | Wed | Thu | Fri | Sat |\\n| --- | --- | --- | --- | --- | --- | --- |\\n| \\n | \\n| 1  37° /23° | 2  37° /23° | 3  40° /25° | 4  39° /25° | 5  40° /26° |\\n| 6  40° /25° | 7  40° /26° | 8  40° /26° | 9  40° /26° | 10  41° /27° | 11  41° /28° | 12  41° /28° |\\n| 13  42° /29° | 14  41° /30° | 15  40° /30° | 16  40° /28° | 17  41° /26° | 18  43° /29° | 19  41° /29° |\\n| 20  39° /28° | 21  39° /28° | 22  40° /27° | 23  41° /28° | 24  40° /28° | 25  41° /28° | 26  42° /30° | [...] | Delhi in January |\\n| February | 26° / 14° | 2 | 27 | 0 | 21 mm | \\nPerfect\\n| Delhi in February |\\n| March | 33° / 20° | 2 | 29 | 0 | 18 mm | \\nGood\\n| Delhi in March |\\n| April | 39° / 27° | 1 | 29 | 0 | 15 mm | \\nBad\\n| Delhi in April |\\n| May | 43° / 32° | 1 | 30 | 0 | 17 mm | \\nAwful\\n| Delhi in May |\\n| June | 43° / 34° | 2 | 28 | 0 | 62 mm | \\nAwful\\n| Delhi in June |\\n| July | 38° / 31° | 10 | 21 | 0 | 253 mm | \\nAwful\\n| Delhi in July |\\n| August | 36° / 29° | 9 | 22 | 0 | 242 mm | \\nBad', 'score': 0.8335554, 'raw_content': None}, {'url': 'https://www.weather2travel.com/india/new-delhi/april/', 'title': 'New Delhi weather in April 2025 | India: How hot?', 'content': '21°C min night temperature. 13 hours of daylight per day in April in New Delhi 13. 13 hours of daylight per day. Very high heat & humidity in April in New Delhi', 'score': 0.8302782, 'raw_content': None}], 'response_time': 3.8}), AIMessage(content='The current weather in New Delhi is misty with a temperature of around 27.3°C (81.1°F). The humidity is 42%, and the wind is blowing from the east at a speed of 5.4 kph (3.4 mph). The visibility is approximately 4 km (2 miles).', additional_kwargs={'refusal': None}, response_metadata={'token_usage': {'completion_tokens': 68, 'prompt_tokens': 2608, 'total_tokens': 2676, 'completion_tokens_details': {'accepted_prediction_tokens': 0, 'audio_tokens': 0, 'reasoning_tokens': 0, 'rejected_prediction_tokens': 0}, 'prompt_tokens_details': {'audio_tokens': 0, 'cached_tokens': 0}}, 'model_name': 'gpt-4o-2024-08-06', 'system_fingerprint': 'fp_92f14e8683', 'finish_reason': 'stop', 'logprobs': None}, id='run-629f3032-b842-4ff7-8a4e-8f564fc8f93c-0', usage_metadata={'input_tokens': 2608, 'output_tokens': 68, 'total_tokens': 2676, 'input_token_details': {'audio': 0, 'cache_read': 0}, 'output_token_details': {'audio': 0, 'reasoning': 0}})]}, next=(), config={'configurable': {'thread_id': '1', 'checkpoint_ns': '', 'checkpoint_id': '1f0188b8-b2ae-68a5-8008-9baf05f8b9cb'}}, metadata={'source': 'loop', 'writes': {'ai_assistant': {'messages': [AIMessage(content='The current weather in New Delhi is misty with a temperature of around 27.3°C (81.1°F). The humidity is 42%, and the wind is blowing from the east at a speed of 5.4 kph (3.4 mph). The visibility is approximately 4 km (2 miles).', additional_kwargs={'refusal': None}, response_metadata={'token_usage': {'completion_tokens': 68, 'prompt_tokens': 2608, 'total_tokens': 2676, 'completion_tokens_details': {'accepted_prediction_tokens': 0, 'audio_tokens': 0, 'reasoning_tokens': 0, 'rejected_prediction_tokens': 0}, 'prompt_tokens_details': {'audio_tokens': 0, 'cached_tokens': 0}}, 'model_name': 'gpt-4o-2024-08-06', 'system_fingerprint': 'fp_92f14e8683', 'finish_reason': 'stop', 'logprobs': None}, id='run-629f3032-b842-4ff7-8a4e-8f564fc8f93c-0', usage_metadata={'input_tokens': 2608, 'output_tokens': 68, 'total_tokens': 2676, 'input_token_details': {'audio': 0, 'cache_read': 0}, 'output_token_details': {'audio': 0, 'reasoning': 0}})]}}, 'step': 8, 'parents': {}, 'thread_id': '1'}, created_at='2025-04-13T17:20:06.285123+00:00', parent_config={'configurable': {'thread_id': '1', 'checkpoint_ns': '', 'checkpoint_id': '1f0188b8-9fe6-6e3d-8007-3bdf1b1e1b71'}}, tasks=())"
      ]
     },
     "execution_count": 42,
     "metadata": {},
     "output_type": "execute_result"
    }
   ],
   "source": [
    "\n",
    "app2.get_state(config)"
   ]
  },
  {
   "cell_type": "code",
   "execution_count": null,
   "id": "db5ee0b0",
   "metadata": {},
   "outputs": [],
   "source": [
    "\n",
    "snapshot=app2.get_state(config)\n",
    "     "
   ]
  },
  {
   "cell_type": "code",
   "execution_count": null,
   "id": "f196a47a",
   "metadata": {},
   "outputs": [
    {
     "data": {
      "text/plain": [
       "()"
      ]
     },
     "execution_count": 44,
     "metadata": {},
     "output_type": "execute_result"
    }
   ],
   "source": [
    "\n",
    "snapshot.next"
   ]
  },
  {
   "cell_type": "code",
   "execution_count": null,
   "id": "e52e6508",
   "metadata": {},
   "outputs": [],
   "source": [
    "\n",
    "user_input = \"give me the recent news there?\"\n",
    "\n",
    "config = {\"configurable\": {\"thread_id\": \"1\"}}"
   ]
  },
  {
   "cell_type": "code",
   "execution_count": null,
   "id": "207c2aa2",
   "metadata": {},
   "outputs": [],
   "source": [
    "events = app2.stream(\n",
    "    {\"messages\": [(\"user\", user_input)]}, config, stream_mode=\"values\"\n",
    ")"
   ]
  },
  {
   "cell_type": "code",
   "execution_count": null,
   "id": "ff52e54d",
   "metadata": {},
   "outputs": [
    {
     "name": "stdout",
     "output_type": "stream",
     "text": [
      "================================\u001b[1m Human Message \u001b[0m=================================\n",
      "\n",
      "give me the recent news there?\n",
      "==================================\u001b[1m Ai Message \u001b[0m==================================\n",
      "Tool Calls:\n",
      "  tavily_search_results_json (call_1nPtpDj8Hs8iZo59wIz4RWCz)\n",
      " Call ID: call_1nPtpDj8Hs8iZo59wIz4RWCz\n",
      "  Args:\n",
      "    query: recent news in New Delhi\n"
     ]
    }
   ],
   "source": [
    "\n",
    "for event in events:\n",
    "    if \"messages\" in event:\n",
    "        event[\"messages\"][-1].pretty_print()"
   ]
  },
  {
   "cell_type": "code",
   "execution_count": null,
   "id": "1e2538e2",
   "metadata": {},
   "outputs": [],
   "source": [
    "\n",
    "snapshot=app2.get_state(config)"
   ]
  },
  {
   "cell_type": "code",
   "execution_count": null,
   "id": "961d4c6c",
   "metadata": {},
   "outputs": [
    {
     "data": {
      "text/plain": [
       "('tools',)"
      ]
     },
     "execution_count": 50,
     "metadata": {},
     "output_type": "execute_result"
    }
   ],
   "source": [
    "snapshot.next"
   ]
  },
  {
   "cell_type": "code",
   "execution_count": null,
   "id": "23b97f53",
   "metadata": {},
   "outputs": [],
   "source": [
    "\n",
    "current_message = snapshot.values[\"messages\"][-1]"
   ]
  },
  {
   "cell_type": "code",
   "execution_count": null,
   "id": "f2cd8236",
   "metadata": {},
   "outputs": [
    {
     "name": "stdout",
     "output_type": "stream",
     "text": [
      "==================================\u001b[1m Ai Message \u001b[0m==================================\n",
      "Tool Calls:\n",
      "  tavily_search_results_json (call_1nPtpDj8Hs8iZo59wIz4RWCz)\n",
      " Call ID: call_1nPtpDj8Hs8iZo59wIz4RWCz\n",
      "  Args:\n",
      "    query: recent news in New Delhi\n"
     ]
    }
   ],
   "source": [
    "current_message.pretty_print()"
   ]
  },
  {
   "cell_type": "code",
   "execution_count": null,
   "id": "b7081b51",
   "metadata": {},
   "outputs": [],
   "source": [
    "tool_call_id = current_message.tool_calls[0][\"id\"] "
   ]
  },
  {
   "cell_type": "code",
   "execution_count": null,
   "id": "36a64b83",
   "metadata": {},
   "outputs": [
    {
     "data": {
      "text/plain": [
       "'call_1nPtpDj8Hs8iZo59wIz4RWCz'"
      ]
     },
     "execution_count": 54,
     "metadata": {},
     "output_type": "execute_result"
    }
   ],
   "source": [
    "tool_call_id"
   ]
  },
  {
   "cell_type": "code",
   "execution_count": null,
   "id": "4c2e1439",
   "metadata": {},
   "outputs": [],
   "source": [
    "from langchain_core.messages import AIMessage, ToolMessage\n",
    "     "
   ]
  },
  {
   "cell_type": "code",
   "execution_count": null,
   "id": "55f19de8",
   "metadata": {},
   "outputs": [],
   "source": [
    "\n",
    "answer = \"it is just related to raining which is happing on daily basis in delhi\""
   ]
  },
  {
   "cell_type": "code",
   "execution_count": null,
   "id": "98720786",
   "metadata": {},
   "outputs": [],
   "source": [
    "\n",
    "new_messages = [\n",
    "    ToolMessage(content=answer, tool_call_id=tool_call_id),\n",
    "    AIMessage(content=answer),\n",
    "]"
   ]
  },
  {
   "cell_type": "code",
   "execution_count": null,
   "id": "6324e7f2",
   "metadata": {},
   "outputs": [
    {
     "data": {
      "text/plain": [
       "{'configurable': {'thread_id': '1',\n",
       "  'checkpoint_ns': '',\n",
       "  'checkpoint_id': '1f0188c0-f768-6895-800c-1b7b1556f964'}}"
      ]
     },
     "execution_count": 58,
     "metadata": {},
     "output_type": "execute_result"
    }
   ],
   "source": [
    "\n",
    "app2.update_state(\n",
    "    config,\n",
    "    {\"messages\": new_messages},\n",
    ")\n",
    "  "
   ]
  },
  {
   "cell_type": "code",
   "execution_count": null,
   "id": "1c7bb9cc",
   "metadata": {},
   "outputs": [
    {
     "name": "stdout",
     "output_type": "stream",
     "text": [
      "[AIMessage(content='it is just related to raining which is happing on daily basis in delhi', additional_kwargs={}, response_metadata={}, id='76ddbb73-6b83-44e4-b0ec-e7b2de0eb42b')]\n"
     ]
    }
   ],
   "source": [
    "\n",
    "print(app2.get_state(config).values[\"messages\"][-1:])"
   ]
  },
  {
   "cell_type": "code",
   "execution_count": null,
   "id": "9f672dc5",
   "metadata": {},
   "outputs": [],
   "source": []
  }
 ],
 "metadata": {
  "kernelspec": {
   "display_name": "rag_env",
   "language": "python",
   "name": "python3"
  },
  "language_info": {
   "codemirror_mode": {
    "name": "ipython",
    "version": 3
   },
   "file_extension": ".py",
   "mimetype": "text/x-python",
   "name": "python",
   "nbconvert_exporter": "python",
   "pygments_lexer": "ipython3",
   "version": "3.11.11"
  }
 },
 "nbformat": 4,
 "nbformat_minor": 5
}

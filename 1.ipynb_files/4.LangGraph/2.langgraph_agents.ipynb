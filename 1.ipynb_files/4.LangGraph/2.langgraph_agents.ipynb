{
 "cells": [
  {
   "cell_type": "code",
   "execution_count": 1,
   "id": "e85f8c6e",
   "metadata": {},
   "outputs": [
    {
     "name": "stdout",
     "output_type": "stream",
     "text": [
      "ok\n"
     ]
    }
   ],
   "source": [
    "print(\"ok\")"
   ]
  },
  {
   "cell_type": "code",
   "execution_count": 2,
   "id": "478f35ba",
   "metadata": {},
   "outputs": [],
   "source": [
    "from langchain_openai import ChatOpenAI\n"
   ]
  },
  {
   "cell_type": "code",
   "execution_count": 3,
   "id": "d4f6e774",
   "metadata": {},
   "outputs": [],
   "source": [
    "from dotenv import load_dotenv"
   ]
  },
  {
   "cell_type": "code",
   "execution_count": 4,
   "id": "31e4cea3",
   "metadata": {},
   "outputs": [
    {
     "data": {
      "text/plain": [
       "True"
      ]
     },
     "execution_count": 4,
     "metadata": {},
     "output_type": "execute_result"
    }
   ],
   "source": [
    "load_dotenv()"
   ]
  },
  {
   "cell_type": "code",
   "execution_count": 5,
   "id": "0fd3bd4a",
   "metadata": {},
   "outputs": [],
   "source": [
    "import os\n",
    "OPENAI_API_KEY = os.getenv(\"OPENAI_API_KEY\")"
   ]
  },
  {
   "cell_type": "code",
   "execution_count": 6,
   "id": "e403ceb6",
   "metadata": {},
   "outputs": [],
   "source": [
    "os.environ[\"OPENAI_API_KEY\"] = OPENAI_API_KEY"
   ]
  },
  {
   "cell_type": "code",
   "execution_count": 7,
   "id": "856994ba",
   "metadata": {},
   "outputs": [],
   "source": [
    "openai_model=ChatOpenAI(model=\"gpt-4o\")"
   ]
  },
  {
   "cell_type": "code",
   "execution_count": 8,
   "id": "c175070d",
   "metadata": {},
   "outputs": [
    {
     "data": {
      "text/plain": [
       "AIMessage(content='Hello! How can I assist you today?', additional_kwargs={'refusal': None}, response_metadata={'token_usage': {'completion_tokens': 10, 'prompt_tokens': 8, 'total_tokens': 18, 'completion_tokens_details': {'accepted_prediction_tokens': 0, 'audio_tokens': 0, 'reasoning_tokens': 0, 'rejected_prediction_tokens': 0}, 'prompt_tokens_details': {'audio_tokens': 0, 'cached_tokens': 0}}, 'model_name': 'gpt-4o-2024-08-06', 'system_fingerprint': 'fp_d8864f8b6b', 'id': 'chatcmpl-BTLvs6oMHo68pbmd9x76zwaULWu9K', 'finish_reason': 'stop', 'logprobs': None}, id='run-5363a301-5333-4c3d-8e9d-bc3d1c04923b-0', usage_metadata={'input_tokens': 8, 'output_tokens': 10, 'total_tokens': 18, 'input_token_details': {'audio': 0, 'cache_read': 0}, 'output_token_details': {'audio': 0, 'reasoning': 0}})"
      ]
     },
     "execution_count": 8,
     "metadata": {},
     "output_type": "execute_result"
    }
   ],
   "source": [
    "openai_model.invoke(\"hi\")"
   ]
  },
  {
   "cell_type": "code",
   "execution_count": 9,
   "id": "76abd31a",
   "metadata": {},
   "outputs": [
    {
     "data": {
      "text/plain": [
       "'Hello! How can I assist you today?'"
      ]
     },
     "execution_count": 9,
     "metadata": {},
     "output_type": "execute_result"
    }
   ],
   "source": [
    "openai_model.invoke(\"hi\").content"
   ]
  },
  {
   "cell_type": "code",
   "execution_count": 10,
   "id": "bb8831a3",
   "metadata": {},
   "outputs": [],
   "source": [
    "from langgraph.graph import StateGraph,MessagesState, START, END\n",
    "from langgraph.graph.message import add_messages\n",
    "from typing import Annotated, Literal, TypedDict\n",
    "from langchain_core.tools import tool\n",
    "from langchain_core.messages import HumanMessage\n",
    "from langgraph.checkpoint.memory import MemorySaver\n",
    "from langgraph.prebuilt import ToolNode"
   ]
  },
  {
   "cell_type": "code",
   "execution_count": 11,
   "id": "4d63ba09",
   "metadata": {},
   "outputs": [],
   "source": [
    "state = {}"
   ]
  },
  {
   "cell_type": "code",
   "execution_count": 12,
   "id": "e96a5150",
   "metadata": {},
   "outputs": [],
   "source": [
    "state[\"messages\"] = []"
   ]
  },
  {
   "cell_type": "code",
   "execution_count": 13,
   "id": "a41d4f7c",
   "metadata": {},
   "outputs": [
    {
     "data": {
      "text/plain": [
       "{'messages': []}"
      ]
     },
     "execution_count": 13,
     "metadata": {},
     "output_type": "execute_result"
    }
   ],
   "source": [
    "state"
   ]
  },
  {
   "cell_type": "code",
   "execution_count": 14,
   "id": "4d162fea",
   "metadata": {},
   "outputs": [],
   "source": [
    "state[\"messages\"].append(\"hi\")"
   ]
  },
  {
   "cell_type": "code",
   "execution_count": 15,
   "id": "e80daffe",
   "metadata": {},
   "outputs": [
    {
     "data": {
      "text/plain": [
       "{'messages': ['hi']}"
      ]
     },
     "execution_count": 15,
     "metadata": {},
     "output_type": "execute_result"
    }
   ],
   "source": [
    "state"
   ]
  },
  {
   "cell_type": "code",
   "execution_count": 16,
   "id": "8d3ff228",
   "metadata": {},
   "outputs": [],
   "source": [
    "state[\"messages\"].append(\"how are you?\")"
   ]
  },
  {
   "cell_type": "code",
   "execution_count": 17,
   "id": "368a2a61",
   "metadata": {},
   "outputs": [
    {
     "data": {
      "text/plain": [
       "{'messages': ['hi', 'how are you?']}"
      ]
     },
     "execution_count": 17,
     "metadata": {},
     "output_type": "execute_result"
    }
   ],
   "source": [
    "state"
   ]
  },
  {
   "cell_type": "code",
   "execution_count": 18,
   "id": "8d15bf38",
   "metadata": {},
   "outputs": [],
   "source": [
    "state[\"messages\"].append(\"what going on?\")"
   ]
  },
  {
   "cell_type": "code",
   "execution_count": 19,
   "id": "ee123207",
   "metadata": {},
   "outputs": [],
   "source": [
    "# from typing_extensions import TypedDict\n",
    "# from langchain_core.messages import AnyMessage\n",
    "# from typing import Annotated\n",
    "# from langgraph.graph.message import add_messages"
   ]
  },
  {
   "cell_type": "code",
   "execution_count": 20,
   "id": "3912c910",
   "metadata": {},
   "outputs": [],
   "source": [
    "# class MessagesState(TypedDict):\n",
    "#     messages: Annotated[list[AnyMessage], add_messages]"
   ]
  },
  {
   "cell_type": "code",
   "execution_count": 21,
   "id": "a8bd10a9",
   "metadata": {},
   "outputs": [
    {
     "data": {
      "text/plain": [
       "{'messages': ['hi', 'how are you?', 'what going on?']}"
      ]
     },
     "execution_count": 21,
     "metadata": {},
     "output_type": "execute_result"
    }
   ],
   "source": [
    "state"
   ]
  },
  {
   "cell_type": "code",
   "execution_count": 22,
   "id": "2126ba69",
   "metadata": {},
   "outputs": [
    {
     "data": {
      "text/plain": [
       "'hi'"
      ]
     },
     "execution_count": 22,
     "metadata": {},
     "output_type": "execute_result"
    }
   ],
   "source": [
    "state[\"messages\"][0]"
   ]
  },
  {
   "cell_type": "code",
   "execution_count": 23,
   "id": "09061815",
   "metadata": {},
   "outputs": [
    {
     "data": {
      "text/plain": [
       "'what going on?'"
      ]
     },
     "execution_count": 23,
     "metadata": {},
     "output_type": "execute_result"
    }
   ],
   "source": [
    "state[\"messages\"][-1]"
   ]
  },
  {
   "cell_type": "code",
   "execution_count": 24,
   "id": "a366713e",
   "metadata": {},
   "outputs": [],
   "source": [
    "## this state is a dict which containing the message as list and inside the list there could be n numbvers of messages\n",
    "\n",
    "## this state will be flowing across all the nodes(function) in langgraph"
   ]
  },
  {
   "cell_type": "code",
   "execution_count": 25,
   "id": "a5319fbd",
   "metadata": {},
   "outputs": [],
   "source": [
    "def call_model(state:MessagesState):\n",
    "    question = state[\"messages\"]\n",
    "    response = openai_model.invoke(question)\n",
    "    return {\"messages\":[response]}"
   ]
  },
  {
   "cell_type": "code",
   "execution_count": 26,
   "id": "ebc0a3ab",
   "metadata": {},
   "outputs": [],
   "source": [
    "workflow = StateGraph(MessagesState)"
   ]
  },
  {
   "cell_type": "code",
   "execution_count": 27,
   "id": "09e3efcf",
   "metadata": {},
   "outputs": [
    {
     "data": {
      "text/plain": [
       "<langgraph.graph.state.StateGraph at 0x27e47cc3a50>"
      ]
     },
     "execution_count": 27,
     "metadata": {},
     "output_type": "execute_result"
    }
   ],
   "source": [
    "workflow.add_node(\"chatbot\",call_model) #chatbot is the Open AI LLM"
   ]
  },
  {
   "cell_type": "code",
   "execution_count": 28,
   "id": "8885ba76",
   "metadata": {},
   "outputs": [
    {
     "data": {
      "text/plain": [
       "<langgraph.graph.state.StateGraph at 0x27e47cc3a50>"
      ]
     },
     "execution_count": 28,
     "metadata": {},
     "output_type": "execute_result"
    }
   ],
   "source": [
    "workflow.add_edge(START,\"chatbot\")"
   ]
  },
  {
   "cell_type": "code",
   "execution_count": 29,
   "id": "610a14c2",
   "metadata": {},
   "outputs": [
    {
     "data": {
      "text/plain": [
       "<langgraph.graph.state.StateGraph at 0x27e47cc3a50>"
      ]
     },
     "execution_count": 29,
     "metadata": {},
     "output_type": "execute_result"
    }
   ],
   "source": [
    "workflow.add_edge(\"chatbot\",END)"
   ]
  },
  {
   "cell_type": "code",
   "execution_count": 30,
   "id": "43f2ee2d",
   "metadata": {},
   "outputs": [],
   "source": [
    "app = workflow.compile()"
   ]
  },
  {
   "cell_type": "code",
   "execution_count": 31,
   "id": "8a856bbd",
   "metadata": {},
   "outputs": [],
   "source": [
    "from IPython.display import Image,display"
   ]
  },
  {
   "cell_type": "code",
   "execution_count": 32,
   "id": "bfa21563",
   "metadata": {},
   "outputs": [
    {
     "data": {
      "image/png": "[encoded data removed]",
      "text/plain": [
       "<IPython.core.display.Image object>"
      ]
     },
     "metadata": {},
     "output_type": "display_data"
    }
   ],
   "source": [
    "display(Image(app.get_graph().draw_mermaid_png()))"
   ]
  },
  {
   "cell_type": "code",
   "execution_count": 33,
   "id": "110c0b0b",
   "metadata": {},
   "outputs": [],
   "source": [
    "input={\"messages\":[\"hi my name is Mohan\"]}"
   ]
  },
  {
   "cell_type": "code",
   "execution_count": 34,
   "id": "4487276c",
   "metadata": {},
   "outputs": [],
   "source": [
    "response = app.invoke(input)"
   ]
  },
  {
   "cell_type": "code",
   "execution_count": 35,
   "id": "4a87894e",
   "metadata": {},
   "outputs": [
    {
     "data": {
      "text/plain": [
       "'Hello Mohan! How can I assist you today?'"
      ]
     },
     "execution_count": 35,
     "metadata": {},
     "output_type": "execute_result"
    }
   ],
   "source": [
    "response[\"messages\"][-1].content"
   ]
  },
  {
   "cell_type": "code",
   "execution_count": 36,
   "id": "788e5245",
   "metadata": {},
   "outputs": [
    {
     "data": {
      "text/plain": [
       "'I can assist with a wide range of tasks including providing explanations on various topics, answering questions, offering advice on problem-solving, assisting with writing and editing, generating creative content, and more. If you have a specific task or question in mind, feel free to ask!'"
      ]
     },
     "execution_count": 36,
     "metadata": {},
     "output_type": "execute_result"
    }
   ],
   "source": [
    "input={\"messages\":[\"what can you do?\"]}\n",
    "response = app.invoke(input)\n",
    "response[\"messages\"][-1].content"
   ]
  },
  {
   "cell_type": "code",
   "execution_count": 37,
   "id": "9a955f33",
   "metadata": {},
   "outputs": [
    {
     "name": "stdout",
     "output_type": "stream",
     "text": [
      "Output from chatbot Node\n",
      "_______\n",
      "{'messages': [AIMessage(content=\"I can help with a wide range of tasks, including:\\n\\n1. **Answering Questions**: I can provide information on a variety of subjects such as history, science, technology, and more.\\n\\n2. **Writing Assistance**: I can help with writing tasks, whether it's drafting emails, essays, or creative writing.\\n\\n3. **Language Help**: I can assist with language learning, grammar checks, and translations for several languages.\\n\\n4. **Problem Solving**: I can help break down complex problems or scenarios and offer possible solutions or explanations.\\n\\n5. **Recommendations**: I can suggest books, movies, and other media based on your interests.\\n\\n6. **General Advice**: I can offer general advice on topics like study tips, job applications, and personal development.\\n\\n7. **Summarization**: I can summarize articles or documents to give you the main points quickly.\\n\\nIf you have a specific task or question in mind, feel free to ask!\", additional_kwargs={'refusal': None}, response_metadata={'token_usage': {'completion_tokens': 197, 'prompt_tokens': 12, 'total_tokens': 209, 'completion_tokens_details': {'accepted_prediction_tokens': 0, 'audio_tokens': 0, 'reasoning_tokens': 0, 'rejected_prediction_tokens': 0}, 'prompt_tokens_details': {'audio_tokens': 0, 'cached_tokens': 0}}, 'model_name': 'gpt-4o-2024-08-06', 'system_fingerprint': 'fp_55d88aaf2f', 'id': 'chatcmpl-BTLvys8q3GA9kZ0wRhuA6d19PBZSR', 'finish_reason': 'stop', 'logprobs': None}, id='run-b1556101-1589-4151-a84f-319bd281b0b7-0', usage_metadata={'input_tokens': 12, 'output_tokens': 197, 'total_tokens': 209, 'input_token_details': {'audio': 0, 'cache_read': 0}, 'output_token_details': {'audio': 0, 'reasoning': 0}})]}\n",
      "\n",
      "\n"
     ]
    }
   ],
   "source": [
    "for output in app.stream(input):\n",
    "    for key,value in output.items():\n",
    "        print(f\"Output from {key} Node\")\n",
    "        print(\"_______\")\n",
    "        print(value)\n",
    "        print(\"\\n\")"
   ]
  },
  {
   "cell_type": "code",
   "execution_count": 38,
   "id": "9007efa6",
   "metadata": {},
   "outputs": [],
   "source": [
    "@tool\n",
    "def search(query:str):\n",
    "    \"\"\"this is a tool for weather checking\"\"\"\n",
    "    if \"india\" in query.lower() or \"delhi\" in query.lower():\n",
    "        return \"the weather is hotty with some foggy\"\n",
    "    return \"weather is cloudy with some darkness\""
   ]
  },
  {
   "cell_type": "code",
   "execution_count": 39,
   "id": "e3976a85",
   "metadata": {},
   "outputs": [
    {
     "data": {
      "text/plain": [
       "'weather is cloudy with some darkness'"
      ]
     },
     "execution_count": 39,
     "metadata": {},
     "output_type": "execute_result"
    }
   ],
   "source": [
    "search.invoke(\"what is a weather in japan?\")"
   ]
  },
  {
   "cell_type": "code",
   "execution_count": 40,
   "id": "de3f2f61",
   "metadata": {},
   "outputs": [
    {
     "data": {
      "text/plain": [
       "'the weather is hotty with some foggy'"
      ]
     },
     "execution_count": 40,
     "metadata": {},
     "output_type": "execute_result"
    }
   ],
   "source": [
    "search.invoke(\"what is a weather in delhi?\")"
   ]
  },
  {
   "cell_type": "code",
   "execution_count": 41,
   "id": "52d77bc2",
   "metadata": {},
   "outputs": [],
   "source": [
    "tools=[search]"
   ]
  },
  {
   "cell_type": "code",
   "execution_count": 42,
   "id": "2acdcb3f",
   "metadata": {},
   "outputs": [],
   "source": [
    "llm_with_tool=openai_model.bind_tools(tools)"
   ]
  },
  {
   "cell_type": "code",
   "execution_count": 43,
   "id": "68759128",
   "metadata": {},
   "outputs": [],
   "source": [
    "response=llm_with_tool.invoke(\"hi\")"
   ]
  },
  {
   "cell_type": "code",
   "execution_count": 44,
   "id": "0a3c7868",
   "metadata": {},
   "outputs": [
    {
     "data": {
      "text/plain": [
       "'Hello! How can I assist you today?'"
      ]
     },
     "execution_count": 44,
     "metadata": {},
     "output_type": "execute_result"
    }
   ],
   "source": [
    "response.content"
   ]
  },
  {
   "cell_type": "code",
   "execution_count": 45,
   "id": "21f3f5b9",
   "metadata": {},
   "outputs": [
    {
     "data": {
      "text/plain": [
       "[]"
      ]
     },
     "execution_count": 45,
     "metadata": {},
     "output_type": "execute_result"
    }
   ],
   "source": [
    "response.tool_calls"
   ]
  },
  {
   "cell_type": "code",
   "execution_count": 46,
   "id": "8e42ddba",
   "metadata": {},
   "outputs": [],
   "source": [
    "result = llm_with_tool.invoke(\"what is a weather in europe?\")"
   ]
  },
  {
   "cell_type": "code",
   "execution_count": 47,
   "id": "83291f96",
   "metadata": {},
   "outputs": [
    {
     "data": {
      "text/plain": [
       "''"
      ]
     },
     "execution_count": 47,
     "metadata": {},
     "output_type": "execute_result"
    }
   ],
   "source": [
    "result.content"
   ]
  },
  {
   "cell_type": "code",
   "execution_count": 48,
   "id": "e3722e31",
   "metadata": {},
   "outputs": [
    {
     "data": {
      "text/plain": [
       "[{'name': 'search',\n",
       "  'args': {'query': 'weather in Europe'},\n",
       "  'id': 'call_sCWz2bKNjJJm7sARpl0Wt53o',\n",
       "  'type': 'tool_call'}]"
      ]
     },
     "execution_count": 48,
     "metadata": {},
     "output_type": "execute_result"
    }
   ],
   "source": [
    "result.tool_calls"
   ]
  },
  {
   "cell_type": "code",
   "execution_count": 49,
   "id": "d810a7fe",
   "metadata": {},
   "outputs": [],
   "source": [
    "def call_model(state:MessagesState):\n",
    "    question = state[\"messages\"]\n",
    "    response = llm_with_tool.invoke(question)\n",
    "    return {\"messages\":[response]}"
   ]
  },
  {
   "cell_type": "code",
   "execution_count": 50,
   "id": "46448b70",
   "metadata": {},
   "outputs": [],
   "source": [
    "input={'messages': ['hi my name is sunny']}"
   ]
  },
  {
   "cell_type": "code",
   "execution_count": 51,
   "id": "9bcabdea",
   "metadata": {},
   "outputs": [],
   "source": [
    "response=call_model(input)"
   ]
  },
  {
   "cell_type": "code",
   "execution_count": 52,
   "id": "5ff7c13f",
   "metadata": {},
   "outputs": [],
   "source": [
    "message=response[\"messages\"]"
   ]
  },
  {
   "cell_type": "code",
   "execution_count": 53,
   "id": "9dd08409",
   "metadata": {},
   "outputs": [],
   "source": [
    "last_message=message[-1]"
   ]
  },
  {
   "cell_type": "code",
   "execution_count": 54,
   "id": "726cf236",
   "metadata": {},
   "outputs": [
    {
     "data": {
      "text/plain": [
       "'Hello, Sunny! How can I assist you today?'"
      ]
     },
     "execution_count": 54,
     "metadata": {},
     "output_type": "execute_result"
    }
   ],
   "source": [
    "last_message.content"
   ]
  },
  {
   "cell_type": "code",
   "execution_count": 55,
   "id": "1771da82",
   "metadata": {},
   "outputs": [
    {
     "data": {
      "text/plain": [
       "[]"
      ]
     },
     "execution_count": 55,
     "metadata": {},
     "output_type": "execute_result"
    }
   ],
   "source": [
    "last_message.tool_calls"
   ]
  },
  {
   "cell_type": "code",
   "execution_count": 56,
   "id": "8c60e464",
   "metadata": {},
   "outputs": [],
   "source": [
    "input={'messages': ['what is a weather in mumbai?']}"
   ]
  },
  {
   "cell_type": "code",
   "execution_count": 57,
   "id": "09eda53d",
   "metadata": {},
   "outputs": [],
   "source": [
    "def router_function(state: MessagesState):\n",
    "    message=state[\"messages\"]\n",
    "    last_message=message[-1]\n",
    "    if last_message.tool_calls:\n",
    "        return \"tools\"\n",
    "    return END"
   ]
  },
  {
   "cell_type": "code",
   "execution_count": 58,
   "id": "40cf115c",
   "metadata": {},
   "outputs": [
    {
     "data": {
      "text/plain": [
       "[StructuredTool(name='search', description='this is a tool for weather checking', args_schema=<class 'langchain_core.utils.pydantic.search'>, func=<function search at 0x0000027E47D59DA0>)]"
      ]
     },
     "execution_count": 58,
     "metadata": {},
     "output_type": "execute_result"
    }
   ],
   "source": [
    "tools"
   ]
  },
  {
   "cell_type": "code",
   "execution_count": 59,
   "id": "cd2caa03",
   "metadata": {},
   "outputs": [],
   "source": [
    "tool_node=ToolNode(tools)"
   ]
  },
  {
   "cell_type": "code",
   "execution_count": 60,
   "id": "8da84a49",
   "metadata": {},
   "outputs": [],
   "source": [
    "workflow=StateGraph(MessagesState)"
   ]
  },
  {
   "cell_type": "code",
   "execution_count": 61,
   "id": "0441f048",
   "metadata": {},
   "outputs": [
    {
     "data": {
      "text/plain": [
       "<langgraph.graph.state.StateGraph at 0x27e5df2d190>"
      ]
     },
     "execution_count": 61,
     "metadata": {},
     "output_type": "execute_result"
    }
   ],
   "source": [
    "workflow.add_node(\"assistant\",call_model)\n",
    "workflow.add_node(\"myweathertool\",tool_node)"
   ]
  },
  {
   "cell_type": "code",
   "execution_count": 62,
   "id": "073e628b",
   "metadata": {},
   "outputs": [],
   "source": [
    "workflow.add_edge(START, \"assistant\")\n",
    "\n",
    "workflow.add_conditional_edges(\"assistant\",\n",
    "                               router_function,\n",
    "                               {\"tools\": \"myweathertool\", END: END})\n",
    "\n",
    "app = workflow.compile()"
   ]
  },
  {
   "cell_type": "code",
   "execution_count": 63,
   "id": "f1385ee4",
   "metadata": {},
   "outputs": [
    {
     "data": {
      "image/png": "[encoded data removed]",
      "text/plain": [
       "<IPython.core.display.Image object>"
      ]
     },
     "metadata": {},
     "output_type": "display_data"
    }
   ],
   "source": [
    "display(Image(app.get_graph().draw_mermaid_png()))"
   ]
  },
  {
   "cell_type": "code",
   "execution_count": 64,
   "id": "183643c0",
   "metadata": {},
   "outputs": [
    {
     "data": {
      "text/plain": [
       "{'messages': [HumanMessage(content='how are you?', additional_kwargs={}, response_metadata={}, id='8a0d5c5b-ab4e-4f94-a923-f411e6f1b782'),\n",
       "  AIMessage(content=\"I'm just a computer program, so I don't have feelings, but I'm here and ready to help you! How can I assist you today?\", additional_kwargs={'refusal': None}, response_metadata={'token_usage': {'completion_tokens': 30, 'prompt_tokens': 48, 'total_tokens': 78, 'completion_tokens_details': {'accepted_prediction_tokens': 0, 'audio_tokens': 0, 'reasoning_tokens': 0, 'rejected_prediction_tokens': 0}, 'prompt_tokens_details': {'audio_tokens': 0, 'cached_tokens': 0}}, 'model_name': 'gpt-4o-2024-08-06', 'system_fingerprint': 'fp_90122d973c', 'id': 'chatcmpl-BTLw7M8r2LrHz7rLQgQPHWBL7Nqow', 'finish_reason': 'stop', 'logprobs': None}, id='run-3be928ff-b03f-40c1-a791-50c5fd985176-0', usage_metadata={'input_tokens': 48, 'output_tokens': 30, 'total_tokens': 78, 'input_token_details': {'audio': 0, 'cache_read': 0}, 'output_token_details': {'audio': 0, 'reasoning': 0}})]}"
      ]
     },
     "execution_count": 64,
     "metadata": {},
     "output_type": "execute_result"
    }
   ],
   "source": [
    "app.invoke({\"messages\": [\"how are you?\"]})"
   ]
  },
  {
   "cell_type": "code",
   "execution_count": 65,
   "id": "80372ca7",
   "metadata": {},
   "outputs": [
    {
     "data": {
      "text/plain": [
       "{'messages': [HumanMessage(content='what is a weather in delhi?', additional_kwargs={}, response_metadata={}, id='947abf2d-34c8-46b8-be0c-286c8ddd375c'),\n",
       "  AIMessage(content='', additional_kwargs={'tool_calls': [{'id': 'call_kqoWEOHrnTCag69ny8EOGwhp', 'function': {'arguments': '{\"query\":\"Delhi weather\"}', 'name': 'search'}, 'type': 'function'}], 'refusal': None}, response_metadata={'token_usage': {'completion_tokens': 15, 'prompt_tokens': 52, 'total_tokens': 67, 'completion_tokens_details': {'accepted_prediction_tokens': 0, 'audio_tokens': 0, 'reasoning_tokens': 0, 'rejected_prediction_tokens': 0}, 'prompt_tokens_details': {'audio_tokens': 0, 'cached_tokens': 0}}, 'model_name': 'gpt-4o-2024-08-06', 'system_fingerprint': 'fp_90122d973c', 'id': 'chatcmpl-BTLw9bBqfzc9iImB09PITmyvKHS8a', 'finish_reason': 'tool_calls', 'logprobs': None}, id='run-1ddf70a3-076b-43ed-a9f3-6e4c2c0ce3a7-0', tool_calls=[{'name': 'search', 'args': {'query': 'Delhi weather'}, 'id': 'call_kqoWEOHrnTCag69ny8EOGwhp', 'type': 'tool_call'}], usage_metadata={'input_tokens': 52, 'output_tokens': 15, 'total_tokens': 67, 'input_token_details': {'audio': 0, 'cache_read': 0}, 'output_token_details': {'audio': 0, 'reasoning': 0}}),\n",
       "  ToolMessage(content='the weather is hotty with some foggy', name='search', id='e26f09de-27f7-440e-91c4-508bec71b91c', tool_call_id='call_kqoWEOHrnTCag69ny8EOGwhp')]}"
      ]
     },
     "execution_count": 65,
     "metadata": {},
     "output_type": "execute_result"
    }
   ],
   "source": [
    "app.invoke({\"messages\": [\"what is a weather in delhi?\"]})"
   ]
  },
  {
   "cell_type": "code",
   "execution_count": 66,
   "id": "34260be5",
   "metadata": {},
   "outputs": [
    {
     "name": "stderr",
     "output_type": "stream",
     "text": [
      "Adding an edge to a graph that has already been compiled. This will not be reflected in the compiled graph.\n"
     ]
    },
    {
     "data": {
      "text/plain": [
       "<langgraph.graph.state.StateGraph at 0x27e5df2d190>"
      ]
     },
     "execution_count": 66,
     "metadata": {},
     "output_type": "execute_result"
    }
   ],
   "source": [
    "workflow.add_edge(\"myweathertool\",\"assistant\")"
   ]
  },
  {
   "cell_type": "code",
   "execution_count": 67,
   "id": "a1ecd9c7",
   "metadata": {},
   "outputs": [],
   "source": [
    "app = workflow.compile()"
   ]
  },
  {
   "cell_type": "code",
   "execution_count": 68,
   "id": "f2b75bdf",
   "metadata": {},
   "outputs": [
    {
     "data": {
      "image/png": "[encoded data removed]",
      "text/plain": [
       "<IPython.core.display.Image object>"
      ]
     },
     "metadata": {},
     "output_type": "display_data"
    }
   ],
   "source": [
    "display(Image(app.get_graph().draw_mermaid_png()))"
   ]
  },
  {
   "cell_type": "code",
   "execution_count": 69,
   "id": "10c8747e",
   "metadata": {},
   "outputs": [
    {
     "data": {
      "text/plain": [
       "{'messages': [HumanMessage(content='what is a weather in delhi?', additional_kwargs={}, response_metadata={}, id='e43bb5d6-bbbc-498d-948e-741d535bdec9'),\n",
       "  AIMessage(content='', additional_kwargs={'tool_calls': [{'id': 'call_DbMAmxIjHtBgOaIPf5uOeUQG', 'function': {'arguments': '{\"query\":\"current weather in Delhi\"}', 'name': 'search'}, 'type': 'function'}], 'refusal': None}, response_metadata={'token_usage': {'completion_tokens': 17, 'prompt_tokens': 52, 'total_tokens': 69, 'completion_tokens_details': {'accepted_prediction_tokens': 0, 'audio_tokens': 0, 'reasoning_tokens': 0, 'rejected_prediction_tokens': 0}, 'prompt_tokens_details': {'audio_tokens': 0, 'cached_tokens': 0}}, 'model_name': 'gpt-4o-2024-08-06', 'system_fingerprint': 'fp_90122d973c', 'id': 'chatcmpl-BTLwA4vNkG6Ep1QmNY6KP406ruaqx', 'finish_reason': 'tool_calls', 'logprobs': None}, id='run-55208c10-ae75-42f7-ae31-f76380fa7aeb-0', tool_calls=[{'name': 'search', 'args': {'query': 'current weather in Delhi'}, 'id': 'call_DbMAmxIjHtBgOaIPf5uOeUQG', 'type': 'tool_call'}], usage_metadata={'input_tokens': 52, 'output_tokens': 17, 'total_tokens': 69, 'input_token_details': {'audio': 0, 'cache_read': 0}, 'output_token_details': {'audio': 0, 'reasoning': 0}}),\n",
       "  ToolMessage(content='the weather is hotty with some foggy', name='search', id='01e4e88d-1b52-412c-8800-6e192e6e8c53', tool_call_id='call_DbMAmxIjHtBgOaIPf5uOeUQG'),\n",
       "  AIMessage(content='The current weather in Delhi is hot with some foggy conditions.', additional_kwargs={'refusal': None}, response_metadata={'token_usage': {'completion_tokens': 15, 'prompt_tokens': 84, 'total_tokens': 99, 'completion_tokens_details': {'accepted_prediction_tokens': 0, 'audio_tokens': 0, 'reasoning_tokens': 0, 'rejected_prediction_tokens': 0}, 'prompt_tokens_details': {'audio_tokens': 0, 'cached_tokens': 0}}, 'model_name': 'gpt-4o-2024-08-06', 'system_fingerprint': 'fp_90122d973c', 'id': 'chatcmpl-BTLwBl7LIMAGhroSXHX7RMESkPjuR', 'finish_reason': 'stop', 'logprobs': None}, id='run-a6c54f8c-9ff7-4318-a3c0-45e394778afe-0', usage_metadata={'input_tokens': 84, 'output_tokens': 15, 'total_tokens': 99, 'input_token_details': {'audio': 0, 'cache_read': 0}, 'output_token_details': {'audio': 0, 'reasoning': 0}})]}"
      ]
     },
     "execution_count": 69,
     "metadata": {},
     "output_type": "execute_result"
    }
   ],
   "source": [
    "app.invoke({\"messages\": [\"what is a weather in delhi?\"]})"
   ]
  },
  {
   "cell_type": "code",
   "execution_count": null,
   "id": "3f5ca10d",
   "metadata": {},
   "outputs": [],
   "source": []
  },
  {
   "cell_type": "code",
   "execution_count": 70,
   "id": "f2deb276",
   "metadata": {},
   "outputs": [
    {
     "name": "stdout",
     "output_type": "stream",
     "text": [
      "here is output from assistant\n",
      "_______\n",
      "{'messages': [AIMessage(content='', additional_kwargs={'tool_calls': [{'id': 'call_AihWJ3N1Zsz2Eb2LqcYeG1rm', 'function': {'arguments': '{\"query\":\"weather in Delhi\"}', 'name': 'search'}, 'type': 'function'}], 'refusal': None}, response_metadata={'token_usage': {'completion_tokens': 16, 'prompt_tokens': 51, 'total_tokens': 67, 'completion_tokens_details': {'accepted_prediction_tokens': 0, 'audio_tokens': 0, 'reasoning_tokens': 0, 'rejected_prediction_tokens': 0}, 'prompt_tokens_details': {'audio_tokens': 0, 'cached_tokens': 0}}, 'model_name': 'gpt-4o-2024-08-06', 'system_fingerprint': 'fp_90122d973c', 'id': 'chatcmpl-BTLwBwKHqY7UaNlwUaOT4v1yGft0i', 'finish_reason': 'tool_calls', 'logprobs': None}, id='run-1c72669c-c27a-439c-ad78-ef61a06415de-0', tool_calls=[{'name': 'search', 'args': {'query': 'weather in Delhi'}, 'id': 'call_AihWJ3N1Zsz2Eb2LqcYeG1rm', 'type': 'tool_call'}], usage_metadata={'input_tokens': 51, 'output_tokens': 16, 'total_tokens': 67, 'input_token_details': {'audio': 0, 'cache_read': 0}, 'output_token_details': {'audio': 0, 'reasoning': 0}})]}\n",
      "\n",
      "\n",
      "here is output from myweathertool\n",
      "_______\n",
      "{'messages': [ToolMessage(content='the weather is hotty with some foggy', name='search', id='69d6674d-de2f-4423-935e-2a07c6b7eca0', tool_call_id='call_AihWJ3N1Zsz2Eb2LqcYeG1rm')]}\n",
      "\n",
      "\n",
      "here is output from assistant\n",
      "_______\n",
      "{'messages': [AIMessage(content='Currently, the weather in Delhi is hot with some fog.', additional_kwargs={'refusal': None}, response_metadata={'token_usage': {'completion_tokens': 14, 'prompt_tokens': 82, 'total_tokens': 96, 'completion_tokens_details': {'accepted_prediction_tokens': 0, 'audio_tokens': 0, 'reasoning_tokens': 0, 'rejected_prediction_tokens': 0}, 'prompt_tokens_details': {'audio_tokens': 0, 'cached_tokens': 0}}, 'model_name': 'gpt-4o-2024-08-06', 'system_fingerprint': 'fp_90122d973c', 'id': 'chatcmpl-BTLwCABAFpzoQF1WlXDgRU9dKF0pJ', 'finish_reason': 'stop', 'logprobs': None}, id='run-2ee17654-cec1-4cdb-b899-54821b1d54d0-0', usage_metadata={'input_tokens': 82, 'output_tokens': 14, 'total_tokens': 96, 'input_token_details': {'audio': 0, 'cache_read': 0}, 'output_token_details': {'audio': 0, 'reasoning': 0}})]}\n",
      "\n",
      "\n"
     ]
    }
   ],
   "source": [
    "for output in app.stream({\"messages\": [\"what is the weather in delhi\"]}):\n",
    "    for key,value in output.items():\n",
    "        print(f\"here is output from {key}\")\n",
    "        print(\"_______\")\n",
    "        print(value)\n",
    "        print(\"\\n\")"
   ]
  },
  {
   "cell_type": "code",
   "execution_count": 71,
   "id": "84a6da14",
   "metadata": {},
   "outputs": [],
   "source": [
    "@tool\n",
    "def multiply(a:int,b:int)->int:\n",
    "    \"\"\"multiply a and b\"\"\"\n",
    "    return a*b"
   ]
  },
  {
   "cell_type": "code",
   "execution_count": 72,
   "id": "fc5eadbf",
   "metadata": {},
   "outputs": [],
   "source": [
    "@tool\n",
    "def add(a:int,b:int)->int:\n",
    "    \"\"\"adding two numbers a and b\"\"\"\n",
    "    return a+b"
   ]
  },
  {
   "cell_type": "code",
   "execution_count": 73,
   "id": "c3c711c9",
   "metadata": {},
   "outputs": [],
   "source": [
    "@tool\n",
    "def divide(a:int,b:int)->int:\n",
    "    \"\"\"dividing two numbers a and b\"\"\"\n",
    "    return a/b"
   ]
  },
  {
   "cell_type": "code",
   "execution_count": 74,
   "id": "35e1b22e",
   "metadata": {},
   "outputs": [],
   "source": [
    "@tool\n",
    "def subtract(a:int,b:int)->int:\n",
    "    \"\"\"subtracting two numbers a and b \"\"\"\n",
    "    return a-b"
   ]
  },
  {
   "cell_type": "code",
   "execution_count": 75,
   "id": "0b426335",
   "metadata": {},
   "outputs": [],
   "source": [
    "! pip install -U duckduckgo-search -q"
   ]
  },
  {
   "cell_type": "code",
   "execution_count": 76,
   "id": "f27fde2f",
   "metadata": {},
   "outputs": [],
   "source": [
    "from langchain_community.tools import DuckDuckGoSearchRun\n"
   ]
  },
  {
   "cell_type": "code",
   "execution_count": 77,
   "id": "ae2569f9",
   "metadata": {},
   "outputs": [],
   "source": [
    "duckduckgo_search=DuckDuckGoSearchRun()"
   ]
  },
  {
   "cell_type": "code",
   "execution_count": 78,
   "id": "7b4846fd",
   "metadata": {},
   "outputs": [
    {
     "data": {
      "text/plain": [
       "\"This is a list of current heads of state and heads of government. In some cases, ... Prime Minister - Keir Starmer United States: President - Donald Trump ... Prime Minister - Mahn Winn Khaing Thann: Hamas government in the Gaza Strip So said Prime Minister Mark Carney in a national television address to 41 million Canadian citizens from Parliament Hill last week. And it is almost all because of President Donald Trump's tariffs. The White House, official residence of the president of the United States. The president of the United States is the head of state and head of government of the United States, [1] indirectly elected to a four-year term via the Electoral College. [2] Under the U.S. Constitution, the officeholder leads the executive branch of the federal government and is the commander-in-chief of the United ... The absence of a prime minister in the United States is a result of deliberate choices made by the country's Founding Fathers, who designed a political system that contrasts sharply with parliamentary systems. This article explores the reasons why the U.S. doesn't have a prime minister, focusing on the country's historical context, the ... The president of the United States is the: U.S. head of state; Chief executive of the federal government; Commander-in-Chief of the armed forces; Current president. The 47th and current president of the United States is Donald John Trump. He was sworn into office on January 20, 2025. Former U.S. presidents. The United States has had 46 former U ...\""
      ]
     },
     "execution_count": 78,
     "metadata": {},
     "output_type": "execute_result"
    }
   ],
   "source": [
    "duckduckgo_search.invoke(\"who is a current prime minister of USA??\")"
   ]
  },
  {
   "cell_type": "code",
   "execution_count": 79,
   "id": "412f68f1",
   "metadata": {},
   "outputs": [],
   "source": [
    "tools  =  [multiply, add, divide, subtract, duckduckgo_search]"
   ]
  },
  {
   "cell_type": "code",
   "execution_count": 80,
   "id": "4adc205e",
   "metadata": {},
   "outputs": [],
   "source": [
    "llm_with_tools  =  openai_model.bind_tools(tools)"
   ]
  },
  {
   "cell_type": "code",
   "execution_count": 81,
   "id": "5c733a83",
   "metadata": {},
   "outputs": [
    {
     "data": {
      "text/plain": [
       "RunnableBinding(bound=ChatOpenAI(client=<openai.resources.chat.completions.completions.Completions object at 0x0000027E3F833A90>, async_client=<openai.resources.chat.completions.completions.AsyncCompletions object at 0x0000027E3E444150>, root_client=<openai.OpenAI object at 0x0000027E3E0BE1D0>, root_async_client=<openai.AsyncOpenAI object at 0x0000027E3F76A110>, model_name='gpt-4o', model_kwargs={}, openai_api_key=SecretStr('**********')), kwargs={'tools': [{'type': 'function', 'function': {'name': 'multiply', 'description': 'multiply a and b', 'parameters': {'properties': {'a': {'type': 'integer'}, 'b': {'type': 'integer'}}, 'required': ['a', 'b'], 'type': 'object'}}}, {'type': 'function', 'function': {'name': 'add', 'description': 'adding two numbers a and b', 'parameters': {'properties': {'a': {'type': 'integer'}, 'b': {'type': 'integer'}}, 'required': ['a', 'b'], 'type': 'object'}}}, {'type': 'function', 'function': {'name': 'divide', 'description': 'dividing two numbers a and b', 'parameters': {'properties': {'a': {'type': 'integer'}, 'b': {'type': 'integer'}}, 'required': ['a', 'b'], 'type': 'object'}}}, {'type': 'function', 'function': {'name': 'subtract', 'description': 'subtracting two numbers a and b', 'parameters': {'properties': {'a': {'type': 'integer'}, 'b': {'type': 'integer'}}, 'required': ['a', 'b'], 'type': 'object'}}}, {'type': 'function', 'function': {'name': 'duckduckgo_search', 'description': 'A wrapper around DuckDuckGo Search. Useful for when you need to answer questions about current events. Input should be a search query.', 'parameters': {'properties': {'query': {'description': 'search query to look up', 'type': 'string'}}, 'required': ['query'], 'type': 'object'}}}]}, config={}, config_factories=[])"
      ]
     },
     "execution_count": 81,
     "metadata": {},
     "output_type": "execute_result"
    }
   ],
   "source": [
    "llm_with_tools"
   ]
  },
  {
   "cell_type": "code",
   "execution_count": 82,
   "id": "5c654799",
   "metadata": {},
   "outputs": [
    {
     "data": {
      "text/plain": [
       "[]"
      ]
     },
     "execution_count": 82,
     "metadata": {},
     "output_type": "execute_result"
    }
   ],
   "source": [
    "llm_with_tools.invoke(\"hi\").tool_calls"
   ]
  },
  {
   "cell_type": "code",
   "execution_count": 83,
   "id": "21628b05",
   "metadata": {},
   "outputs": [
    {
     "data": {
      "text/plain": [
       "[{'name': 'add',\n",
       "  'args': {'a': 5, 'b': 40},\n",
       "  'id': 'call_PXMjR8bIws5l2xKsUpHythZY',\n",
       "  'type': 'tool_call'}]"
      ]
     },
     "execution_count": 83,
     "metadata": {},
     "output_type": "execute_result"
    }
   ],
   "source": [
    "llm_with_tools.invoke(\"can you add these two number 5 and 40?\").tool_calls"
   ]
  },
  {
   "cell_type": "code",
   "execution_count": 84,
   "id": "42fbff3e",
   "metadata": {},
   "outputs": [
    {
     "data": {
      "text/plain": [
       "[{'name': 'multiply',\n",
       "  'args': {'a': 5, 'b': 40},\n",
       "  'id': 'call_XQejrGVS74PviDeiMg70YneO',\n",
       "  'type': 'tool_call'}]"
      ]
     },
     "execution_count": 84,
     "metadata": {},
     "output_type": "execute_result"
    }
   ],
   "source": [
    "llm_with_tools.invoke(\"can you multiply these two number 5 and 40?\").tool_calls"
   ]
  },
  {
   "cell_type": "code",
   "execution_count": 85,
   "id": "5cfcfa43",
   "metadata": {},
   "outputs": [
    {
     "data": {
      "text/plain": [
       "[{'name': 'divide',\n",
       "  'args': {'a': 5, 'b': 40},\n",
       "  'id': 'call_6fWVGN7ZYaysOoSCuUTbQFyE',\n",
       "  'type': 'tool_call'}]"
      ]
     },
     "execution_count": 85,
     "metadata": {},
     "output_type": "execute_result"
    }
   ],
   "source": [
    "llm_with_tools.invoke(\"can you divide these two number 5 and 40?\").tool_calls"
   ]
  },
  {
   "cell_type": "code",
   "execution_count": 86,
   "id": "8febcbae",
   "metadata": {},
   "outputs": [
    {
     "data": {
      "text/plain": [
       "[{'name': 'duckduckgo_search',\n",
       "  'args': {'query': 'current GDP of India 2023'},\n",
       "  'id': 'call_gRzOVgL30IkBPRnjOcVBYyWw',\n",
       "  'type': 'tool_call'}]"
      ]
     },
     "execution_count": 86,
     "metadata": {},
     "output_type": "execute_result"
    }
   ],
   "source": [
    "llm_with_tools.invoke(\"what is a current gdp of india with current affaires\").tool_calls"
   ]
  },
  {
   "cell_type": "code",
   "execution_count": 87,
   "id": "650a34e4",
   "metadata": {},
   "outputs": [],
   "source": [
    "from langchain_core.messages import HumanMessage, SystemMessage"
   ]
  },
  {
   "cell_type": "code",
   "execution_count": 88,
   "id": "24925dc4",
   "metadata": {},
   "outputs": [],
   "source": [
    "# System message\n",
    "sys_msg = SystemMessage(content=\"You are a helpful assistant tasked with using search and performing arithmetic on a set of inputs.\")"
   ]
  },
  {
   "cell_type": "code",
   "execution_count": 89,
   "id": "a19a024a",
   "metadata": {},
   "outputs": [],
   "source": [
    "def assistant(state:MessagesState):\n",
    "    return {\"messages\":[llm_with_tools.invoke([sys_msg]+state[\"messages\"])]}"
   ]
  },
  {
   "cell_type": "code",
   "execution_count": 90,
   "id": "877fa1d5",
   "metadata": {},
   "outputs": [],
   "source": [
    "builder = StateGraph(MessagesState)"
   ]
  },
  {
   "cell_type": "code",
   "execution_count": 91,
   "id": "1c2042af",
   "metadata": {},
   "outputs": [
    {
     "data": {
      "text/plain": [
       "<langgraph.graph.state.StateGraph at 0x27e47cf14d0>"
      ]
     },
     "execution_count": 91,
     "metadata": {},
     "output_type": "execute_result"
    }
   ],
   "source": [
    "builder.add_node(\"assistant\",assistant)"
   ]
  },
  {
   "cell_type": "code",
   "execution_count": 92,
   "id": "2cb6ce21",
   "metadata": {},
   "outputs": [
    {
     "data": {
      "text/plain": [
       "<langgraph.graph.state.StateGraph at 0x27e47cf14d0>"
      ]
     },
     "execution_count": 92,
     "metadata": {},
     "output_type": "execute_result"
    }
   ],
   "source": [
    "builder.add_node(\"tools\",ToolNode(tools))"
   ]
  },
  {
   "cell_type": "code",
   "execution_count": 93,
   "id": "ac5d6718",
   "metadata": {},
   "outputs": [
    {
     "data": {
      "text/plain": [
       "<langgraph.graph.state.StateGraph at 0x27e47cf14d0>"
      ]
     },
     "execution_count": 93,
     "metadata": {},
     "output_type": "execute_result"
    }
   ],
   "source": [
    "builder.add_edge(START,\"assistant\")"
   ]
  },
  {
   "cell_type": "code",
   "execution_count": 94,
   "id": "32722c39",
   "metadata": {},
   "outputs": [],
   "source": [
    "\n",
    "from langgraph.prebuilt import tools_condition"
   ]
  },
  {
   "cell_type": "code",
   "execution_count": 95,
   "id": "34d176f2",
   "metadata": {},
   "outputs": [
    {
     "data": {
      "text/plain": [
       "<langgraph.graph.state.StateGraph at 0x27e47cf14d0>"
      ]
     },
     "execution_count": 95,
     "metadata": {},
     "output_type": "execute_result"
    }
   ],
   "source": [
    "builder.add_conditional_edges(\n",
    "    \"assistant\",\n",
    "    tools_condition #it will automatically ends, if it didn't go to tools\n",
    ")"
   ]
  },
  {
   "cell_type": "code",
   "execution_count": 96,
   "id": "b8b3e95b",
   "metadata": {},
   "outputs": [],
   "source": [
    "react_app = builder.compile()"
   ]
  },
  {
   "cell_type": "code",
   "execution_count": 97,
   "id": "0f009e31",
   "metadata": {},
   "outputs": [
    {
     "data": {
      "image/png": "[encoded data removed]",
      "text/plain": [
       "<IPython.core.display.Image object>"
      ]
     },
     "metadata": {},
     "output_type": "display_data"
    }
   ],
   "source": [
    "display(Image(react_app.get_graph().draw_mermaid_png()))"
   ]
  },
  {
   "cell_type": "code",
   "execution_count": 98,
   "id": "197108a8",
   "metadata": {},
   "outputs": [
    {
     "name": "stderr",
     "output_type": "stream",
     "text": [
      "Adding an edge to a graph that has already been compiled. This will not be reflected in the compiled graph.\n"
     ]
    },
    {
     "data": {
      "text/plain": [
       "<langgraph.graph.state.StateGraph at 0x27e47cf14d0>"
      ]
     },
     "execution_count": 98,
     "metadata": {},
     "output_type": "execute_result"
    }
   ],
   "source": [
    "builder.add_edge(\"tools\",\"assistant\")"
   ]
  },
  {
   "cell_type": "code",
   "execution_count": 99,
   "id": "90bc0cec",
   "metadata": {},
   "outputs": [],
   "source": [
    "react_app = builder.compile()"
   ]
  },
  {
   "cell_type": "code",
   "execution_count": 100,
   "id": "100c88e5",
   "metadata": {},
   "outputs": [
    {
     "data": {
      "image/png": "[encoded data removed]",
      "text/plain": [
       "<IPython.core.display.Image object>"
      ]
     },
     "metadata": {},
     "output_type": "display_data"
    }
   ],
   "source": [
    "display(Image(react_app.get_graph().draw_mermaid_png()))"
   ]
  },
  {
   "cell_type": "code",
   "execution_count": 101,
   "id": "3a4f5fb0",
   "metadata": {},
   "outputs": [],
   "source": [
    "message = [HumanMessage(content = \"what is twice of narendra modi's current age?\")]\n",
    "\n",
    "## this below detail is called a agentic flow\n",
    "# first it will come to assistant\n",
    "# then it will search narendra modi age\n",
    "# then it will come to again assistant\n",
    "# then it wil call the multiply tool for getting twice of age\n",
    "# then again it will come to assistant \n",
    "# then it will generate a final answer\n",
    "\n",
    "# REACT->> Reasoning+actions\n",
    "\n",
    "# Thinking, action, observation, thiniking,action, observation---> if everything is going to be full fill\n",
    "# then generating a final ans"
   ]
  },
  {
   "cell_type": "code",
   "execution_count": 102,
   "id": "030c2974",
   "metadata": {},
   "outputs": [],
   "source": [
    "response = react_app.invoke({\"messages\":message})"
   ]
  },
  {
   "cell_type": "code",
   "execution_count": 103,
   "id": "2a757c13",
   "metadata": {},
   "outputs": [
    {
     "name": "stdout",
     "output_type": "stream",
     "text": [
      "================================\u001b[1m Human Message \u001b[0m=================================\n",
      "\n",
      "what is twice of narendra modi's current age?\n",
      "==================================\u001b[1m Ai Message \u001b[0m==================================\n",
      "Tool Calls:\n",
      "  duckduckgo_search (call_vcvSoRFyjxbD35MSn4b54uE7)\n",
      " Call ID: call_vcvSoRFyjxbD35MSn4b54uE7\n",
      "  Args:\n",
      "    query: current age of Narendra Modi\n",
      "=================================\u001b[1m Tool Message \u001b[0m=================================\n",
      "Name: duckduckgo_search\n",
      "\n",
      "List of all Prime Ministers of India till 2025: Narendra Modi is the current and 14th Prime Minister of India who assumed office on 10 June 2024. Jawaharlal Nehru is the first and the longest ... Narendra Modi (born September 17, 1950, Vadnagar, India) is an Indian politician and government official who rose to become a senior leader of the Bharatiya Janata Party (BJP). In 2014 he led his party to victory in elections to the Lok Sabha (lower chamber of the Indian parliament), after which he was sworn in as prime minister of India.Prior to that he had served (2001-14) as chief ... After releasing them into their wild, Modi also clicked their pictures. 2021: As part of efforts to tackle the Covid-19 pandemic, a record 2.26 vaccines were administered in a single day. 2014 : Narendra Modi was elected as the 14th and current Prime Minister of India. Modi was sworn in as the Prime Minister of India on 26 May 2014. Modi was sworn in as the Prime Minister of India ... Prime Minister Narendra Modi Biography: Discover Narendra Modi's Age, Full Name, Family, Salary, Date of Birth, Qualification, Net Worth, Mother's Name, and Age. ... In Vadnagar, Mehsana district, Bombay State (current-day Gujarat), Narendra Damodardas Modi in 1950, to a Gujarati Hindu family of grocery store owners. PM Modi birthday is ...\n",
      "==================================\u001b[1m Ai Message \u001b[0m==================================\n",
      "Tool Calls:\n",
      "  duckduckgo_search (call_ZVzxg7F52qrHpgmIkpGEqcEx)\n",
      " Call ID: call_ZVzxg7F52qrHpgmIkpGEqcEx\n",
      "  Args:\n",
      "    query: Narendra Modi birth date\n",
      "=================================\u001b[1m Tool Message \u001b[0m=================================\n",
      "Name: duckduckgo_search\n",
      "\n",
      "Narendra Modi (born September 17, 1950, Vadnagar, India) is an Indian politician and government official who rose to become a senior leader of the Bharatiya Janata Party (BJP). In 2014 he led his party to victory in elections to the Lok Sabha (lower chamber of the Indian parliament), after which he was sworn in as prime minister of India.Prior to that he had served (2001-14) as chief ... Narendra Modi Age, Date of Birth, and Full Name. Facts about Narendra Modi: Date of Birth of Narendra Modi: PM Modi was born on September 17, 1950. Age of Narendra Modi: In Vadnagar, Gujarat, on September 17, 1950, the current Prime Minister Narendra Modi was born hence PM Modi Age is 73 years. Narendra Modi: Date of Birth: 17 Sep 1950 (Age 74) Place of Birth: Vadnagar, Mehsana (Gujarat) Party Name: Bharatiya Janta Party: Education: Post Graduate: Profession: Social Worker, Political ... CBSE Class 10 And 12 Results 2025: What We Know So Far About Release Date. ... Born as Narendra Damodardas Modi on September 17, 1950 in the nondescript Mehsana town of Gujarat, he served as the ... Narendra Modi (born 17 September 1950) is an Indian Politician, 14th Prime Minister of India, and BJP leader from Vadnagar, Gujarat, India. ... Real Full Birth Name: Narendra Damodardas Modi. Nickname: Narendra Modi & NaMo. Profession: Politician and Prime Minister. Famous as: 15th Prime Minister of India. Age (As of 2019) 69 years old. Date of ...\n",
      "==================================\u001b[1m Ai Message \u001b[0m==================================\n",
      "Tool Calls:\n",
      "  multiply (call_g67uWYutgESfTUV1JaQ7G2kB)\n",
      " Call ID: call_g67uWYutgESfTUV1JaQ7G2kB\n",
      "  Args:\n",
      "    a: 73\n",
      "    b: 2\n",
      "=================================\u001b[1m Tool Message \u001b[0m=================================\n",
      "Name: multiply\n",
      "\n",
      "146\n",
      "==================================\u001b[1m Ai Message \u001b[0m==================================\n",
      "\n",
      "Narendra Modi is currently 73 years old. Twice his current age would be 146 years.\n"
     ]
    }
   ],
   "source": [
    "for m in response[\"messages\"]:\n",
    "    m.pretty_print()"
   ]
  },
  {
   "cell_type": "code",
   "execution_count": 104,
   "id": "83208432",
   "metadata": {},
   "outputs": [],
   "source": [
    "messages = [HumanMessage(content=\"hi hello how are you?\")]"
   ]
  },
  {
   "cell_type": "code",
   "execution_count": 105,
   "id": "b811ca15",
   "metadata": {},
   "outputs": [],
   "source": [
    "response = react_app.invoke({\"messages\":messages})"
   ]
  },
  {
   "cell_type": "code",
   "execution_count": 106,
   "id": "e19b73e2",
   "metadata": {},
   "outputs": [
    {
     "name": "stdout",
     "output_type": "stream",
     "text": [
      "================================\u001b[1m Human Message \u001b[0m=================================\n",
      "\n",
      "hi hello how are you?\n",
      "==================================\u001b[1m Ai Message \u001b[0m==================================\n",
      "\n",
      "Hello! I'm just a virtual assistant, so I don't have feelings, but I'm here and ready to help you. How can I assist you today?\n"
     ]
    }
   ],
   "source": [
    "for m in response[\"messages\"]:\n",
    "    m.pretty_print()"
   ]
  },
  {
   "cell_type": "code",
   "execution_count": 107,
   "id": "c89715f9",
   "metadata": {},
   "outputs": [],
   "source": [
    "#########################################################################################"
   ]
  },
  {
   "cell_type": "markdown",
   "id": "ead8d44d",
   "metadata": {},
   "source": [
    "1. humanmessage\n",
    "2. ai mesage:toolcall\n",
    "3. duckcuk\n",
    "4. ai assistant\n",
    "5. sustract\n",
    "6. ai\n",
    "7. final answer"
   ]
  },
  {
   "cell_type": "code",
   "execution_count": 108,
   "id": "5c69e77a",
   "metadata": {},
   "outputs": [],
   "source": [
    "messages = [HumanMessage(content=\"what is current gdp of china and india can you give me difference between them?\")]"
   ]
  },
  {
   "cell_type": "code",
   "execution_count": 109,
   "id": "52ca8147",
   "metadata": {},
   "outputs": [],
   "source": [
    "response = react_app.invoke({\"messages\":messages})"
   ]
  },
  {
   "cell_type": "code",
   "execution_count": 110,
   "id": "ed95b3be",
   "metadata": {},
   "outputs": [
    {
     "name": "stdout",
     "output_type": "stream",
     "text": [
      "================================\u001b[1m Human Message \u001b[0m=================================\n",
      "\n",
      "what is current gdp of china and india can you give me difference between them?\n",
      "==================================\u001b[1m Ai Message \u001b[0m==================================\n",
      "Tool Calls:\n",
      "  duckduckgo_search (call_ATl7Oa5rD482ab2YGntTZeNG)\n",
      " Call ID: call_ATl7Oa5rD482ab2YGntTZeNG\n",
      "  Args:\n",
      "    query: current GDP of China 2023\n",
      "  duckduckgo_search (call_xIkozyMQ2U1mZIcXpL8epWj0)\n",
      " Call ID: call_xIkozyMQ2U1mZIcXpL8epWj0\n",
      "  Args:\n",
      "    query: current GDP of India 2023\n",
      "=================================\u001b[1m Tool Message \u001b[0m=================================\n",
      "Name: duckduckgo_search\n",
      "\n",
      "Graph and download economic data for Gross Domestic Product for China (MKTGDPCNA646NWDB) from 1960 to 2023 about China and GDP. Gross Domestic Product for China. Skip to main content. ... Data are in current U.S. dollars. Dollar figures for GDP are converted from domestic currencies using single year official exchange rates. For a few countries ... Based on China's accounting system for gross domestic product (GDP) and the results of the Fifth National Economic Census, along with the implementation of a reformed methodology for calculating the housing services of urban residents, the National Bureau of Statistics of China (NBS of China) has revised the preliminary GDP estimate for 2023 ... Graph and download economic data for Nominal Gross Domestic Product for China (NGDPXDCCNA) from 1992 to 2024 about China and GDP. ... 2023: 129,427,180 : 2022: 123,402,930 : 2021: 117,382,300 : 2020: 103,486,750 : View All: ... Real GDP at Constant National Prices for China. Nominal Total Credit to General Government, Adjusted for Breaks, for ... Gross domestic product (GDP) at current prices in China from 1985 to 2024 with forecasts until 2030 (in billion U.S. dollars) ... (GDP) in China 2023, by region. Per capita gross domestic product ... In 2023, China's GDP reached 17.8 trillion dollars, accounting for 16.9 percent of the world's total and solidifying its position as the world's second-largest economy.-- In 1985, the number of invention patent applications in China was 8,558. This number had soared to 526,000 by 2011, making China the world leader in this area.\n",
      "=================================\u001b[1m Tool Message \u001b[0m=================================\n",
      "Name: duckduckgo_search\n",
      "\n",
      "Nominal GDP or GDP at Current Prices in Q4 of 2023-24 is estimated at ₹78.28 lakh crore, against ₹71.23 lakh crore in Q4 of 2022-23, showing a growth rate of 9.9%. ... (CGA) and Comptroller and Auditor General of India (CAG) have been used for estimating taxes on products at Current Prices. For compiling taxes on products at constant prices ... India's Current GDP (FY24): $3.9 trillion India's GDP Growth Rate (FY24): 8.2% Also Read: Unemployment rate in India (2008 to 2023): Current rate, historical trends and more The statistic shows GDP in India from 1987 to 2023, with projections up until 2029. ... Value of PFCE in GDP at current prices India FY 2012-2025; FDI as a share of GDP India 2000-2023; The growth rate in Real GDP during 2023-24 is estimated at 8.2% as compared to 7.0% in 2022-23. Nominal GDP or GDP at Current Prices is estimated to attain a level of ₹295.36 lakh crore in the year 2023-24, against ₹269.50 lakh crore in 2022-23, showing a growth rate of 9.6%. The services sector is the largest sector of India. Gross Value Added (GVA) at current prices for the services sector is estimated at 146.44 lakh crore INR in 2023-24. The services sector accounts for 54.72% of total India's GVA of 267.62 lakh crore Indian rupees. With GVA of Rs. 73.93 lakh crore, the Industry sector contributes 27.62%.\n",
      "==================================\u001b[1m Ai Message \u001b[0m==================================\n",
      "Tool Calls:\n",
      "  subtract (call_QABFco5SFOAdaAsz1b6hwFVa)\n",
      " Call ID: call_QABFco5SFOAdaAsz1b6hwFVa\n",
      "  Args:\n",
      "    a: 17800000000000\n",
      "    b: 3900000000000\n",
      "=================================\u001b[1m Tool Message \u001b[0m=================================\n",
      "Name: subtract\n",
      "\n",
      "13900000000000\n",
      "==================================\u001b[1m Ai Message \u001b[0m==================================\n",
      "\n",
      "As of 2023, China's GDP is approximately $17.8 trillion, while India's GDP is around $3.9 trillion. The difference between the GDPs of China and India is about $13.9 trillion.\n"
     ]
    }
   ],
   "source": [
    "for m in response[\"messages\"]:\n",
    "    m.pretty_print()"
   ]
  },
  {
   "cell_type": "code",
   "execution_count": 111,
   "id": "cd12eeb8",
   "metadata": {},
   "outputs": [],
   "source": [
    "################################################################################################"
   ]
  },
  {
   "cell_type": "markdown",
   "id": "4f3f413f",
   "metadata": {},
   "source": [
    "As of 2023, China's GDP is approximately $17.73 trillion, while India's GDP is about $3.9 trillion. The difference in their GDPs is approximately $13.83 trillion, with China's economy being larger than India's by this amount."
   ]
  },
  {
   "cell_type": "code",
   "execution_count": 112,
   "id": "269c4f89",
   "metadata": {},
   "outputs": [],
   "source": [
    "# project:- rag,agent,deployment,modularcoding,ci/cd,git\n",
    "\n",
    "# multiagentic collrabtive agent and supoervisor agent\n"
   ]
  },
  {
   "cell_type": "markdown",
   "id": "8da83e52",
   "metadata": {},
   "source": [
    "Reaserch and analsysis react agent: assisgnment\n",
    "1. llm assistant\n",
    "2. take a realtime weather api to check the real time weather detail\n",
    "3. take a realtime api for checking realtime cricket score\n",
    "4. take a tool for analysis the generated data(REPL)python code\n",
    "5. create a report based on the generated data\n",
    "memory\n",
    "human in loop\n",
    "multiagentic flow\n",
    "\n",
    "\n",
    "from next week onwards will implemnt the project"
   ]
  },
  {
   "cell_type": "markdown",
   "id": "c4ec52f0",
   "metadata": {},
   "source": [
    "## 1. langgraph-> memeory saver, human in loop\n",
    "## 2. multiagents"
   ]
  },
  {
   "cell_type": "code",
   "execution_count": 113,
   "id": "7be7e337",
   "metadata": {},
   "outputs": [
    {
     "data": {
      "text/plain": [
       "'Hello! How can I assist you today?'"
      ]
     },
     "execution_count": 113,
     "metadata": {},
     "output_type": "execute_result"
    }
   ],
   "source": [
    "from dotenv import load_dotenv\n",
    "load_dotenv()\n",
    "\n",
    "import os\n",
    "\n",
    "OPENAI_API_KEY = os.getenv(\"OPENAI_API_KEY\")\n",
    "\n",
    "openai_model = ChatOpenAI(model=\"gpt-4o\")\n",
    "openai_model.invoke(\"hi\")\n",
    "openai_model.invoke(\"hi\").content"
   ]
  },
  {
   "cell_type": "code",
   "execution_count": 114,
   "id": "f47297f7",
   "metadata": {},
   "outputs": [],
   "source": [
    "\n",
    "from typing import Annotated\n",
    "\n",
    "import operator,json\n",
    "\n",
    "from typing import TypedDict, Annotated, Sequence\n",
    "from typing_extensions import TypedDict\n",
    "\n",
    "from langchain_core.messages import BaseMessage\n",
    "from langgraph.checkpoint.memory import MemorySaver\n",
    "from langgraph.graph import StateGraph,END,START\n",
    "from langgraph.graph.message import add_messages\n",
    "from langgraph.prebuilt import ToolNode, tools_condition\n",
    "from langchain_core.tools import tool\n",
    "\n",
    "from langchain_community.tools.tavily_search import TavilySearchResults"
   ]
  },
  {
   "cell_type": "code",
   "execution_count": 115,
   "id": "1d940360",
   "metadata": {},
   "outputs": [],
   "source": [
    "import os\n",
    "from langchain_community.tools.tavily_search import TavilySearchResults\n",
    "\n",
    "os.environ[\"TAVILY_API_KEY\"] = os.getenv('TAVILY_API_KEY')"
   ]
  },
  {
   "cell_type": "code",
   "execution_count": 116,
   "id": "87c82fe6",
   "metadata": {},
   "outputs": [],
   "source": [
    "import os\n",
    "# os.environ[\"TAVILY_API_KEY\"]=TAVILY_API_KEY"
   ]
  },
  {
   "cell_type": "code",
   "execution_count": 117,
   "id": "02a8be10",
   "metadata": {},
   "outputs": [],
   "source": [
    "@tool\n",
    "def multiply(first_number:int, second_number:int)->int:\n",
    "    \"\"\"multiply two integer number\"\"\"\n",
    "    return first_number * second_number"
   ]
  },
  {
   "cell_type": "code",
   "execution_count": 118,
   "id": "ea569626",
   "metadata": {},
   "outputs": [],
   "source": [
    "@tool\n",
    "def search(query:str):\n",
    "    \"\"\"perform the web search on the user query\"\"\"\n",
    "    tavily=TavilySearchResults()\n",
    "    result=tavily.invoke(query)\n",
    "    return result\n",
    "     "
   ]
  },
  {
   "cell_type": "code",
   "execution_count": 119,
   "id": "7082a82d",
   "metadata": {},
   "outputs": [
    {
     "data": {
      "text/plain": [
       "[{'title': 'Prime Minister of India - Wikipedia',\n",
       "  'url': 'https://en.wikipedia.org/wiki/Prime_Minister_of_India',\n",
       "  'content': \"Rao, Atal Bihari Vajpayee, Manmohan Singh, and Narendra Modi. Modi is the current prime minister of India, serving since 26 May 2014 and the first to win three consecutive elections to secure a third successive term , 2014 , 2019 ,2024 [...] Prime Minister of India\\nBhārata kē Pradhānamantrī\\nLogo of the Prime Minister of India\\nFlag of India\\nIncumbentNarendra Modisince\\xa026 May 2014\\nPrime Minister's OfficeUnion Council of MinistersExecutive branch of the Indian Government\\nStyle | The HonourableMr. Prime Minister(informal)His Excellency(diplomatic)\\nType | Head of government\\nAbbreviation | PM\\nMember of | Parliament of IndiaUnion Council of Ministers\\nReports to | President of IndiaVice President of IndiaParliament of India [...] Party | PMs | Years in PMO | Name(s) | Alliance\\n | Indian National Congress | 6[a] | 54 years | Jawaharlal Nehru,Lal Bahadur Shastri,Indira Gandhi,Rajiv Gandhi,P. V. Narasimha RaoandManmohan Singh[a] | DMK,CPIandCPI (M)(1969–1971)DMK(1971–1976)AIADMK(1991–1994)UPA(2004–2014)\\n | Bharatiya Janata Party | 2 | 16 years | Atal Bihari VajpayeeandNarendra Modi | NDA(from 1998)\\n | Janata Dal | 3 | 2 years | Vishwanath Pratap Singh,H. D. Deve GowdaandInder Kumar Gujral | NF(1989–1990)UF(1996–1998)\",\n",
       "  'score': 0.8805613},\n",
       " {'title': 'List of all Prime Ministers of India (1947-2025) - Jagran Josh',\n",
       "  'url': 'https://www.jagranjosh.com/general-knowledge/list-of-all-prime-ministers-of-india-1473165149-1',\n",
       "  'content': \"Currently, Narendra Modi is the Prime Minister of India, having been in office since 2014. He is the 14th Prime Minister of India who had three consecutive terms on the post.\\xa0He took the Prime Minister's Oath on June 9, 2024.\\n\\nThis article provides a complete list of all the Prime Ministers of India from 1947 to 2025, along with their contributions to the country’s growth. The list reflects India's democratic resilience and its leaders' varied contributions to the nation's progress. [...] India has been governed by 14 prime ministers over the years. Currently,\\xa0Narendra Modi is serving his third term as Prime Minister in 2024, continuing his leadership journey that started in 2014.\\n\\nKnown for major reforms like GST, Make in India, and Swachh Bharat, Modi's tenure also included bold actions like Article 370’s revocation and digital advancements.\\n\\nHere is the List of Prime Ministers of India from 1947-2025: [...] 17 | Narendra Modi (born 1950) | 26 May 2014 | May 30, 2019 | 10 years, 192 days | Bharatiya Janata Party (NDA)\\nMay 30, 2019 | June 9, 2024\\nJune 9, 2024 | Incumbent\\nList of all the Prime Ministers of India: Important Points\",\n",
       "  'score': 0.8660535},\n",
       " {'title': \"PM Sangrahlaya - a Tribute to India's Prime Ministers\",\n",
       "  'url': 'https://www.pmsangrahalaya.gov.in/prime-ministers-of-india',\n",
       "  'content': 'Shri Narendra Modi is the current and the fourth longest-serving Prime Minister of India. He served as the Chief Minister of Gujarat for 14 years and was',\n",
       "  'score': 0.83710164},\n",
       " {'title': 'Know the PM | Prime Minister of India',\n",
       "  'url': 'https://www.pmindia.gov.in/en/pms-profile/',\n",
       "  'content': 'PMINDIA\\n\\nKnow the PM\\n\\n\\n\\nShri Narendra Modi was sworn-in as India’s Prime Minister for the third time on 9th June 2024, following another decisive victory in the 2024 Parliamentary elections. This victory marked the third consecutive term for Shri Modi, further solidifying his leadership. [...] The first ever Prime Minister to be born after Independence, Shri Modi has previously served as the Prime Minister of India from 2014 to 2019, and from 2019 to 2024. He also has the distinction of being the longest serving Chief Minister of Gujarat with his term spanning from October 2001 to May 2014. [...] Leading international agencies have noted that under the leadership of PM Narendra Modi, India has been eliminating poverty at record pace. According to the findings from NITI Aayog’s latest report ‘Multidimensional Poverty in India since 2005-06’, almost 25 crore people escaped multidimensional poverty in last nine years. The credit for this remarkable achievement goes to significant initiatives of the government to address all dimensions of poverty.',\n",
       "  'score': 0.82425016},\n",
       " {'title': 'Prime Minister of India',\n",
       "  'url': 'http://www.pmindia.gov.in/en/',\n",
       "  'content': \"Shri Narendra Modi was sworn-in as India’s Prime Minister for the third time on 9th June 2024, following another decisive victory in the 2024 Parliamentary elections. This victory marked the third consecutive term for Shri Modi, further solidifying his leadership. [...] PMINDIA\\n\\nNews Updates\\n\\nPM congratulates Mr. Lawrence Wong on Election Victory\\n\\nPrime Minister Shri Narendra Modi extended his congratulations to Mr. Lawrence Wong on his victory in the elections.\\n\\nJammu & Kashmir Chief Minister meets PM\\n\\nThe Chief Minister of Jammu & Kashmir, Shri Omar Abdullah met the Prime Minister, Shri Narendra Modi in New Delhi today.\\n\\nPM congratulates Mr. Anthony Albanese on being elected as Prime Minister of Australia [...] Know the PM\\n\\nDynamic, dedicated and determined, Narendra Modi arrives as a ray of hope in the lives of a billion Indians.\\n\\nFormer Prime Ministers\\n\\nPM's Profile\",\n",
       "  'score': 0.7327644}]"
      ]
     },
     "execution_count": 119,
     "metadata": {},
     "output_type": "execute_result"
    }
   ],
   "source": [
    "search.invoke(\"who is a current PM in india?\")"
   ]
  },
  {
   "cell_type": "code",
   "execution_count": 120,
   "id": "205e5ebb",
   "metadata": {},
   "outputs": [],
   "source": [
    "tools = [search,multiply]"
   ]
  },
  {
   "cell_type": "code",
   "execution_count": 121,
   "id": "3363a5a1",
   "metadata": {},
   "outputs": [],
   "source": [
    "model_with_tools = openai_model.bind_tools(tools)"
   ]
  },
  {
   "cell_type": "code",
   "execution_count": 122,
   "id": "51c7ef4f",
   "metadata": {},
   "outputs": [
    {
     "data": {
      "text/plain": [
       "AIMessage(content='', additional_kwargs={'tool_calls': [{'id': 'call_rylAZc5uTmcQ6H5TcOBYjuxI', 'function': {'arguments': '{\"query\":\"current Prime Minister of Japan 2023\"}', 'name': 'search'}, 'type': 'function'}], 'refusal': None}, response_metadata={'token_usage': {'completion_tokens': 21, 'prompt_tokens': 78, 'total_tokens': 99, 'completion_tokens_details': {'accepted_prediction_tokens': 0, 'audio_tokens': 0, 'reasoning_tokens': 0, 'rejected_prediction_tokens': 0}, 'prompt_tokens_details': {'audio_tokens': 0, 'cached_tokens': 0}}, 'model_name': 'gpt-4o-2024-08-06', 'system_fingerprint': 'fp_90122d973c', 'id': 'chatcmpl-BTLweix7nG0p08r6cDFfwAmHTxtpt', 'finish_reason': 'tool_calls', 'logprobs': None}, id='run-5a3f9abb-ae99-47e0-9642-eef34658b931-0', tool_calls=[{'name': 'search', 'args': {'query': 'current Prime Minister of Japan 2023'}, 'id': 'call_rylAZc5uTmcQ6H5TcOBYjuxI', 'type': 'tool_call'}], usage_metadata={'input_tokens': 78, 'output_tokens': 21, 'total_tokens': 99, 'input_token_details': {'audio': 0, 'cache_read': 0}, 'output_token_details': {'audio': 0, 'reasoning': 0}})"
      ]
     },
     "execution_count": 122,
     "metadata": {},
     "output_type": "execute_result"
    }
   ],
   "source": [
    "model_with_tools.invoke(\"who is a cuurent pm of japan?\")"
   ]
  },
  {
   "cell_type": "code",
   "execution_count": 123,
   "id": "777ae390",
   "metadata": {},
   "outputs": [
    {
     "data": {
      "text/plain": [
       "[{'name': 'search',\n",
       "  'args': {'query': 'current Prime Minister of Japan 2023'},\n",
       "  'id': 'call_U44ETEAF0vp7UkLwYBUjWXVV',\n",
       "  'type': 'tool_call'}]"
      ]
     },
     "execution_count": 123,
     "metadata": {},
     "output_type": "execute_result"
    }
   ],
   "source": [
    "model_with_tools.invoke(\"who is a cuurent pm of japan?\").tool_calls"
   ]
  },
  {
   "cell_type": "code",
   "execution_count": 124,
   "id": "da9237f0",
   "metadata": {},
   "outputs": [],
   "source": [
    "tool_mapping = {tool.name: tool for tool in tools}"
   ]
  },
  {
   "cell_type": "code",
   "execution_count": 125,
   "id": "c5148ea5",
   "metadata": {},
   "outputs": [
    {
     "data": {
      "text/plain": [
       "{'search': StructuredTool(name='search', description='perform the web search on the user query', args_schema=<class 'langchain_core.utils.pydantic.search'>, func=<function search at 0x0000027E5E11E7A0>),\n",
       " 'multiply': StructuredTool(name='multiply', description='multiply two integer number', args_schema=<class 'langchain_core.utils.pydantic.multiply'>, func=<function multiply at 0x0000027E47D5A020>)}"
      ]
     },
     "execution_count": 125,
     "metadata": {},
     "output_type": "execute_result"
    }
   ],
   "source": [
    "tool_mapping"
   ]
  },
  {
   "cell_type": "code",
   "execution_count": 126,
   "id": "8ed66455",
   "metadata": {},
   "outputs": [],
   "source": [
    "response = model_with_tools.invoke(\"who is a current president of uk?\")"
   ]
  },
  {
   "cell_type": "code",
   "execution_count": 127,
   "id": "128d5625",
   "metadata": {},
   "outputs": [
    {
     "data": {
      "text/plain": [
       "AIMessage(content='The United Kingdom does not have a president. Instead, it has a constitutional monarchy and a parliamentary democracy. As of the latest information, the head of state is King Charles III, and the head of government is the Prime Minister. Rishi Sunak is the current Prime Minister of the United Kingdom.', additional_kwargs={'refusal': None}, response_metadata={'token_usage': {'completion_tokens': 62, 'prompt_tokens': 77, 'total_tokens': 139, 'completion_tokens_details': {'accepted_prediction_tokens': 0, 'audio_tokens': 0, 'reasoning_tokens': 0, 'rejected_prediction_tokens': 0}, 'prompt_tokens_details': {'audio_tokens': 0, 'cached_tokens': 0}}, 'model_name': 'gpt-4o-2024-08-06', 'system_fingerprint': 'fp_90122d973c', 'id': 'chatcmpl-BTLwgt8wWPOLSFNrWYQnjqKsozAxl', 'finish_reason': 'stop', 'logprobs': None}, id='run-b9df1135-9851-4a06-a3df-f25234e55fc8-0', usage_metadata={'input_tokens': 77, 'output_tokens': 62, 'total_tokens': 139, 'input_token_details': {'audio': 0, 'cache_read': 0}, 'output_token_details': {'audio': 0, 'reasoning': 0}})"
      ]
     },
     "execution_count": 127,
     "metadata": {},
     "output_type": "execute_result"
    }
   ],
   "source": [
    "response"
   ]
  },
  {
   "cell_type": "code",
   "execution_count": 128,
   "id": "8c1b8f8e",
   "metadata": {},
   "outputs": [],
   "source": [
    "tool_details = response.additional_kwargs"
   ]
  },
  {
   "cell_type": "code",
   "execution_count": 129,
   "id": "b7366adb",
   "metadata": {},
   "outputs": [
    {
     "data": {
      "text/plain": [
       "{'refusal': None}"
      ]
     },
     "execution_count": 129,
     "metadata": {},
     "output_type": "execute_result"
    }
   ],
   "source": [
    "tool_details"
   ]
  },
  {
   "cell_type": "code",
   "execution_count": 130,
   "id": "e4b5ceb3",
   "metadata": {},
   "outputs": [],
   "source": [
    "tool_details = tool_details.get(\"tool_calls\")"
   ]
  },
  {
   "cell_type": "code",
   "execution_count": 131,
   "id": "18945983",
   "metadata": {},
   "outputs": [],
   "source": [
    "# tool_details[0][\"function\"][\"name\"]"
   ]
  },
  {
   "cell_type": "code",
   "execution_count": 132,
   "id": "b51c797a",
   "metadata": {},
   "outputs": [
    {
     "ename": "TypeError",
     "evalue": "'NoneType' object is not subscriptable",
     "output_type": "error",
     "traceback": [
      "\u001b[31m---------------------------------------------------------------------------\u001b[39m",
      "\u001b[31mTypeError\u001b[39m                                 Traceback (most recent call last)",
      "\u001b[36mCell\u001b[39m\u001b[36m \u001b[39m\u001b[32mIn[132]\u001b[39m\u001b[32m, line 1\u001b[39m\n\u001b[32m----> \u001b[39m\u001b[32m1\u001b[39m \u001b[43mtool_details\u001b[49m\u001b[43m[\u001b[49m\u001b[32;43m0\u001b[39;49m\u001b[43m]\u001b[49m[\u001b[33m\"\u001b[39m\u001b[33mfunction\u001b[39m\u001b[33m\"\u001b[39m][\u001b[33m\"\u001b[39m\u001b[33marguments\u001b[39m\u001b[33m\"\u001b[39m]\n",
      "\u001b[31mTypeError\u001b[39m: 'NoneType' object is not subscriptable"
     ]
    }
   ],
   "source": [
    "tool_details[0][\"function\"][\"arguments\"]"
   ]
  },
  {
   "cell_type": "code",
   "execution_count": null,
   "id": "e1a8a102",
   "metadata": {},
   "outputs": [
    {
     "data": {
      "text/plain": [
       "{'query': 'current Prime Minister of UK 2023'}"
      ]
     },
     "execution_count": 179,
     "metadata": {},
     "output_type": "execute_result"
    }
   ],
   "source": [
    "json.loads(tool_details[0][\"function\"][\"arguments\"])"
   ]
  },
  {
   "cell_type": "code",
   "execution_count": null,
   "id": "ecb1eee2",
   "metadata": {},
   "outputs": [
    {
     "data": {
      "text/plain": [
       "[{'title': 'Rishi Sunak - Wikipedia',\n",
       "  'url': 'https://en.wikipedia.org/wiki/Rishi_Sunak',\n",
       "  'content': \"Sunak selected his cabinet ministers after his appointment as prime minister. Jeremy Hunt was appointed Chancellor of the Exchequer, and Dominic Raab was also re-appointed as deputy prime minister and Justice Secretary, he later resigned from these roles in April 2023 and was replaced by Oliver Dowden. James Cleverly was appointed Foreign Secretary with Suella Braverman as Home Secretary. Ben Wallace was appointed Secretary of State for Defence. Michael Gove was appointed Levelling Up [...] PoliciesPolitical positionsLeader of the Conservative PartyLeader of the OppositionMP for Richmond and NorthallertonChancellor of the ExchequerChancellorshipCOVID-19 pandemicgovernment responseFurlough SchemeEat Out to Help OutPartygateLockdown FilesInquiryCost-of-living crisisIndustrial disputespostal workersstrikesrailway strikesNHS strikesJuly 2022 government crisisBudgets2020March 2021October 20212020 statementWinter Economy PlanPrime Minister of the United KingdomPremiershipMinistry2023 [...] Rishi Sunak[a] (born 12 May 1980) is a British politician who served as Prime Minister of the United Kingdom and Leader of the Conservative Party from 2022 to 2024. Following his defeat to Keir Starmer's Labour Party in the 2024 general election, he became Leader of the Opposition, serving in this role from July to November 2024. He previously held two Cabinet positions under Boris Johnson, latterly as Chancellor of the Exchequer from 2020 to 2022. Sunak has been Member of Parliament (MP) for\",\n",
       "  'score': 0.8190992},\n",
       " {'title': 'Prime Minister of the United Kingdom - Wikipedia',\n",
       "  'url': 'https://en.wikipedia.org/wiki/Prime_Minister_of_the_United_Kingdom',\n",
       "  'content': 'The most recent former prime minister to die was Margaret Thatcher (1979–1990) on 8 April 2013. Her death meant that for the first time since 1955 (the year in which the Earldom of Attlee was created, subsequent to the death of Earl Baldwin in 1947) the membership of the House of Lords included no former prime minister, a situation which remained the case until David Cameron was appointed to the House in November 2023.\\n\\nActivities',\n",
       "  'score': 0.735737},\n",
       " {'title': 'In pictures: UK Prime Minister Keir Starmer - CNN',\n",
       "  'url': 'https://www.cnn.com/2024/07/04/uk/gallery/keir-starmer',\n",
       "  'content': \"Labour leader Keir Starmer is the new prime minister, replacing Rishi Sunak. Starmer, 61, has promised to be the agent of change that Britain needs. He has pledged to grow the\\xa0country's\\xa0economy by reforming planning laws and investing in a new industrial strategy. He\\xa0has said he\\xa0will set up a national wealth fund with £7.3 billion\\xa0($9.2 billion)\\xa0of public money that will help pay for the transition to net zero\\xa0emissions. [...] CNN values your feedback\\n\\nIn pictures: UK Prime Minister Keir Starmer\\n\\nThe center-left Labour Party has won Britain's general election by a landslide, ending a 14-year era of Conservative rule in decisive fashion.\",\n",
       "  'score': 0.69870013},\n",
       " {'title': 'Rishi Sunak | Biography, Wife, Politics, & Net Worth - Britannica',\n",
       "  'url': 'https://www.britannica.com/biography/Rishi-Sunak',\n",
       "  'content': 'In November 2023 Sunak sacked controversial home secretary Suella Braverman as part of a broader cabinet reshuffle that saw the stunning return to government of former prime minister David Cameron as foreign secretary. Cameron, who was elevated to the House of Lords and created Lord Cameron of Chipping Norton in order to take his seat in the cabinet, seemed an unusual choice, as Sunak had previously endeavored to characterize his government as a break with the past. The return of Cameron to',\n",
       "  'score': 0.6519982},\n",
       " {'title': \"Keir Starmer confirmed as Britain's new prime minister after Labour ...\",\n",
       "  'url': 'https://www.nbcnews.com/news/world/live-blog/uk-general-election-live-results-britain-starmer-win-labour-rcna160339',\n",
       "  'content': 'With the election result increasingly clear, Prime Minister-elect Keir Starmer must travel to Buckingham Palace to be formally appointed by King Charles III, a ceremonial ritual in Britain’s constitutional democracy. It will be the king’s first post-election appointment, but he has some way to go before he equals the 15 prime ministers who served under his mother, the late Queen Elizabeth II. [...] Elsewhere in the U.K., the Conservatives lost their Scottish leader Douglas Ross as Labour picked up seats from both the party in blue and the Scottish National Party. The outgoing party of power also lost all of its seats in Wales, where it had picked up some unlikely victories in recent years. [...] David Hodari\\n\\nReporting from London\\n\\nKeir Starmer has now been formally appointed by King Charles as the United Kingdom\\'s new prime minister.\\n\\nA statement from Buckingham Palace says: \"The King received in Audience The Right Honourable Sir Keir Starmer MP today and requested him to form a new Administration. Sir Keir accepted His Majesty’s offer and kissed hands upon his appointment as Prime Minister and First Lord of the Treasury.\"',\n",
       "  'score': 0.6490677}]"
      ]
     },
     "execution_count": 180,
     "metadata": {},
     "output_type": "execute_result"
    }
   ],
   "source": [
    "tool_mapping[tool_details[0][\"function\"][\"name\"]].invoke(json.loads(tool_details[0][\"function\"][\"arguments\"]))"
   ]
  },
  {
   "cell_type": "code",
   "execution_count": null,
   "id": "b26fc42e",
   "metadata": {},
   "outputs": [],
   "source": [
    "tool_mapping={tool.name: tool for tool in tools}"
   ]
  },
  {
   "cell_type": "code",
   "execution_count": null,
   "id": "797007d5",
   "metadata": {},
   "outputs": [
    {
     "data": {
      "text/plain": [
       "{'search': StructuredTool(name='search', description='perform the web search on the user query', args_schema=<class 'langchain_core.utils.pydantic.search'>, func=<function search at 0x000001577F2D5940>),\n",
       " 'multiply': StructuredTool(name='multiply', description='multiply two integer number', args_schema=<class 'langchain_core.utils.pydantic.multiply'>, func=<function multiply at 0x000001577F2D58A0>)}"
      ]
     },
     "execution_count": 202,
     "metadata": {},
     "output_type": "execute_result"
    }
   ],
   "source": [
    "tool_mapping"
   ]
  },
  {
   "cell_type": "code",
   "execution_count": null,
   "id": "9cc43591",
   "metadata": {},
   "outputs": [],
   "source": []
  },
  {
   "cell_type": "code",
   "execution_count": null,
   "id": "65686252",
   "metadata": {},
   "outputs": [],
   "source": [
    "######################### ---------------------------- ###############################################"
   ]
  },
  {
   "cell_type": "code",
   "execution_count": null,
   "id": "ef77b951",
   "metadata": {},
   "outputs": [],
   "source": []
  },
  {
   "cell_type": "code",
   "execution_count": null,
   "id": "15d895f9",
   "metadata": {},
   "outputs": [],
   "source": [
    "\n",
    "class AgentState(TypedDict):\n",
    "    messages:Annotated[Sequence[BaseMessage], operator.add]"
   ]
  },
  {
   "cell_type": "code",
   "execution_count": null,
   "id": "1bdcca11",
   "metadata": {},
   "outputs": [],
   "source": [
    "def invoke_model(state:AgentState):\n",
    "    messages = state['messages']\n",
    "    question = messages[-1]   ## Fetching the user question\n",
    "    return {\"messages\":[model_with_tools.invoke(question)]}"
   ]
  },
  {
   "cell_type": "code",
   "execution_count": null,
   "id": "dff3f8fb",
   "metadata": {},
   "outputs": [],
   "source": [
    "def invoke_tool(state:AgentState):\n",
    "    print(\"****my state*****\")\n",
    "\n",
    "    print(state['messages'][-1])\n",
    "    \n",
    "    tool_details= state['messages'][-1].additional_kwargs.get(\"tool_calls\", [])[0]\n",
    "    \n",
    "    if tool_details is None:\n",
    "        raise Exception(\"no tool call found\")\n",
    "    \n",
    "    print(f'Selected tool: {tool_details.get(\"function\").get(\"name\")}')\n",
    "    \n",
    "    if tool_details.get(\"function\").get(\"name\")==\"search\":\n",
    "        print(\"**********tool detils****\")\n",
    "        print(tool_details)\n",
    "        response = input(prompt=f\"[y/n] continue with expensive web search?\")\n",
    "        if response == \"n\":\n",
    "            raise Exception(\"web search discard\")\n",
    "        \n",
    "    response = tool_mapping[tool_details['function']['name']].invoke(json.loads(tool_details.get(\"function\").get(\"arguments\")))\n",
    "    \n",
    "    return {\"messages\" : [response]}\n",
    "\n",
    "     "
   ]
  },
  {
   "cell_type": "code",
   "execution_count": null,
   "id": "1e925346",
   "metadata": {},
   "outputs": [],
   "source": [
    "def router(state:AgentState):\n",
    "    tool_calls = state['messages'][-1].additional_kwargs.get(\"tool_calls\", [])\n",
    "    if len(tool_calls):\n",
    "        return \"tool\"\n",
    "    else:\n",
    "        return \"end\"\n",
    "     "
   ]
  },
  {
   "cell_type": "code",
   "execution_count": null,
   "id": "9975bbaf",
   "metadata": {},
   "outputs": [],
   "source": [
    "graph = StateGraph(AgentState)"
   ]
  },
  {
   "cell_type": "code",
   "execution_count": null,
   "id": "2baeeb35",
   "metadata": {},
   "outputs": [
    {
     "data": {
      "text/plain": [
       "<langgraph.graph.state.StateGraph at 0x1577f33fcd0>"
      ]
     },
     "execution_count": 210,
     "metadata": {},
     "output_type": "execute_result"
    }
   ],
   "source": [
    "graph.add_node(\"ai_assistant\",invoke_model)\n",
    "graph.add_node(\"tool\",invoke_tool)"
   ]
  },
  {
   "cell_type": "code",
   "execution_count": null,
   "id": "6ea37701",
   "metadata": {},
   "outputs": [
    {
     "data": {
      "text/plain": [
       "<langgraph.graph.state.StateGraph at 0x1577f33fcd0>"
      ]
     },
     "execution_count": 211,
     "metadata": {},
     "output_type": "execute_result"
    }
   ],
   "source": [
    "graph.add_conditional_edges(\"ai_assistant\",\n",
    "                            router,\n",
    "                            {\"tool\":\"tool\",\n",
    "                             \"end\":END})"
   ]
  },
  {
   "cell_type": "code",
   "execution_count": null,
   "id": "b69381ba",
   "metadata": {},
   "outputs": [
    {
     "name": "stderr",
     "output_type": "stream",
     "text": [
      "Adding an edge to a graph that has already been compiled. This will not be reflected in the compiled graph.\n",
      "Adding an edge to a graph that has already been compiled. This will not be reflected in the compiled graph.\n",
      "Adding an edge to a graph that has already been compiled. This will not be reflected in the compiled graph.\n"
     ]
    },
    {
     "data": {
      "text/plain": [
       "<langgraph.graph.state.StateGraph at 0x1577f33fcd0>"
      ]
     },
     "execution_count": 217,
     "metadata": {},
     "output_type": "execute_result"
    }
   ],
   "source": [
    "graph.add_edge(\"tool\", END)\n",
    "\n",
    "graph.add_edge(\"tool\", \"ai_assistant\")\n",
    "\n",
    "graph.set_entry_point(\"ai_assistant\")"
   ]
  },
  {
   "cell_type": "code",
   "execution_count": null,
   "id": "dfaf71b3",
   "metadata": {},
   "outputs": [],
   "source": [
    "app = graph.compile()"
   ]
  },
  {
   "cell_type": "code",
   "execution_count": null,
   "id": "7810dff3",
   "metadata": {},
   "outputs": [
    {
     "data": {
      "image/png": "[encoded data removed]",
      "text/plain": [
       "<IPython.core.display.Image object>"
      ]
     },
     "metadata": {},
     "output_type": "display_data"
    }
   ],
   "source": [
    "from IPython.display import Image, display\n",
    "display(Image(app.get_graph().draw_mermaid_png()))"
   ]
  },
  {
   "cell_type": "code",
   "execution_count": null,
   "id": "537fd9cf",
   "metadata": {},
   "outputs": [
    {
     "name": "stdout",
     "output_type": "stream",
     "text": [
      "****my state*****\n",
      "content='' additional_kwargs={'tool_calls': [{'id': 'call_3uDlZebfpidUgX8q9d3q7ayj', 'function': {'arguments': '{\"query\":\"upcoming president of USA 2023\"}', 'name': 'search'}, 'type': 'function'}], 'refusal': None} response_metadata={'token_usage': {'completion_tokens': 21, 'prompt_tokens': 76, 'total_tokens': 97, 'completion_tokens_details': {'accepted_prediction_tokens': 0, 'audio_tokens': 0, 'reasoning_tokens': 0, 'rejected_prediction_tokens': 0}, 'prompt_tokens_details': {'audio_tokens': 0, 'cached_tokens': 0}}, 'model_name': 'gpt-4o-2024-08-06', 'system_fingerprint': 'fp_90122d973c', 'id': 'chatcmpl-BT1fe9p4bOTJSlzHYLQ2RETPb7HY6', 'finish_reason': 'tool_calls', 'logprobs': None} id='run-2773e2a6-b337-4adf-a6ba-42dd856012f1-0' tool_calls=[{'name': 'search', 'args': {'query': 'upcoming president of USA 2023'}, 'id': 'call_3uDlZebfpidUgX8q9d3q7ayj', 'type': 'tool_call'}] usage_metadata={'input_tokens': 76, 'output_tokens': 21, 'total_tokens': 97, 'input_token_details': {'audio': 0, 'cache_read': 0}, 'output_token_details': {'audio': 0, 'reasoning': 0}}\n",
      "Selected tool: search\n",
      "**********tool detils****\n",
      "{'id': 'call_3uDlZebfpidUgX8q9d3q7ayj', 'function': {'arguments': '{\"query\":\"upcoming president of USA 2023\"}', 'name': 'search'}, 'type': 'function'}\n"
     ]
    },
    {
     "ename": "TypeError",
     "evalue": "'dict' object is not callable",
     "output_type": "error",
     "traceback": [
      "\u001b[31m---------------------------------------------------------------------------\u001b[39m",
      "\u001b[31mTypeError\u001b[39m                                 Traceback (most recent call last)",
      "\u001b[36mCell\u001b[39m\u001b[36m \u001b[39m\u001b[32mIn[220]\u001b[39m\u001b[32m, line 1\u001b[39m\n\u001b[32m----> \u001b[39m\u001b[32m1\u001b[39m \u001b[43mapp\u001b[49m\u001b[43m.\u001b[49m\u001b[43minvoke\u001b[49m\u001b[43m(\u001b[49m\u001b[43m{\u001b[49m\u001b[33;43m\"\u001b[39;49m\u001b[33;43mmessages\u001b[39;49m\u001b[33;43m\"\u001b[39;49m\u001b[43m:\u001b[49m\u001b[43m \u001b[49m\u001b[43m[\u001b[49m\u001b[33;43m\"\u001b[39;49m\u001b[33;43mwho is upcoming president of USA?\u001b[39;49m\u001b[33;43m\"\u001b[39;49m\u001b[43m]\u001b[49m\u001b[43m}\u001b[49m\u001b[43m)\u001b[49m\n",
      "\u001b[36mFile \u001b[39m\u001b[32mc:\\Users\\Mohan\\anaconda3\\envs\\rag_env\\Lib\\site-packages\\langgraph\\pregel\\__init__.py:2718\u001b[39m, in \u001b[36mPregel.invoke\u001b[39m\u001b[34m(self, input, config, stream_mode, output_keys, interrupt_before, interrupt_after, checkpoint_during, debug, **kwargs)\u001b[39m\n\u001b[32m   2716\u001b[39m \u001b[38;5;28;01melse\u001b[39;00m:\n\u001b[32m   2717\u001b[39m     chunks = []\n\u001b[32m-> \u001b[39m\u001b[32m2718\u001b[39m \u001b[43m\u001b[49m\u001b[38;5;28;43;01mfor\u001b[39;49;00m\u001b[43m \u001b[49m\u001b[43mchunk\u001b[49m\u001b[43m \u001b[49m\u001b[38;5;129;43;01min\u001b[39;49;00m\u001b[43m \u001b[49m\u001b[38;5;28;43mself\u001b[39;49m\u001b[43m.\u001b[49m\u001b[43mstream\u001b[49m\u001b[43m(\u001b[49m\n\u001b[32m   2719\u001b[39m \u001b[43m    \u001b[49m\u001b[38;5;28;43minput\u001b[39;49m\u001b[43m,\u001b[49m\n\u001b[32m   2720\u001b[39m \u001b[43m    \u001b[49m\u001b[43mconfig\u001b[49m\u001b[43m,\u001b[49m\n\u001b[32m   2721\u001b[39m \u001b[43m    \u001b[49m\u001b[43mstream_mode\u001b[49m\u001b[43m=\u001b[49m\u001b[43mstream_mode\u001b[49m\u001b[43m,\u001b[49m\n\u001b[32m   2722\u001b[39m \u001b[43m    \u001b[49m\u001b[43moutput_keys\u001b[49m\u001b[43m=\u001b[49m\u001b[43moutput_keys\u001b[49m\u001b[43m,\u001b[49m\n\u001b[32m   2723\u001b[39m \u001b[43m    \u001b[49m\u001b[43minterrupt_before\u001b[49m\u001b[43m=\u001b[49m\u001b[43minterrupt_before\u001b[49m\u001b[43m,\u001b[49m\n\u001b[32m   2724\u001b[39m \u001b[43m    \u001b[49m\u001b[43minterrupt_after\u001b[49m\u001b[43m=\u001b[49m\u001b[43minterrupt_after\u001b[49m\u001b[43m,\u001b[49m\n\u001b[32m   2725\u001b[39m \u001b[43m    \u001b[49m\u001b[43mcheckpoint_during\u001b[49m\u001b[43m=\u001b[49m\u001b[43mcheckpoint_during\u001b[49m\u001b[43m,\u001b[49m\n\u001b[32m   2726\u001b[39m \u001b[43m    \u001b[49m\u001b[43mdebug\u001b[49m\u001b[43m=\u001b[49m\u001b[43mdebug\u001b[49m\u001b[43m,\u001b[49m\n\u001b[32m   2727\u001b[39m \u001b[43m    \u001b[49m\u001b[43m*\u001b[49m\u001b[43m*\u001b[49m\u001b[43mkwargs\u001b[49m\u001b[43m,\u001b[49m\n\u001b[32m   2728\u001b[39m \u001b[43m\u001b[49m\u001b[43m)\u001b[49m\u001b[43m:\u001b[49m\n\u001b[32m   2729\u001b[39m \u001b[43m    \u001b[49m\u001b[38;5;28;43;01mif\u001b[39;49;00m\u001b[43m \u001b[49m\u001b[43mstream_mode\u001b[49m\u001b[43m \u001b[49m\u001b[43m==\u001b[49m\u001b[43m \u001b[49m\u001b[33;43m\"\u001b[39;49m\u001b[33;43mvalues\u001b[39;49m\u001b[33;43m\"\u001b[39;49m\u001b[43m:\u001b[49m\n\u001b[32m   2730\u001b[39m \u001b[43m        \u001b[49m\u001b[43mlatest\u001b[49m\u001b[43m \u001b[49m\u001b[43m=\u001b[49m\u001b[43m \u001b[49m\u001b[43mchunk\u001b[49m\n",
      "\u001b[36mFile \u001b[39m\u001b[32mc:\\Users\\Mohan\\anaconda3\\envs\\rag_env\\Lib\\site-packages\\langgraph\\pregel\\__init__.py:2356\u001b[39m, in \u001b[36mPregel.stream\u001b[39m\u001b[34m(self, input, config, stream_mode, output_keys, interrupt_before, interrupt_after, checkpoint_during, debug, subgraphs)\u001b[39m\n\u001b[32m   2350\u001b[39m     \u001b[38;5;66;03m# Similarly to Bulk Synchronous Parallel / Pregel model\u001b[39;00m\n\u001b[32m   2351\u001b[39m     \u001b[38;5;66;03m# computation proceeds in steps, while there are channel updates.\u001b[39;00m\n\u001b[32m   2352\u001b[39m     \u001b[38;5;66;03m# Channel updates from step N are only visible in step N+1\u001b[39;00m\n\u001b[32m   2353\u001b[39m     \u001b[38;5;66;03m# channels are guaranteed to be immutable for the duration of the step,\u001b[39;00m\n\u001b[32m   2354\u001b[39m     \u001b[38;5;66;03m# with channel updates applied only at the transition between steps.\u001b[39;00m\n\u001b[32m   2355\u001b[39m     \u001b[38;5;28;01mwhile\u001b[39;00m loop.tick(input_keys=\u001b[38;5;28mself\u001b[39m.input_channels):\n\u001b[32m-> \u001b[39m\u001b[32m2356\u001b[39m \u001b[43m        \u001b[49m\u001b[38;5;28;43;01mfor\u001b[39;49;00m\u001b[43m \u001b[49m\u001b[43m_\u001b[49m\u001b[43m \u001b[49m\u001b[38;5;129;43;01min\u001b[39;49;00m\u001b[43m \u001b[49m\u001b[43mrunner\u001b[49m\u001b[43m.\u001b[49m\u001b[43mtick\u001b[49m\u001b[43m(\u001b[49m\n\u001b[32m   2357\u001b[39m \u001b[43m            \u001b[49m\u001b[43mloop\u001b[49m\u001b[43m.\u001b[49m\u001b[43mtasks\u001b[49m\u001b[43m.\u001b[49m\u001b[43mvalues\u001b[49m\u001b[43m(\u001b[49m\u001b[43m)\u001b[49m\u001b[43m,\u001b[49m\n\u001b[32m   2358\u001b[39m \u001b[43m            \u001b[49m\u001b[43mtimeout\u001b[49m\u001b[43m=\u001b[49m\u001b[38;5;28;43mself\u001b[39;49m\u001b[43m.\u001b[49m\u001b[43mstep_timeout\u001b[49m\u001b[43m,\u001b[49m\n\u001b[32m   2359\u001b[39m \u001b[43m            \u001b[49m\u001b[43mretry_policy\u001b[49m\u001b[43m=\u001b[49m\u001b[38;5;28;43mself\u001b[39;49m\u001b[43m.\u001b[49m\u001b[43mretry_policy\u001b[49m\u001b[43m,\u001b[49m\n\u001b[32m   2360\u001b[39m \u001b[43m            \u001b[49m\u001b[43mget_waiter\u001b[49m\u001b[43m=\u001b[49m\u001b[43mget_waiter\u001b[49m\u001b[43m,\u001b[49m\n\u001b[32m   2361\u001b[39m \u001b[43m        \u001b[49m\u001b[43m)\u001b[49m\u001b[43m:\u001b[49m\n\u001b[32m   2362\u001b[39m \u001b[43m            \u001b[49m\u001b[38;5;66;43;03m# emit output\u001b[39;49;00m\n\u001b[32m   2363\u001b[39m \u001b[43m            \u001b[49m\u001b[38;5;28;43;01myield from\u001b[39;49;00m\u001b[43m \u001b[49m\u001b[43moutput\u001b[49m\u001b[43m(\u001b[49m\u001b[43m)\u001b[49m\n\u001b[32m   2364\u001b[39m \u001b[38;5;66;03m# emit output\u001b[39;00m\n",
      "\u001b[36mFile \u001b[39m\u001b[32mc:\\Users\\Mohan\\anaconda3\\envs\\rag_env\\Lib\\site-packages\\langgraph\\pregel\\runner.py:158\u001b[39m, in \u001b[36mPregelRunner.tick\u001b[39m\u001b[34m(self, tasks, reraise, timeout, retry_policy, get_waiter)\u001b[39m\n\u001b[32m    156\u001b[39m t = tasks[\u001b[32m0\u001b[39m]\n\u001b[32m    157\u001b[39m \u001b[38;5;28;01mtry\u001b[39;00m:\n\u001b[32m--> \u001b[39m\u001b[32m158\u001b[39m     \u001b[43mrun_with_retry\u001b[49m\u001b[43m(\u001b[49m\n\u001b[32m    159\u001b[39m \u001b[43m        \u001b[49m\u001b[43mt\u001b[49m\u001b[43m,\u001b[49m\n\u001b[32m    160\u001b[39m \u001b[43m        \u001b[49m\u001b[43mretry_policy\u001b[49m\u001b[43m,\u001b[49m\n\u001b[32m    161\u001b[39m \u001b[43m        \u001b[49m\u001b[43mconfigurable\u001b[49m\u001b[43m=\u001b[49m\u001b[43m{\u001b[49m\n\u001b[32m    162\u001b[39m \u001b[43m            \u001b[49m\u001b[43mCONFIG_KEY_CALL\u001b[49m\u001b[43m:\u001b[49m\u001b[43m \u001b[49m\u001b[43mpartial\u001b[49m\u001b[43m(\u001b[49m\n\u001b[32m    163\u001b[39m \u001b[43m                \u001b[49m\u001b[43m_call\u001b[49m\u001b[43m,\u001b[49m\n\u001b[32m    164\u001b[39m \u001b[43m                \u001b[49m\u001b[43mweakref\u001b[49m\u001b[43m.\u001b[49m\u001b[43mref\u001b[49m\u001b[43m(\u001b[49m\u001b[43mt\u001b[49m\u001b[43m)\u001b[49m\u001b[43m,\u001b[49m\n\u001b[32m    165\u001b[39m \u001b[43m                \u001b[49m\u001b[43mretry\u001b[49m\u001b[43m=\u001b[49m\u001b[43mretry_policy\u001b[49m\u001b[43m,\u001b[49m\n\u001b[32m    166\u001b[39m \u001b[43m                \u001b[49m\u001b[43mfutures\u001b[49m\u001b[43m=\u001b[49m\u001b[43mweakref\u001b[49m\u001b[43m.\u001b[49m\u001b[43mref\u001b[49m\u001b[43m(\u001b[49m\u001b[43mfutures\u001b[49m\u001b[43m)\u001b[49m\u001b[43m,\u001b[49m\n\u001b[32m    167\u001b[39m \u001b[43m                \u001b[49m\u001b[43mschedule_task\u001b[49m\u001b[43m=\u001b[49m\u001b[38;5;28;43mself\u001b[39;49m\u001b[43m.\u001b[49m\u001b[43mschedule_task\u001b[49m\u001b[43m,\u001b[49m\n\u001b[32m    168\u001b[39m \u001b[43m                \u001b[49m\u001b[43msubmit\u001b[49m\u001b[43m=\u001b[49m\u001b[38;5;28;43mself\u001b[39;49m\u001b[43m.\u001b[49m\u001b[43msubmit\u001b[49m\u001b[43m,\u001b[49m\n\u001b[32m    169\u001b[39m \u001b[43m                \u001b[49m\u001b[43mreraise\u001b[49m\u001b[43m=\u001b[49m\u001b[43mreraise\u001b[49m\u001b[43m,\u001b[49m\n\u001b[32m    170\u001b[39m \u001b[43m            \u001b[49m\u001b[43m)\u001b[49m\u001b[43m,\u001b[49m\n\u001b[32m    171\u001b[39m \u001b[43m        \u001b[49m\u001b[43m}\u001b[49m\u001b[43m,\u001b[49m\n\u001b[32m    172\u001b[39m \u001b[43m    \u001b[49m\u001b[43m)\u001b[49m\n\u001b[32m    173\u001b[39m     \u001b[38;5;28mself\u001b[39m.commit(t, \u001b[38;5;28;01mNone\u001b[39;00m)\n\u001b[32m    174\u001b[39m \u001b[38;5;28;01mexcept\u001b[39;00m \u001b[38;5;167;01mException\u001b[39;00m \u001b[38;5;28;01mas\u001b[39;00m exc:\n",
      "\u001b[36mFile \u001b[39m\u001b[32mc:\\Users\\Mohan\\anaconda3\\envs\\rag_env\\Lib\\site-packages\\langgraph\\pregel\\retry.py:39\u001b[39m, in \u001b[36mrun_with_retry\u001b[39m\u001b[34m(task, retry_policy, configurable)\u001b[39m\n\u001b[32m     37\u001b[39m     task.writes.clear()\n\u001b[32m     38\u001b[39m     \u001b[38;5;66;03m# run the task\u001b[39;00m\n\u001b[32m---> \u001b[39m\u001b[32m39\u001b[39m     \u001b[38;5;28;01mreturn\u001b[39;00m \u001b[43mtask\u001b[49m\u001b[43m.\u001b[49m\u001b[43mproc\u001b[49m\u001b[43m.\u001b[49m\u001b[43minvoke\u001b[49m\u001b[43m(\u001b[49m\u001b[43mtask\u001b[49m\u001b[43m.\u001b[49m\u001b[43minput\u001b[49m\u001b[43m,\u001b[49m\u001b[43m \u001b[49m\u001b[43mconfig\u001b[49m\u001b[43m)\u001b[49m\n\u001b[32m     40\u001b[39m \u001b[38;5;28;01mexcept\u001b[39;00m ParentCommand \u001b[38;5;28;01mas\u001b[39;00m exc:\n\u001b[32m     41\u001b[39m     ns: \u001b[38;5;28mstr\u001b[39m = config[CONF][CONFIG_KEY_CHECKPOINT_NS]\n",
      "\u001b[36mFile \u001b[39m\u001b[32mc:\\Users\\Mohan\\anaconda3\\envs\\rag_env\\Lib\\site-packages\\langgraph\\utils\\runnable.py:622\u001b[39m, in \u001b[36mRunnableSeq.invoke\u001b[39m\u001b[34m(self, input, config, **kwargs)\u001b[39m\n\u001b[32m    620\u001b[39m     \u001b[38;5;66;03m# run in context\u001b[39;00m\n\u001b[32m    621\u001b[39m     \u001b[38;5;28;01mwith\u001b[39;00m set_config_context(config, run) \u001b[38;5;28;01mas\u001b[39;00m context:\n\u001b[32m--> \u001b[39m\u001b[32m622\u001b[39m         \u001b[38;5;28minput\u001b[39m = \u001b[43mcontext\u001b[49m\u001b[43m.\u001b[49m\u001b[43mrun\u001b[49m\u001b[43m(\u001b[49m\u001b[43mstep\u001b[49m\u001b[43m.\u001b[49m\u001b[43minvoke\u001b[49m\u001b[43m,\u001b[49m\u001b[43m \u001b[49m\u001b[38;5;28;43minput\u001b[39;49m\u001b[43m,\u001b[49m\u001b[43m \u001b[49m\u001b[43mconfig\u001b[49m\u001b[43m,\u001b[49m\u001b[43m \u001b[49m\u001b[43m*\u001b[49m\u001b[43m*\u001b[49m\u001b[43mkwargs\u001b[49m\u001b[43m)\u001b[49m\n\u001b[32m    623\u001b[39m \u001b[38;5;28;01melse\u001b[39;00m:\n\u001b[32m    624\u001b[39m     \u001b[38;5;28minput\u001b[39m = step.invoke(\u001b[38;5;28minput\u001b[39m, config)\n",
      "\u001b[36mFile \u001b[39m\u001b[32mc:\\Users\\Mohan\\anaconda3\\envs\\rag_env\\Lib\\site-packages\\langgraph\\utils\\runnable.py:376\u001b[39m, in \u001b[36mRunnableCallable.invoke\u001b[39m\u001b[34m(self, input, config, **kwargs)\u001b[39m\n\u001b[32m    374\u001b[39m         run_manager.on_chain_end(ret)\n\u001b[32m    375\u001b[39m \u001b[38;5;28;01melse\u001b[39;00m:\n\u001b[32m--> \u001b[39m\u001b[32m376\u001b[39m     ret = \u001b[38;5;28;43mself\u001b[39;49m\u001b[43m.\u001b[49m\u001b[43mfunc\u001b[49m\u001b[43m(\u001b[49m\u001b[43m*\u001b[49m\u001b[43margs\u001b[49m\u001b[43m,\u001b[49m\u001b[43m \u001b[49m\u001b[43m*\u001b[49m\u001b[43m*\u001b[49m\u001b[43mkwargs\u001b[49m\u001b[43m)\u001b[49m\n\u001b[32m    377\u001b[39m \u001b[38;5;28;01mif\u001b[39;00m \u001b[38;5;28mself\u001b[39m.recurse \u001b[38;5;129;01mand\u001b[39;00m \u001b[38;5;28misinstance\u001b[39m(ret, Runnable):\n\u001b[32m    378\u001b[39m     \u001b[38;5;28;01mreturn\u001b[39;00m ret.invoke(\u001b[38;5;28minput\u001b[39m, config)\n",
      "\u001b[36mCell\u001b[39m\u001b[36m \u001b[39m\u001b[32mIn[207]\u001b[39m\u001b[32m, line 16\u001b[39m, in \u001b[36minvoke_tool\u001b[39m\u001b[34m(state)\u001b[39m\n\u001b[32m     14\u001b[39m \u001b[38;5;28mprint\u001b[39m(\u001b[33m\"\u001b[39m\u001b[33m**********tool detils****\u001b[39m\u001b[33m\"\u001b[39m)\n\u001b[32m     15\u001b[39m \u001b[38;5;28mprint\u001b[39m(tool_details)\n\u001b[32m---> \u001b[39m\u001b[32m16\u001b[39m response = \u001b[38;5;28;43minput\u001b[39;49m\u001b[43m(\u001b[49m\u001b[43mprompt\u001b[49m\u001b[43m=\u001b[49m\u001b[33;43mf\u001b[39;49m\u001b[33;43m\"\u001b[39;49m\u001b[33;43m[y/n] continue with expensive web search?\u001b[39;49m\u001b[33;43m\"\u001b[39;49m\u001b[43m)\u001b[49m\n\u001b[32m     17\u001b[39m \u001b[38;5;28;01mif\u001b[39;00m response == \u001b[33m\"\u001b[39m\u001b[33mn\u001b[39m\u001b[33m\"\u001b[39m:\n\u001b[32m     18\u001b[39m     \u001b[38;5;28;01mraise\u001b[39;00m \u001b[38;5;167;01mException\u001b[39;00m(\u001b[33m\"\u001b[39m\u001b[33mweb search discard\u001b[39m\u001b[33m\"\u001b[39m)\n",
      "\u001b[31mTypeError\u001b[39m: 'dict' object is not callable",
      "During task with name 'tool' and id '9c5fb31d-b918-9cd3-035b-c64a22018456'"
     ]
    }
   ],
   "source": [
    "app.invoke({\"messages\": [\"who is upcoming president of USA?\"]})"
   ]
  },
  {
   "cell_type": "code",
   "execution_count": null,
   "id": "d1addde7",
   "metadata": {},
   "outputs": [
    {
     "name": "stdout",
     "output_type": "stream",
     "text": [
      "{'messages': [AIMessage(content='', additional_kwargs={'tool_calls': [{'id': 'call_wbEnE8UR9OcJzhuj9ekb3WjE', 'function': {'arguments': '{\"query\":\"upcoming president of USA 2023\"}', 'name': 'search'}, 'type': 'function'}], 'refusal': None}, response_metadata={'token_usage': {'completion_tokens': 21, 'prompt_tokens': 76, 'total_tokens': 97, 'completion_tokens_details': {'accepted_prediction_tokens': 0, 'audio_tokens': 0, 'reasoning_tokens': 0, 'rejected_prediction_tokens': 0}, 'prompt_tokens_details': {'audio_tokens': 0, 'cached_tokens': 0}}, 'model_name': 'gpt-4o-2024-08-06', 'system_fingerprint': 'fp_22890b9c0a', 'finish_reason': 'tool_calls', 'logprobs': None}, id='run-3f9b73d6-f8cf-4ce0-b2e7-a0565f76b1ea-0', tool_calls=[{'name': 'search', 'args': {'query': 'upcoming president of USA 2023'}, 'id': 'call_wbEnE8UR9OcJzhuj9ekb3WjE', 'type': 'tool_call'}], usage_metadata={'input_tokens': 76, 'output_tokens': 21, 'total_tokens': 97, 'input_token_details': {'audio': 0, 'cache_read': 0}, 'output_token_details': {'audio': 0, 'reasoning': 0}})]}\n",
      "----\n",
      "****my state*****\n",
      "content='' additional_kwargs={'tool_calls': [{'id': 'call_wbEnE8UR9OcJzhuj9ekb3WjE', 'function': {'arguments': '{\"query\":\"upcoming president of USA 2023\"}', 'name': 'search'}, 'type': 'function'}], 'refusal': None} response_metadata={'token_usage': {'completion_tokens': 21, 'prompt_tokens': 76, 'total_tokens': 97, 'completion_tokens_details': {'accepted_prediction_tokens': 0, 'audio_tokens': 0, 'reasoning_tokens': 0, 'rejected_prediction_tokens': 0}, 'prompt_tokens_details': {'audio_tokens': 0, 'cached_tokens': 0}}, 'model_name': 'gpt-4o-2024-08-06', 'system_fingerprint': 'fp_22890b9c0a', 'finish_reason': 'tool_calls', 'logprobs': None} id='run-3f9b73d6-f8cf-4ce0-b2e7-a0565f76b1ea-0' tool_calls=[{'name': 'search', 'args': {'query': 'upcoming president of USA 2023'}, 'id': 'call_wbEnE8UR9OcJzhuj9ekb3WjE', 'type': 'tool_call'}] usage_metadata={'input_tokens': 76, 'output_tokens': 21, 'total_tokens': 97, 'input_token_details': {'audio': 0, 'cache_read': 0}, 'output_token_details': {'audio': 0, 'reasoning': 0}}\n",
      "Selected tool: search\n",
      "**********tool detils****\n",
      "{'id': 'call_wbEnE8UR9OcJzhuj9ekb3WjE', 'function': {'arguments': '{\"query\":\"upcoming president of USA 2023\"}', 'name': 'search'}, 'type': 'function'}\n",
      "{'messages': [[{'title': '2024 United States presidential election - Wikipedia', 'url': 'https://en.wikipedia.org/wiki/2024_United_States_presidential_election', 'content': '^ Hippensteel, Chris (June 14, 2023). \"Cornel West to Run for President With Green Party, Ditches People\\'s Party\". The Daily Beast. Retrieved July 16, 2023.\\n^ Kennedy, Kaitlyn (June 15, 2023). \"Cornel West announces presidential run with the Green Party\". TAG24. Retrieved July 16, 2023.\\n^ Thomas, Ken (October 5, 2023). \"Cornel West Slams Biden, Trump, and Runs as 2024 Independent\". The Wall Street Journal. Retrieved October 5, 2023. [...] ^ Redpath, Bill (June 3, 2023). \"Peter Sonski is the American Solidarity Party 2024 Presidential nominee\". Ballot Access News. Archived from the original on June 3, 2023. Retrieved June 3, 2023.\\n^ \"Approval Voting Party Nominates Blake Huber for President\". Ballot Access News. May 28, 2024. Archived from the original on May 31, 2024. Retrieved July 17, 2024. [...] ^ Davis O\\'Brien, Rebecca (October 9, 2023). \"Robert F. Kennedy Jr. to Run for President as Independent, Leaving Democratic Primary\". The New York Times. Archived from the original on October 9, 2023. Retrieved October 9, 2023.\\n^ Leingang, Rachel (March 6, 2024). \"Biden challenger Dean Phillips drops out of US presidential race\". The Guardian. Retrieved September 30, 2024.', 'score': 0.7598145}, {'title': 'Joe Biden 2024 presidential campaign - Wikipedia', 'url': 'https://en.wikipedia.org/wiki/Joe_Biden_2024_presidential_campaign', 'content': '2020 electionselectionconventiondebate\"We did it, Joe!\"2024\\nPresidential campaigns\\nvte\\nJoe Biden, the 46th president of the United States, announced his candidacy for re-election for a second presidential term on April 25, 2023, with Vice President Kamala Harris as his running mate. Facing off against the Republican Party ticket of former President Donald Trump and U.S. Senator from Ohio JD Vance, Biden suspended the campaign on July 21, 2024. [...] In a PBS NewsHour/NPR/Marist poll released on April 25, 2023 – the day Biden announced his reelection campaign – his approval rating was just 41%, with a disapproval rating of 50%.[42] Several polls both before and after Biden\\'s campaign announcement have shown that most Democrats want the party to nominate someone other than Biden for president in the 2024 election.[43][44][45][needs update]\\nCampaign\\nBiden and Harris, May 2023\\nAnnouncement', 'score': 0.7355091}, {'title': 'United States presidential election of 2024 - Britannica', 'url': 'https://www.britannica.com/event/United-States-presidential-election-of-2024', 'content': 'Trump faced far more challengers to his nomination than Biden did to his: by June 2023 nearly a dozen Republicans other than Trump had declared their candidacy. They included Nikki Haley, who had served as U.S. ambassador to the United Nations under Trump (2017–18) and as governor of South Carolina (2011–17); Ron DeSantis, the governor of Florida (2019– ); former U.S. vice president (2017–21) Mike Pence; and former New Jersey governor (2010–18) and 2016 Republican presidential primary contender', 'score': 0.67347145}]]}\n",
      "----\n"
     ]
    }
   ],
   "source": [
    "for s in app.stream({\"messages\": [\"who is upcoming president of USA?\"]}):\n",
    "    print(list(s.values())[0])\n",
    "    print(\"----\")"
   ]
  },
  {
   "cell_type": "code",
   "execution_count": null,
   "id": "4679352d",
   "metadata": {},
   "outputs": [
    {
     "name": "stdout",
     "output_type": "stream",
     "text": [
      "****my state*****\n",
      "content='' additional_kwargs={'tool_calls': [{'id': 'call_ALEOtWG6aSCvfIeKsRQhblGS', 'function': {'arguments': '{\"first_number\":23,\"second_number\":46}', 'name': 'multiply'}, 'type': 'function'}], 'refusal': None} response_metadata={'token_usage': {'completion_tokens': 20, 'prompt_tokens': 79, 'total_tokens': 99, 'completion_tokens_details': {'accepted_prediction_tokens': 0, 'audio_tokens': 0, 'reasoning_tokens': 0, 'rejected_prediction_tokens': 0}, 'prompt_tokens_details': {'audio_tokens': 0, 'cached_tokens': 0}}, 'model_name': 'gpt-4o-2024-08-06', 'system_fingerprint': 'fp_d8864f8b6b', 'id': 'chatcmpl-BT0MH900jer6aS8cxM3Q414B9HqFX', 'finish_reason': 'tool_calls', 'logprobs': None} id='run-2e220ae6-f5b5-431c-af84-33011697a3d8-0' tool_calls=[{'name': 'multiply', 'args': {'first_number': 23, 'second_number': 46}, 'id': 'call_ALEOtWG6aSCvfIeKsRQhblGS', 'type': 'tool_call'}] usage_metadata={'input_tokens': 79, 'output_tokens': 20, 'total_tokens': 99, 'input_token_details': {'audio': 0, 'cache_read': 0}, 'output_token_details': {'audio': 0, 'reasoning': 0}}\n",
      "Selected tool: multiply\n"
     ]
    },
    {
     "data": {
      "text/plain": [
       "{'messages': ['what is multiplication of 23 and 46?',\n",
       "  AIMessage(content='', additional_kwargs={'tool_calls': [{'id': 'call_ALEOtWG6aSCvfIeKsRQhblGS', 'function': {'arguments': '{\"first_number\":23,\"second_number\":46}', 'name': 'multiply'}, 'type': 'function'}], 'refusal': None}, response_metadata={'token_usage': {'completion_tokens': 20, 'prompt_tokens': 79, 'total_tokens': 99, 'completion_tokens_details': {'accepted_prediction_tokens': 0, 'audio_tokens': 0, 'reasoning_tokens': 0, 'rejected_prediction_tokens': 0}, 'prompt_tokens_details': {'audio_tokens': 0, 'cached_tokens': 0}}, 'model_name': 'gpt-4o-2024-08-06', 'system_fingerprint': 'fp_d8864f8b6b', 'id': 'chatcmpl-BT0MH900jer6aS8cxM3Q414B9HqFX', 'finish_reason': 'tool_calls', 'logprobs': None}, id='run-2e220ae6-f5b5-431c-af84-33011697a3d8-0', tool_calls=[{'name': 'multiply', 'args': {'first_number': 23, 'second_number': 46}, 'id': 'call_ALEOtWG6aSCvfIeKsRQhblGS', 'type': 'tool_call'}], usage_metadata={'input_tokens': 79, 'output_tokens': 20, 'total_tokens': 99, 'input_token_details': {'audio': 0, 'cache_read': 0}, 'output_token_details': {'audio': 0, 'reasoning': 0}}),\n",
       "  1058]}"
      ]
     },
     "execution_count": 151,
     "metadata": {},
     "output_type": "execute_result"
    }
   ],
   "source": [
    "app.invoke({\"messages\": [\"what is multiplication of 23 and 46?\"]})"
   ]
  },
  {
   "cell_type": "code",
   "execution_count": null,
   "id": "c4567be5",
   "metadata": {},
   "outputs": [
    {
     "data": {
      "text/plain": [
       "{'messages': [\"what is today's match score?\",\n",
       "  AIMessage(content='Could you please specify which sport or match you are referring to, such as a particular football, cricket, or tennis match? This will help me provide more accurate information.', additional_kwargs={'refusal': None}, response_metadata={'token_usage': {'completion_tokens': 36, 'prompt_tokens': 75, 'total_tokens': 111, 'completion_tokens_details': {'accepted_prediction_tokens': 0, 'audio_tokens': 0, 'reasoning_tokens': 0, 'rejected_prediction_tokens': 0}, 'prompt_tokens_details': {'audio_tokens': 0, 'cached_tokens': 0}}, 'model_name': 'gpt-4o-2024-08-06', 'system_fingerprint': 'fp_90122d973c', 'id': 'chatcmpl-BT0MJ6mbhJ4WpH2BAQBMr7IsuwVwN', 'finish_reason': 'stop', 'logprobs': None}, id='run-b6271a09-3615-4799-9af3-6a2bab1ac636-0', usage_metadata={'input_tokens': 75, 'output_tokens': 36, 'total_tokens': 111, 'input_token_details': {'audio': 0, 'cache_read': 0}, 'output_token_details': {'audio': 0, 'reasoning': 0}})]}"
      ]
     },
     "execution_count": 152,
     "metadata": {},
     "output_type": "execute_result"
    }
   ],
   "source": [
    "app.invoke({\"messages\": [\"what is today's match score?\"]})"
   ]
  },
  {
   "cell_type": "markdown",
   "id": "bd7e73b0",
   "metadata": {},
   "source": [
    "## Langgraph human in loop concept"
   ]
  },
  {
   "cell_type": "code",
   "execution_count": null,
   "id": "3294232a",
   "metadata": {},
   "outputs": [],
   "source": [
    "\n",
    "tavily = TavilySearchResults()\n",
    "     "
   ]
  },
  {
   "cell_type": "code",
   "execution_count": null,
   "id": "74d6f4bf",
   "metadata": {},
   "outputs": [],
   "source": [
    "\n",
    "tools = [tavily]"
   ]
  },
  {
   "cell_type": "code",
   "execution_count": null,
   "id": "68b0ceba",
   "metadata": {},
   "outputs": [],
   "source": [
    "llm_with_tools = openai_model.bind_tools(tools)"
   ]
  },
  {
   "cell_type": "code",
   "execution_count": null,
   "id": "ffb59517",
   "metadata": {},
   "outputs": [],
   "source": [
    "def ai_assistant(state: AgentState):\n",
    "    return {\"messages\": [llm_with_tools.invoke(state[\"messages\"])]}"
   ]
  },
  {
   "cell_type": "code",
   "execution_count": null,
   "id": "dedeb6ab",
   "metadata": {},
   "outputs": [],
   "source": [
    "memory = MemorySaver()"
   ]
  },
  {
   "cell_type": "code",
   "execution_count": null,
   "id": "0a5f6b0e",
   "metadata": {},
   "outputs": [
    {
     "data": {
      "text/plain": [
       "<langgraph.graph.state.StateGraph at 0x15701850ad0>"
      ]
     },
     "execution_count": 228,
     "metadata": {},
     "output_type": "execute_result"
    }
   ],
   "source": [
    "graph_builder = StateGraph(AgentState)\n",
    "graph_builder.add_node(\"ai_assistant\", ai_assistant)\n",
    "\n",
    "tool_node = ToolNode(tools=tools)\n",
    "graph_builder.add_node(\"tools\", tool_node)"
   ]
  },
  {
   "cell_type": "code",
   "execution_count": null,
   "id": "443026c0",
   "metadata": {},
   "outputs": [
    {
     "data": {
      "text/plain": [
       "<langgraph.graph.state.StateGraph at 0x15701850ad0>"
      ]
     },
     "execution_count": 229,
     "metadata": {},
     "output_type": "execute_result"
    }
   ],
   "source": [
    "graph_builder.add_edge(START, \"ai_assistant\")\n",
    "\n",
    "graph_builder.add_conditional_edges(\n",
    "    \"ai_assistant\",\n",
    "    tools_condition,\n",
    ")\n",
    "graph_builder.add_edge(\"tools\", \"ai_assistant\")"
   ]
  },
  {
   "cell_type": "code",
   "execution_count": null,
   "id": "405dc3b0",
   "metadata": {},
   "outputs": [],
   "source": [
    "app2=graph_builder.compile(\n",
    "    checkpointer  = memory,\n",
    "    interrupt_before = [\"tools\"]\n",
    ")"
   ]
  },
  {
   "cell_type": "code",
   "execution_count": null,
   "id": "2082b686",
   "metadata": {},
   "outputs": [
    {
     "data": {
      "image/png": "[encoded data removed]",
      "text/plain": [
       "<IPython.core.display.Image object>"
      ]
     },
     "metadata": {},
     "output_type": "display_data"
    }
   ],
   "source": [
    "from IPython.display import Image, display\n",
    "display(Image(app2.get_graph().draw_mermaid_png()))"
   ]
  },
  {
   "cell_type": "code",
   "execution_count": null,
   "id": "deccc725",
   "metadata": {},
   "outputs": [],
   "source": [
    "user_input = \"what is current a capital of india?\"\n",
    "config = {\"configurable\": {\"thread_id\": \"1\"}}"
   ]
  },
  {
   "cell_type": "code",
   "execution_count": null,
   "id": "44b4eea5",
   "metadata": {},
   "outputs": [],
   "source": [
    "user_input = \"what is today value of apple stock?\"\n",
    "config = {\"configurable\": {\"thread_id\": \"1\"}}"
   ]
  },
  {
   "cell_type": "code",
   "execution_count": null,
   "id": "02f25c22",
   "metadata": {},
   "outputs": [],
   "source": [
    "user_input = \"famous places of the bangalore and must visit restaurants?\"\n",
    "config = {\"configurable\": {\"thread_id\": \"1\"}}"
   ]
  },
  {
   "cell_type": "code",
   "execution_count": null,
   "id": "00f815a2",
   "metadata": {},
   "outputs": [],
   "source": [
    "events = app2.stream(\n",
    "    {\"messages\": [(\"user\", user_input)]}, config, stream_mode=\"values\"\n",
    ")"
   ]
  },
  {
   "cell_type": "code",
   "execution_count": null,
   "id": "1a9940c2",
   "metadata": {},
   "outputs": [
    {
     "name": "stdout",
     "output_type": "stream",
     "text": [
      "{'messages': [('user', 'famous places of the bangalore and must visit restaurants?')]}\n",
      "{'messages': [('user', 'famous places of the bangalore and must visit restaurants?'), AIMessage(content='', additional_kwargs={'tool_calls': [{'id': 'call_AUq6bnxSScX4Rbvh5rhTTgIU', 'function': {'arguments': '{\"query\": \"famous places to visit in Bangalore\"}', 'name': 'tavily_search_results_json'}, 'type': 'function'}, {'id': 'call_W0Bj1assm8CJus47TOLqjp3s', 'function': {'arguments': '{\"query\": \"must visit restaurants in Bangalore\"}', 'name': 'tavily_search_results_json'}, 'type': 'function'}], 'refusal': None}, response_metadata={'token_usage': {'completion_tokens': 63, 'prompt_tokens': 91, 'total_tokens': 154, 'completion_tokens_details': {'accepted_prediction_tokens': 0, 'audio_tokens': 0, 'reasoning_tokens': 0, 'rejected_prediction_tokens': 0}, 'prompt_tokens_details': {'audio_tokens': 0, 'cached_tokens': 0}}, 'model_name': 'gpt-4o-2024-08-06', 'system_fingerprint': 'fp_f5bdcc3276', 'id': 'chatcmpl-BT1qbpjEEfjhjDIXUGjeFmW9Rm8kB', 'finish_reason': 'tool_calls', 'logprobs': None}, id='run-6dd2c77f-2612-46eb-89ce-4851e65072b4-0', tool_calls=[{'name': 'tavily_search_results_json', 'args': {'query': 'famous places to visit in Bangalore'}, 'id': 'call_AUq6bnxSScX4Rbvh5rhTTgIU', 'type': 'tool_call'}, {'name': 'tavily_search_results_json', 'args': {'query': 'must visit restaurants in Bangalore'}, 'id': 'call_W0Bj1assm8CJus47TOLqjp3s', 'type': 'tool_call'}], usage_metadata={'input_tokens': 91, 'output_tokens': 63, 'total_tokens': 154, 'input_token_details': {'audio': 0, 'cache_read': 0}, 'output_token_details': {'audio': 0, 'reasoning': 0}})]}\n"
     ]
    }
   ],
   "source": [
    "for event in events:\n",
    "    print(event)"
   ]
  },
  {
   "cell_type": "code",
   "execution_count": null,
   "id": "07fbb446",
   "metadata": {},
   "outputs": [],
   "source": [
    "snapshot = app2.get_state(config)"
   ]
  },
  {
   "cell_type": "code",
   "execution_count": null,
   "id": "0729842a",
   "metadata": {},
   "outputs": [
    {
     "data": {
      "text/plain": [
       "('tools',)"
      ]
     },
     "execution_count": 238,
     "metadata": {},
     "output_type": "execute_result"
    }
   ],
   "source": [
    "snapshot.next"
   ]
  },
  {
   "cell_type": "code",
   "execution_count": null,
   "id": "37659523",
   "metadata": {},
   "outputs": [],
   "source": [
    "\n",
    "last_message = snapshot.values[\"messages\"][-1]"
   ]
  },
  {
   "cell_type": "code",
   "execution_count": null,
   "id": "eeb1df61",
   "metadata": {},
   "outputs": [
    {
     "data": {
      "text/plain": [
       "[{'name': 'tavily_search_results_json',\n",
       "  'args': {'query': 'famous places to visit in Bangalore'},\n",
       "  'id': 'call_AUq6bnxSScX4Rbvh5rhTTgIU',\n",
       "  'type': 'tool_call'},\n",
       " {'name': 'tavily_search_results_json',\n",
       "  'args': {'query': 'must visit restaurants in Bangalore'},\n",
       "  'id': 'call_W0Bj1assm8CJus47TOLqjp3s',\n",
       "  'type': 'tool_call'}]"
      ]
     },
     "execution_count": 240,
     "metadata": {},
     "output_type": "execute_result"
    }
   ],
   "source": [
    "\n",
    "last_message.tool_calls"
   ]
  },
  {
   "cell_type": "code",
   "execution_count": null,
   "id": "6d61f9e1",
   "metadata": {},
   "outputs": [],
   "source": [
    "events = app2.stream(None, config, stream_mode=\"values\")"
   ]
  },
  {
   "cell_type": "code",
   "execution_count": null,
   "id": "69b6793f",
   "metadata": {},
   "outputs": [
    {
     "name": "stdout",
     "output_type": "stream",
     "text": [
      "==================================\u001b[1m Ai Message \u001b[0m==================================\n",
      "Tool Calls:\n",
      "  tavily_search_results_json (call_AUq6bnxSScX4Rbvh5rhTTgIU)\n",
      " Call ID: call_AUq6bnxSScX4Rbvh5rhTTgIU\n",
      "  Args:\n",
      "    query: famous places to visit in Bangalore\n",
      "  tavily_search_results_json (call_W0Bj1assm8CJus47TOLqjp3s)\n",
      " Call ID: call_W0Bj1assm8CJus47TOLqjp3s\n",
      "  Args:\n",
      "    query: must visit restaurants in Bangalore\n",
      "=================================\u001b[1m Tool Message \u001b[0m=================================\n",
      "Name: tavily_search_results_json\n",
      "\n",
      "[{\"title\": \"Best Restaurants In Bangalore To Delight Your Taste Buds In 2025!\", \"url\": \"https://traveltriangle.com/blog/best-restaurants-in-bangalore/\", \"content\": \"The king of cafes in Bangalore, Toit has set an unmatched standard amongst all the best restaurants in Bangalore. Freshly brewed beer, lively music, and a wide variety of international main courses and starters combine to give this place a ‘must-visit’ tag for any first-timer. It is one of the best restaurants in Bangalore for couples who share a love of pizzas and beers.\\n\\nAddress: Indiranagar, 100 Feet Rd, Near Drops Total Spirits, Bengaluru, Karnataka 560038 [...] It is impossible to have a list of the best restaurants in Bangalore, without naming its very own Hard Rock Cafe. This cafe, probably, needs no introduction as it has become a household name amongst music and food lovers from all around the world. The brand has built such a reputation that the HRC often gets counted as a sightseeing place for any traveller going to a new city. This is amongst the best restaurants in Bangalore for family and friends to visit. [...] Jamavar is another luxury restaurant that you need to consider visiting. Featuring an ethnic ambience, and indoor and outdoor seating plans, this restaurant serves delectable food. Moreover, this is a kid-friendly place that is also wheelchair accessible. The restaurant is amazing with hospitality, hygiene, food yumminess, and prep times. Special occasions deserve a special treat here.\\n\\nAddress: The Leela Palace, Old Airport Road, Bangalore\\n\\nTimings: 12–3 pm, 7–11:30 pm\\n\\nCost for two: INR 5000\", \"score\": 0.86767644}, {\"title\": \"What are the must-visit food places in Bangalore, and when ... - Quora\", \"url\": \"https://www.quora.com/What-are-the-must-visit-food-places-in-Bangalore-and-when-is-the-best-time-to-visit-that-place\", \"content\": \"1. Mavalli Tiffin Room, (Lalbagh road) for the perfect meal or small eats. · 2. Kamat YatriNivas (Gandhinagar) for the very famous Jolada roti\", \"score\": 0.8479807}, {\"title\": \"15 Newest restaurants in Bengaluru, share it ... - Instagram\", \"url\": \"https://www.instagram.com/reel/DEesSmzPTNs/?hl=en\", \"content\": \"If you're a dessert lover in Bengaluru, @avocadoandbrownies.in is a must-visit! This brownie heaven just dropped their latest creation –\", \"score\": 0.7946564}, {\"title\": \"THE 10 BEST Restaurants in Bengaluru (Updated May 2025)\", \"url\": \"https://www.tripadvisor.com/Restaurants-g297628-Bengaluru_Bangalore_District_Karnataka.html\", \"content\": \"Some of the most popular restaurants in Bengaluru for cheap eats include: Taaza Thindi · Brahmin's Coffee Bar · Shri Sagar (C.T.R). THE 10 BEST Restaurants in\", \"score\": 0.7065353}, {\"title\": \"The Best Restaurants in Bengaluru for Dining Out - Zomato\", \"url\": \"https://www.zomato.com/bangalore/restaurants\", \"content\": \"Restaurants in Bengaluru · Jamavar - The Leela Palace · Sozo Skyline · Shiro · Feast - Sheraton Grand Bangalore Hotel at Brigade Gateway · Stories Bar & Kitchen.\", \"score\": 0.68090034}]\n",
      "==================================\u001b[1m Ai Message \u001b[0m==================================\n",
      "\n",
      "Bangalore, known for its vibrant culture and gardens, offers numerous famous places and must-visit restaurants:\n",
      "\n",
      "### Famous Places in Bangalore:\n",
      "1. **Cubbon Park** - A massive green oasis in the city's center, ideal for nature lovers.\n",
      "2. **Bangalore Palace** - Known for its stunning architecture and heritage value.\n",
      "3. **Lalbagh Botanical Garden** - Famous for its rare plant species and the iconic Glass House.\n",
      "4. **Bannerghatta National Park** - Offers wildlife experiences near the city.\n",
      "5. **Vidhana Soudha** - A stunning architectural marvel housing the Karnataka state legislature.\n",
      "6. **ISKCON Temple** - A significant cultural and spiritual site.\n",
      "7. **Nandi Hills** - Perfect for a weekend trip with panoramic views.\n",
      "8. **Tipu Sultan's Summer Palace** - An Indo-Islamic architectural gem.\n",
      "\n",
      "[More on Bangalore's Attractions](https://www.holidify.com/places/bangalore/sightseeing-and-things-to-do.html)\n",
      "\n",
      "### Must-Visit Restaurants in Bangalore:\n",
      "1. **Toit** - Known for freshly brewed beer and vibrant atmosphere, located in Indiranagar.\n",
      "2. **Hard Rock Cafe** - A globally renowned spot ideal for music and food lovers.\n",
      "3. **Jamavar** - Offers luxury dining with both indoor and outdoor seating at The Leela Palace.\n",
      "4. **Mavalli Tiffin Room (MTR)** - Famous for traditional South Indian cuisine.\n",
      "5. **Taaza Thindi** - Popular for affordable and delicious eats.\n",
      "6. **Brahmin's Coffee Bar** - Known for authentic filter coffee and South Indian snacks.\n",
      "\n",
      "[Explore More Restaurants](https://traveltriangle.com/blog/best-restaurants-in-bangalore/)\n",
      "\n",
      "Both the attractions and restaurants provide a glimpse into the rich cultural and culinary diversity of Bangalore.\n"
     ]
    }
   ],
   "source": [
    "\n",
    "for event in events:\n",
    "    if \"messages\" in event:\n",
    "        event[\"messages\"][-1].pretty_print()"
   ]
  },
  {
   "cell_type": "code",
   "execution_count": null,
   "id": "16f94bc6",
   "metadata": {},
   "outputs": [],
   "source": [
    "\n",
    "user_input = \"what is a weather there?\"\n",
    "\n",
    "config = {\"configurable\": {\"thread_id\": \"1\"}}"
   ]
  },
  {
   "cell_type": "code",
   "execution_count": null,
   "id": "79242d3d",
   "metadata": {},
   "outputs": [],
   "source": [
    "events = app2.stream(\n",
    "    {\"messages\": [(\"user\", user_input)]}, config, stream_mode=\"values\"\n",
    ")"
   ]
  },
  {
   "cell_type": "code",
   "execution_count": null,
   "id": "714f60fe",
   "metadata": {},
   "outputs": [
    {
     "name": "stdout",
     "output_type": "stream",
     "text": [
      "{'messages': [['user', 'famous places of the bangalore and must visit restaurants?'], AIMessage(content='', additional_kwargs={'tool_calls': [{'id': 'call_AUq6bnxSScX4Rbvh5rhTTgIU', 'function': {'arguments': '{\"query\": \"famous places to visit in Bangalore\"}', 'name': 'tavily_search_results_json'}, 'type': 'function'}, {'id': 'call_W0Bj1assm8CJus47TOLqjp3s', 'function': {'arguments': '{\"query\": \"must visit restaurants in Bangalore\"}', 'name': 'tavily_search_results_json'}, 'type': 'function'}], 'refusal': None}, response_metadata={'token_usage': {'completion_tokens': 63, 'prompt_tokens': 91, 'total_tokens': 154, 'completion_tokens_details': {'accepted_prediction_tokens': 0, 'audio_tokens': 0, 'reasoning_tokens': 0, 'rejected_prediction_tokens': 0}, 'prompt_tokens_details': {'audio_tokens': 0, 'cached_tokens': 0}}, 'model_name': 'gpt-4o-2024-08-06', 'system_fingerprint': 'fp_f5bdcc3276', 'id': 'chatcmpl-BT1qbpjEEfjhjDIXUGjeFmW9Rm8kB', 'finish_reason': 'tool_calls', 'logprobs': None}, id='run-6dd2c77f-2612-46eb-89ce-4851e65072b4-0', tool_calls=[{'name': 'tavily_search_results_json', 'args': {'query': 'famous places to visit in Bangalore'}, 'id': 'call_AUq6bnxSScX4Rbvh5rhTTgIU', 'type': 'tool_call'}, {'name': 'tavily_search_results_json', 'args': {'query': 'must visit restaurants in Bangalore'}, 'id': 'call_W0Bj1assm8CJus47TOLqjp3s', 'type': 'tool_call'}], usage_metadata={'input_tokens': 91, 'output_tokens': 63, 'total_tokens': 154, 'input_token_details': {'audio': 0, 'cache_read': 0}, 'output_token_details': {'audio': 0, 'reasoning': 0}}), ToolMessage(content='[{\"title\": \"10 Places to visit in Bengaluru 2025 - Capture A Trip\", \"url\": \"https://www.captureatrip.com/blog/places-to-visit-in-bangalore\", \"content\": \"3. What are the famous places to visit in Bangalore ?\\\\n\\\\nOthers are Vidhana Soudha, Bangalore Palace and Bull Temple for its historical and cultural value.\\\\n\\\\n4. Where can I go for a weekend in Bangalore?\\\\n\\\\nNandi Hills is another suitable place for a weekend trip and it offers scenic views of the city while Bannerghatta National Park offers a wildlife experience.\\\\n\\\\nRecent Blogs\\\\n\\\\nThe Best Time to Visit Pondicherry: Seasons, Activities & More\\\\n\\\\nSingapore in Summer: Your Guide to the Best Vacation Ever [...] This beautiful palace was the summer residence of the great Kingdom’s ruler, Tipu Sultan and is an Indo Islamic architectural masterpiece. This place is one of the most famous places to visit in Bangalore due to the presence of gorgeous wooden carved work and history.\\\\n\\\\n4. ISKCON Temple: [...] Here are the top 10 places to visit in Bangalore if anybody has the zeal to explore them which includes some historical places, parks, and cultural places. All these places make the city diverse by just giving each place uniqueness that attracts different people.\\\\n\\\\n1. Vidhana Soudha:\\\\n\\\\n\\\\n\\\\nThis big edifice is the home of the state legislature of Karnataka in India. This makes it count among the most visited places in Bangalore, thanks to its beautiful architectural design.\", \"score\": 0.8989177}, {\"title\": \"52 Best Places to visit in Bangalore | Top Tourist Attractions - Holidify\", \"url\": \"https://www.holidify.com/places/bangalore/sightseeing-and-things-to-do.html\", \"content\": \"Bangalore\\\\nPlaces To Visit\\\\nPackages\\\\nHotels\\\\nHow to Reach\\\\nBest Time To Visit\\\\nPhotos\\\\nFood\\\\n\\\\nMore\\\\n\\\\n\\\\nCollections\\\\n\\\\n\\\\nMap\\\\n\\\\n\\\\nReviews & QnA\\\\n\\\\n\\\\nTravel Agents\\\\n\\\\n\\\\n\\\\n\\\\nCollections\\\\n\\\\nMap\\\\nReviews & QnA\\\\nTravel Agents\\\\n\\\\nBangalore, Karnataka\\\\nLalbagh\\\\nCubbon Park\\\\nBangalore Palace\\\\nBannerghatta National Park [...] Places To Visit in Bangalore\\\\nLocated in : Central Bangalore\\\\nSpread over an area of 300 acres, Cubbon Park in the city of Bangalore is a major sightseeing attraction rich in green foliage. It is a green belt region of the city and is an ideal place for nature lovers and those seeking a calm atmosphere. Having been laid down by Lord Cubbon, the park is named so in his honour. It is home to more than 6,000 trees that support a vibrant ecosystem.\\\\nRead More [...] Art Gallery \\xa0\\xa0Garden & Park \\xa0\\xa0Amusement & Theme Park \\xa0\\xa0Forts & Palaces \\xa0\\xa0Hills & Valleys \\xa0\\xa0Temple \\xa0\\xa0Lake \\xa0\\xa0Museum \\xa0\\xa0Waterfall \\xa0\\xa0Commercial Street \\xa0\\xa0Shopping Market \\xa0\\xa0Monument \\xa0\\xa0National Park \\xa0\\xa0Yoga & Meditation \\xa0\\xa0Buddhist Temple \\xa0\\xa0Planetarium \\xa0\\xa0Church & Cathedral \\xa0\\xa0Aquarium \\xa0\\xa0Adventure Zone \\\\nClear All Apply\", \"score\": 0.85825616}, {\"title\": \"What r really good places to visit in Bangalore? - Quora\", \"url\": \"https://www.quora.com/What-r-really-good-places-to-visit-in-Bangalore\", \"content\": \"There are many places to Explore in Bengaluru. · 1. Wonderla Amusement Park · 2. ISKCON Temple Bangalore · 3. UB City · 4. Art of Living\", \"score\": 0.8455478}, {\"title\": \"Bengaluru Tourist Places | Best Places To Visit - Incredible India\", \"url\": \"https://www.incredibleindia.gov.in/en/karnataka/bengaluru\", \"content\": \"Bengaluru—the city that codes poetry, brews coffee, and dances to its rhythm. Let’s explore its pixels and palimpsests, one byte at a time.\\\\n\\\\nAttractions\\\\n\\\\nworth a thousand stories\\\\n\\\\nGhati Subramanya Temple\\\\n\\\\nUlsoor Lake\\\\n\\\\nDevanahalli Fort\\\\n\\\\nMuthyala Maduvu\\\\n\\\\nTipu Sultan Palace\\\\n\\\\nRagigudda Anjaneya Temple\\\\n\\\\nPuttanna Chetty Town Hall\\\\n\\\\nNandi Hills\\\\n\\\\nLalbagh\\\\n\\\\nShivagange\\\\n\\\\nTipu Sultan\\'s Birthplace\\\\n\\\\nA trove of\\\\n\\\\nfascinating facts\\\\n\\\\nA trove of\\\\n\\\\nfascinating facts [...] The big boom may be over, but Bengaluru’s bright young things still have money to spend, and nightlife in the city is thriving. A night on the town generally starts with a bar crawl along Brigade Road, Residency Road, or Church Street. For quiet, elegant drinking, head for the bars of five-star hotels such as the Jockey Club at the Taj Residency or its competition, the Polo Club at the Oberoi, and for a taste of colonial grandeur, the Colonnade at the Taj West End.\\\\n\\\\nA shopper’s paradise\", \"score\": 0.82082915}, {\"title\": \"Best Places to Visit in and around Bangalore - Thorn Tree Forum\", \"url\": \"https://www.thorntreeforum.com/threads/best-places-to-visit-in-and-around-bangalore.854/\", \"content\": \"Lalbagh Botanical Garden – A 240-acre garden with rare plants and the famous Glass House. · Cubbon Park – A green oasis in the city, perfect for\", \"score\": 0.8170061}]', name='tavily_search_results_json', tool_call_id='call_AUq6bnxSScX4Rbvh5rhTTgIU', artifact={'query': 'famous places to visit in Bangalore', 'follow_up_questions': None, 'answer': None, 'images': [], 'results': [{'url': 'https://www.captureatrip.com/blog/places-to-visit-in-bangalore', 'title': '10 Places to visit in Bengaluru 2025 - Capture A Trip', 'content': '3. What are the famous places to visit in Bangalore ?\\n\\nOthers are Vidhana Soudha, Bangalore Palace and Bull Temple for its historical and cultural value.\\n\\n4. Where can I go for a weekend in Bangalore?\\n\\nNandi Hills is another suitable place for a weekend trip and it offers scenic views of the city while Bannerghatta National Park offers a wildlife experience.\\n\\nRecent Blogs\\n\\nThe Best Time to Visit Pondicherry: Seasons, Activities & More\\n\\nSingapore in Summer: Your Guide to the Best Vacation Ever [...] This beautiful palace was the summer residence of the great Kingdom’s ruler, Tipu Sultan and is an Indo Islamic architectural masterpiece. This place is one of the most famous places to visit in Bangalore due to the presence of gorgeous wooden carved work and history.\\n\\n4. ISKCON Temple: [...] Here are the top 10 places to visit in Bangalore if anybody has the zeal to explore them which includes some historical places, parks, and cultural places. All these places make the city diverse by just giving each place uniqueness that attracts different people.\\n\\n1. Vidhana Soudha:\\n\\n\\n\\nThis big edifice is the home of the state legislature of Karnataka in India. This makes it count among the most visited places in Bangalore, thanks to its beautiful architectural design.', 'score': 0.8989177, 'raw_content': None}, {'url': 'https://www.holidify.com/places/bangalore/sightseeing-and-things-to-do.html', 'title': '52 Best Places to visit in Bangalore | Top Tourist Attractions - Holidify', 'content': 'Bangalore\\nPlaces To Visit\\nPackages\\nHotels\\nHow to Reach\\nBest Time To Visit\\nPhotos\\nFood\\n\\nMore\\n\\n\\nCollections\\n\\n\\nMap\\n\\n\\nReviews & QnA\\n\\n\\nTravel Agents\\n\\n\\n\\n\\nCollections\\n\\nMap\\nReviews & QnA\\nTravel Agents\\n\\nBangalore, Karnataka\\nLalbagh\\nCubbon Park\\nBangalore Palace\\nBannerghatta National Park [...] Places To Visit in Bangalore\\nLocated in : Central Bangalore\\nSpread over an area of 300 acres, Cubbon Park in the city of Bangalore is a major sightseeing attraction rich in green foliage. It is a green belt region of the city and is an ideal place for nature lovers and those seeking a calm atmosphere. Having been laid down by Lord Cubbon, the park is named so in his honour. It is home to more than 6,000 trees that support a vibrant ecosystem.\\nRead More [...] Art Gallery \\xa0\\xa0Garden & Park \\xa0\\xa0Amusement & Theme Park \\xa0\\xa0Forts & Palaces \\xa0\\xa0Hills & Valleys \\xa0\\xa0Temple \\xa0\\xa0Lake \\xa0\\xa0Museum \\xa0\\xa0Waterfall \\xa0\\xa0Commercial Street \\xa0\\xa0Shopping Market \\xa0\\xa0Monument \\xa0\\xa0National Park \\xa0\\xa0Yoga & Meditation \\xa0\\xa0Buddhist Temple \\xa0\\xa0Planetarium \\xa0\\xa0Church & Cathedral \\xa0\\xa0Aquarium \\xa0\\xa0Adventure Zone \\nClear All Apply', 'score': 0.85825616, 'raw_content': None}, {'url': 'https://www.quora.com/What-r-really-good-places-to-visit-in-Bangalore', 'title': 'What r really good places to visit in Bangalore? - Quora', 'content': 'There are many places to Explore in Bengaluru. · 1. Wonderla Amusement Park · 2. ISKCON Temple Bangalore · 3. UB City · 4. Art of Living', 'score': 0.8455478, 'raw_content': None}, {'url': 'https://www.incredibleindia.gov.in/en/karnataka/bengaluru', 'title': 'Bengaluru Tourist Places | Best Places To Visit - Incredible India', 'content': \"Bengaluru—the city that codes poetry, brews coffee, and dances to its rhythm. Let’s explore its pixels and palimpsests, one byte at a time.\\n\\nAttractions\\n\\nworth a thousand stories\\n\\nGhati Subramanya Temple\\n\\nUlsoor Lake\\n\\nDevanahalli Fort\\n\\nMuthyala Maduvu\\n\\nTipu Sultan Palace\\n\\nRagigudda Anjaneya Temple\\n\\nPuttanna Chetty Town Hall\\n\\nNandi Hills\\n\\nLalbagh\\n\\nShivagange\\n\\nTipu Sultan's Birthplace\\n\\nA trove of\\n\\nfascinating facts\\n\\nA trove of\\n\\nfascinating facts [...] The big boom may be over, but Bengaluru’s bright young things still have money to spend, and nightlife in the city is thriving. A night on the town generally starts with a bar crawl along Brigade Road, Residency Road, or Church Street. For quiet, elegant drinking, head for the bars of five-star hotels such as the Jockey Club at the Taj Residency or its competition, the Polo Club at the Oberoi, and for a taste of colonial grandeur, the Colonnade at the Taj West End.\\n\\nA shopper’s paradise\", 'score': 0.82082915, 'raw_content': None}, {'url': 'https://www.thorntreeforum.com/threads/best-places-to-visit-in-and-around-bangalore.854/', 'title': 'Best Places to Visit in and around Bangalore - Thorn Tree Forum', 'content': 'Lalbagh Botanical Garden – A 240-acre garden with rare plants and the famous Glass House. · Cubbon Park – A green oasis in the city, perfect for', 'score': 0.8170061, 'raw_content': None}], 'response_time': 2.43}), ToolMessage(content='[{\"title\": \"Best Restaurants In Bangalore To Delight Your Taste Buds In 2025!\", \"url\": \"https://traveltriangle.com/blog/best-restaurants-in-bangalore/\", \"content\": \"The king of cafes in Bangalore, Toit has set an unmatched standard amongst all the best restaurants in Bangalore. Freshly brewed beer, lively music, and a wide variety of international main courses and starters combine to give this place a ‘must-visit’ tag for any first-timer. It is one of the best restaurants in Bangalore for couples who share a love of pizzas and beers.\\\\n\\\\nAddress: Indiranagar, 100 Feet Rd, Near Drops Total Spirits, Bengaluru, Karnataka 560038 [...] It is impossible to have a list of the best restaurants in Bangalore, without naming its very own Hard Rock Cafe. This cafe, probably, needs no introduction as it has become a household name amongst music and food lovers from all around the world. The brand has built such a reputation that the HRC often gets counted as a sightseeing place for any traveller going to a new city. This is amongst the best restaurants in Bangalore for family and friends to visit. [...] Jamavar is another luxury restaurant that you need to consider visiting. Featuring an ethnic ambience, and indoor and outdoor seating plans, this restaurant serves delectable food. Moreover, this is a kid-friendly place that is also wheelchair accessible. The restaurant is amazing with hospitality, hygiene, food yumminess, and prep times. Special occasions deserve a special treat here.\\\\n\\\\nAddress:\\xa0The Leela Palace, Old Airport Road, Bangalore\\\\n\\\\nTimings:\\xa012–3\\u202fpm, 7–11:30\\u202fpm\\\\n\\\\nCost for two: INR 5000\", \"score\": 0.86767644}, {\"title\": \"What are the must-visit food places in Bangalore, and when ... - Quora\", \"url\": \"https://www.quora.com/What-are-the-must-visit-food-places-in-Bangalore-and-when-is-the-best-time-to-visit-that-place\", \"content\": \"1. Mavalli Tiffin Room, (Lalbagh road) for the perfect meal or small eats. · 2. Kamat YatriNivas (Gandhinagar) for the very famous Jolada roti\", \"score\": 0.8479807}, {\"title\": \"15 Newest restaurants in Bengaluru, share it ... - Instagram\", \"url\": \"https://www.instagram.com/reel/DEesSmzPTNs/?hl=en\", \"content\": \"If you\\'re a dessert lover in Bengaluru, @avocadoandbrownies.in is a must-visit! This brownie heaven just dropped their latest creation –\", \"score\": 0.7946564}, {\"title\": \"THE 10 BEST Restaurants in Bengaluru (Updated May 2025)\", \"url\": \"https://www.tripadvisor.com/Restaurants-g297628-Bengaluru_Bangalore_District_Karnataka.html\", \"content\": \"Some of the most popular restaurants in Bengaluru for cheap eats include: Taaza Thindi · Brahmin\\'s Coffee Bar · Shri Sagar (C.T.R). THE 10 BEST Restaurants in\", \"score\": 0.7065353}, {\"title\": \"The Best Restaurants in Bengaluru for Dining Out - Zomato\", \"url\": \"https://www.zomato.com/bangalore/restaurants\", \"content\": \"Restaurants in Bengaluru · Jamavar - The Leela Palace · Sozo Skyline · Shiro · Feast - Sheraton Grand Bangalore Hotel at Brigade Gateway · Stories Bar & Kitchen.\", \"score\": 0.68090034}]', name='tavily_search_results_json', tool_call_id='call_W0Bj1assm8CJus47TOLqjp3s', artifact={'query': 'must visit restaurants in Bangalore', 'follow_up_questions': None, 'answer': None, 'images': [], 'results': [{'url': 'https://traveltriangle.com/blog/best-restaurants-in-bangalore/', 'title': 'Best Restaurants In Bangalore To Delight Your Taste Buds In 2025!', 'content': 'The king of cafes in Bangalore, Toit has set an unmatched standard amongst all the best restaurants in Bangalore. Freshly brewed beer, lively music, and a wide variety of international main courses and starters combine to give this place a ‘must-visit’ tag for any first-timer. It is one of the best restaurants in Bangalore for couples who share a love of pizzas and beers.\\n\\nAddress: Indiranagar, 100 Feet Rd, Near Drops Total Spirits, Bengaluru, Karnataka 560038 [...] It is impossible to have a list of the best restaurants in Bangalore, without naming its very own Hard Rock Cafe. This cafe, probably, needs no introduction as it has become a household name amongst music and food lovers from all around the world. The brand has built such a reputation that the HRC often gets counted as a sightseeing place for any traveller going to a new city. This is amongst the best restaurants in Bangalore for family and friends to visit. [...] Jamavar is another luxury restaurant that you need to consider visiting. Featuring an ethnic ambience, and indoor and outdoor seating plans, this restaurant serves delectable food. Moreover, this is a kid-friendly place that is also wheelchair accessible. The restaurant is amazing with hospitality, hygiene, food yumminess, and prep times. Special occasions deserve a special treat here.\\n\\nAddress:\\xa0The Leela Palace, Old Airport Road, Bangalore\\n\\nTimings:\\xa012–3\\u202fpm, 7–11:30\\u202fpm\\n\\nCost for two: INR 5000', 'score': 0.86767644, 'raw_content': None}, {'url': 'https://www.quora.com/What-are-the-must-visit-food-places-in-Bangalore-and-when-is-the-best-time-to-visit-that-place', 'title': 'What are the must-visit food places in Bangalore, and when ... - Quora', 'content': '1. Mavalli Tiffin Room, (Lalbagh road) for the perfect meal or small eats. · 2. Kamat YatriNivas (Gandhinagar) for the very famous Jolada roti', 'score': 0.8479807, 'raw_content': None}, {'url': 'https://www.instagram.com/reel/DEesSmzPTNs/?hl=en', 'title': '15 Newest restaurants in Bengaluru, share it ... - Instagram', 'content': \"If you're a dessert lover in Bengaluru, @avocadoandbrownies.in is a must-visit! This brownie heaven just dropped their latest creation –\", 'score': 0.7946564, 'raw_content': None}, {'url': 'https://www.tripadvisor.com/Restaurants-g297628-Bengaluru_Bangalore_District_Karnataka.html', 'title': 'THE 10 BEST Restaurants in Bengaluru (Updated May 2025)', 'content': \"Some of the most popular restaurants in Bengaluru for cheap eats include: Taaza Thindi · Brahmin's Coffee Bar · Shri Sagar (C.T.R). THE 10 BEST Restaurants in\", 'score': 0.7065353, 'raw_content': None}, {'url': 'https://www.zomato.com/bangalore/restaurants', 'title': 'The Best Restaurants in Bengaluru for Dining Out - Zomato', 'content': 'Restaurants in Bengaluru · Jamavar - The Leela Palace · Sozo Skyline · Shiro · Feast - Sheraton Grand Bangalore Hotel at Brigade Gateway · Stories Bar & Kitchen.', 'score': 0.68090034, 'raw_content': None}], 'response_time': 3.13}), AIMessage(content=\"Bangalore, known for its vibrant culture and gardens, offers numerous famous places and must-visit restaurants:\\n\\n### Famous Places in Bangalore:\\n1. **Cubbon Park** - A massive green oasis in the city's center, ideal for nature lovers.\\n2. **Bangalore Palace** - Known for its stunning architecture and heritage value.\\n3. **Lalbagh Botanical Garden** - Famous for its rare plant species and the iconic Glass House.\\n4. **Bannerghatta National Park** - Offers wildlife experiences near the city.\\n5. **Vidhana Soudha** - A stunning architectural marvel housing the Karnataka state legislature.\\n6. **ISKCON Temple** - A significant cultural and spiritual site.\\n7. **Nandi Hills** - Perfect for a weekend trip with panoramic views.\\n8. **Tipu Sultan's Summer Palace** - An Indo-Islamic architectural gem.\\n\\n[More on Bangalore's Attractions](https://www.holidify.com/places/bangalore/sightseeing-and-things-to-do.html)\\n\\n### Must-Visit Restaurants in Bangalore:\\n1. **Toit** - Known for freshly brewed beer and vibrant atmosphere, located in Indiranagar.\\n2. **Hard Rock Cafe** - A globally renowned spot ideal for music and food lovers.\\n3. **Jamavar** - Offers luxury dining with both indoor and outdoor seating at The Leela Palace.\\n4. **Mavalli Tiffin Room (MTR)** - Famous for traditional South Indian cuisine.\\n5. **Taaza Thindi** - Popular for affordable and delicious eats.\\n6. **Brahmin's Coffee Bar** - Known for authentic filter coffee and South Indian snacks.\\n\\n[Explore More Restaurants](https://traveltriangle.com/blog/best-restaurants-in-bangalore/)\\n\\nBoth the attractions and restaurants provide a glimpse into the rich cultural and culinary diversity of Bangalore.\", additional_kwargs={'refusal': None}, response_metadata={'token_usage': {'completion_tokens': 376, 'prompt_tokens': 2318, 'total_tokens': 2694, 'completion_tokens_details': {'accepted_prediction_tokens': 0, 'audio_tokens': 0, 'reasoning_tokens': 0, 'rejected_prediction_tokens': 0}, 'prompt_tokens_details': {'audio_tokens': 0, 'cached_tokens': 0}}, 'model_name': 'gpt-4o-2024-08-06', 'system_fingerprint': 'fp_f5bdcc3276', 'id': 'chatcmpl-BT1qooFAFdJQI2ZH4vanHNhRKGbyZ', 'finish_reason': 'stop', 'logprobs': None}, id='run-d662d780-0425-4547-a510-c6e03d81febb-0', usage_metadata={'input_tokens': 2318, 'output_tokens': 376, 'total_tokens': 2694, 'input_token_details': {'audio': 0, 'cache_read': 0}, 'output_token_details': {'audio': 0, 'reasoning': 0}}), ('user', 'what is a weather there?')]}\n",
      "{'messages': [['user', 'famous places of the bangalore and must visit restaurants?'], AIMessage(content='', additional_kwargs={'tool_calls': [{'id': 'call_AUq6bnxSScX4Rbvh5rhTTgIU', 'function': {'arguments': '{\"query\": \"famous places to visit in Bangalore\"}', 'name': 'tavily_search_results_json'}, 'type': 'function'}, {'id': 'call_W0Bj1assm8CJus47TOLqjp3s', 'function': {'arguments': '{\"query\": \"must visit restaurants in Bangalore\"}', 'name': 'tavily_search_results_json'}, 'type': 'function'}], 'refusal': None}, response_metadata={'token_usage': {'completion_tokens': 63, 'prompt_tokens': 91, 'total_tokens': 154, 'completion_tokens_details': {'accepted_prediction_tokens': 0, 'audio_tokens': 0, 'reasoning_tokens': 0, 'rejected_prediction_tokens': 0}, 'prompt_tokens_details': {'audio_tokens': 0, 'cached_tokens': 0}}, 'model_name': 'gpt-4o-2024-08-06', 'system_fingerprint': 'fp_f5bdcc3276', 'id': 'chatcmpl-BT1qbpjEEfjhjDIXUGjeFmW9Rm8kB', 'finish_reason': 'tool_calls', 'logprobs': None}, id='run-6dd2c77f-2612-46eb-89ce-4851e65072b4-0', tool_calls=[{'name': 'tavily_search_results_json', 'args': {'query': 'famous places to visit in Bangalore'}, 'id': 'call_AUq6bnxSScX4Rbvh5rhTTgIU', 'type': 'tool_call'}, {'name': 'tavily_search_results_json', 'args': {'query': 'must visit restaurants in Bangalore'}, 'id': 'call_W0Bj1assm8CJus47TOLqjp3s', 'type': 'tool_call'}], usage_metadata={'input_tokens': 91, 'output_tokens': 63, 'total_tokens': 154, 'input_token_details': {'audio': 0, 'cache_read': 0}, 'output_token_details': {'audio': 0, 'reasoning': 0}}), ToolMessage(content='[{\"title\": \"10 Places to visit in Bengaluru 2025 - Capture A Trip\", \"url\": \"https://www.captureatrip.com/blog/places-to-visit-in-bangalore\", \"content\": \"3. What are the famous places to visit in Bangalore ?\\\\n\\\\nOthers are Vidhana Soudha, Bangalore Palace and Bull Temple for its historical and cultural value.\\\\n\\\\n4. Where can I go for a weekend in Bangalore?\\\\n\\\\nNandi Hills is another suitable place for a weekend trip and it offers scenic views of the city while Bannerghatta National Park offers a wildlife experience.\\\\n\\\\nRecent Blogs\\\\n\\\\nThe Best Time to Visit Pondicherry: Seasons, Activities & More\\\\n\\\\nSingapore in Summer: Your Guide to the Best Vacation Ever [...] This beautiful palace was the summer residence of the great Kingdom’s ruler, Tipu Sultan and is an Indo Islamic architectural masterpiece. This place is one of the most famous places to visit in Bangalore due to the presence of gorgeous wooden carved work and history.\\\\n\\\\n4. ISKCON Temple: [...] Here are the top 10 places to visit in Bangalore if anybody has the zeal to explore them which includes some historical places, parks, and cultural places. All these places make the city diverse by just giving each place uniqueness that attracts different people.\\\\n\\\\n1. Vidhana Soudha:\\\\n\\\\n\\\\n\\\\nThis big edifice is the home of the state legislature of Karnataka in India. This makes it count among the most visited places in Bangalore, thanks to its beautiful architectural design.\", \"score\": 0.8989177}, {\"title\": \"52 Best Places to visit in Bangalore | Top Tourist Attractions - Holidify\", \"url\": \"https://www.holidify.com/places/bangalore/sightseeing-and-things-to-do.html\", \"content\": \"Bangalore\\\\nPlaces To Visit\\\\nPackages\\\\nHotels\\\\nHow to Reach\\\\nBest Time To Visit\\\\nPhotos\\\\nFood\\\\n\\\\nMore\\\\n\\\\n\\\\nCollections\\\\n\\\\n\\\\nMap\\\\n\\\\n\\\\nReviews & QnA\\\\n\\\\n\\\\nTravel Agents\\\\n\\\\n\\\\n\\\\n\\\\nCollections\\\\n\\\\nMap\\\\nReviews & QnA\\\\nTravel Agents\\\\n\\\\nBangalore, Karnataka\\\\nLalbagh\\\\nCubbon Park\\\\nBangalore Palace\\\\nBannerghatta National Park [...] Places To Visit in Bangalore\\\\nLocated in : Central Bangalore\\\\nSpread over an area of 300 acres, Cubbon Park in the city of Bangalore is a major sightseeing attraction rich in green foliage. It is a green belt region of the city and is an ideal place for nature lovers and those seeking a calm atmosphere. Having been laid down by Lord Cubbon, the park is named so in his honour. It is home to more than 6,000 trees that support a vibrant ecosystem.\\\\nRead More [...] Art Gallery \\xa0\\xa0Garden & Park \\xa0\\xa0Amusement & Theme Park \\xa0\\xa0Forts & Palaces \\xa0\\xa0Hills & Valleys \\xa0\\xa0Temple \\xa0\\xa0Lake \\xa0\\xa0Museum \\xa0\\xa0Waterfall \\xa0\\xa0Commercial Street \\xa0\\xa0Shopping Market \\xa0\\xa0Monument \\xa0\\xa0National Park \\xa0\\xa0Yoga & Meditation \\xa0\\xa0Buddhist Temple \\xa0\\xa0Planetarium \\xa0\\xa0Church & Cathedral \\xa0\\xa0Aquarium \\xa0\\xa0Adventure Zone \\\\nClear All Apply\", \"score\": 0.85825616}, {\"title\": \"What r really good places to visit in Bangalore? - Quora\", \"url\": \"https://www.quora.com/What-r-really-good-places-to-visit-in-Bangalore\", \"content\": \"There are many places to Explore in Bengaluru. · 1. Wonderla Amusement Park · 2. ISKCON Temple Bangalore · 3. UB City · 4. Art of Living\", \"score\": 0.8455478}, {\"title\": \"Bengaluru Tourist Places | Best Places To Visit - Incredible India\", \"url\": \"https://www.incredibleindia.gov.in/en/karnataka/bengaluru\", \"content\": \"Bengaluru—the city that codes poetry, brews coffee, and dances to its rhythm. Let’s explore its pixels and palimpsests, one byte at a time.\\\\n\\\\nAttractions\\\\n\\\\nworth a thousand stories\\\\n\\\\nGhati Subramanya Temple\\\\n\\\\nUlsoor Lake\\\\n\\\\nDevanahalli Fort\\\\n\\\\nMuthyala Maduvu\\\\n\\\\nTipu Sultan Palace\\\\n\\\\nRagigudda Anjaneya Temple\\\\n\\\\nPuttanna Chetty Town Hall\\\\n\\\\nNandi Hills\\\\n\\\\nLalbagh\\\\n\\\\nShivagange\\\\n\\\\nTipu Sultan\\'s Birthplace\\\\n\\\\nA trove of\\\\n\\\\nfascinating facts\\\\n\\\\nA trove of\\\\n\\\\nfascinating facts [...] The big boom may be over, but Bengaluru’s bright young things still have money to spend, and nightlife in the city is thriving. A night on the town generally starts with a bar crawl along Brigade Road, Residency Road, or Church Street. For quiet, elegant drinking, head for the bars of five-star hotels such as the Jockey Club at the Taj Residency or its competition, the Polo Club at the Oberoi, and for a taste of colonial grandeur, the Colonnade at the Taj West End.\\\\n\\\\nA shopper’s paradise\", \"score\": 0.82082915}, {\"title\": \"Best Places to Visit in and around Bangalore - Thorn Tree Forum\", \"url\": \"https://www.thorntreeforum.com/threads/best-places-to-visit-in-and-around-bangalore.854/\", \"content\": \"Lalbagh Botanical Garden – A 240-acre garden with rare plants and the famous Glass House. · Cubbon Park – A green oasis in the city, perfect for\", \"score\": 0.8170061}]', name='tavily_search_results_json', tool_call_id='call_AUq6bnxSScX4Rbvh5rhTTgIU', artifact={'query': 'famous places to visit in Bangalore', 'follow_up_questions': None, 'answer': None, 'images': [], 'results': [{'url': 'https://www.captureatrip.com/blog/places-to-visit-in-bangalore', 'title': '10 Places to visit in Bengaluru 2025 - Capture A Trip', 'content': '3. What are the famous places to visit in Bangalore ?\\n\\nOthers are Vidhana Soudha, Bangalore Palace and Bull Temple for its historical and cultural value.\\n\\n4. Where can I go for a weekend in Bangalore?\\n\\nNandi Hills is another suitable place for a weekend trip and it offers scenic views of the city while Bannerghatta National Park offers a wildlife experience.\\n\\nRecent Blogs\\n\\nThe Best Time to Visit Pondicherry: Seasons, Activities & More\\n\\nSingapore in Summer: Your Guide to the Best Vacation Ever [...] This beautiful palace was the summer residence of the great Kingdom’s ruler, Tipu Sultan and is an Indo Islamic architectural masterpiece. This place is one of the most famous places to visit in Bangalore due to the presence of gorgeous wooden carved work and history.\\n\\n4. ISKCON Temple: [...] Here are the top 10 places to visit in Bangalore if anybody has the zeal to explore them which includes some historical places, parks, and cultural places. All these places make the city diverse by just giving each place uniqueness that attracts different people.\\n\\n1. Vidhana Soudha:\\n\\n\\n\\nThis big edifice is the home of the state legislature of Karnataka in India. This makes it count among the most visited places in Bangalore, thanks to its beautiful architectural design.', 'score': 0.8989177, 'raw_content': None}, {'url': 'https://www.holidify.com/places/bangalore/sightseeing-and-things-to-do.html', 'title': '52 Best Places to visit in Bangalore | Top Tourist Attractions - Holidify', 'content': 'Bangalore\\nPlaces To Visit\\nPackages\\nHotels\\nHow to Reach\\nBest Time To Visit\\nPhotos\\nFood\\n\\nMore\\n\\n\\nCollections\\n\\n\\nMap\\n\\n\\nReviews & QnA\\n\\n\\nTravel Agents\\n\\n\\n\\n\\nCollections\\n\\nMap\\nReviews & QnA\\nTravel Agents\\n\\nBangalore, Karnataka\\nLalbagh\\nCubbon Park\\nBangalore Palace\\nBannerghatta National Park [...] Places To Visit in Bangalore\\nLocated in : Central Bangalore\\nSpread over an area of 300 acres, Cubbon Park in the city of Bangalore is a major sightseeing attraction rich in green foliage. It is a green belt region of the city and is an ideal place for nature lovers and those seeking a calm atmosphere. Having been laid down by Lord Cubbon, the park is named so in his honour. It is home to more than 6,000 trees that support a vibrant ecosystem.\\nRead More [...] Art Gallery \\xa0\\xa0Garden & Park \\xa0\\xa0Amusement & Theme Park \\xa0\\xa0Forts & Palaces \\xa0\\xa0Hills & Valleys \\xa0\\xa0Temple \\xa0\\xa0Lake \\xa0\\xa0Museum \\xa0\\xa0Waterfall \\xa0\\xa0Commercial Street \\xa0\\xa0Shopping Market \\xa0\\xa0Monument \\xa0\\xa0National Park \\xa0\\xa0Yoga & Meditation \\xa0\\xa0Buddhist Temple \\xa0\\xa0Planetarium \\xa0\\xa0Church & Cathedral \\xa0\\xa0Aquarium \\xa0\\xa0Adventure Zone \\nClear All Apply', 'score': 0.85825616, 'raw_content': None}, {'url': 'https://www.quora.com/What-r-really-good-places-to-visit-in-Bangalore', 'title': 'What r really good places to visit in Bangalore? - Quora', 'content': 'There are many places to Explore in Bengaluru. · 1. Wonderla Amusement Park · 2. ISKCON Temple Bangalore · 3. UB City · 4. Art of Living', 'score': 0.8455478, 'raw_content': None}, {'url': 'https://www.incredibleindia.gov.in/en/karnataka/bengaluru', 'title': 'Bengaluru Tourist Places | Best Places To Visit - Incredible India', 'content': \"Bengaluru—the city that codes poetry, brews coffee, and dances to its rhythm. Let’s explore its pixels and palimpsests, one byte at a time.\\n\\nAttractions\\n\\nworth a thousand stories\\n\\nGhati Subramanya Temple\\n\\nUlsoor Lake\\n\\nDevanahalli Fort\\n\\nMuthyala Maduvu\\n\\nTipu Sultan Palace\\n\\nRagigudda Anjaneya Temple\\n\\nPuttanna Chetty Town Hall\\n\\nNandi Hills\\n\\nLalbagh\\n\\nShivagange\\n\\nTipu Sultan's Birthplace\\n\\nA trove of\\n\\nfascinating facts\\n\\nA trove of\\n\\nfascinating facts [...] The big boom may be over, but Bengaluru’s bright young things still have money to spend, and nightlife in the city is thriving. A night on the town generally starts with a bar crawl along Brigade Road, Residency Road, or Church Street. For quiet, elegant drinking, head for the bars of five-star hotels such as the Jockey Club at the Taj Residency or its competition, the Polo Club at the Oberoi, and for a taste of colonial grandeur, the Colonnade at the Taj West End.\\n\\nA shopper’s paradise\", 'score': 0.82082915, 'raw_content': None}, {'url': 'https://www.thorntreeforum.com/threads/best-places-to-visit-in-and-around-bangalore.854/', 'title': 'Best Places to Visit in and around Bangalore - Thorn Tree Forum', 'content': 'Lalbagh Botanical Garden – A 240-acre garden with rare plants and the famous Glass House. · Cubbon Park – A green oasis in the city, perfect for', 'score': 0.8170061, 'raw_content': None}], 'response_time': 2.43}), ToolMessage(content='[{\"title\": \"Best Restaurants In Bangalore To Delight Your Taste Buds In 2025!\", \"url\": \"https://traveltriangle.com/blog/best-restaurants-in-bangalore/\", \"content\": \"The king of cafes in Bangalore, Toit has set an unmatched standard amongst all the best restaurants in Bangalore. Freshly brewed beer, lively music, and a wide variety of international main courses and starters combine to give this place a ‘must-visit’ tag for any first-timer. It is one of the best restaurants in Bangalore for couples who share a love of pizzas and beers.\\\\n\\\\nAddress: Indiranagar, 100 Feet Rd, Near Drops Total Spirits, Bengaluru, Karnataka 560038 [...] It is impossible to have a list of the best restaurants in Bangalore, without naming its very own Hard Rock Cafe. This cafe, probably, needs no introduction as it has become a household name amongst music and food lovers from all around the world. The brand has built such a reputation that the HRC often gets counted as a sightseeing place for any traveller going to a new city. This is amongst the best restaurants in Bangalore for family and friends to visit. [...] Jamavar is another luxury restaurant that you need to consider visiting. Featuring an ethnic ambience, and indoor and outdoor seating plans, this restaurant serves delectable food. Moreover, this is a kid-friendly place that is also wheelchair accessible. The restaurant is amazing with hospitality, hygiene, food yumminess, and prep times. Special occasions deserve a special treat here.\\\\n\\\\nAddress:\\xa0The Leela Palace, Old Airport Road, Bangalore\\\\n\\\\nTimings:\\xa012–3\\u202fpm, 7–11:30\\u202fpm\\\\n\\\\nCost for two: INR 5000\", \"score\": 0.86767644}, {\"title\": \"What are the must-visit food places in Bangalore, and when ... - Quora\", \"url\": \"https://www.quora.com/What-are-the-must-visit-food-places-in-Bangalore-and-when-is-the-best-time-to-visit-that-place\", \"content\": \"1. Mavalli Tiffin Room, (Lalbagh road) for the perfect meal or small eats. · 2. Kamat YatriNivas (Gandhinagar) for the very famous Jolada roti\", \"score\": 0.8479807}, {\"title\": \"15 Newest restaurants in Bengaluru, share it ... - Instagram\", \"url\": \"https://www.instagram.com/reel/DEesSmzPTNs/?hl=en\", \"content\": \"If you\\'re a dessert lover in Bengaluru, @avocadoandbrownies.in is a must-visit! This brownie heaven just dropped their latest creation –\", \"score\": 0.7946564}, {\"title\": \"THE 10 BEST Restaurants in Bengaluru (Updated May 2025)\", \"url\": \"https://www.tripadvisor.com/Restaurants-g297628-Bengaluru_Bangalore_District_Karnataka.html\", \"content\": \"Some of the most popular restaurants in Bengaluru for cheap eats include: Taaza Thindi · Brahmin\\'s Coffee Bar · Shri Sagar (C.T.R). THE 10 BEST Restaurants in\", \"score\": 0.7065353}, {\"title\": \"The Best Restaurants in Bengaluru for Dining Out - Zomato\", \"url\": \"https://www.zomato.com/bangalore/restaurants\", \"content\": \"Restaurants in Bengaluru · Jamavar - The Leela Palace · Sozo Skyline · Shiro · Feast - Sheraton Grand Bangalore Hotel at Brigade Gateway · Stories Bar & Kitchen.\", \"score\": 0.68090034}]', name='tavily_search_results_json', tool_call_id='call_W0Bj1assm8CJus47TOLqjp3s', artifact={'query': 'must visit restaurants in Bangalore', 'follow_up_questions': None, 'answer': None, 'images': [], 'results': [{'url': 'https://traveltriangle.com/blog/best-restaurants-in-bangalore/', 'title': 'Best Restaurants In Bangalore To Delight Your Taste Buds In 2025!', 'content': 'The king of cafes in Bangalore, Toit has set an unmatched standard amongst all the best restaurants in Bangalore. Freshly brewed beer, lively music, and a wide variety of international main courses and starters combine to give this place a ‘must-visit’ tag for any first-timer. It is one of the best restaurants in Bangalore for couples who share a love of pizzas and beers.\\n\\nAddress: Indiranagar, 100 Feet Rd, Near Drops Total Spirits, Bengaluru, Karnataka 560038 [...] It is impossible to have a list of the best restaurants in Bangalore, without naming its very own Hard Rock Cafe. This cafe, probably, needs no introduction as it has become a household name amongst music and food lovers from all around the world. The brand has built such a reputation that the HRC often gets counted as a sightseeing place for any traveller going to a new city. This is amongst the best restaurants in Bangalore for family and friends to visit. [...] Jamavar is another luxury restaurant that you need to consider visiting. Featuring an ethnic ambience, and indoor and outdoor seating plans, this restaurant serves delectable food. Moreover, this is a kid-friendly place that is also wheelchair accessible. The restaurant is amazing with hospitality, hygiene, food yumminess, and prep times. Special occasions deserve a special treat here.\\n\\nAddress:\\xa0The Leela Palace, Old Airport Road, Bangalore\\n\\nTimings:\\xa012–3\\u202fpm, 7–11:30\\u202fpm\\n\\nCost for two: INR 5000', 'score': 0.86767644, 'raw_content': None}, {'url': 'https://www.quora.com/What-are-the-must-visit-food-places-in-Bangalore-and-when-is-the-best-time-to-visit-that-place', 'title': 'What are the must-visit food places in Bangalore, and when ... - Quora', 'content': '1. Mavalli Tiffin Room, (Lalbagh road) for the perfect meal or small eats. · 2. Kamat YatriNivas (Gandhinagar) for the very famous Jolada roti', 'score': 0.8479807, 'raw_content': None}, {'url': 'https://www.instagram.com/reel/DEesSmzPTNs/?hl=en', 'title': '15 Newest restaurants in Bengaluru, share it ... - Instagram', 'content': \"If you're a dessert lover in Bengaluru, @avocadoandbrownies.in is a must-visit! This brownie heaven just dropped their latest creation –\", 'score': 0.7946564, 'raw_content': None}, {'url': 'https://www.tripadvisor.com/Restaurants-g297628-Bengaluru_Bangalore_District_Karnataka.html', 'title': 'THE 10 BEST Restaurants in Bengaluru (Updated May 2025)', 'content': \"Some of the most popular restaurants in Bengaluru for cheap eats include: Taaza Thindi · Brahmin's Coffee Bar · Shri Sagar (C.T.R). THE 10 BEST Restaurants in\", 'score': 0.7065353, 'raw_content': None}, {'url': 'https://www.zomato.com/bangalore/restaurants', 'title': 'The Best Restaurants in Bengaluru for Dining Out - Zomato', 'content': 'Restaurants in Bengaluru · Jamavar - The Leela Palace · Sozo Skyline · Shiro · Feast - Sheraton Grand Bangalore Hotel at Brigade Gateway · Stories Bar & Kitchen.', 'score': 0.68090034, 'raw_content': None}], 'response_time': 3.13}), AIMessage(content=\"Bangalore, known for its vibrant culture and gardens, offers numerous famous places and must-visit restaurants:\\n\\n### Famous Places in Bangalore:\\n1. **Cubbon Park** - A massive green oasis in the city's center, ideal for nature lovers.\\n2. **Bangalore Palace** - Known for its stunning architecture and heritage value.\\n3. **Lalbagh Botanical Garden** - Famous for its rare plant species and the iconic Glass House.\\n4. **Bannerghatta National Park** - Offers wildlife experiences near the city.\\n5. **Vidhana Soudha** - A stunning architectural marvel housing the Karnataka state legislature.\\n6. **ISKCON Temple** - A significant cultural and spiritual site.\\n7. **Nandi Hills** - Perfect for a weekend trip with panoramic views.\\n8. **Tipu Sultan's Summer Palace** - An Indo-Islamic architectural gem.\\n\\n[More on Bangalore's Attractions](https://www.holidify.com/places/bangalore/sightseeing-and-things-to-do.html)\\n\\n### Must-Visit Restaurants in Bangalore:\\n1. **Toit** - Known for freshly brewed beer and vibrant atmosphere, located in Indiranagar.\\n2. **Hard Rock Cafe** - A globally renowned spot ideal for music and food lovers.\\n3. **Jamavar** - Offers luxury dining with both indoor and outdoor seating at The Leela Palace.\\n4. **Mavalli Tiffin Room (MTR)** - Famous for traditional South Indian cuisine.\\n5. **Taaza Thindi** - Popular for affordable and delicious eats.\\n6. **Brahmin's Coffee Bar** - Known for authentic filter coffee and South Indian snacks.\\n\\n[Explore More Restaurants](https://traveltriangle.com/blog/best-restaurants-in-bangalore/)\\n\\nBoth the attractions and restaurants provide a glimpse into the rich cultural and culinary diversity of Bangalore.\", additional_kwargs={'refusal': None}, response_metadata={'token_usage': {'completion_tokens': 376, 'prompt_tokens': 2318, 'total_tokens': 2694, 'completion_tokens_details': {'accepted_prediction_tokens': 0, 'audio_tokens': 0, 'reasoning_tokens': 0, 'rejected_prediction_tokens': 0}, 'prompt_tokens_details': {'audio_tokens': 0, 'cached_tokens': 0}}, 'model_name': 'gpt-4o-2024-08-06', 'system_fingerprint': 'fp_f5bdcc3276', 'id': 'chatcmpl-BT1qooFAFdJQI2ZH4vanHNhRKGbyZ', 'finish_reason': 'stop', 'logprobs': None}, id='run-d662d780-0425-4547-a510-c6e03d81febb-0', usage_metadata={'input_tokens': 2318, 'output_tokens': 376, 'total_tokens': 2694, 'input_token_details': {'audio': 0, 'cache_read': 0}, 'output_token_details': {'audio': 0, 'reasoning': 0}}), ('user', 'what is a weather there?'), AIMessage(content='', additional_kwargs={'tool_calls': [{'id': 'call_U1DDKf5aP2ZgwEkm3Fibn72s', 'function': {'arguments': '{\"query\":\"current weather in Bangalore\"}', 'name': 'tavily_search_results_json'}, 'type': 'function'}], 'refusal': None}, response_metadata={'token_usage': {'completion_tokens': 22, 'prompt_tokens': 2706, 'total_tokens': 2728, 'completion_tokens_details': {'accepted_prediction_tokens': 0, 'audio_tokens': 0, 'reasoning_tokens': 0, 'rejected_prediction_tokens': 0}, 'prompt_tokens_details': {'audio_tokens': 0, 'cached_tokens': 0}}, 'model_name': 'gpt-4o-2024-08-06', 'system_fingerprint': 'fp_f5bdcc3276', 'id': 'chatcmpl-BT220SrrdISCCHYUxuC8CknCSSj5C', 'finish_reason': 'tool_calls', 'logprobs': None}, id='run-0f917cd8-2104-4583-9791-ed765b0043ad-0', tool_calls=[{'name': 'tavily_search_results_json', 'args': {'query': 'current weather in Bangalore'}, 'id': 'call_U1DDKf5aP2ZgwEkm3Fibn72s', 'type': 'tool_call'}], usage_metadata={'input_tokens': 2706, 'output_tokens': 22, 'total_tokens': 2728, 'input_token_details': {'audio': 0, 'cache_read': 0}, 'output_token_details': {'audio': 0, 'reasoning': 0}})]}\n"
     ]
    }
   ],
   "source": [
    "for event in events:\n",
    "    print(event)"
   ]
  },
  {
   "cell_type": "code",
   "execution_count": null,
   "id": "5d1fa134",
   "metadata": {},
   "outputs": [],
   "source": [
    "\n",
    "for event in events:\n",
    "    if \"messages\" in event:\n",
    "        event[\"messages\"][-1].pretty_print()"
   ]
  },
  {
   "cell_type": "code",
   "execution_count": null,
   "id": "0ac49a66",
   "metadata": {},
   "outputs": [],
   "source": [
    "\n",
    "snapshot = app2.get_state(config)\n",
    "     "
   ]
  },
  {
   "cell_type": "code",
   "execution_count": null,
   "id": "d4859c01",
   "metadata": {},
   "outputs": [
    {
     "data": {
      "text/plain": [
       "('tools',)"
      ]
     },
     "execution_count": 248,
     "metadata": {},
     "output_type": "execute_result"
    }
   ],
   "source": [
    "\n",
    "snapshot.next"
   ]
  },
  {
   "cell_type": "code",
   "execution_count": null,
   "id": "1d7ca9b5",
   "metadata": {},
   "outputs": [],
   "source": [
    "\n",
    "last_message = snapshot.values[\"messages\"][-1]"
   ]
  },
  {
   "cell_type": "code",
   "execution_count": null,
   "id": "bbd13975",
   "metadata": {},
   "outputs": [
    {
     "data": {
      "text/plain": [
       "[{'name': 'tavily_search_results_json',\n",
       "  'args': {'query': 'current weather in Bangalore'},\n",
       "  'id': 'call_U1DDKf5aP2ZgwEkm3Fibn72s',\n",
       "  'type': 'tool_call'}]"
      ]
     },
     "execution_count": 250,
     "metadata": {},
     "output_type": "execute_result"
    }
   ],
   "source": [
    "\n",
    "last_message.tool_calls"
   ]
  },
  {
   "cell_type": "code",
   "execution_count": null,
   "id": "22937065",
   "metadata": {},
   "outputs": [],
   "source": [
    "events = app2.stream(None, config, stream_mode=\"values\")"
   ]
  },
  {
   "cell_type": "code",
   "execution_count": null,
   "id": "bbaaf8ef",
   "metadata": {},
   "outputs": [
    {
     "name": "stdout",
     "output_type": "stream",
     "text": [
      "==================================\u001b[1m Ai Message \u001b[0m==================================\n",
      "Tool Calls:\n",
      "  tavily_search_results_json (call_U1DDKf5aP2ZgwEkm3Fibn72s)\n",
      " Call ID: call_U1DDKf5aP2ZgwEkm3Fibn72s\n",
      "  Args:\n",
      "    query: current weather in Bangalore\n",
      "=================================\u001b[1m Tool Message \u001b[0m=================================\n",
      "Name: tavily_search_results_json\n",
      "\n",
      "[{\"title\": \"Weather in Bangalore\", \"url\": \"https://www.weatherapi.com/\", \"content\": \"{'location': {'name': 'Bangalore', 'region': 'Karnataka', 'country': 'India', 'lat': 12.9833, 'lon': 77.5833, 'tz_id': 'Asia/Kolkata', 'localtime_epoch': 1746259031, 'localtime': '2025-05-03 13:27'}, 'current': {'last_updated_epoch': 1746258300, 'last_updated': '2025-05-03 13:15', 'temp_c': 31.0, 'temp_f': 87.8, 'is_day': 1, 'condition': {'text': 'Partly Cloudy', 'icon': '//cdn.weatherapi.com/weather/64x64/day/116.png', 'code': 1003}, 'wind_mph': 5.6, 'wind_kph': 9.0, 'wind_degree': 214, 'wind_dir': 'SW', 'pressure_mb': 1014.0, 'pressure_in': 29.94, 'precip_mm': 0.0, 'precip_in': 0.0, 'humidity': 52, 'cloud': 25, 'feelslike_c': 29.9, 'feelslike_f': 85.8, 'windchill_c': 33.2, 'windchill_f': 91.8, 'heatindex_c': 32.7, 'heatindex_f': 90.8, 'dewpoint_c': 12.9, 'dewpoint_f': 55.1, 'vis_km': 8.0, 'vis_miles': 4.0, 'uv': 6.5, 'gust_mph': 6.4, 'gust_kph': 10.4}}\", \"score\": 0.9836111}, {\"title\": \"Bengaluru Weather Forecast 3 May 2025 - Times of India\", \"url\": \"https://timesofindia.indiatimes.com/weather/bengaluru-weather-forecast-today/560001\", \"content\": \"Today's Weather in Bengaluru: In Bengaluru today, the weather is expected to be Fair with a maximum temperature of 32°C and a minimum of 21°C. Sunrise in\", \"score\": 0.9195344}, {\"title\": \"Weather in Bangalore in May 2025 (State of Karnātaka)\", \"url\": \"https://world-weather.info/forecast/india/bangalor/may-2025/\", \"content\": \"Detailed ⚡ Bangalore Weather Forecast for May 2025 – day/night 🌡️ ... Saturday, 3 May. +79°. Day. +91°. Light rain. Sunday, 4 May. +82°. Day. +91°. Light\", \"score\": 0.9170729}, {\"title\": \"Weather in Bengaluru in May 2025 - Detailed Forecast\", \"url\": \"https://www.easeweather.com/asia/india/karnataka/bangalore-urban/bengaluru/may\", \"content\": \"Weather in Bengaluru for May 2025\\n\\nTemperatures\\n\\nThe forecast for the next days in Bengaluru predicts temperatures to be around 35 °C, close to the historical average.\\n\\nIn general, the average temperature in Bengaluru at the beginning of May is 34.3 °C. As the month progressed, temperatures tended to noticeably cool down, reaching an average of 31.7 °C by the end of May.\\n\\nRain 🌧️\\n\\nBengaluru experiences heavy rainfall in May, with over 20 rainy days and an average total precipitation 171.9 mm. [...] 1 May | Moderate or heavy rain shower | 34°/23° | 13.8mm | 8 | \\n2 May | Heavy rain at times | 33°/23° | 8.2mm | 7 | \\n3 May | Patchy rain possible | 34°/23° | 2.7mm | 2.3 | \\n4 May | Patchy rain possible | 33°/22° | 1.9mm | 2.4 | \\n5 May | Sunny | 35°/23° | 0mm | 2.8 | \\n6 May | Sunny | 36°/23° | 0mm | 3.5 | \\n7 May | Patchy rain possible | 35°/23° | 1.9mm | 6 | \\n8 May | Sunny | 35°/23° | 0mm | 7 | \\n9 May | Sunny | 36°/25° | 0mm | 8 | \\n10 May | Sunny | 36°/23° | 0mm | 7 | [...] Bengaluru Weather May\\n\\nMon. | Tue. | Wed. | Thu. | Fri. | Sat. | Sun.\\n |  |  | 134° | 233° | 334° | 433°\\n535° | 636° | 735° | 835° | 936° | 1036° | 1136°\\n1235° | 1335° | 1435° | 1535° | 1635° | 1733° | 1832°\\n1933° | 2032° | 2130° | 2233° | 2334° | 2432° | 2529°\\n2631° | 2730° | 2832° | 2934° | 3033° | 3133° | \\nYou can click on date\\n\\nTemperatures trend during May in Bengaluru\\n\\nMay weather day by day\", \"score\": 0.8952393}, {\"title\": \"Bangalore weather in May 2025 - Weather25.com\", \"url\": \"https://www.weather25.com/asia/india/karnataka/bangalore?page=month&month=May\", \"content\": \"Bangalore weather in May 2025\\n\\nThe average weather in Bangalore in May\\n\\nThe weather in Bangalore in May is very hot. The average temperatures are between 23°C and 34°C, drinking water regularly is advisable.\\n\\nYou can expect rain for roughly half of the month of May in Bangalore. We’re expecting roughly 8 to 15 days of rain, so your rubber boots and umbrella are going to see plenty of use this month if you’re keen on staying dry. [...] Sun | Mon | Tue | Wed | Thu | Fri | Sat\\n |  |  |  | 134°/24° | 234°/24° | 334°/24°\\n432°/23° | 535°/23° | 635°/23° | 735°/23° | 833°/23° | 935°/24° | 1035°/24°\\n1134°/23° | 1230°/21° | 1331°/22° | 1433°/23° | 1534°/23° | 1634°/23° | 1732°/23°\\n1831°/24° | 1933°/24° | 2031°/23° | 2130°/22° | 2232°/23° | 2334°/23° | 2433°/23°\\n2531°/23° | 2632°/22° | 2732°/23° | 2833°/23° | 2933°/22° | 3033°/22° | 3133°/23°\\nExplore the weather in Bangalore in other months\\n\\nBangalore annual weather [...] Month | Temperatures | Rainy Days | Dry Days | Snowy Days | Rainfall | Weather | More details\\nJanuary | 29°/17° | 1 | 31 | 0 | 12mm | Good | Bangalore in January\\nFebruary | 32°/18° | 1 | 28 | 0 | 14mm | Good | Bangalore in February\\nMarch | 35°/22° | 1 | 30 | 0 | 27mm | Ok | Bangalore in March\\nApril | 36°/24° | 4 | 26 | 0 | 61mm | Ok | Bangalore in April\\nMay | 34°/23° | 9 | 23 | 0 | 183mm | Bad | Bangalore in May\\nJune | 30°/21° | 10 | 20 | 0 | 183mm | Ok | Bangalore in June\", \"score\": 0.8868231}]\n",
      "==================================\u001b[1m Ai Message \u001b[0m==================================\n",
      "\n",
      "The current weather in Bangalore is **partly cloudy** with a temperature of around **31°C (87.8°F)**. The wind is blowing from the southwest at about 9 km/h (5.6 mph), and the humidity level is at 52%. The weather feels like it is approximately 29.9°C (85.8°F). \n",
      "\n",
      "For more detailed and up-to-date information, you might want to visit a [weather information site](https://www.weatherapi.com/).\n"
     ]
    }
   ],
   "source": [
    "for event in events:\n",
    "    if \"messages\" in event:\n",
    "        event[\"messages\"][-1].pretty_print()"
   ]
  },
  {
   "cell_type": "code",
   "execution_count": null,
   "id": "38bdbcba",
   "metadata": {},
   "outputs": [
    {
     "data": {
      "text/plain": [
       "StateSnapshot(values={'messages': [['user', 'famous places of the bangalore and must visit restaurants?'], AIMessage(content='', additional_kwargs={'tool_calls': [{'id': 'call_AUq6bnxSScX4Rbvh5rhTTgIU', 'function': {'arguments': '{\"query\": \"famous places to visit in Bangalore\"}', 'name': 'tavily_search_results_json'}, 'type': 'function'}, {'id': 'call_W0Bj1assm8CJus47TOLqjp3s', 'function': {'arguments': '{\"query\": \"must visit restaurants in Bangalore\"}', 'name': 'tavily_search_results_json'}, 'type': 'function'}], 'refusal': None}, response_metadata={'token_usage': {'completion_tokens': 63, 'prompt_tokens': 91, 'total_tokens': 154, 'completion_tokens_details': {'accepted_prediction_tokens': 0, 'audio_tokens': 0, 'reasoning_tokens': 0, 'rejected_prediction_tokens': 0}, 'prompt_tokens_details': {'audio_tokens': 0, 'cached_tokens': 0}}, 'model_name': 'gpt-4o-2024-08-06', 'system_fingerprint': 'fp_f5bdcc3276', 'id': 'chatcmpl-BT1qbpjEEfjhjDIXUGjeFmW9Rm8kB', 'finish_reason': 'tool_calls', 'logprobs': None}, id='run-6dd2c77f-2612-46eb-89ce-4851e65072b4-0', tool_calls=[{'name': 'tavily_search_results_json', 'args': {'query': 'famous places to visit in Bangalore'}, 'id': 'call_AUq6bnxSScX4Rbvh5rhTTgIU', 'type': 'tool_call'}, {'name': 'tavily_search_results_json', 'args': {'query': 'must visit restaurants in Bangalore'}, 'id': 'call_W0Bj1assm8CJus47TOLqjp3s', 'type': 'tool_call'}], usage_metadata={'input_tokens': 91, 'output_tokens': 63, 'total_tokens': 154, 'input_token_details': {'audio': 0, 'cache_read': 0}, 'output_token_details': {'audio': 0, 'reasoning': 0}}), ToolMessage(content='[{\"title\": \"10 Places to visit in Bengaluru 2025 - Capture A Trip\", \"url\": \"https://www.captureatrip.com/blog/places-to-visit-in-bangalore\", \"content\": \"3. What are the famous places to visit in Bangalore ?\\\\n\\\\nOthers are Vidhana Soudha, Bangalore Palace and Bull Temple for its historical and cultural value.\\\\n\\\\n4. Where can I go for a weekend in Bangalore?\\\\n\\\\nNandi Hills is another suitable place for a weekend trip and it offers scenic views of the city while Bannerghatta National Park offers a wildlife experience.\\\\n\\\\nRecent Blogs\\\\n\\\\nThe Best Time to Visit Pondicherry: Seasons, Activities & More\\\\n\\\\nSingapore in Summer: Your Guide to the Best Vacation Ever [...] This beautiful palace was the summer residence of the great Kingdom’s ruler, Tipu Sultan and is an Indo Islamic architectural masterpiece. This place is one of the most famous places to visit in Bangalore due to the presence of gorgeous wooden carved work and history.\\\\n\\\\n4. ISKCON Temple: [...] Here are the top 10 places to visit in Bangalore if anybody has the zeal to explore them which includes some historical places, parks, and cultural places. All these places make the city diverse by just giving each place uniqueness that attracts different people.\\\\n\\\\n1. Vidhana Soudha:\\\\n\\\\n\\\\n\\\\nThis big edifice is the home of the state legislature of Karnataka in India. This makes it count among the most visited places in Bangalore, thanks to its beautiful architectural design.\", \"score\": 0.8989177}, {\"title\": \"52 Best Places to visit in Bangalore | Top Tourist Attractions - Holidify\", \"url\": \"https://www.holidify.com/places/bangalore/sightseeing-and-things-to-do.html\", \"content\": \"Bangalore\\\\nPlaces To Visit\\\\nPackages\\\\nHotels\\\\nHow to Reach\\\\nBest Time To Visit\\\\nPhotos\\\\nFood\\\\n\\\\nMore\\\\n\\\\n\\\\nCollections\\\\n\\\\n\\\\nMap\\\\n\\\\n\\\\nReviews & QnA\\\\n\\\\n\\\\nTravel Agents\\\\n\\\\n\\\\n\\\\n\\\\nCollections\\\\n\\\\nMap\\\\nReviews & QnA\\\\nTravel Agents\\\\n\\\\nBangalore, Karnataka\\\\nLalbagh\\\\nCubbon Park\\\\nBangalore Palace\\\\nBannerghatta National Park [...] Places To Visit in Bangalore\\\\nLocated in : Central Bangalore\\\\nSpread over an area of 300 acres, Cubbon Park in the city of Bangalore is a major sightseeing attraction rich in green foliage. It is a green belt region of the city and is an ideal place for nature lovers and those seeking a calm atmosphere. Having been laid down by Lord Cubbon, the park is named so in his honour. It is home to more than 6,000 trees that support a vibrant ecosystem.\\\\nRead More [...] Art Gallery \\xa0\\xa0Garden & Park \\xa0\\xa0Amusement & Theme Park \\xa0\\xa0Forts & Palaces \\xa0\\xa0Hills & Valleys \\xa0\\xa0Temple \\xa0\\xa0Lake \\xa0\\xa0Museum \\xa0\\xa0Waterfall \\xa0\\xa0Commercial Street \\xa0\\xa0Shopping Market \\xa0\\xa0Monument \\xa0\\xa0National Park \\xa0\\xa0Yoga & Meditation \\xa0\\xa0Buddhist Temple \\xa0\\xa0Planetarium \\xa0\\xa0Church & Cathedral \\xa0\\xa0Aquarium \\xa0\\xa0Adventure Zone \\\\nClear All Apply\", \"score\": 0.85825616}, {\"title\": \"What r really good places to visit in Bangalore? - Quora\", \"url\": \"https://www.quora.com/What-r-really-good-places-to-visit-in-Bangalore\", \"content\": \"There are many places to Explore in Bengaluru. · 1. Wonderla Amusement Park · 2. ISKCON Temple Bangalore · 3. UB City · 4. Art of Living\", \"score\": 0.8455478}, {\"title\": \"Bengaluru Tourist Places | Best Places To Visit - Incredible India\", \"url\": \"https://www.incredibleindia.gov.in/en/karnataka/bengaluru\", \"content\": \"Bengaluru—the city that codes poetry, brews coffee, and dances to its rhythm. Let’s explore its pixels and palimpsests, one byte at a time.\\\\n\\\\nAttractions\\\\n\\\\nworth a thousand stories\\\\n\\\\nGhati Subramanya Temple\\\\n\\\\nUlsoor Lake\\\\n\\\\nDevanahalli Fort\\\\n\\\\nMuthyala Maduvu\\\\n\\\\nTipu Sultan Palace\\\\n\\\\nRagigudda Anjaneya Temple\\\\n\\\\nPuttanna Chetty Town Hall\\\\n\\\\nNandi Hills\\\\n\\\\nLalbagh\\\\n\\\\nShivagange\\\\n\\\\nTipu Sultan\\'s Birthplace\\\\n\\\\nA trove of\\\\n\\\\nfascinating facts\\\\n\\\\nA trove of\\\\n\\\\nfascinating facts [...] The big boom may be over, but Bengaluru’s bright young things still have money to spend, and nightlife in the city is thriving. A night on the town generally starts with a bar crawl along Brigade Road, Residency Road, or Church Street. For quiet, elegant drinking, head for the bars of five-star hotels such as the Jockey Club at the Taj Residency or its competition, the Polo Club at the Oberoi, and for a taste of colonial grandeur, the Colonnade at the Taj West End.\\\\n\\\\nA shopper’s paradise\", \"score\": 0.82082915}, {\"title\": \"Best Places to Visit in and around Bangalore - Thorn Tree Forum\", \"url\": \"https://www.thorntreeforum.com/threads/best-places-to-visit-in-and-around-bangalore.854/\", \"content\": \"Lalbagh Botanical Garden – A 240-acre garden with rare plants and the famous Glass House. · Cubbon Park – A green oasis in the city, perfect for\", \"score\": 0.8170061}]', name='tavily_search_results_json', tool_call_id='call_AUq6bnxSScX4Rbvh5rhTTgIU', artifact={'query': 'famous places to visit in Bangalore', 'follow_up_questions': None, 'answer': None, 'images': [], 'results': [{'url': 'https://www.captureatrip.com/blog/places-to-visit-in-bangalore', 'title': '10 Places to visit in Bengaluru 2025 - Capture A Trip', 'content': '3. What are the famous places to visit in Bangalore ?\\n\\nOthers are Vidhana Soudha, Bangalore Palace and Bull Temple for its historical and cultural value.\\n\\n4. Where can I go for a weekend in Bangalore?\\n\\nNandi Hills is another suitable place for a weekend trip and it offers scenic views of the city while Bannerghatta National Park offers a wildlife experience.\\n\\nRecent Blogs\\n\\nThe Best Time to Visit Pondicherry: Seasons, Activities & More\\n\\nSingapore in Summer: Your Guide to the Best Vacation Ever [...] This beautiful palace was the summer residence of the great Kingdom’s ruler, Tipu Sultan and is an Indo Islamic architectural masterpiece. This place is one of the most famous places to visit in Bangalore due to the presence of gorgeous wooden carved work and history.\\n\\n4. ISKCON Temple: [...] Here are the top 10 places to visit in Bangalore if anybody has the zeal to explore them which includes some historical places, parks, and cultural places. All these places make the city diverse by just giving each place uniqueness that attracts different people.\\n\\n1. Vidhana Soudha:\\n\\n\\n\\nThis big edifice is the home of the state legislature of Karnataka in India. This makes it count among the most visited places in Bangalore, thanks to its beautiful architectural design.', 'score': 0.8989177, 'raw_content': None}, {'url': 'https://www.holidify.com/places/bangalore/sightseeing-and-things-to-do.html', 'title': '52 Best Places to visit in Bangalore | Top Tourist Attractions - Holidify', 'content': 'Bangalore\\nPlaces To Visit\\nPackages\\nHotels\\nHow to Reach\\nBest Time To Visit\\nPhotos\\nFood\\n\\nMore\\n\\n\\nCollections\\n\\n\\nMap\\n\\n\\nReviews & QnA\\n\\n\\nTravel Agents\\n\\n\\n\\n\\nCollections\\n\\nMap\\nReviews & QnA\\nTravel Agents\\n\\nBangalore, Karnataka\\nLalbagh\\nCubbon Park\\nBangalore Palace\\nBannerghatta National Park [...] Places To Visit in Bangalore\\nLocated in : Central Bangalore\\nSpread over an area of 300 acres, Cubbon Park in the city of Bangalore is a major sightseeing attraction rich in green foliage. It is a green belt region of the city and is an ideal place for nature lovers and those seeking a calm atmosphere. Having been laid down by Lord Cubbon, the park is named so in his honour. It is home to more than 6,000 trees that support a vibrant ecosystem.\\nRead More [...] Art Gallery \\xa0\\xa0Garden & Park \\xa0\\xa0Amusement & Theme Park \\xa0\\xa0Forts & Palaces \\xa0\\xa0Hills & Valleys \\xa0\\xa0Temple \\xa0\\xa0Lake \\xa0\\xa0Museum \\xa0\\xa0Waterfall \\xa0\\xa0Commercial Street \\xa0\\xa0Shopping Market \\xa0\\xa0Monument \\xa0\\xa0National Park \\xa0\\xa0Yoga & Meditation \\xa0\\xa0Buddhist Temple \\xa0\\xa0Planetarium \\xa0\\xa0Church & Cathedral \\xa0\\xa0Aquarium \\xa0\\xa0Adventure Zone \\nClear All Apply', 'score': 0.85825616, 'raw_content': None}, {'url': 'https://www.quora.com/What-r-really-good-places-to-visit-in-Bangalore', 'title': 'What r really good places to visit in Bangalore? - Quora', 'content': 'There are many places to Explore in Bengaluru. · 1. Wonderla Amusement Park · 2. ISKCON Temple Bangalore · 3. UB City · 4. Art of Living', 'score': 0.8455478, 'raw_content': None}, {'url': 'https://www.incredibleindia.gov.in/en/karnataka/bengaluru', 'title': 'Bengaluru Tourist Places | Best Places To Visit - Incredible India', 'content': \"Bengaluru—the city that codes poetry, brews coffee, and dances to its rhythm. Let’s explore its pixels and palimpsests, one byte at a time.\\n\\nAttractions\\n\\nworth a thousand stories\\n\\nGhati Subramanya Temple\\n\\nUlsoor Lake\\n\\nDevanahalli Fort\\n\\nMuthyala Maduvu\\n\\nTipu Sultan Palace\\n\\nRagigudda Anjaneya Temple\\n\\nPuttanna Chetty Town Hall\\n\\nNandi Hills\\n\\nLalbagh\\n\\nShivagange\\n\\nTipu Sultan's Birthplace\\n\\nA trove of\\n\\nfascinating facts\\n\\nA trove of\\n\\nfascinating facts [...] The big boom may be over, but Bengaluru’s bright young things still have money to spend, and nightlife in the city is thriving. A night on the town generally starts with a bar crawl along Brigade Road, Residency Road, or Church Street. For quiet, elegant drinking, head for the bars of five-star hotels such as the Jockey Club at the Taj Residency or its competition, the Polo Club at the Oberoi, and for a taste of colonial grandeur, the Colonnade at the Taj West End.\\n\\nA shopper’s paradise\", 'score': 0.82082915, 'raw_content': None}, {'url': 'https://www.thorntreeforum.com/threads/best-places-to-visit-in-and-around-bangalore.854/', 'title': 'Best Places to Visit in and around Bangalore - Thorn Tree Forum', 'content': 'Lalbagh Botanical Garden – A 240-acre garden with rare plants and the famous Glass House. · Cubbon Park – A green oasis in the city, perfect for', 'score': 0.8170061, 'raw_content': None}], 'response_time': 2.43}), ToolMessage(content='[{\"title\": \"Best Restaurants In Bangalore To Delight Your Taste Buds In 2025!\", \"url\": \"https://traveltriangle.com/blog/best-restaurants-in-bangalore/\", \"content\": \"The king of cafes in Bangalore, Toit has set an unmatched standard amongst all the best restaurants in Bangalore. Freshly brewed beer, lively music, and a wide variety of international main courses and starters combine to give this place a ‘must-visit’ tag for any first-timer. It is one of the best restaurants in Bangalore for couples who share a love of pizzas and beers.\\\\n\\\\nAddress: Indiranagar, 100 Feet Rd, Near Drops Total Spirits, Bengaluru, Karnataka 560038 [...] It is impossible to have a list of the best restaurants in Bangalore, without naming its very own Hard Rock Cafe. This cafe, probably, needs no introduction as it has become a household name amongst music and food lovers from all around the world. The brand has built such a reputation that the HRC often gets counted as a sightseeing place for any traveller going to a new city. This is amongst the best restaurants in Bangalore for family and friends to visit. [...] Jamavar is another luxury restaurant that you need to consider visiting. Featuring an ethnic ambience, and indoor and outdoor seating plans, this restaurant serves delectable food. Moreover, this is a kid-friendly place that is also wheelchair accessible. The restaurant is amazing with hospitality, hygiene, food yumminess, and prep times. Special occasions deserve a special treat here.\\\\n\\\\nAddress:\\xa0The Leela Palace, Old Airport Road, Bangalore\\\\n\\\\nTimings:\\xa012–3\\u202fpm, 7–11:30\\u202fpm\\\\n\\\\nCost for two: INR 5000\", \"score\": 0.86767644}, {\"title\": \"What are the must-visit food places in Bangalore, and when ... - Quora\", \"url\": \"https://www.quora.com/What-are-the-must-visit-food-places-in-Bangalore-and-when-is-the-best-time-to-visit-that-place\", \"content\": \"1. Mavalli Tiffin Room, (Lalbagh road) for the perfect meal or small eats. · 2. Kamat YatriNivas (Gandhinagar) for the very famous Jolada roti\", \"score\": 0.8479807}, {\"title\": \"15 Newest restaurants in Bengaluru, share it ... - Instagram\", \"url\": \"https://www.instagram.com/reel/DEesSmzPTNs/?hl=en\", \"content\": \"If you\\'re a dessert lover in Bengaluru, @avocadoandbrownies.in is a must-visit! This brownie heaven just dropped their latest creation –\", \"score\": 0.7946564}, {\"title\": \"THE 10 BEST Restaurants in Bengaluru (Updated May 2025)\", \"url\": \"https://www.tripadvisor.com/Restaurants-g297628-Bengaluru_Bangalore_District_Karnataka.html\", \"content\": \"Some of the most popular restaurants in Bengaluru for cheap eats include: Taaza Thindi · Brahmin\\'s Coffee Bar · Shri Sagar (C.T.R). THE 10 BEST Restaurants in\", \"score\": 0.7065353}, {\"title\": \"The Best Restaurants in Bengaluru for Dining Out - Zomato\", \"url\": \"https://www.zomato.com/bangalore/restaurants\", \"content\": \"Restaurants in Bengaluru · Jamavar - The Leela Palace · Sozo Skyline · Shiro · Feast - Sheraton Grand Bangalore Hotel at Brigade Gateway · Stories Bar & Kitchen.\", \"score\": 0.68090034}]', name='tavily_search_results_json', tool_call_id='call_W0Bj1assm8CJus47TOLqjp3s', artifact={'query': 'must visit restaurants in Bangalore', 'follow_up_questions': None, 'answer': None, 'images': [], 'results': [{'url': 'https://traveltriangle.com/blog/best-restaurants-in-bangalore/', 'title': 'Best Restaurants In Bangalore To Delight Your Taste Buds In 2025!', 'content': 'The king of cafes in Bangalore, Toit has set an unmatched standard amongst all the best restaurants in Bangalore. Freshly brewed beer, lively music, and a wide variety of international main courses and starters combine to give this place a ‘must-visit’ tag for any first-timer. It is one of the best restaurants in Bangalore for couples who share a love of pizzas and beers.\\n\\nAddress: Indiranagar, 100 Feet Rd, Near Drops Total Spirits, Bengaluru, Karnataka 560038 [...] It is impossible to have a list of the best restaurants in Bangalore, without naming its very own Hard Rock Cafe. This cafe, probably, needs no introduction as it has become a household name amongst music and food lovers from all around the world. The brand has built such a reputation that the HRC often gets counted as a sightseeing place for any traveller going to a new city. This is amongst the best restaurants in Bangalore for family and friends to visit. [...] Jamavar is another luxury restaurant that you need to consider visiting. Featuring an ethnic ambience, and indoor and outdoor seating plans, this restaurant serves delectable food. Moreover, this is a kid-friendly place that is also wheelchair accessible. The restaurant is amazing with hospitality, hygiene, food yumminess, and prep times. Special occasions deserve a special treat here.\\n\\nAddress:\\xa0The Leela Palace, Old Airport Road, Bangalore\\n\\nTimings:\\xa012–3\\u202fpm, 7–11:30\\u202fpm\\n\\nCost for two: INR 5000', 'score': 0.86767644, 'raw_content': None}, {'url': 'https://www.quora.com/What-are-the-must-visit-food-places-in-Bangalore-and-when-is-the-best-time-to-visit-that-place', 'title': 'What are the must-visit food places in Bangalore, and when ... - Quora', 'content': '1. Mavalli Tiffin Room, (Lalbagh road) for the perfect meal or small eats. · 2. Kamat YatriNivas (Gandhinagar) for the very famous Jolada roti', 'score': 0.8479807, 'raw_content': None}, {'url': 'https://www.instagram.com/reel/DEesSmzPTNs/?hl=en', 'title': '15 Newest restaurants in Bengaluru, share it ... - Instagram', 'content': \"If you're a dessert lover in Bengaluru, @avocadoandbrownies.in is a must-visit! This brownie heaven just dropped their latest creation –\", 'score': 0.7946564, 'raw_content': None}, {'url': 'https://www.tripadvisor.com/Restaurants-g297628-Bengaluru_Bangalore_District_Karnataka.html', 'title': 'THE 10 BEST Restaurants in Bengaluru (Updated May 2025)', 'content': \"Some of the most popular restaurants in Bengaluru for cheap eats include: Taaza Thindi · Brahmin's Coffee Bar · Shri Sagar (C.T.R). THE 10 BEST Restaurants in\", 'score': 0.7065353, 'raw_content': None}, {'url': 'https://www.zomato.com/bangalore/restaurants', 'title': 'The Best Restaurants in Bengaluru for Dining Out - Zomato', 'content': 'Restaurants in Bengaluru · Jamavar - The Leela Palace · Sozo Skyline · Shiro · Feast - Sheraton Grand Bangalore Hotel at Brigade Gateway · Stories Bar & Kitchen.', 'score': 0.68090034, 'raw_content': None}], 'response_time': 3.13}), AIMessage(content=\"Bangalore, known for its vibrant culture and gardens, offers numerous famous places and must-visit restaurants:\\n\\n### Famous Places in Bangalore:\\n1. **Cubbon Park** - A massive green oasis in the city's center, ideal for nature lovers.\\n2. **Bangalore Palace** - Known for its stunning architecture and heritage value.\\n3. **Lalbagh Botanical Garden** - Famous for its rare plant species and the iconic Glass House.\\n4. **Bannerghatta National Park** - Offers wildlife experiences near the city.\\n5. **Vidhana Soudha** - A stunning architectural marvel housing the Karnataka state legislature.\\n6. **ISKCON Temple** - A significant cultural and spiritual site.\\n7. **Nandi Hills** - Perfect for a weekend trip with panoramic views.\\n8. **Tipu Sultan's Summer Palace** - An Indo-Islamic architectural gem.\\n\\n[More on Bangalore's Attractions](https://www.holidify.com/places/bangalore/sightseeing-and-things-to-do.html)\\n\\n### Must-Visit Restaurants in Bangalore:\\n1. **Toit** - Known for freshly brewed beer and vibrant atmosphere, located in Indiranagar.\\n2. **Hard Rock Cafe** - A globally renowned spot ideal for music and food lovers.\\n3. **Jamavar** - Offers luxury dining with both indoor and outdoor seating at The Leela Palace.\\n4. **Mavalli Tiffin Room (MTR)** - Famous for traditional South Indian cuisine.\\n5. **Taaza Thindi** - Popular for affordable and delicious eats.\\n6. **Brahmin's Coffee Bar** - Known for authentic filter coffee and South Indian snacks.\\n\\n[Explore More Restaurants](https://traveltriangle.com/blog/best-restaurants-in-bangalore/)\\n\\nBoth the attractions and restaurants provide a glimpse into the rich cultural and culinary diversity of Bangalore.\", additional_kwargs={'refusal': None}, response_metadata={'token_usage': {'completion_tokens': 376, 'prompt_tokens': 2318, 'total_tokens': 2694, 'completion_tokens_details': {'accepted_prediction_tokens': 0, 'audio_tokens': 0, 'reasoning_tokens': 0, 'rejected_prediction_tokens': 0}, 'prompt_tokens_details': {'audio_tokens': 0, 'cached_tokens': 0}}, 'model_name': 'gpt-4o-2024-08-06', 'system_fingerprint': 'fp_f5bdcc3276', 'id': 'chatcmpl-BT1qooFAFdJQI2ZH4vanHNhRKGbyZ', 'finish_reason': 'stop', 'logprobs': None}, id='run-d662d780-0425-4547-a510-c6e03d81febb-0', usage_metadata={'input_tokens': 2318, 'output_tokens': 376, 'total_tokens': 2694, 'input_token_details': {'audio': 0, 'cache_read': 0}, 'output_token_details': {'audio': 0, 'reasoning': 0}}), ['user', 'what is a weather there?'], AIMessage(content='', additional_kwargs={'tool_calls': [{'id': 'call_U1DDKf5aP2ZgwEkm3Fibn72s', 'function': {'arguments': '{\"query\":\"current weather in Bangalore\"}', 'name': 'tavily_search_results_json'}, 'type': 'function'}], 'refusal': None}, response_metadata={'token_usage': {'completion_tokens': 22, 'prompt_tokens': 2706, 'total_tokens': 2728, 'completion_tokens_details': {'accepted_prediction_tokens': 0, 'audio_tokens': 0, 'reasoning_tokens': 0, 'rejected_prediction_tokens': 0}, 'prompt_tokens_details': {'audio_tokens': 0, 'cached_tokens': 0}}, 'model_name': 'gpt-4o-2024-08-06', 'system_fingerprint': 'fp_f5bdcc3276', 'id': 'chatcmpl-BT220SrrdISCCHYUxuC8CknCSSj5C', 'finish_reason': 'tool_calls', 'logprobs': None}, id='run-0f917cd8-2104-4583-9791-ed765b0043ad-0', tool_calls=[{'name': 'tavily_search_results_json', 'args': {'query': 'current weather in Bangalore'}, 'id': 'call_U1DDKf5aP2ZgwEkm3Fibn72s', 'type': 'tool_call'}], usage_metadata={'input_tokens': 2706, 'output_tokens': 22, 'total_tokens': 2728, 'input_token_details': {'audio': 0, 'cache_read': 0}, 'output_token_details': {'audio': 0, 'reasoning': 0}}), ToolMessage(content='[{\"title\": \"Weather in Bangalore\", \"url\": \"https://www.weatherapi.com/\", \"content\": \"{\\'location\\': {\\'name\\': \\'Bangalore\\', \\'region\\': \\'Karnataka\\', \\'country\\': \\'India\\', \\'lat\\': 12.9833, \\'lon\\': 77.5833, \\'tz_id\\': \\'Asia/Kolkata\\', \\'localtime_epoch\\': 1746259031, \\'localtime\\': \\'2025-05-03 13:27\\'}, \\'current\\': {\\'last_updated_epoch\\': 1746258300, \\'last_updated\\': \\'2025-05-03 13:15\\', \\'temp_c\\': 31.0, \\'temp_f\\': 87.8, \\'is_day\\': 1, \\'condition\\': {\\'text\\': \\'Partly Cloudy\\', \\'icon\\': \\'//cdn.weatherapi.com/weather/64x64/day/116.png\\', \\'code\\': 1003}, \\'wind_mph\\': 5.6, \\'wind_kph\\': 9.0, \\'wind_degree\\': 214, \\'wind_dir\\': \\'SW\\', \\'pressure_mb\\': 1014.0, \\'pressure_in\\': 29.94, \\'precip_mm\\': 0.0, \\'precip_in\\': 0.0, \\'humidity\\': 52, \\'cloud\\': 25, \\'feelslike_c\\': 29.9, \\'feelslike_f\\': 85.8, \\'windchill_c\\': 33.2, \\'windchill_f\\': 91.8, \\'heatindex_c\\': 32.7, \\'heatindex_f\\': 90.8, \\'dewpoint_c\\': 12.9, \\'dewpoint_f\\': 55.1, \\'vis_km\\': 8.0, \\'vis_miles\\': 4.0, \\'uv\\': 6.5, \\'gust_mph\\': 6.4, \\'gust_kph\\': 10.4}}\", \"score\": 0.9836111}, {\"title\": \"Bengaluru Weather Forecast 3 May 2025 - Times of India\", \"url\": \"https://timesofindia.indiatimes.com/weather/bengaluru-weather-forecast-today/560001\", \"content\": \"Today\\'s Weather in Bengaluru: In Bengaluru today, the weather is expected to be Fair with a maximum temperature of 32°C and a minimum of 21°C. Sunrise in\", \"score\": 0.9195344}, {\"title\": \"Weather in Bangalore in May 2025 (State of Karnātaka)\", \"url\": \"https://world-weather.info/forecast/india/bangalor/may-2025/\", \"content\": \"Detailed ⚡ Bangalore Weather Forecast for May 2025 – day/night 🌡️ ... Saturday, 3 May. +79°. Day. +91°. Light rain. Sunday, 4 May. +82°. Day. +91°. Light\", \"score\": 0.9170729}, {\"title\": \"Weather in Bengaluru in May 2025 - Detailed Forecast\", \"url\": \"https://www.easeweather.com/asia/india/karnataka/bangalore-urban/bengaluru/may\", \"content\": \"Weather in Bengaluru for May 2025\\\\n\\\\nTemperatures\\\\n\\\\nThe forecast for the next days in Bengaluru predicts temperatures to be around 35\\xa0°C, close to the historical average.\\\\n\\\\nIn general, the average temperature in Bengaluru at the beginning of May is 34.3\\xa0°C. As the month progressed, temperatures tended to noticeably cool down, reaching an average of 31.7\\xa0°C by the end of May.\\\\n\\\\nRain 🌧️\\\\n\\\\nBengaluru experiences heavy rainfall in May, with over 20 rainy days and an average total precipitation 171.9\\xa0mm. [...] 1 May | Moderate or heavy rain shower | 34°/23° | 13.8mm | 8 | \\\\n2 May | Heavy rain at times | 33°/23° | 8.2mm | 7 | \\\\n3 May | Patchy rain possible | 34°/23° | 2.7mm | 2.3 | \\\\n4 May | Patchy rain possible | 33°/22° | 1.9mm | 2.4 | \\\\n5 May | Sunny | 35°/23° | 0mm | 2.8 | \\\\n6 May | Sunny | 36°/23° | 0mm | 3.5 | \\\\n7 May | Patchy rain possible | 35°/23° | 1.9mm | 6 | \\\\n8 May | Sunny | 35°/23° | 0mm | 7 | \\\\n9 May | Sunny | 36°/25° | 0mm | 8 | \\\\n10 May | Sunny | 36°/23° | 0mm | 7 | [...] Bengaluru Weather May\\\\n\\\\nMon. | Tue. | Wed. | Thu. | Fri. | Sat. | Sun.\\\\n |  |  | 134° | 233° | 334° | 433°\\\\n535° | 636° | 735° | 835° | 936° | 1036° | 1136°\\\\n1235° | 1335° | 1435° | 1535° | 1635° | 1733° | 1832°\\\\n1933° | 2032° | 2130° | 2233° | 2334° | 2432° | 2529°\\\\n2631° | 2730° | 2832° | 2934° | 3033° | 3133° | \\\\nYou can click on date\\\\n\\\\nTemperatures trend during May in Bengaluru\\\\n\\\\nMay weather day by day\", \"score\": 0.8952393}, {\"title\": \"Bangalore weather in May 2025 - Weather25.com\", \"url\": \"https://www.weather25.com/asia/india/karnataka/bangalore?page=month&month=May\", \"content\": \"Bangalore weather in May 2025\\\\n\\\\nThe average weather in Bangalore in May\\\\n\\\\nThe weather in Bangalore in May is very hot. The average temperatures are between 23°C and 34°C, drinking water regularly is advisable.\\\\n\\\\nYou can expect rain for roughly half of the month of May in Bangalore. We’re expecting roughly 8 to 15 days of rain, so your rubber boots and umbrella are going to see plenty of use this month if you’re keen on staying dry. [...] Sun | Mon | Tue | Wed | Thu | Fri | Sat\\\\n |  |  |  | 134°/24° | 234°/24° | 334°/24°\\\\n432°/23° | 535°/23° | 635°/23° | 735°/23° | 833°/23° | 935°/24° | 1035°/24°\\\\n1134°/23° | 1230°/21° | 1331°/22° | 1433°/23° | 1534°/23° | 1634°/23° | 1732°/23°\\\\n1831°/24° | 1933°/24° | 2031°/23° | 2130°/22° | 2232°/23° | 2334°/23° | 2433°/23°\\\\n2531°/23° | 2632°/22° | 2732°/23° | 2833°/23° | 2933°/22° | 3033°/22° | 3133°/23°\\\\nExplore the weather in Bangalore in other months\\\\n\\\\nBangalore annual weather [...] Month | Temperatures | Rainy Days | Dry Days | Snowy Days | Rainfall | Weather | More details\\\\nJanuary | 29°/17° | 1 | 31 | 0 | 12mm | Good | Bangalore in January\\\\nFebruary | 32°/18° | 1 | 28 | 0 | 14mm | Good | Bangalore in February\\\\nMarch | 35°/22° | 1 | 30 | 0 | 27mm | Ok | Bangalore in March\\\\nApril | 36°/24° | 4 | 26 | 0 | 61mm | Ok | Bangalore in April\\\\nMay | 34°/23° | 9 | 23 | 0 | 183mm | Bad | Bangalore in May\\\\nJune | 30°/21° | 10 | 20 | 0 | 183mm | Ok | Bangalore in June\", \"score\": 0.8868231}]', name='tavily_search_results_json', tool_call_id='call_U1DDKf5aP2ZgwEkm3Fibn72s', artifact={'query': 'current weather in Bangalore', 'follow_up_questions': None, 'answer': None, 'images': [], 'results': [{'title': 'Weather in Bangalore', 'url': 'https://www.weatherapi.com/', 'content': \"{'location': {'name': 'Bangalore', 'region': 'Karnataka', 'country': 'India', 'lat': 12.9833, 'lon': 77.5833, 'tz_id': 'Asia/Kolkata', 'localtime_epoch': 1746259031, 'localtime': '2025-05-03 13:27'}, 'current': {'last_updated_epoch': 1746258300, 'last_updated': '2025-05-03 13:15', 'temp_c': 31.0, 'temp_f': 87.8, 'is_day': 1, 'condition': {'text': 'Partly Cloudy', 'icon': '//cdn.weatherapi.com/weather/64x64/day/116.png', 'code': 1003}, 'wind_mph': 5.6, 'wind_kph': 9.0, 'wind_degree': 214, 'wind_dir': 'SW', 'pressure_mb': 1014.0, 'pressure_in': 29.94, 'precip_mm': 0.0, 'precip_in': 0.0, 'humidity': 52, 'cloud': 25, 'feelslike_c': 29.9, 'feelslike_f': 85.8, 'windchill_c': 33.2, 'windchill_f': 91.8, 'heatindex_c': 32.7, 'heatindex_f': 90.8, 'dewpoint_c': 12.9, 'dewpoint_f': 55.1, 'vis_km': 8.0, 'vis_miles': 4.0, 'uv': 6.5, 'gust_mph': 6.4, 'gust_kph': 10.4}}\", 'score': 0.9836111, 'raw_content': None}, {'url': 'https://timesofindia.indiatimes.com/weather/bengaluru-weather-forecast-today/560001', 'title': 'Bengaluru Weather Forecast 3 May 2025 - Times of India', 'content': \"Today's Weather in Bengaluru: In Bengaluru today, the weather is expected to be Fair with a maximum temperature of 32°C and a minimum of 21°C. Sunrise in\", 'score': 0.9195344, 'raw_content': None}, {'url': 'https://world-weather.info/forecast/india/bangalor/may-2025/', 'title': 'Weather in Bangalore in May 2025 (State of Karnātaka)', 'content': 'Detailed ⚡ Bangalore Weather Forecast for May 2025 – day/night 🌡️ ... Saturday, 3 May. +79°. Day. +91°. Light rain. Sunday, 4 May. +82°. Day. +91°. Light', 'score': 0.9170729, 'raw_content': None}, {'url': 'https://www.easeweather.com/asia/india/karnataka/bangalore-urban/bengaluru/may', 'title': 'Weather in Bengaluru in May 2025 - Detailed Forecast', 'content': 'Weather in Bengaluru for May 2025\\n\\nTemperatures\\n\\nThe forecast for the next days in Bengaluru predicts temperatures to be around 35\\xa0°C, close to the historical average.\\n\\nIn general, the average temperature in Bengaluru at the beginning of May is 34.3\\xa0°C. As the month progressed, temperatures tended to noticeably cool down, reaching an average of 31.7\\xa0°C by the end of May.\\n\\nRain 🌧️\\n\\nBengaluru experiences heavy rainfall in May, with over 20 rainy days and an average total precipitation 171.9\\xa0mm. [...] 1 May | Moderate or heavy rain shower | 34°/23° | 13.8mm | 8 | \\n2 May | Heavy rain at times | 33°/23° | 8.2mm | 7 | \\n3 May | Patchy rain possible | 34°/23° | 2.7mm | 2.3 | \\n4 May | Patchy rain possible | 33°/22° | 1.9mm | 2.4 | \\n5 May | Sunny | 35°/23° | 0mm | 2.8 | \\n6 May | Sunny | 36°/23° | 0mm | 3.5 | \\n7 May | Patchy rain possible | 35°/23° | 1.9mm | 6 | \\n8 May | Sunny | 35°/23° | 0mm | 7 | \\n9 May | Sunny | 36°/25° | 0mm | 8 | \\n10 May | Sunny | 36°/23° | 0mm | 7 | [...] Bengaluru Weather May\\n\\nMon. | Tue. | Wed. | Thu. | Fri. | Sat. | Sun.\\n |  |  | 134° | 233° | 334° | 433°\\n535° | 636° | 735° | 835° | 936° | 1036° | 1136°\\n1235° | 1335° | 1435° | 1535° | 1635° | 1733° | 1832°\\n1933° | 2032° | 2130° | 2233° | 2334° | 2432° | 2529°\\n2631° | 2730° | 2832° | 2934° | 3033° | 3133° | \\nYou can click on date\\n\\nTemperatures trend during May in Bengaluru\\n\\nMay weather day by day', 'score': 0.8952393, 'raw_content': None}, {'url': 'https://www.weather25.com/asia/india/karnataka/bangalore?page=month&month=May', 'title': 'Bangalore weather in May 2025 - Weather25.com', 'content': 'Bangalore weather in May 2025\\n\\nThe average weather in Bangalore in May\\n\\nThe weather in Bangalore in May is very hot. The average temperatures are between 23°C and 34°C, drinking water regularly is advisable.\\n\\nYou can expect rain for roughly half of the month of May in Bangalore. We’re expecting roughly 8 to 15 days of rain, so your rubber boots and umbrella are going to see plenty of use this month if you’re keen on staying dry. [...] Sun | Mon | Tue | Wed | Thu | Fri | Sat\\n |  |  |  | 134°/24° | 234°/24° | 334°/24°\\n432°/23° | 535°/23° | 635°/23° | 735°/23° | 833°/23° | 935°/24° | 1035°/24°\\n1134°/23° | 1230°/21° | 1331°/22° | 1433°/23° | 1534°/23° | 1634°/23° | 1732°/23°\\n1831°/24° | 1933°/24° | 2031°/23° | 2130°/22° | 2232°/23° | 2334°/23° | 2433°/23°\\n2531°/23° | 2632°/22° | 2732°/23° | 2833°/23° | 2933°/22° | 3033°/22° | 3133°/23°\\nExplore the weather in Bangalore in other months\\n\\nBangalore annual weather [...] Month | Temperatures | Rainy Days | Dry Days | Snowy Days | Rainfall | Weather | More details\\nJanuary | 29°/17° | 1 | 31 | 0 | 12mm | Good | Bangalore in January\\nFebruary | 32°/18° | 1 | 28 | 0 | 14mm | Good | Bangalore in February\\nMarch | 35°/22° | 1 | 30 | 0 | 27mm | Ok | Bangalore in March\\nApril | 36°/24° | 4 | 26 | 0 | 61mm | Ok | Bangalore in April\\nMay | 34°/23° | 9 | 23 | 0 | 183mm | Bad | Bangalore in May\\nJune | 30°/21° | 10 | 20 | 0 | 183mm | Ok | Bangalore in June', 'score': 0.8868231, 'raw_content': None}], 'response_time': 3.44}), AIMessage(content='The current weather in Bangalore is **partly cloudy** with a temperature of around **31°C (87.8°F)**. The wind is blowing from the southwest at about 9 km/h (5.6 mph), and the humidity level is at 52%. The weather feels like it is approximately 29.9°C (85.8°F). \\n\\nFor more detailed and up-to-date information, you might want to visit a [weather information site](https://www.weatherapi.com/).', additional_kwargs={'refusal': None}, response_metadata={'token_usage': {'completion_tokens': 103, 'prompt_tokens': 4624, 'total_tokens': 4727, 'completion_tokens_details': {'accepted_prediction_tokens': 0, 'audio_tokens': 0, 'reasoning_tokens': 0, 'rejected_prediction_tokens': 0}, 'prompt_tokens_details': {'audio_tokens': 0, 'cached_tokens': 2688}}, 'model_name': 'gpt-4o-2024-08-06', 'system_fingerprint': 'fp_f5bdcc3276', 'id': 'chatcmpl-BT22FavUdE2tjuzrDgEFqrZoVYCy9', 'finish_reason': 'stop', 'logprobs': None}, id='run-e5137497-93ec-4df7-9311-3f813b4ce2d4-0', usage_metadata={'input_tokens': 4624, 'output_tokens': 103, 'total_tokens': 4727, 'input_token_details': {'audio': 0, 'cache_read': 2688}, 'output_token_details': {'audio': 0, 'reasoning': 0}})]}, next=(), config={'configurable': {'thread_id': '1', 'checkpoint_ns': '', 'checkpoint_id': '1f027f43-c025-6fd7-8008-60f8d6281b52'}}, metadata={'source': 'loop', 'writes': {'ai_assistant': {'messages': [AIMessage(content='The current weather in Bangalore is **partly cloudy** with a temperature of around **31°C (87.8°F)**. The wind is blowing from the southwest at about 9 km/h (5.6 mph), and the humidity level is at 52%. The weather feels like it is approximately 29.9°C (85.8°F). \\n\\nFor more detailed and up-to-date information, you might want to visit a [weather information site](https://www.weatherapi.com/).', additional_kwargs={'refusal': None}, response_metadata={'token_usage': {'completion_tokens': 103, 'prompt_tokens': 4624, 'total_tokens': 4727, 'completion_tokens_details': {'accepted_prediction_tokens': 0, 'audio_tokens': 0, 'reasoning_tokens': 0, 'rejected_prediction_tokens': 0}, 'prompt_tokens_details': {'audio_tokens': 0, 'cached_tokens': 2688}}, 'model_name': 'gpt-4o-2024-08-06', 'system_fingerprint': 'fp_f5bdcc3276', 'id': 'chatcmpl-BT22FavUdE2tjuzrDgEFqrZoVYCy9', 'finish_reason': 'stop', 'logprobs': None}, id='run-e5137497-93ec-4df7-9311-3f813b4ce2d4-0', usage_metadata={'input_tokens': 4624, 'output_tokens': 103, 'total_tokens': 4727, 'input_token_details': {'audio': 0, 'cache_read': 2688}, 'output_token_details': {'audio': 0, 'reasoning': 0}})]}}, 'step': 8, 'parents': {}, 'thread_id': '1'}, created_at='2025-05-03T07:57:18.077743+00:00', parent_config={'configurable': {'thread_id': '1', 'checkpoint_ns': '', 'checkpoint_id': '1f027f43-a808-6708-8007-19e16dcd3d75'}}, tasks=())"
      ]
     },
     "execution_count": 253,
     "metadata": {},
     "output_type": "execute_result"
    }
   ],
   "source": [
    "\n",
    "app2.get_state(config)"
   ]
  },
  {
   "cell_type": "code",
   "execution_count": null,
   "id": "b9545780",
   "metadata": {},
   "outputs": [],
   "source": [
    "snapshot = app2.get_state(config)"
   ]
  },
  {
   "cell_type": "code",
   "execution_count": null,
   "id": "dbbac944",
   "metadata": {},
   "outputs": [
    {
     "data": {
      "text/plain": [
       "()"
      ]
     },
     "execution_count": 255,
     "metadata": {},
     "output_type": "execute_result"
    }
   ],
   "source": [
    "\n",
    "snapshot.next"
   ]
  },
  {
   "cell_type": "code",
   "execution_count": null,
   "id": "766e50ec",
   "metadata": {},
   "outputs": [],
   "source": [
    "\n",
    "user_input = \"give me the recent news from there?\"\n",
    "\n",
    "config = {\"configurable\": {\"thread_id\": \"1\"}}"
   ]
  },
  {
   "cell_type": "code",
   "execution_count": null,
   "id": "eb0ca925",
   "metadata": {},
   "outputs": [],
   "source": [
    "events = app2.stream(\n",
    "    {\"messages\": [(\"user\", user_input)]}, config, stream_mode=\"values\"\n",
    ")"
   ]
  },
  {
   "cell_type": "code",
   "execution_count": null,
   "id": "0ceadb7b",
   "metadata": {},
   "outputs": [
    {
     "ename": "AttributeError",
     "evalue": "'tuple' object has no attribute 'pretty_print'",
     "output_type": "error",
     "traceback": [
      "\u001b[31m---------------------------------------------------------------------------\u001b[39m",
      "\u001b[31mAttributeError\u001b[39m                            Traceback (most recent call last)",
      "\u001b[36mCell\u001b[39m\u001b[36m \u001b[39m\u001b[32mIn[258]\u001b[39m\u001b[32m, line 3\u001b[39m\n\u001b[32m      1\u001b[39m \u001b[38;5;28;01mfor\u001b[39;00m event \u001b[38;5;129;01min\u001b[39;00m events:\n\u001b[32m      2\u001b[39m     \u001b[38;5;28;01mif\u001b[39;00m \u001b[33m\"\u001b[39m\u001b[33mmessages\u001b[39m\u001b[33m\"\u001b[39m \u001b[38;5;129;01min\u001b[39;00m event:\n\u001b[32m----> \u001b[39m\u001b[32m3\u001b[39m         \u001b[43mevent\u001b[49m\u001b[43m[\u001b[49m\u001b[33;43m\"\u001b[39;49m\u001b[33;43mmessages\u001b[39;49m\u001b[33;43m\"\u001b[39;49m\u001b[43m]\u001b[49m\u001b[43m[\u001b[49m\u001b[43m-\u001b[49m\u001b[32;43m1\u001b[39;49m\u001b[43m]\u001b[49m\u001b[43m.\u001b[49m\u001b[43mpretty_print\u001b[49m()\n",
      "\u001b[31mAttributeError\u001b[39m: 'tuple' object has no attribute 'pretty_print'"
     ]
    }
   ],
   "source": [
    "for event in events:\n",
    "    if \"messages\" in event:\n",
    "        event[\"messages\"][-1].pretty_print()"
   ]
  },
  {
   "cell_type": "code",
   "execution_count": null,
   "id": "17688970",
   "metadata": {},
   "outputs": [],
   "source": [
    "\n",
    "snapshot = app2.get_state(config)\n",
    "     "
   ]
  },
  {
   "cell_type": "code",
   "execution_count": null,
   "id": "0458b2c0",
   "metadata": {},
   "outputs": [],
   "source": [
    "\n",
    "current_message = snapshot.values[\"messages\"]\n",
    "     "
   ]
  },
  {
   "cell_type": "code",
   "execution_count": null,
   "id": "d2ff1937",
   "metadata": {},
   "outputs": [
    {
     "data": {
      "text/plain": [
       "[['user', 'famous places of the bangalore and must visit restaurants?'],\n",
       " AIMessage(content='', additional_kwargs={'tool_calls': [{'id': 'call_AUq6bnxSScX4Rbvh5rhTTgIU', 'function': {'arguments': '{\"query\": \"famous places to visit in Bangalore\"}', 'name': 'tavily_search_results_json'}, 'type': 'function'}, {'id': 'call_W0Bj1assm8CJus47TOLqjp3s', 'function': {'arguments': '{\"query\": \"must visit restaurants in Bangalore\"}', 'name': 'tavily_search_results_json'}, 'type': 'function'}], 'refusal': None}, response_metadata={'token_usage': {'completion_tokens': 63, 'prompt_tokens': 91, 'total_tokens': 154, 'completion_tokens_details': {'accepted_prediction_tokens': 0, 'audio_tokens': 0, 'reasoning_tokens': 0, 'rejected_prediction_tokens': 0}, 'prompt_tokens_details': {'audio_tokens': 0, 'cached_tokens': 0}}, 'model_name': 'gpt-4o-2024-08-06', 'system_fingerprint': 'fp_f5bdcc3276', 'id': 'chatcmpl-BT1qbpjEEfjhjDIXUGjeFmW9Rm8kB', 'finish_reason': 'tool_calls', 'logprobs': None}, id='run-6dd2c77f-2612-46eb-89ce-4851e65072b4-0', tool_calls=[{'name': 'tavily_search_results_json', 'args': {'query': 'famous places to visit in Bangalore'}, 'id': 'call_AUq6bnxSScX4Rbvh5rhTTgIU', 'type': 'tool_call'}, {'name': 'tavily_search_results_json', 'args': {'query': 'must visit restaurants in Bangalore'}, 'id': 'call_W0Bj1assm8CJus47TOLqjp3s', 'type': 'tool_call'}], usage_metadata={'input_tokens': 91, 'output_tokens': 63, 'total_tokens': 154, 'input_token_details': {'audio': 0, 'cache_read': 0}, 'output_token_details': {'audio': 0, 'reasoning': 0}}),\n",
       " ToolMessage(content='[{\"title\": \"10 Places to visit in Bengaluru 2025 - Capture A Trip\", \"url\": \"https://www.captureatrip.com/blog/places-to-visit-in-bangalore\", \"content\": \"3. What are the famous places to visit in Bangalore ?\\\\n\\\\nOthers are Vidhana Soudha, Bangalore Palace and Bull Temple for its historical and cultural value.\\\\n\\\\n4. Where can I go for a weekend in Bangalore?\\\\n\\\\nNandi Hills is another suitable place for a weekend trip and it offers scenic views of the city while Bannerghatta National Park offers a wildlife experience.\\\\n\\\\nRecent Blogs\\\\n\\\\nThe Best Time to Visit Pondicherry: Seasons, Activities & More\\\\n\\\\nSingapore in Summer: Your Guide to the Best Vacation Ever [...] This beautiful palace was the summer residence of the great Kingdom’s ruler, Tipu Sultan and is an Indo Islamic architectural masterpiece. This place is one of the most famous places to visit in Bangalore due to the presence of gorgeous wooden carved work and history.\\\\n\\\\n4. ISKCON Temple: [...] Here are the top 10 places to visit in Bangalore if anybody has the zeal to explore them which includes some historical places, parks, and cultural places. All these places make the city diverse by just giving each place uniqueness that attracts different people.\\\\n\\\\n1. Vidhana Soudha:\\\\n\\\\n\\\\n\\\\nThis big edifice is the home of the state legislature of Karnataka in India. This makes it count among the most visited places in Bangalore, thanks to its beautiful architectural design.\", \"score\": 0.8989177}, {\"title\": \"52 Best Places to visit in Bangalore | Top Tourist Attractions - Holidify\", \"url\": \"https://www.holidify.com/places/bangalore/sightseeing-and-things-to-do.html\", \"content\": \"Bangalore\\\\nPlaces To Visit\\\\nPackages\\\\nHotels\\\\nHow to Reach\\\\nBest Time To Visit\\\\nPhotos\\\\nFood\\\\n\\\\nMore\\\\n\\\\n\\\\nCollections\\\\n\\\\n\\\\nMap\\\\n\\\\n\\\\nReviews & QnA\\\\n\\\\n\\\\nTravel Agents\\\\n\\\\n\\\\n\\\\n\\\\nCollections\\\\n\\\\nMap\\\\nReviews & QnA\\\\nTravel Agents\\\\n\\\\nBangalore, Karnataka\\\\nLalbagh\\\\nCubbon Park\\\\nBangalore Palace\\\\nBannerghatta National Park [...] Places To Visit in Bangalore\\\\nLocated in : Central Bangalore\\\\nSpread over an area of 300 acres, Cubbon Park in the city of Bangalore is a major sightseeing attraction rich in green foliage. It is a green belt region of the city and is an ideal place for nature lovers and those seeking a calm atmosphere. Having been laid down by Lord Cubbon, the park is named so in his honour. It is home to more than 6,000 trees that support a vibrant ecosystem.\\\\nRead More [...] Art Gallery \\xa0\\xa0Garden & Park \\xa0\\xa0Amusement & Theme Park \\xa0\\xa0Forts & Palaces \\xa0\\xa0Hills & Valleys \\xa0\\xa0Temple \\xa0\\xa0Lake \\xa0\\xa0Museum \\xa0\\xa0Waterfall \\xa0\\xa0Commercial Street \\xa0\\xa0Shopping Market \\xa0\\xa0Monument \\xa0\\xa0National Park \\xa0\\xa0Yoga & Meditation \\xa0\\xa0Buddhist Temple \\xa0\\xa0Planetarium \\xa0\\xa0Church & Cathedral \\xa0\\xa0Aquarium \\xa0\\xa0Adventure Zone \\\\nClear All Apply\", \"score\": 0.85825616}, {\"title\": \"What r really good places to visit in Bangalore? - Quora\", \"url\": \"https://www.quora.com/What-r-really-good-places-to-visit-in-Bangalore\", \"content\": \"There are many places to Explore in Bengaluru. · 1. Wonderla Amusement Park · 2. ISKCON Temple Bangalore · 3. UB City · 4. Art of Living\", \"score\": 0.8455478}, {\"title\": \"Bengaluru Tourist Places | Best Places To Visit - Incredible India\", \"url\": \"https://www.incredibleindia.gov.in/en/karnataka/bengaluru\", \"content\": \"Bengaluru—the city that codes poetry, brews coffee, and dances to its rhythm. Let’s explore its pixels and palimpsests, one byte at a time.\\\\n\\\\nAttractions\\\\n\\\\nworth a thousand stories\\\\n\\\\nGhati Subramanya Temple\\\\n\\\\nUlsoor Lake\\\\n\\\\nDevanahalli Fort\\\\n\\\\nMuthyala Maduvu\\\\n\\\\nTipu Sultan Palace\\\\n\\\\nRagigudda Anjaneya Temple\\\\n\\\\nPuttanna Chetty Town Hall\\\\n\\\\nNandi Hills\\\\n\\\\nLalbagh\\\\n\\\\nShivagange\\\\n\\\\nTipu Sultan\\'s Birthplace\\\\n\\\\nA trove of\\\\n\\\\nfascinating facts\\\\n\\\\nA trove of\\\\n\\\\nfascinating facts [...] The big boom may be over, but Bengaluru’s bright young things still have money to spend, and nightlife in the city is thriving. A night on the town generally starts with a bar crawl along Brigade Road, Residency Road, or Church Street. For quiet, elegant drinking, head for the bars of five-star hotels such as the Jockey Club at the Taj Residency or its competition, the Polo Club at the Oberoi, and for a taste of colonial grandeur, the Colonnade at the Taj West End.\\\\n\\\\nA shopper’s paradise\", \"score\": 0.82082915}, {\"title\": \"Best Places to Visit in and around Bangalore - Thorn Tree Forum\", \"url\": \"https://www.thorntreeforum.com/threads/best-places-to-visit-in-and-around-bangalore.854/\", \"content\": \"Lalbagh Botanical Garden – A 240-acre garden with rare plants and the famous Glass House. · Cubbon Park – A green oasis in the city, perfect for\", \"score\": 0.8170061}]', name='tavily_search_results_json', tool_call_id='call_AUq6bnxSScX4Rbvh5rhTTgIU', artifact={'query': 'famous places to visit in Bangalore', 'follow_up_questions': None, 'answer': None, 'images': [], 'results': [{'url': 'https://www.captureatrip.com/blog/places-to-visit-in-bangalore', 'title': '10 Places to visit in Bengaluru 2025 - Capture A Trip', 'content': '3. What are the famous places to visit in Bangalore ?\\n\\nOthers are Vidhana Soudha, Bangalore Palace and Bull Temple for its historical and cultural value.\\n\\n4. Where can I go for a weekend in Bangalore?\\n\\nNandi Hills is another suitable place for a weekend trip and it offers scenic views of the city while Bannerghatta National Park offers a wildlife experience.\\n\\nRecent Blogs\\n\\nThe Best Time to Visit Pondicherry: Seasons, Activities & More\\n\\nSingapore in Summer: Your Guide to the Best Vacation Ever [...] This beautiful palace was the summer residence of the great Kingdom’s ruler, Tipu Sultan and is an Indo Islamic architectural masterpiece. This place is one of the most famous places to visit in Bangalore due to the presence of gorgeous wooden carved work and history.\\n\\n4. ISKCON Temple: [...] Here are the top 10 places to visit in Bangalore if anybody has the zeal to explore them which includes some historical places, parks, and cultural places. All these places make the city diverse by just giving each place uniqueness that attracts different people.\\n\\n1. Vidhana Soudha:\\n\\n\\n\\nThis big edifice is the home of the state legislature of Karnataka in India. This makes it count among the most visited places in Bangalore, thanks to its beautiful architectural design.', 'score': 0.8989177, 'raw_content': None}, {'url': 'https://www.holidify.com/places/bangalore/sightseeing-and-things-to-do.html', 'title': '52 Best Places to visit in Bangalore | Top Tourist Attractions - Holidify', 'content': 'Bangalore\\nPlaces To Visit\\nPackages\\nHotels\\nHow to Reach\\nBest Time To Visit\\nPhotos\\nFood\\n\\nMore\\n\\n\\nCollections\\n\\n\\nMap\\n\\n\\nReviews & QnA\\n\\n\\nTravel Agents\\n\\n\\n\\n\\nCollections\\n\\nMap\\nReviews & QnA\\nTravel Agents\\n\\nBangalore, Karnataka\\nLalbagh\\nCubbon Park\\nBangalore Palace\\nBannerghatta National Park [...] Places To Visit in Bangalore\\nLocated in : Central Bangalore\\nSpread over an area of 300 acres, Cubbon Park in the city of Bangalore is a major sightseeing attraction rich in green foliage. It is a green belt region of the city and is an ideal place for nature lovers and those seeking a calm atmosphere. Having been laid down by Lord Cubbon, the park is named so in his honour. It is home to more than 6,000 trees that support a vibrant ecosystem.\\nRead More [...] Art Gallery \\xa0\\xa0Garden & Park \\xa0\\xa0Amusement & Theme Park \\xa0\\xa0Forts & Palaces \\xa0\\xa0Hills & Valleys \\xa0\\xa0Temple \\xa0\\xa0Lake \\xa0\\xa0Museum \\xa0\\xa0Waterfall \\xa0\\xa0Commercial Street \\xa0\\xa0Shopping Market \\xa0\\xa0Monument \\xa0\\xa0National Park \\xa0\\xa0Yoga & Meditation \\xa0\\xa0Buddhist Temple \\xa0\\xa0Planetarium \\xa0\\xa0Church & Cathedral \\xa0\\xa0Aquarium \\xa0\\xa0Adventure Zone \\nClear All Apply', 'score': 0.85825616, 'raw_content': None}, {'url': 'https://www.quora.com/What-r-really-good-places-to-visit-in-Bangalore', 'title': 'What r really good places to visit in Bangalore? - Quora', 'content': 'There are many places to Explore in Bengaluru. · 1. Wonderla Amusement Park · 2. ISKCON Temple Bangalore · 3. UB City · 4. Art of Living', 'score': 0.8455478, 'raw_content': None}, {'url': 'https://www.incredibleindia.gov.in/en/karnataka/bengaluru', 'title': 'Bengaluru Tourist Places | Best Places To Visit - Incredible India', 'content': \"Bengaluru—the city that codes poetry, brews coffee, and dances to its rhythm. Let’s explore its pixels and palimpsests, one byte at a time.\\n\\nAttractions\\n\\nworth a thousand stories\\n\\nGhati Subramanya Temple\\n\\nUlsoor Lake\\n\\nDevanahalli Fort\\n\\nMuthyala Maduvu\\n\\nTipu Sultan Palace\\n\\nRagigudda Anjaneya Temple\\n\\nPuttanna Chetty Town Hall\\n\\nNandi Hills\\n\\nLalbagh\\n\\nShivagange\\n\\nTipu Sultan's Birthplace\\n\\nA trove of\\n\\nfascinating facts\\n\\nA trove of\\n\\nfascinating facts [...] The big boom may be over, but Bengaluru’s bright young things still have money to spend, and nightlife in the city is thriving. A night on the town generally starts with a bar crawl along Brigade Road, Residency Road, or Church Street. For quiet, elegant drinking, head for the bars of five-star hotels such as the Jockey Club at the Taj Residency or its competition, the Polo Club at the Oberoi, and for a taste of colonial grandeur, the Colonnade at the Taj West End.\\n\\nA shopper’s paradise\", 'score': 0.82082915, 'raw_content': None}, {'url': 'https://www.thorntreeforum.com/threads/best-places-to-visit-in-and-around-bangalore.854/', 'title': 'Best Places to Visit in and around Bangalore - Thorn Tree Forum', 'content': 'Lalbagh Botanical Garden – A 240-acre garden with rare plants and the famous Glass House. · Cubbon Park – A green oasis in the city, perfect for', 'score': 0.8170061, 'raw_content': None}], 'response_time': 2.43}),\n",
       " ToolMessage(content='[{\"title\": \"Best Restaurants In Bangalore To Delight Your Taste Buds In 2025!\", \"url\": \"https://traveltriangle.com/blog/best-restaurants-in-bangalore/\", \"content\": \"The king of cafes in Bangalore, Toit has set an unmatched standard amongst all the best restaurants in Bangalore. Freshly brewed beer, lively music, and a wide variety of international main courses and starters combine to give this place a ‘must-visit’ tag for any first-timer. It is one of the best restaurants in Bangalore for couples who share a love of pizzas and beers.\\\\n\\\\nAddress: Indiranagar, 100 Feet Rd, Near Drops Total Spirits, Bengaluru, Karnataka 560038 [...] It is impossible to have a list of the best restaurants in Bangalore, without naming its very own Hard Rock Cafe. This cafe, probably, needs no introduction as it has become a household name amongst music and food lovers from all around the world. The brand has built such a reputation that the HRC often gets counted as a sightseeing place for any traveller going to a new city. This is amongst the best restaurants in Bangalore for family and friends to visit. [...] Jamavar is another luxury restaurant that you need to consider visiting. Featuring an ethnic ambience, and indoor and outdoor seating plans, this restaurant serves delectable food. Moreover, this is a kid-friendly place that is also wheelchair accessible. The restaurant is amazing with hospitality, hygiene, food yumminess, and prep times. Special occasions deserve a special treat here.\\\\n\\\\nAddress:\\xa0The Leela Palace, Old Airport Road, Bangalore\\\\n\\\\nTimings:\\xa012–3\\u202fpm, 7–11:30\\u202fpm\\\\n\\\\nCost for two: INR 5000\", \"score\": 0.86767644}, {\"title\": \"What are the must-visit food places in Bangalore, and when ... - Quora\", \"url\": \"https://www.quora.com/What-are-the-must-visit-food-places-in-Bangalore-and-when-is-the-best-time-to-visit-that-place\", \"content\": \"1. Mavalli Tiffin Room, (Lalbagh road) for the perfect meal or small eats. · 2. Kamat YatriNivas (Gandhinagar) for the very famous Jolada roti\", \"score\": 0.8479807}, {\"title\": \"15 Newest restaurants in Bengaluru, share it ... - Instagram\", \"url\": \"https://www.instagram.com/reel/DEesSmzPTNs/?hl=en\", \"content\": \"If you\\'re a dessert lover in Bengaluru, @avocadoandbrownies.in is a must-visit! This brownie heaven just dropped their latest creation –\", \"score\": 0.7946564}, {\"title\": \"THE 10 BEST Restaurants in Bengaluru (Updated May 2025)\", \"url\": \"https://www.tripadvisor.com/Restaurants-g297628-Bengaluru_Bangalore_District_Karnataka.html\", \"content\": \"Some of the most popular restaurants in Bengaluru for cheap eats include: Taaza Thindi · Brahmin\\'s Coffee Bar · Shri Sagar (C.T.R). THE 10 BEST Restaurants in\", \"score\": 0.7065353}, {\"title\": \"The Best Restaurants in Bengaluru for Dining Out - Zomato\", \"url\": \"https://www.zomato.com/bangalore/restaurants\", \"content\": \"Restaurants in Bengaluru · Jamavar - The Leela Palace · Sozo Skyline · Shiro · Feast - Sheraton Grand Bangalore Hotel at Brigade Gateway · Stories Bar & Kitchen.\", \"score\": 0.68090034}]', name='tavily_search_results_json', tool_call_id='call_W0Bj1assm8CJus47TOLqjp3s', artifact={'query': 'must visit restaurants in Bangalore', 'follow_up_questions': None, 'answer': None, 'images': [], 'results': [{'url': 'https://traveltriangle.com/blog/best-restaurants-in-bangalore/', 'title': 'Best Restaurants In Bangalore To Delight Your Taste Buds In 2025!', 'content': 'The king of cafes in Bangalore, Toit has set an unmatched standard amongst all the best restaurants in Bangalore. Freshly brewed beer, lively music, and a wide variety of international main courses and starters combine to give this place a ‘must-visit’ tag for any first-timer. It is one of the best restaurants in Bangalore for couples who share a love of pizzas and beers.\\n\\nAddress: Indiranagar, 100 Feet Rd, Near Drops Total Spirits, Bengaluru, Karnataka 560038 [...] It is impossible to have a list of the best restaurants in Bangalore, without naming its very own Hard Rock Cafe. This cafe, probably, needs no introduction as it has become a household name amongst music and food lovers from all around the world. The brand has built such a reputation that the HRC often gets counted as a sightseeing place for any traveller going to a new city. This is amongst the best restaurants in Bangalore for family and friends to visit. [...] Jamavar is another luxury restaurant that you need to consider visiting. Featuring an ethnic ambience, and indoor and outdoor seating plans, this restaurant serves delectable food. Moreover, this is a kid-friendly place that is also wheelchair accessible. The restaurant is amazing with hospitality, hygiene, food yumminess, and prep times. Special occasions deserve a special treat here.\\n\\nAddress:\\xa0The Leela Palace, Old Airport Road, Bangalore\\n\\nTimings:\\xa012–3\\u202fpm, 7–11:30\\u202fpm\\n\\nCost for two: INR 5000', 'score': 0.86767644, 'raw_content': None}, {'url': 'https://www.quora.com/What-are-the-must-visit-food-places-in-Bangalore-and-when-is-the-best-time-to-visit-that-place', 'title': 'What are the must-visit food places in Bangalore, and when ... - Quora', 'content': '1. Mavalli Tiffin Room, (Lalbagh road) for the perfect meal or small eats. · 2. Kamat YatriNivas (Gandhinagar) for the very famous Jolada roti', 'score': 0.8479807, 'raw_content': None}, {'url': 'https://www.instagram.com/reel/DEesSmzPTNs/?hl=en', 'title': '15 Newest restaurants in Bengaluru, share it ... - Instagram', 'content': \"If you're a dessert lover in Bengaluru, @avocadoandbrownies.in is a must-visit! This brownie heaven just dropped their latest creation –\", 'score': 0.7946564, 'raw_content': None}, {'url': 'https://www.tripadvisor.com/Restaurants-g297628-Bengaluru_Bangalore_District_Karnataka.html', 'title': 'THE 10 BEST Restaurants in Bengaluru (Updated May 2025)', 'content': \"Some of the most popular restaurants in Bengaluru for cheap eats include: Taaza Thindi · Brahmin's Coffee Bar · Shri Sagar (C.T.R). THE 10 BEST Restaurants in\", 'score': 0.7065353, 'raw_content': None}, {'url': 'https://www.zomato.com/bangalore/restaurants', 'title': 'The Best Restaurants in Bengaluru for Dining Out - Zomato', 'content': 'Restaurants in Bengaluru · Jamavar - The Leela Palace · Sozo Skyline · Shiro · Feast - Sheraton Grand Bangalore Hotel at Brigade Gateway · Stories Bar & Kitchen.', 'score': 0.68090034, 'raw_content': None}], 'response_time': 3.13}),\n",
       " AIMessage(content=\"Bangalore, known for its vibrant culture and gardens, offers numerous famous places and must-visit restaurants:\\n\\n### Famous Places in Bangalore:\\n1. **Cubbon Park** - A massive green oasis in the city's center, ideal for nature lovers.\\n2. **Bangalore Palace** - Known for its stunning architecture and heritage value.\\n3. **Lalbagh Botanical Garden** - Famous for its rare plant species and the iconic Glass House.\\n4. **Bannerghatta National Park** - Offers wildlife experiences near the city.\\n5. **Vidhana Soudha** - A stunning architectural marvel housing the Karnataka state legislature.\\n6. **ISKCON Temple** - A significant cultural and spiritual site.\\n7. **Nandi Hills** - Perfect for a weekend trip with panoramic views.\\n8. **Tipu Sultan's Summer Palace** - An Indo-Islamic architectural gem.\\n\\n[More on Bangalore's Attractions](https://www.holidify.com/places/bangalore/sightseeing-and-things-to-do.html)\\n\\n### Must-Visit Restaurants in Bangalore:\\n1. **Toit** - Known for freshly brewed beer and vibrant atmosphere, located in Indiranagar.\\n2. **Hard Rock Cafe** - A globally renowned spot ideal for music and food lovers.\\n3. **Jamavar** - Offers luxury dining with both indoor and outdoor seating at The Leela Palace.\\n4. **Mavalli Tiffin Room (MTR)** - Famous for traditional South Indian cuisine.\\n5. **Taaza Thindi** - Popular for affordable and delicious eats.\\n6. **Brahmin's Coffee Bar** - Known for authentic filter coffee and South Indian snacks.\\n\\n[Explore More Restaurants](https://traveltriangle.com/blog/best-restaurants-in-bangalore/)\\n\\nBoth the attractions and restaurants provide a glimpse into the rich cultural and culinary diversity of Bangalore.\", additional_kwargs={'refusal': None}, response_metadata={'token_usage': {'completion_tokens': 376, 'prompt_tokens': 2318, 'total_tokens': 2694, 'completion_tokens_details': {'accepted_prediction_tokens': 0, 'audio_tokens': 0, 'reasoning_tokens': 0, 'rejected_prediction_tokens': 0}, 'prompt_tokens_details': {'audio_tokens': 0, 'cached_tokens': 0}}, 'model_name': 'gpt-4o-2024-08-06', 'system_fingerprint': 'fp_f5bdcc3276', 'id': 'chatcmpl-BT1qooFAFdJQI2ZH4vanHNhRKGbyZ', 'finish_reason': 'stop', 'logprobs': None}, id='run-d662d780-0425-4547-a510-c6e03d81febb-0', usage_metadata={'input_tokens': 2318, 'output_tokens': 376, 'total_tokens': 2694, 'input_token_details': {'audio': 0, 'cache_read': 0}, 'output_token_details': {'audio': 0, 'reasoning': 0}}),\n",
       " ['user', 'what is a weather there?'],\n",
       " AIMessage(content='', additional_kwargs={'tool_calls': [{'id': 'call_U1DDKf5aP2ZgwEkm3Fibn72s', 'function': {'arguments': '{\"query\":\"current weather in Bangalore\"}', 'name': 'tavily_search_results_json'}, 'type': 'function'}], 'refusal': None}, response_metadata={'token_usage': {'completion_tokens': 22, 'prompt_tokens': 2706, 'total_tokens': 2728, 'completion_tokens_details': {'accepted_prediction_tokens': 0, 'audio_tokens': 0, 'reasoning_tokens': 0, 'rejected_prediction_tokens': 0}, 'prompt_tokens_details': {'audio_tokens': 0, 'cached_tokens': 0}}, 'model_name': 'gpt-4o-2024-08-06', 'system_fingerprint': 'fp_f5bdcc3276', 'id': 'chatcmpl-BT220SrrdISCCHYUxuC8CknCSSj5C', 'finish_reason': 'tool_calls', 'logprobs': None}, id='run-0f917cd8-2104-4583-9791-ed765b0043ad-0', tool_calls=[{'name': 'tavily_search_results_json', 'args': {'query': 'current weather in Bangalore'}, 'id': 'call_U1DDKf5aP2ZgwEkm3Fibn72s', 'type': 'tool_call'}], usage_metadata={'input_tokens': 2706, 'output_tokens': 22, 'total_tokens': 2728, 'input_token_details': {'audio': 0, 'cache_read': 0}, 'output_token_details': {'audio': 0, 'reasoning': 0}}),\n",
       " ToolMessage(content='[{\"title\": \"Weather in Bangalore\", \"url\": \"https://www.weatherapi.com/\", \"content\": \"{\\'location\\': {\\'name\\': \\'Bangalore\\', \\'region\\': \\'Karnataka\\', \\'country\\': \\'India\\', \\'lat\\': 12.9833, \\'lon\\': 77.5833, \\'tz_id\\': \\'Asia/Kolkata\\', \\'localtime_epoch\\': 1746259031, \\'localtime\\': \\'2025-05-03 13:27\\'}, \\'current\\': {\\'last_updated_epoch\\': 1746258300, \\'last_updated\\': \\'2025-05-03 13:15\\', \\'temp_c\\': 31.0, \\'temp_f\\': 87.8, \\'is_day\\': 1, \\'condition\\': {\\'text\\': \\'Partly Cloudy\\', \\'icon\\': \\'//cdn.weatherapi.com/weather/64x64/day/116.png\\', \\'code\\': 1003}, \\'wind_mph\\': 5.6, \\'wind_kph\\': 9.0, \\'wind_degree\\': 214, \\'wind_dir\\': \\'SW\\', \\'pressure_mb\\': 1014.0, \\'pressure_in\\': 29.94, \\'precip_mm\\': 0.0, \\'precip_in\\': 0.0, \\'humidity\\': 52, \\'cloud\\': 25, \\'feelslike_c\\': 29.9, \\'feelslike_f\\': 85.8, \\'windchill_c\\': 33.2, \\'windchill_f\\': 91.8, \\'heatindex_c\\': 32.7, \\'heatindex_f\\': 90.8, \\'dewpoint_c\\': 12.9, \\'dewpoint_f\\': 55.1, \\'vis_km\\': 8.0, \\'vis_miles\\': 4.0, \\'uv\\': 6.5, \\'gust_mph\\': 6.4, \\'gust_kph\\': 10.4}}\", \"score\": 0.9836111}, {\"title\": \"Bengaluru Weather Forecast 3 May 2025 - Times of India\", \"url\": \"https://timesofindia.indiatimes.com/weather/bengaluru-weather-forecast-today/560001\", \"content\": \"Today\\'s Weather in Bengaluru: In Bengaluru today, the weather is expected to be Fair with a maximum temperature of 32°C and a minimum of 21°C. Sunrise in\", \"score\": 0.9195344}, {\"title\": \"Weather in Bangalore in May 2025 (State of Karnātaka)\", \"url\": \"https://world-weather.info/forecast/india/bangalor/may-2025/\", \"content\": \"Detailed ⚡ Bangalore Weather Forecast for May 2025 – day/night 🌡️ ... Saturday, 3 May. +79°. Day. +91°. Light rain. Sunday, 4 May. +82°. Day. +91°. Light\", \"score\": 0.9170729}, {\"title\": \"Weather in Bengaluru in May 2025 - Detailed Forecast\", \"url\": \"https://www.easeweather.com/asia/india/karnataka/bangalore-urban/bengaluru/may\", \"content\": \"Weather in Bengaluru for May 2025\\\\n\\\\nTemperatures\\\\n\\\\nThe forecast for the next days in Bengaluru predicts temperatures to be around 35\\xa0°C, close to the historical average.\\\\n\\\\nIn general, the average temperature in Bengaluru at the beginning of May is 34.3\\xa0°C. As the month progressed, temperatures tended to noticeably cool down, reaching an average of 31.7\\xa0°C by the end of May.\\\\n\\\\nRain 🌧️\\\\n\\\\nBengaluru experiences heavy rainfall in May, with over 20 rainy days and an average total precipitation 171.9\\xa0mm. [...] 1 May | Moderate or heavy rain shower | 34°/23° | 13.8mm | 8 | \\\\n2 May | Heavy rain at times | 33°/23° | 8.2mm | 7 | \\\\n3 May | Patchy rain possible | 34°/23° | 2.7mm | 2.3 | \\\\n4 May | Patchy rain possible | 33°/22° | 1.9mm | 2.4 | \\\\n5 May | Sunny | 35°/23° | 0mm | 2.8 | \\\\n6 May | Sunny | 36°/23° | 0mm | 3.5 | \\\\n7 May | Patchy rain possible | 35°/23° | 1.9mm | 6 | \\\\n8 May | Sunny | 35°/23° | 0mm | 7 | \\\\n9 May | Sunny | 36°/25° | 0mm | 8 | \\\\n10 May | Sunny | 36°/23° | 0mm | 7 | [...] Bengaluru Weather May\\\\n\\\\nMon. | Tue. | Wed. | Thu. | Fri. | Sat. | Sun.\\\\n |  |  | 134° | 233° | 334° | 433°\\\\n535° | 636° | 735° | 835° | 936° | 1036° | 1136°\\\\n1235° | 1335° | 1435° | 1535° | 1635° | 1733° | 1832°\\\\n1933° | 2032° | 2130° | 2233° | 2334° | 2432° | 2529°\\\\n2631° | 2730° | 2832° | 2934° | 3033° | 3133° | \\\\nYou can click on date\\\\n\\\\nTemperatures trend during May in Bengaluru\\\\n\\\\nMay weather day by day\", \"score\": 0.8952393}, {\"title\": \"Bangalore weather in May 2025 - Weather25.com\", \"url\": \"https://www.weather25.com/asia/india/karnataka/bangalore?page=month&month=May\", \"content\": \"Bangalore weather in May 2025\\\\n\\\\nThe average weather in Bangalore in May\\\\n\\\\nThe weather in Bangalore in May is very hot. The average temperatures are between 23°C and 34°C, drinking water regularly is advisable.\\\\n\\\\nYou can expect rain for roughly half of the month of May in Bangalore. We’re expecting roughly 8 to 15 days of rain, so your rubber boots and umbrella are going to see plenty of use this month if you’re keen on staying dry. [...] Sun | Mon | Tue | Wed | Thu | Fri | Sat\\\\n |  |  |  | 134°/24° | 234°/24° | 334°/24°\\\\n432°/23° | 535°/23° | 635°/23° | 735°/23° | 833°/23° | 935°/24° | 1035°/24°\\\\n1134°/23° | 1230°/21° | 1331°/22° | 1433°/23° | 1534°/23° | 1634°/23° | 1732°/23°\\\\n1831°/24° | 1933°/24° | 2031°/23° | 2130°/22° | 2232°/23° | 2334°/23° | 2433°/23°\\\\n2531°/23° | 2632°/22° | 2732°/23° | 2833°/23° | 2933°/22° | 3033°/22° | 3133°/23°\\\\nExplore the weather in Bangalore in other months\\\\n\\\\nBangalore annual weather [...] Month | Temperatures | Rainy Days | Dry Days | Snowy Days | Rainfall | Weather | More details\\\\nJanuary | 29°/17° | 1 | 31 | 0 | 12mm | Good | Bangalore in January\\\\nFebruary | 32°/18° | 1 | 28 | 0 | 14mm | Good | Bangalore in February\\\\nMarch | 35°/22° | 1 | 30 | 0 | 27mm | Ok | Bangalore in March\\\\nApril | 36°/24° | 4 | 26 | 0 | 61mm | Ok | Bangalore in April\\\\nMay | 34°/23° | 9 | 23 | 0 | 183mm | Bad | Bangalore in May\\\\nJune | 30°/21° | 10 | 20 | 0 | 183mm | Ok | Bangalore in June\", \"score\": 0.8868231}]', name='tavily_search_results_json', tool_call_id='call_U1DDKf5aP2ZgwEkm3Fibn72s', artifact={'query': 'current weather in Bangalore', 'follow_up_questions': None, 'answer': None, 'images': [], 'results': [{'title': 'Weather in Bangalore', 'url': 'https://www.weatherapi.com/', 'content': \"{'location': {'name': 'Bangalore', 'region': 'Karnataka', 'country': 'India', 'lat': 12.9833, 'lon': 77.5833, 'tz_id': 'Asia/Kolkata', 'localtime_epoch': 1746259031, 'localtime': '2025-05-03 13:27'}, 'current': {'last_updated_epoch': 1746258300, 'last_updated': '2025-05-03 13:15', 'temp_c': 31.0, 'temp_f': 87.8, 'is_day': 1, 'condition': {'text': 'Partly Cloudy', 'icon': '//cdn.weatherapi.com/weather/64x64/day/116.png', 'code': 1003}, 'wind_mph': 5.6, 'wind_kph': 9.0, 'wind_degree': 214, 'wind_dir': 'SW', 'pressure_mb': 1014.0, 'pressure_in': 29.94, 'precip_mm': 0.0, 'precip_in': 0.0, 'humidity': 52, 'cloud': 25, 'feelslike_c': 29.9, 'feelslike_f': 85.8, 'windchill_c': 33.2, 'windchill_f': 91.8, 'heatindex_c': 32.7, 'heatindex_f': 90.8, 'dewpoint_c': 12.9, 'dewpoint_f': 55.1, 'vis_km': 8.0, 'vis_miles': 4.0, 'uv': 6.5, 'gust_mph': 6.4, 'gust_kph': 10.4}}\", 'score': 0.9836111, 'raw_content': None}, {'url': 'https://timesofindia.indiatimes.com/weather/bengaluru-weather-forecast-today/560001', 'title': 'Bengaluru Weather Forecast 3 May 2025 - Times of India', 'content': \"Today's Weather in Bengaluru: In Bengaluru today, the weather is expected to be Fair with a maximum temperature of 32°C and a minimum of 21°C. Sunrise in\", 'score': 0.9195344, 'raw_content': None}, {'url': 'https://world-weather.info/forecast/india/bangalor/may-2025/', 'title': 'Weather in Bangalore in May 2025 (State of Karnātaka)', 'content': 'Detailed ⚡ Bangalore Weather Forecast for May 2025 – day/night 🌡️ ... Saturday, 3 May. +79°. Day. +91°. Light rain. Sunday, 4 May. +82°. Day. +91°. Light', 'score': 0.9170729, 'raw_content': None}, {'url': 'https://www.easeweather.com/asia/india/karnataka/bangalore-urban/bengaluru/may', 'title': 'Weather in Bengaluru in May 2025 - Detailed Forecast', 'content': 'Weather in Bengaluru for May 2025\\n\\nTemperatures\\n\\nThe forecast for the next days in Bengaluru predicts temperatures to be around 35\\xa0°C, close to the historical average.\\n\\nIn general, the average temperature in Bengaluru at the beginning of May is 34.3\\xa0°C. As the month progressed, temperatures tended to noticeably cool down, reaching an average of 31.7\\xa0°C by the end of May.\\n\\nRain 🌧️\\n\\nBengaluru experiences heavy rainfall in May, with over 20 rainy days and an average total precipitation 171.9\\xa0mm. [...] 1 May | Moderate or heavy rain shower | 34°/23° | 13.8mm | 8 | \\n2 May | Heavy rain at times | 33°/23° | 8.2mm | 7 | \\n3 May | Patchy rain possible | 34°/23° | 2.7mm | 2.3 | \\n4 May | Patchy rain possible | 33°/22° | 1.9mm | 2.4 | \\n5 May | Sunny | 35°/23° | 0mm | 2.8 | \\n6 May | Sunny | 36°/23° | 0mm | 3.5 | \\n7 May | Patchy rain possible | 35°/23° | 1.9mm | 6 | \\n8 May | Sunny | 35°/23° | 0mm | 7 | \\n9 May | Sunny | 36°/25° | 0mm | 8 | \\n10 May | Sunny | 36°/23° | 0mm | 7 | [...] Bengaluru Weather May\\n\\nMon. | Tue. | Wed. | Thu. | Fri. | Sat. | Sun.\\n |  |  | 134° | 233° | 334° | 433°\\n535° | 636° | 735° | 835° | 936° | 1036° | 1136°\\n1235° | 1335° | 1435° | 1535° | 1635° | 1733° | 1832°\\n1933° | 2032° | 2130° | 2233° | 2334° | 2432° | 2529°\\n2631° | 2730° | 2832° | 2934° | 3033° | 3133° | \\nYou can click on date\\n\\nTemperatures trend during May in Bengaluru\\n\\nMay weather day by day', 'score': 0.8952393, 'raw_content': None}, {'url': 'https://www.weather25.com/asia/india/karnataka/bangalore?page=month&month=May', 'title': 'Bangalore weather in May 2025 - Weather25.com', 'content': 'Bangalore weather in May 2025\\n\\nThe average weather in Bangalore in May\\n\\nThe weather in Bangalore in May is very hot. The average temperatures are between 23°C and 34°C, drinking water regularly is advisable.\\n\\nYou can expect rain for roughly half of the month of May in Bangalore. We’re expecting roughly 8 to 15 days of rain, so your rubber boots and umbrella are going to see plenty of use this month if you’re keen on staying dry. [...] Sun | Mon | Tue | Wed | Thu | Fri | Sat\\n |  |  |  | 134°/24° | 234°/24° | 334°/24°\\n432°/23° | 535°/23° | 635°/23° | 735°/23° | 833°/23° | 935°/24° | 1035°/24°\\n1134°/23° | 1230°/21° | 1331°/22° | 1433°/23° | 1534°/23° | 1634°/23° | 1732°/23°\\n1831°/24° | 1933°/24° | 2031°/23° | 2130°/22° | 2232°/23° | 2334°/23° | 2433°/23°\\n2531°/23° | 2632°/22° | 2732°/23° | 2833°/23° | 2933°/22° | 3033°/22° | 3133°/23°\\nExplore the weather in Bangalore in other months\\n\\nBangalore annual weather [...] Month | Temperatures | Rainy Days | Dry Days | Snowy Days | Rainfall | Weather | More details\\nJanuary | 29°/17° | 1 | 31 | 0 | 12mm | Good | Bangalore in January\\nFebruary | 32°/18° | 1 | 28 | 0 | 14mm | Good | Bangalore in February\\nMarch | 35°/22° | 1 | 30 | 0 | 27mm | Ok | Bangalore in March\\nApril | 36°/24° | 4 | 26 | 0 | 61mm | Ok | Bangalore in April\\nMay | 34°/23° | 9 | 23 | 0 | 183mm | Bad | Bangalore in May\\nJune | 30°/21° | 10 | 20 | 0 | 183mm | Ok | Bangalore in June', 'score': 0.8868231, 'raw_content': None}], 'response_time': 3.44}),\n",
       " AIMessage(content='The current weather in Bangalore is **partly cloudy** with a temperature of around **31°C (87.8°F)**. The wind is blowing from the southwest at about 9 km/h (5.6 mph), and the humidity level is at 52%. The weather feels like it is approximately 29.9°C (85.8°F). \\n\\nFor more detailed and up-to-date information, you might want to visit a [weather information site](https://www.weatherapi.com/).', additional_kwargs={'refusal': None}, response_metadata={'token_usage': {'completion_tokens': 103, 'prompt_tokens': 4624, 'total_tokens': 4727, 'completion_tokens_details': {'accepted_prediction_tokens': 0, 'audio_tokens': 0, 'reasoning_tokens': 0, 'rejected_prediction_tokens': 0}, 'prompt_tokens_details': {'audio_tokens': 0, 'cached_tokens': 2688}}, 'model_name': 'gpt-4o-2024-08-06', 'system_fingerprint': 'fp_f5bdcc3276', 'id': 'chatcmpl-BT22FavUdE2tjuzrDgEFqrZoVYCy9', 'finish_reason': 'stop', 'logprobs': None}, id='run-e5137497-93ec-4df7-9311-3f813b4ce2d4-0', usage_metadata={'input_tokens': 4624, 'output_tokens': 103, 'total_tokens': 4727, 'input_token_details': {'audio': 0, 'cache_read': 2688}, 'output_token_details': {'audio': 0, 'reasoning': 0}}),\n",
       " ['user', 'give me the recent news from there?']]"
      ]
     },
     "execution_count": 262,
     "metadata": {},
     "output_type": "execute_result"
    }
   ],
   "source": [
    "current_message"
   ]
  },
  {
   "cell_type": "code",
   "execution_count": null,
   "id": "1e5dbe7f",
   "metadata": {},
   "outputs": [],
   "source": [
    "for event in events:\n",
    "    if \"messages\" in event:\n",
    "        last_message = event[\"messages\"][-1]\n",
    "        # Print the tuple elements (e.g., role and content)\n"
   ]
  },
  {
   "cell_type": "code",
   "execution_count": null,
   "id": "5cd0176c",
   "metadata": {},
   "outputs": [
    {
     "ename": "AttributeError",
     "evalue": "'list' object has no attribute 'pretty_print'",
     "output_type": "error",
     "traceback": [
      "\u001b[31m---------------------------------------------------------------------------\u001b[39m",
      "\u001b[31mAttributeError\u001b[39m                            Traceback (most recent call last)",
      "\u001b[36mCell\u001b[39m\u001b[36m \u001b[39m\u001b[32mIn[265]\u001b[39m\u001b[32m, line 1\u001b[39m\n\u001b[32m----> \u001b[39m\u001b[32m1\u001b[39m \u001b[43mcurrent_message\u001b[49m\u001b[43m.\u001b[49m\u001b[43mpretty_print\u001b[49m()\n",
      "\u001b[31mAttributeError\u001b[39m: 'list' object has no attribute 'pretty_print'"
     ]
    }
   ],
   "source": [
    "current_message.pretty_print()"
   ]
  },
  {
   "cell_type": "code",
   "execution_count": null,
   "id": "c0d5e933",
   "metadata": {},
   "outputs": [
    {
     "ename": "AttributeError",
     "evalue": "'list' object has no attribute 'tool_calls'",
     "output_type": "error",
     "traceback": [
      "\u001b[31m---------------------------------------------------------------------------\u001b[39m",
      "\u001b[31mAttributeError\u001b[39m                            Traceback (most recent call last)",
      "\u001b[36mCell\u001b[39m\u001b[36m \u001b[39m\u001b[32mIn[266]\u001b[39m\u001b[32m, line 1\u001b[39m\n\u001b[32m----> \u001b[39m\u001b[32m1\u001b[39m tool_call_id = \u001b[43mcurrent_message\u001b[49m\u001b[43m.\u001b[49m\u001b[43mtool_calls\u001b[49m[\u001b[32m0\u001b[39m][\u001b[33m\"\u001b[39m\u001b[33mid\u001b[39m\u001b[33m\"\u001b[39m] \n",
      "\u001b[31mAttributeError\u001b[39m: 'list' object has no attribute 'tool_calls'"
     ]
    }
   ],
   "source": [
    "\n",
    "tool_call_id = current_message.tool_calls[0][\"id\"] "
   ]
  },
  {
   "cell_type": "code",
   "execution_count": null,
   "id": "fbd8c11d",
   "metadata": {},
   "outputs": [],
   "source": [
    "\n",
    "from langchain_core.messages import AIMessage, ToolMessage"
   ]
  },
  {
   "cell_type": "code",
   "execution_count": null,
   "id": "05458b2b",
   "metadata": {},
   "outputs": [],
   "source": [
    "answer=\"delhi is too hot now a days as well as bit foggy\""
   ]
  },
  {
   "cell_type": "code",
   "execution_count": null,
   "id": "dcf4b4ac",
   "metadata": {},
   "outputs": [
    {
     "ename": "NameError",
     "evalue": "name 'tool_call_id' is not defined",
     "output_type": "error",
     "traceback": [
      "\u001b[31m---------------------------------------------------------------------------\u001b[39m",
      "\u001b[31mNameError\u001b[39m                                 Traceback (most recent call last)",
      "\u001b[36mCell\u001b[39m\u001b[36m \u001b[39m\u001b[32mIn[269]\u001b[39m\u001b[32m, line 2\u001b[39m\n\u001b[32m      1\u001b[39m new_messages = [\n\u001b[32m----> \u001b[39m\u001b[32m2\u001b[39m     ToolMessage(content=answer, tool_call_id=\u001b[43mtool_call_id\u001b[49m),\n\u001b[32m      3\u001b[39m     AIMessage(content=answer),\n\u001b[32m      4\u001b[39m ]\n",
      "\u001b[31mNameError\u001b[39m: name 'tool_call_id' is not defined"
     ]
    }
   ],
   "source": [
    "\n",
    "new_messages = [\n",
    "    ToolMessage(content=answer, tool_call_id=tool_call_id),\n",
    "    AIMessage(content=answer),\n",
    "]"
   ]
  },
  {
   "cell_type": "code",
   "execution_count": null,
   "id": "7b428561",
   "metadata": {},
   "outputs": [
    {
     "ename": "NameError",
     "evalue": "name 'new_messages' is not defined",
     "output_type": "error",
     "traceback": [
      "\u001b[31m---------------------------------------------------------------------------\u001b[39m",
      "\u001b[31mNameError\u001b[39m                                 Traceback (most recent call last)",
      "\u001b[36mCell\u001b[39m\u001b[36m \u001b[39m\u001b[32mIn[270]\u001b[39m\u001b[32m, line 3\u001b[39m\n\u001b[32m      1\u001b[39m app2.update_state(\n\u001b[32m      2\u001b[39m     config,\n\u001b[32m----> \u001b[39m\u001b[32m3\u001b[39m     {\u001b[33m\"\u001b[39m\u001b[33mmessages\u001b[39m\u001b[33m\"\u001b[39m: \u001b[43mnew_messages\u001b[49m},\n\u001b[32m      4\u001b[39m )\n",
      "\u001b[31mNameError\u001b[39m: name 'new_messages' is not defined"
     ]
    }
   ],
   "source": [
    "\n",
    "app2.update_state(\n",
    "    config,\n",
    "    {\"messages\": new_messages},\n",
    ")"
   ]
  },
  {
   "cell_type": "code",
   "execution_count": null,
   "id": "7a45c52b",
   "metadata": {},
   "outputs": [
    {
     "name": "stdout",
     "output_type": "stream",
     "text": [
      "[AIMessage(content='', additional_kwargs={'tool_calls': [{'id': 'call_EIkRMcFxz1LSqajGWH0DJJlQ', 'function': {'arguments': '{\"query\":\"Bangalore recent news\"}', 'name': 'tavily_search_results_json'}, 'type': 'function'}], 'refusal': None}, response_metadata={'token_usage': {'completion_tokens': 22, 'prompt_tokens': 4741, 'total_tokens': 4763, 'completion_tokens_details': {'accepted_prediction_tokens': 0, 'audio_tokens': 0, 'reasoning_tokens': 0, 'rejected_prediction_tokens': 0}, 'prompt_tokens_details': {'audio_tokens': 0, 'cached_tokens': 4608}}, 'model_name': 'gpt-4o-2024-08-06', 'system_fingerprint': 'fp_f5bdcc3276', 'id': 'chatcmpl-BT22t3Q7MZaVH8NsbNPgW3KwYkh7r', 'finish_reason': 'tool_calls', 'logprobs': None}, id='run-7022298d-076e-42e9-9bb3-e4784565260e-0', tool_calls=[{'name': 'tavily_search_results_json', 'args': {'query': 'Bangalore recent news'}, 'id': 'call_EIkRMcFxz1LSqajGWH0DJJlQ', 'type': 'tool_call'}], usage_metadata={'input_tokens': 4741, 'output_tokens': 22, 'total_tokens': 4763, 'input_token_details': {'audio': 0, 'cache_read': 4608}, 'output_token_details': {'audio': 0, 'reasoning': 0}})]\n"
     ]
    }
   ],
   "source": [
    "\n",
    "print(app2.get_state(config).values[\"messages\"][-1:])"
   ]
  },
  {
   "cell_type": "code",
   "execution_count": null,
   "id": "5d6edbd6",
   "metadata": {},
   "outputs": [],
   "source": []
  },
  {
   "cell_type": "code",
   "execution_count": null,
   "id": "19f8de7d",
   "metadata": {},
   "outputs": [],
   "source": []
  }
 ],
 "metadata": {
  "kernelspec": {
   "display_name": "rag_env",
   "language": "python",
   "name": "python3"
  },
  "language_info": {
   "codemirror_mode": {
    "name": "ipython",
    "version": 3
   },
   "file_extension": ".py",
   "mimetype": "text/x-python",
   "name": "python",
   "nbconvert_exporter": "python",
   "pygments_lexer": "ipython3",
   "version": "3.11.11"
  }
 },
 "nbformat": 4,
 "nbformat_minor": 5
}

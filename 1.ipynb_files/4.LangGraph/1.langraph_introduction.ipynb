{
 "cells": [
  {
   "cell_type": "code",
   "execution_count": 46,
   "metadata": {},
   "outputs": [],
   "source": [
    "! pip install langgraph -q"
   ]
  },
  {
   "cell_type": "code",
   "execution_count": 47,
   "metadata": {},
   "outputs": [
    {
     "data": {
      "text/plain": [
       "True"
      ]
     },
     "execution_count": 47,
     "metadata": {},
     "output_type": "execute_result"
    }
   ],
   "source": [
    "from langgraph.graph import Graph\n",
    "from langgraph.graph import StateGraph\n",
    "from dotenv import load_dotenv\n",
    "load_dotenv()"
   ]
  },
  {
   "cell_type": "code",
   "execution_count": 48,
   "metadata": {},
   "outputs": [],
   "source": [
    "# langgraph->orchestration->pipeline"
   ]
  },
  {
   "cell_type": "code",
   "execution_count": 49,
   "metadata": {},
   "outputs": [],
   "source": [
    "# langgraph------>  nodes,edges,State\n",
    "# node-----------> funtions\n",
    "# edge----------> connectivity between nodes(funtions)"
   ]
  },
  {
   "cell_type": "code",
   "execution_count": 50,
   "metadata": {},
   "outputs": [],
   "source": [
    "from langchain_google_genai import GoogleGenerativeAIEmbeddings\n",
    "\n",
    "embeddings = GoogleGenerativeAIEmbeddings(model=\"models/embedding-001\")\n",
    "\n",
    "from langchain_google_genai import ChatGoogleGenerativeAI\n",
    "\n",
    "llm = ChatGoogleGenerativeAI(model=\"gemini-1.5-pro\")\n",
    "\n",
    "\n",
    "# from langchain_openai import ChatOpenAI\n",
    "# openai_model =ChatOpenAI(model=\"gpt-4\")\n",
    "\n",
    "# from langchain_openai import OpenAIEmbeddings\n",
    "# openai_embedding=OpenAIEmbeddings(model='text-embedding-3-large')"
   ]
  },
  {
   "cell_type": "code",
   "execution_count": 51,
   "metadata": {},
   "outputs": [
    {
     "data": {
      "text/plain": [
       "'Hi there! How can I help you today?'"
      ]
     },
     "execution_count": 51,
     "metadata": {},
     "output_type": "execute_result"
    }
   ],
   "source": [
    "llm.invoke(\"hi\").content"
   ]
  },
  {
   "cell_type": "code",
   "execution_count": 52,
   "metadata": {},
   "outputs": [],
   "source": [
    "def LLM(input):\n",
    "    llm = ChatGoogleGenerativeAI(model=\"gemini-1.5-pro\")\n",
    "    response = llm.invoke(input).content\n",
    "    return response\n",
    "    "
   ]
  },
  {
   "cell_type": "code",
   "execution_count": 53,
   "metadata": {},
   "outputs": [],
   "source": [
    "# def LLM(input):\n",
    "#     llm = ChatOpenAI(model=\"gpt-4\")\n",
    "#     response = llm.invoke(input).content\n",
    "#     return response\n",
    "    "
   ]
  },
  {
   "cell_type": "code",
   "execution_count": 54,
   "metadata": {},
   "outputs": [
    {
     "data": {
      "text/plain": [
       "'8'"
      ]
     },
     "execution_count": 54,
     "metadata": {},
     "output_type": "execute_result"
    }
   ],
   "source": [
    "LLM(\"what is  3 +3*5-10 just give me the fnal output don't give me the internal details/steps\")"
   ]
  },
  {
   "cell_type": "code",
   "execution_count": 55,
   "metadata": {},
   "outputs": [],
   "source": [
    "def Counter_Token(input):\n",
    "    token = input.split()\n",
    "    token_number = len(token)\n",
    "    response = f\"total number of token in the generated output {token_number}\"\n",
    "    return response\n",
    "    "
   ]
  },
  {
   "cell_type": "code",
   "execution_count": 56,
   "metadata": {},
   "outputs": [
    {
     "data": {
      "text/plain": [
       "'total number of token in the generated output 9'"
      ]
     },
     "execution_count": 56,
     "metadata": {},
     "output_type": "execute_result"
    }
   ],
   "source": [
    "Counter_Token(\"AI vs GenAI, which i need to learn first?\")"
   ]
  },
  {
   "cell_type": "code",
   "execution_count": 57,
   "metadata": {},
   "outputs": [],
   "source": [
    "workflow = Graph()"
   ]
  },
  {
   "cell_type": "code",
   "execution_count": 58,
   "metadata": {},
   "outputs": [
    {
     "data": {
      "text/plain": [
       "<langgraph.graph.graph.Graph at 0x2083c49a3d0>"
      ]
     },
     "execution_count": 58,
     "metadata": {},
     "output_type": "execute_result"
    }
   ],
   "source": [
    "workflow.add_node(\"MY LLM\",LLM)"
   ]
  },
  {
   "cell_type": "code",
   "execution_count": 59,
   "metadata": {},
   "outputs": [
    {
     "data": {
      "text/plain": [
       "<langgraph.graph.graph.Graph at 0x2083c49a3d0>"
      ]
     },
     "execution_count": 59,
     "metadata": {},
     "output_type": "execute_result"
    }
   ],
   "source": [
    "workflow.add_node(\"Token Counter\",Counter_Token)"
   ]
  },
  {
   "cell_type": "code",
   "execution_count": 60,
   "metadata": {},
   "outputs": [
    {
     "data": {
      "text/plain": [
       "<langgraph.graph.graph.Graph at 0x2083c49a3d0>"
      ]
     },
     "execution_count": 60,
     "metadata": {},
     "output_type": "execute_result"
    }
   ],
   "source": [
    "workflow.add_edge(\"MY LLM\", \"Token Counter\")"
   ]
  },
  {
   "cell_type": "code",
   "execution_count": 61,
   "metadata": {},
   "outputs": [
    {
     "data": {
      "text/plain": [
       "<langgraph.graph.graph.Graph at 0x2083c49a3d0>"
      ]
     },
     "execution_count": 61,
     "metadata": {},
     "output_type": "execute_result"
    }
   ],
   "source": [
    "workflow.set_entry_point(\"MY LLM\")\n",
    "workflow.set_finish_point(\"Token Counter\")"
   ]
  },
  {
   "cell_type": "code",
   "execution_count": 62,
   "metadata": {},
   "outputs": [],
   "source": [
    "app = workflow.compile()"
   ]
  },
  {
   "cell_type": "code",
   "execution_count": 63,
   "metadata": {},
   "outputs": [],
   "source": [
    "from IPython.display import Image, display"
   ]
  },
  {
   "cell_type": "code",
   "execution_count": 64,
   "metadata": {},
   "outputs": [
    {
     "data": {
      "text/plain": [
       "Graph(nodes={'__start__': Node(id='__start__', name='__start__', data=<class 'langgraph.graph.graph.LangGraphInput'>, metadata=None), 'MY LLM': Node(id='MY LLM', name='MY LLM', data=MY LLM(tags=None, recurse=True, explode_args=False, func_accepts_config=False, func_accepts={}), metadata=None), 'Token Counter': Node(id='Token Counter', name='Token Counter', data=Token Counter(tags=None, recurse=True, explode_args=False, func_accepts_config=False, func_accepts={}), metadata=None), '__end__': Node(id='__end__', name='__end__', data=<class 'langgraph.graph.graph.LangGraphOutput'>, metadata=None)}, edges=[Edge(source='MY LLM', target='Token Counter', data=None, conditional=False), Edge(source='Token Counter', target='__end__', data=None, conditional=False), Edge(source='__start__', target='MY LLM', data=None, conditional=False)])"
      ]
     },
     "execution_count": 64,
     "metadata": {},
     "output_type": "execute_result"
    }
   ],
   "source": [
    "app.get_graph()"
   ]
  },
  {
   "cell_type": "code",
   "execution_count": 65,
   "metadata": {},
   "outputs": [
    {
     "data": {
      "image/png": "[encoded data removed]",
      "text/plain": [
       "<IPython.core.display.Image object>"
      ]
     },
     "metadata": {},
     "output_type": "display_data"
    }
   ],
   "source": [
    "display(Image(app.get_graph().draw_mermaid_png())) "
   ]
  },
  {
   "cell_type": "code",
   "execution_count": 66,
   "metadata": {},
   "outputs": [
    {
     "data": {
      "text/plain": [
       "'total number of token in the generated output 631'"
      ]
     },
     "execution_count": 66,
     "metadata": {},
     "output_type": "execute_result"
    }
   ],
   "source": [
    "app.invoke(\"what is a agentic ai explain me in very detailed manner?\")"
   ]
  },
  {
   "cell_type": "code",
   "execution_count": 67,
   "metadata": {},
   "outputs": [
    {
     "name": "stdout",
     "output_type": "stream",
     "text": [
      "here is output from MY LLM\n",
      "_______\n",
      "Agentic AI refers to a type of artificial intelligence that can act autonomously, pursue goals, and make decisions independently on behalf of a user or another system. It goes beyond simply responding to commands and instead operates with a degree of agency, similar to how a human agent would. This involves several key characteristics:\n",
      "\n",
      "**1. Goal-Oriented Behavior:** Agentic AI is designed around specific goals or objectives. These goals can be explicitly programmed by humans, learned through interaction with the environment, or derived from a combination of both.  The AI then takes actions aimed at achieving these goals, even in complex and dynamic situations.\n",
      "\n",
      "**2. Proactive Decision-Making:**  Instead of passively waiting for instructions, agentic AI can anticipate needs, identify opportunities, and make proactive decisions to advance its goals. This proactive nature is a key differentiator from traditional reactive systems.  For example, a personal assistant AI might proactively schedule meetings, book flights, or suggest relevant news articles based on your past behavior and stated preferences, without explicit instructions each time.\n",
      "\n",
      "**3. Autonomy and Independence:**  Agentic AI operates with a certain degree of autonomy, meaning it can function without constant human supervision. This independence allows it to handle tasks and make decisions in real-time, adapting to changing circumstances and unforeseen events. The level of autonomy can vary, ranging from simple automated tasks to complex decision-making processes with significant impact.\n",
      "\n",
      "**4. Learning and Adaptation:**  Many agentic AI systems incorporate machine learning algorithms, enabling them to learn from experience and improve their performance over time. This allows them to adapt to new situations, refine their strategies, and become more effective at achieving their goals.  For example, a self-driving car can learn to navigate more efficiently by analyzing data from past trips and adjusting its driving behavior accordingly.\n",
      "\n",
      "**5. Environmental Interaction:** Agentic AI interacts with its environment, whether physical or virtual, to gather information, execute actions, and achieve its goals. This interaction can involve sensing, manipulating objects, communicating with other agents, and adapting to changes in the environment.\n",
      "\n",
      "**6. Representation and Reasoning:**  Agentic AI systems often utilize internal representations of the world and employ reasoning mechanisms to plan actions, predict outcomes, and make informed decisions.  This might involve using knowledge graphs, probabilistic models, or other techniques to understand the context and make sense of the environment.\n",
      "\n",
      "**7. Responsibility and Accountability:**  As agentic AI systems become more sophisticated and autonomous, questions of responsibility and accountability become increasingly important.  Determining who is responsible when an AI agent makes a mistake or causes harm is a complex ethical and legal challenge that is still being debated.\n",
      "\n",
      "**Examples of Agentic AI:**\n",
      "\n",
      "* **Self-driving cars:**  These vehicles operate autonomously, making decisions about navigation, speed, and lane changes to reach a destination.\n",
      "* **Personalized assistants:**  These AI agents proactively manage schedules, provide information, and perform tasks on behalf of their users.\n",
      "* **Trading bots:**  These automated systems analyze market data and execute trades independently to maximize profits.\n",
      "* **Robotics in manufacturing:**  Robots can perform complex assembly tasks autonomously, adapting to variations in parts and processes.\n",
      "* **Game playing AI:**  AI agents in games like chess and Go can make strategic decisions to defeat opponents.\n",
      "\n",
      "\n",
      "**Key Considerations and Challenges:**\n",
      "\n",
      "* **Safety and Reliability:** Ensuring the safety and reliability of agentic AI systems is crucial, especially in critical applications like healthcare and transportation.\n",
      "* **Ethical implications:**  The autonomy of agentic AI raises ethical concerns about bias, fairness, transparency, and accountability.\n",
      "* **Control and oversight:**  Maintaining appropriate levels of human control and oversight over agentic AI is essential to prevent unintended consequences.\n",
      "* **Explainability and transparency:**  Understanding how agentic AI systems make decisions is important for building trust and ensuring accountability.\n",
      "\n",
      "\n",
      "Agentic AI represents a significant advancement in artificial intelligence, offering the potential to automate complex tasks, improve decision-making, and create new possibilities across various domains.  However, it also presents significant challenges that must be addressed to ensure its responsible and beneficial development and deployment.\n",
      "\n",
      "\n",
      "here is output from Token Counter\n",
      "_______\n",
      "total number of token in the generated output 650\n",
      "\n",
      "\n"
     ]
    }
   ],
   "source": [
    "for output in app.stream(\"what is a agentic ai explain me in very detailed manner?\"):\n",
    "    for key,value in output.items():\n",
    "        print(f\"here is output from {key}\")\n",
    "        print(\"_______\")\n",
    "        print(value)\n",
    "        print(\"\\n\")"
   ]
  },
  {
   "cell_type": "code",
   "execution_count": 68,
   "metadata": {},
   "outputs": [],
   "source": [
    "from langchain_core.output_parsers import StrOutputParser\n",
    "from langchain_core.prompts import ChatPromptTemplate\n",
    "from langchain_core.runnables import RunnablePassthrough\n",
    "from langchain_community.document_loaders import TextLoader, DirectoryLoader\n",
    "from langchain_community.vectorstores import Chroma\n",
    "from langchain.text_splitter import RecursiveCharacterTextSplitter"
   ]
  },
  {
   "cell_type": "code",
   "execution_count": 69,
   "metadata": {},
   "outputs": [],
   "source": [
    "loader = DirectoryLoader(\"data\",glob=\"./*.txt\",loader_cls=TextLoader)\n",
    "\n",
    "docs = loader.load()\n",
    "text_splitter = RecursiveCharacterTextSplitter(\n",
    "    chunk_size = 500,\n",
    "    chunk_overlap = 200\n",
    ")\n",
    "\n",
    "new_docs = text_splitter.split_documents(documents=docs)\n",
    "\n",
    "doc_strings = [doc.page_content for doc in new_docs]"
   ]
  },
  {
   "cell_type": "code",
   "execution_count": 70,
   "metadata": {},
   "outputs": [
    {
     "data": {
      "text/plain": [
       "['A COVID‑19 vaccine is a vaccine intended to provide acquired immunity against severe acute respiratory syndrome coronavirus 2 (SARS-CoV-2), the virus that causes coronavirus disease 2019 (COVID‑19).',\n",
       " 'Knowledge about the structure and function of previous coronaviruses causing diseases like severe acute respiratory syndrome (SARS) and Middle East respiratory syndrome (MERS) accelerated the development of various vaccine platforms in early 2020.[1] In 2020, the first COVID‑19 vaccines were developed and made available to the public through emergency authorizations[2] and conditional approvals.[3][4] However, immunity from the vaccines wanes over time, requiring people to get booster doses of',\n",
       " 'and made available to the public through emergency authorizations[2] and conditional approvals.[3][4] However, immunity from the vaccines wanes over time, requiring people to get booster doses of the vaccine to maintain protection against COVID‑19.[2]',\n",
       " 'The COVID‑19 vaccines are widely credited for their role in reducing the spread of COVID‑19 and reducing the severity and death caused by COVID‑19.[2][5] Many countries implemented phased distribution plans that prioritized those at highest risk of complications, such as the elderly, and those at high risk of exposure and transmission, such as healthcare workers.[6][7]',\n",
       " 'Common side effects of COVID‑19 vaccines include soreness, redness, rash, inflammation at the injection site, fatigue, headache, myalgia (muscle pain), and arthralgia (joint pain), which resolve without medical treatment within a few days.[8][9] COVID‑19 vaccination is safe for people who are pregnant or are breastfeeding.[10]',\n",
       " \"As of August 2024, 13.72 billion doses of COVID‑19 vaccines have been administered worldwide, based on official reports from national public health agencies.[11] By December 2020, more than 10 billion vaccine doses had been preordered by countries,[12] with about half of the doses purchased by high-income countries comprising 14% of the world's population.[13]\",\n",
       " 'Despite the extremely rapid development of effective mRNA and viral vector vaccines, worldwide vaccine equity has not been achieved. The development and use of whole inactivated virus (WIV) and protein-based vaccines have also been recommended, especially for use in developing countries.[14][15]\\n\\nThe 2023 Nobel Prize in Physiology or Medicine was awarded to Katalin Karikó and Drew Weissman for the development of effective mRNA vaccines against COVID‑19.[16][17][18]\\n\\n\\nVaccine technologies',\n",
       " 'The 2023 Nobel Prize in Physiology or Medicine was awarded to Katalin Karikó and Drew Weissman for the development of effective mRNA vaccines against COVID‑19.[16][17][18]\\n\\n\\nVaccine technologies\\n\\nA conceptual diagram showing three vaccine types for forming SARS‑CoV‑2 proteins to prompt an immune response: (1) RNA vaccine; (2) subunit vaccine; (3) viral vector vaccine',\n",
       " 'Vaccine platforms that are being employed for SARS-CoV-2. Whole-virus vaccines include both attenuated and inactivated forms of the virus. Protein and peptide subunit vaccines are usually combined with an adjuvant in order to enhance immunogenicity. The main emphasis in SARS-CoV-2 vaccine development has been on using the whole spike protein in its trimeric form, or components of it, such as the RBD region. Multiple non-replicating viral vector vaccines have been developed, particularly focused',\n",
       " 'has been on using the whole spike protein in its trimeric form, or components of it, such as the RBD region. Multiple non-replicating viral vector vaccines have been developed, particularly focused on adenovirus, while there has been less emphasis on the replicating viral vector constructs.[38]',\n",
       " 'The initial focus of SARS-CoV-2 vaccines was on preventing symptomatic, often severe, illness.[39] Most of the first COVID‑19 vaccines were two-dose vaccines, with the exception single-dose vaccines Convidecia[40] and the Janssen COVID‑19 vaccine,[2] and vaccines with three-dose schedules, Razi Cov Pars[41] and Soberana.[42]',\n",
       " 'As of July 2021, at least nine different technology platforms were under research and development to create an effective vaccine against COVID‑19.[43][44] Most of the platforms of vaccine candidates in clinical trials are focused on the coronavirus spike protein (S protein) and its variants as the primary antigen of COVID‑19 infection,[43] since the S protein triggers strong B-cell and T-cell immune responses.[45][46] However, other coronavirus proteins are also being investigated for vaccine',\n",
       " 'primary antigen of COVID‑19 infection,[43] since the S protein triggers strong B-cell and T-cell immune responses.[45][46] However, other coronavirus proteins are also being investigated for vaccine development, like the nucleocapsid, because they also induce a robust T-cell response and their genes are more conserved and recombine less frequently.[46][47][48] Future generations of COVID‑19 vaccines targeting more conserved genomic regions could be used to treat future variations of SARS-CoV-2,',\n",
       " 'are more conserved and recombine less frequently.[46][47][48] Future generations of COVID‑19 vaccines targeting more conserved genomic regions could be used to treat future variations of SARS-CoV-2, or any similar coronavirus epidemic/pandemic.[49]',\n",
       " 'Platforms developed in 2020 involved nucleic acid technologies (nucleoside-modified messenger RNA and DNA), non-replicating viral vectors, peptides, recombinant proteins, live attenuated viruses, and inactivated viruses.[19][43][50][51]',\n",
       " 'Many vaccine technologies being developed for COVID‑19 use \"next-generation\" strategies for precise targeting of COVID‑19 infection mechanisms.[43][50][51] Several of the synthetic vaccines use a 2P mutation to lock the spike protein into its prefusion configuration, stimulating an adaptive immune response to the virus before it attaches to a human cell.[52] Vaccine platforms in development may improve flexibility for antigen manipulation and effectiveness for targeting mechanisms of COVID‑19',\n",
       " 'response to the virus before it attaches to a human cell.[52] Vaccine platforms in development may improve flexibility for antigen manipulation and effectiveness for targeting mechanisms of COVID‑19 infection in susceptible population subgroups, such as healthcare workers, the elderly, children, pregnant women, and people with weakened immune systems.[43][50]',\n",
       " 'What is a vector database?\\nA vector database stores, manages and indexes high-dimensional vector data. Data points are stored as arrays of numbers called “vectors,” which are clustered based on similarity. This design enables low-latency queries, making it ideal for AI applications.',\n",
       " 'Vector databases are growing in popularity because they deliver the speed and performance needed to drive generative artificial intelligence (AI) use cases and applications. According to Gartner®, by 2026, more than 30% of enterprises will have adopted vector databases to build their foundation models with relevant business data.1',\n",
       " 'Vector databases versus traditional databases\\nUnlike traditional relational databases with rows and columns, data points in a vector database are represented by vectors with a fixed number of dimensions. Because they use high-dimensional vector embeddings, vector databases are better able to handle unstructured datasets.',\n",
       " \"The nature of data has undergone a profound transformation. It's no longer confined to structured information easily stored in traditional databases. Unstructured data—including social media posts, images, videos, audio clips and more—is growing 30% to 60% year over year.2\",\n",
       " 'Relational databases excel at managing structured and semistructured datasets in specific formats. Loading unstructured data sources into a traditional relational database to store, manage and prepare the data for artificial intelligence (AI) is a labor-intensive process, especially with new generative use cases such as similarity search.',\n",
       " 'Traditional search typically represents data by using discrete tokens or features, such as keywords, tags or metadata. Traditional searches rely on exact matches to retrieve relevant results. For example, a search for \"smartphone\" would return results containing the word \"smartphone.\"',\n",
       " 'Opposed to this, vector search represents data as dense vectors, which are vectors with most or all elements being nonzero. Vectors are represented in a continuous vector space, the mathematical space in which data is represented as vectors.\\n\\nVector representations enable similarity search. For example, a vector search for “smartphone” might also return results for “cellphone” and “mobile devices.”',\n",
       " 'Vector representations enable similarity search. For example, a vector search for “smartphone” might also return results for “cellphone” and “mobile devices.”\\n\\nEach dimension of the dense vector corresponds to a latent feature or aspect of the data. A latent feature is an underlying characteristic or attribute that is not directly observed but inferred from the data through mathematical models or algorithms.',\n",
       " 'Latent features capture the hidden patterns and relationships in the data, enabling more meaningful and accurate representations of items as vectors in a high-dimensional space.\\nWhat are vectors?\\nVectors are a subset of tensors, which in machine learning (ML) is a generic term for a group of numbers—or a grouping of groups of numbers—in n-dimensional space. Tensors function as a mathematical bookkeeping device for data. Working up from the smallest element:',\n",
       " 'A scalar is a zero-dimensional tensor, containing a single number. For example, a system modeling weather data might represent a single day’s high temperature (in Fahrenheit) in scalar form as 85.',\n",
       " 'Then, a vector is a one-dimensional (or first-degree or first-order) tensor, containing multiple scalars of the same type of data. For example, a weather model might use the low, mean and high temperatures for a single day in vector form: 62, 77, 85. Each scalar component is a feature—that is, a dimension—of the vector, representing a feature of that day’s weather.',\n",
       " 'Vector numbers can represent complex objects such as words, images, videos and audio generated by an ML model. This high-dimensional vector data, containing multiple features, is essential to machine learning, natural language processing (NLP) and other AI tasks. Some example uses of vector data include:',\n",
       " 'Text: Chatbots need to understand natural language. They do this by relying on vectors that represent words, paragraphs and entire documents.\\n\\nImages: Image pixels can be described by numerical data and combined to make up a high-dimensional vector for that image.\\n\\nSpeech or audio: Like images, sound waves can also be broken into numerical data and represented as vectors, enabling AI applications such as voice recognition.']"
      ]
     },
     "execution_count": 70,
     "metadata": {},
     "output_type": "execute_result"
    }
   ],
   "source": [
    "doc_strings"
   ]
  },
  {
   "cell_type": "code",
   "execution_count": 71,
   "metadata": {},
   "outputs": [],
   "source": [
    "db = Chroma.from_documents(new_docs, embeddings)\n",
    "\n",
    "retriever = db.as_retriever(search_kwargs={\"k\": 3})"
   ]
  },
  {
   "cell_type": "code",
   "execution_count": 72,
   "metadata": {},
   "outputs": [
    {
     "name": "stderr",
     "output_type": "stream",
     "text": [
      "C:\\Users\\Mohan\\AppData\\Local\\Temp\\ipykernel_19484\\104866849.py:6: LangChainDeprecationWarning: The method `BaseRetriever.get_relevant_documents` was deprecated in langchain-core 0.1.46 and will be removed in 1.0. Use :meth:`~invoke` instead.\n",
      "  docs = retriever.get_relevant_documents(query)\n"
     ]
    },
    {
     "name": "stdout",
     "output_type": "stream",
     "text": [
      "{'source': 'data\\\\1.txt'}\n",
      "Despite the extremely rapid development of effective mRNA and viral vector vaccines, worldwide vaccine equity has not been achieved. The development and use of whole inactivated virus (WIV) and protein-based vaccines have also been recommended, especially for use in developing countries.[14][15]\n",
      "\n",
      "The 2023 Nobel Prize in Physiology or Medicine was awarded to Katalin Karikó and Drew Weissman for the development of effective mRNA vaccines against COVID‑19.[16][17][18]\n",
      "\n",
      "\n",
      "Vaccine technologies\n"
     ]
    }
   ],
   "source": [
    "db = Chroma.from_documents(new_docs, embeddings)\n",
    "\n",
    "retriever = db.as_retriever(search_kwargs={\"k\": 3})\n",
    "\n",
    "query = \"why scientist was working hard for what kind of vaccines?\"\n",
    "docs = retriever.get_relevant_documents(query)\n",
    "print(docs[0].metadata)\n",
    "print(docs[0].page_content)"
   ]
  },
  {
   "cell_type": "code",
   "execution_count": 73,
   "metadata": {},
   "outputs": [
    {
     "name": "stdout",
     "output_type": "stream",
     "text": [
      "page_content='Despite the extremely rapid development of effective mRNA and viral vector vaccines, worldwide vaccine equity has not been achieved. The development and use of whole inactivated virus (WIV) and protein-based vaccines have also been recommended, especially for use in developing countries.[14][15]\n",
      "\n",
      "The 2023 Nobel Prize in Physiology or Medicine was awarded to Katalin Karikó and Drew Weissman for the development of effective mRNA vaccines against COVID‑19.[16][17][18]\n",
      "\n",
      "\n",
      "Vaccine technologies' metadata={'source': 'data\\\\1.txt'}\n",
      "page_content='Despite the extremely rapid development of effective mRNA and viral vector vaccines, worldwide vaccine equity has not been achieved. The development and use of whole inactivated virus (WIV) and protein-based vaccines have also been recommended, especially for use in developing countries.[14][15]\n",
      "\n",
      "The 2023 Nobel Prize in Physiology or Medicine was awarded to Katalin Karikó and Drew Weissman for the development of effective mRNA vaccines against COVID‑19.[16][17][18]\n",
      "\n",
      "\n",
      "Vaccine technologies' metadata={'source': 'data\\\\1.txt'}\n",
      "page_content='Knowledge about the structure and function of previous coronaviruses causing diseases like severe acute respiratory syndrome (SARS) and Middle East respiratory syndrome (MERS) accelerated the development of various vaccine platforms in early 2020.[1] In 2020, the first COVID‑19 vaccines were developed and made available to the public through emergency authorizations[2] and conditional approvals.[3][4] However, immunity from the vaccines wanes over time, requiring people to get booster doses of' metadata={'source': 'data\\\\1.txt'}\n"
     ]
    }
   ],
   "source": [
    "for doc in docs:\n",
    "    print(doc)"
   ]
  },
  {
   "cell_type": "code",
   "execution_count": 74,
   "metadata": {},
   "outputs": [],
   "source": [
    "AgentState= { } "
   ]
  },
  {
   "cell_type": "code",
   "execution_count": 75,
   "metadata": {},
   "outputs": [],
   "source": [
    "AgentState[\"messages\"]=[]"
   ]
  },
  {
   "cell_type": "code",
   "execution_count": 76,
   "metadata": {},
   "outputs": [
    {
     "data": {
      "text/plain": [
       "{'messages': []}"
      ]
     },
     "execution_count": 76,
     "metadata": {},
     "output_type": "execute_result"
    }
   ],
   "source": [
    "#manually i had created \n",
    "AgentState"
   ]
  },
  {
   "cell_type": "code",
   "execution_count": 77,
   "metadata": {},
   "outputs": [],
   "source": [
    "AgentState[\"messages\"].append(\"hi\")"
   ]
  },
  {
   "cell_type": "code",
   "execution_count": 78,
   "metadata": {},
   "outputs": [],
   "source": [
    "AgentState[\"messages\"].append(\"how are you?\")"
   ]
  },
  {
   "cell_type": "code",
   "execution_count": 79,
   "metadata": {},
   "outputs": [],
   "source": [
    "AgentState[\"messages\"].append(\"what are you doing?\")"
   ]
  },
  {
   "cell_type": "code",
   "execution_count": 80,
   "metadata": {},
   "outputs": [
    {
     "data": {
      "text/plain": [
       "{'messages': ['hi', 'how are you?', 'what are you doing?']}"
      ]
     },
     "execution_count": 80,
     "metadata": {},
     "output_type": "execute_result"
    }
   ],
   "source": [
    "# We are flowing this state across the different different nodes inside the langgraph workflow\n",
    "AgentState"
   ]
  },
  {
   "cell_type": "code",
   "execution_count": 81,
   "metadata": {},
   "outputs": [
    {
     "data": {
      "text/plain": [
       "{'messages': ['hi', 'how are you?', 'what are you doing?']}"
      ]
     },
     "execution_count": 81,
     "metadata": {},
     "output_type": "execute_result"
    }
   ],
   "source": [
    "AgentState"
   ]
  },
  {
   "cell_type": "code",
   "execution_count": null,
   "metadata": {},
   "outputs": [],
   "source": [
    "def function_1(AgentState):\n",
    "    message = AgentState[\"messages\"]\n",
    "    \n",
    "    question = message[-1] #Taking the last meaages\n",
    "    \n",
    "    complete_prompt = \"Your task is to provide only the brief answer based on the user query. \\\n",
    "        Don't include too much reasoning. Following is the user query: \" + question\n",
    "    \n",
    "    response = llm.invoke(complete_prompt)\n",
    "    \n",
    "    AgentState['messages'].append(response.content) # appending LLM call response to the AgentState\n",
    "    \n",
    "    # print(AgentState)\n",
    "    \n",
    "    return AgentState\n",
    "   \n",
    "#############################################################################################\n",
    " \n",
    "def function_2(AgentState):\n",
    "    messages = AgentState['messages']\n",
    "    \n",
    "    question = messages[0] ## Fetching the user question,taking the first message\n",
    "    \n",
    "    template = \"\"\"Answer the question based only on the following context:\n",
    "    {context}\n",
    "\n",
    "    Question: {question}\n",
    "    \"\"\"\n",
    "    prompt = ChatPromptTemplate.from_template(template)\n",
    "\n",
    "    retrieval_chain = (\n",
    "        {\"context\": retriever, \"question\": RunnablePassthrough()}\n",
    "        | prompt\n",
    "        | llm\n",
    "        | StrOutputParser()\n",
    "        )\n",
    "    result = retrieval_chain.invoke(question)\n",
    "    return result\n",
    "    "
   ]
  },
  {
   "cell_type": "code",
   "execution_count": 83,
   "metadata": {},
   "outputs": [],
   "source": [
    "workflow = Graph()\n",
    "workflow.add_node(\"LLM\", function_1)\n",
    "workflow.add_node(\"RAGtool\", function_2)\n",
    "workflow.add_edge('LLM', 'RAGtool')\n",
    "workflow.set_entry_point(\"LLM\")\n",
    "workflow.set_finish_point(\"RAGtool\")\n",
    "app2 = workflow.compile()\n"
   ]
  },
  {
   "cell_type": "code",
   "execution_count": 84,
   "metadata": {},
   "outputs": [
    {
     "data": {
      "image/png": "[encoded data removed]",
      "text/plain": [
       "<IPython.core.display.Image object>"
      ]
     },
     "metadata": {},
     "output_type": "display_data"
    }
   ],
   "source": [
    "display(Image(app2.get_graph().draw_mermaid_png())) "
   ]
  },
  {
   "cell_type": "code",
   "execution_count": 85,
   "metadata": {},
   "outputs": [
    {
     "name": "stdout",
     "output_type": "stream",
     "text": [
      "{'messages': ['What is Covid-19 virus?', 'A novel coronavirus causing a respiratory illness called COVID-19.']}\n"
     ]
    },
    {
     "data": {
      "text/plain": [
       "'Severe acute respiratory syndrome coronavirus 2 (SARS-CoV-2), the virus that causes coronavirus disease 2019 (COVID‑19).'"
      ]
     },
     "execution_count": 85,
     "metadata": {},
     "output_type": "execute_result"
    }
   ],
   "source": [
    "app2.invoke({\"messages\":[\"What is Covid-19 virus?\"]})"
   ]
  },
  {
   "cell_type": "code",
   "execution_count": 86,
   "metadata": {},
   "outputs": [
    {
     "name": "stdout",
     "output_type": "stream",
     "text": [
      "{'messages': ['What is Covid-19 virus?', 'A novel coronavirus that causes respiratory illness.']}\n",
      "here is output from LLM\n",
      "_______\n",
      "{'messages': ['What is Covid-19 virus?', 'A novel coronavirus that causes respiratory illness.']}\n",
      "\n",
      "\n",
      "here is output from RAGtool\n",
      "_______\n",
      "Severe acute respiratory syndrome coronavirus 2 (SARS-CoV-2), the virus that causes coronavirus disease 2019 (COVID‑19).\n",
      "\n",
      "\n"
     ]
    }
   ],
   "source": [
    "for output in app2.stream({\"messages\":[\"What is Covid-19 virus?\"]}):\n",
    "    for key,value in output.items():\n",
    "        print(f\"here is output from {key}\")\n",
    "        print(\"_______\")\n",
    "        print(value)\n",
    "        print(\"\\n\")"
   ]
  },
  {
   "cell_type": "code",
   "execution_count": 87,
   "metadata": {},
   "outputs": [
    {
     "name": "stdout",
     "output_type": "stream",
     "text": [
      "all ok\n"
     ]
    }
   ],
   "source": [
    "print(\"all ok\")"
   ]
  },
  {
   "cell_type": "code",
   "execution_count": 88,
   "metadata": {},
   "outputs": [],
   "source": [
    "loader = DirectoryLoader(\"data\",glob=\"./*.txt\",loader_cls=TextLoader)\n",
    "docs=loader.load()\n",
    "text_splitter=RecursiveCharacterTextSplitter(\n",
    "    chunk_size=100,\n",
    "    chunk_overlap=50\n",
    ")\n",
    "new_docs = text_splitter.split_documents(documents=docs)\n",
    "doc_strings = [doc.page_content for doc in new_docs]"
   ]
  },
  {
   "cell_type": "code",
   "execution_count": 89,
   "metadata": {},
   "outputs": [
    {
     "data": {
      "text/plain": [
       "[Document(metadata={'source': 'data\\\\1.txt'}, page_content='A COVID‑19 vaccine is a vaccine intended to provide acquired immunity against severe acute'),\n",
       " Document(metadata={'source': 'data\\\\1.txt'}, page_content='to provide acquired immunity against severe acute respiratory syndrome coronavirus 2 (SARS-CoV-2),'),\n",
       " Document(metadata={'source': 'data\\\\1.txt'}, page_content='respiratory syndrome coronavirus 2 (SARS-CoV-2), the virus that causes coronavirus disease 2019'),\n",
       " Document(metadata={'source': 'data\\\\1.txt'}, page_content='the virus that causes coronavirus disease 2019 (COVID‑19).'),\n",
       " Document(metadata={'source': 'data\\\\1.txt'}, page_content='Knowledge about the structure and function of previous coronaviruses causing diseases like severe'),\n",
       " Document(metadata={'source': 'data\\\\1.txt'}, page_content='coronaviruses causing diseases like severe acute respiratory syndrome (SARS) and Middle East'),\n",
       " Document(metadata={'source': 'data\\\\1.txt'}, page_content='acute respiratory syndrome (SARS) and Middle East respiratory syndrome (MERS) accelerated the'),\n",
       " Document(metadata={'source': 'data\\\\1.txt'}, page_content='East respiratory syndrome (MERS) accelerated the development of various vaccine platforms in early'),\n",
       " Document(metadata={'source': 'data\\\\1.txt'}, page_content='development of various vaccine platforms in early 2020.[1] In 2020, the first COVID‑19 vaccines'),\n",
       " Document(metadata={'source': 'data\\\\1.txt'}, page_content='2020.[1] In 2020, the first COVID‑19 vaccines were developed and made available to the public'),\n",
       " Document(metadata={'source': 'data\\\\1.txt'}, page_content='were developed and made available to the public through emergency authorizations[2] and conditional'),\n",
       " Document(metadata={'source': 'data\\\\1.txt'}, page_content='emergency authorizations[2] and conditional approvals.[3][4] However, immunity from the vaccines'),\n",
       " Document(metadata={'source': 'data\\\\1.txt'}, page_content='However, immunity from the vaccines wanes over time, requiring people to get booster doses of the'),\n",
       " Document(metadata={'source': 'data\\\\1.txt'}, page_content='requiring people to get booster doses of the vaccine to maintain protection against COVID‑19.[2]'),\n",
       " Document(metadata={'source': 'data\\\\1.txt'}, page_content='The COVID‑19 vaccines are widely credited for their role in reducing the spread of COVID‑19 and'),\n",
       " Document(metadata={'source': 'data\\\\1.txt'}, page_content='their role in reducing the spread of COVID‑19 and reducing the severity and death caused by'),\n",
       " Document(metadata={'source': 'data\\\\1.txt'}, page_content='and reducing the severity and death caused by COVID‑19.[2][5] Many countries implemented phased'),\n",
       " Document(metadata={'source': 'data\\\\1.txt'}, page_content='COVID‑19.[2][5] Many countries implemented phased distribution plans that prioritized those at'),\n",
       " Document(metadata={'source': 'data\\\\1.txt'}, page_content='distribution plans that prioritized those at highest risk of complications, such as the elderly,'),\n",
       " Document(metadata={'source': 'data\\\\1.txt'}, page_content='risk of complications, such as the elderly, and those at high risk of exposure and transmission,'),\n",
       " Document(metadata={'source': 'data\\\\1.txt'}, page_content='those at high risk of exposure and transmission, such as healthcare workers.[6][7]'),\n",
       " Document(metadata={'source': 'data\\\\1.txt'}, page_content='Common side effects of COVID‑19 vaccines include soreness, redness, rash, inflammation at the'),\n",
       " Document(metadata={'source': 'data\\\\1.txt'}, page_content='soreness, redness, rash, inflammation at the injection site, fatigue, headache, myalgia (muscle'),\n",
       " Document(metadata={'source': 'data\\\\1.txt'}, page_content='site, fatigue, headache, myalgia (muscle pain), and arthralgia (joint pain), which resolve without'),\n",
       " Document(metadata={'source': 'data\\\\1.txt'}, page_content='arthralgia (joint pain), which resolve without medical treatment within a few days.[8][9] COVID‑19'),\n",
       " Document(metadata={'source': 'data\\\\1.txt'}, page_content='treatment within a few days.[8][9] COVID‑19 vaccination is safe for people who are pregnant or are'),\n",
       " Document(metadata={'source': 'data\\\\1.txt'}, page_content='is safe for people who are pregnant or are breastfeeding.[10]'),\n",
       " Document(metadata={'source': 'data\\\\1.txt'}, page_content='As of August 2024, 13.72 billion doses of COVID‑19 vaccines have been administered worldwide, based'),\n",
       " Document(metadata={'source': 'data\\\\1.txt'}, page_content='vaccines have been administered worldwide, based on official reports from national public health'),\n",
       " Document(metadata={'source': 'data\\\\1.txt'}, page_content='on official reports from national public health agencies.[11] By December 2020, more than 10'),\n",
       " Document(metadata={'source': 'data\\\\1.txt'}, page_content='agencies.[11] By December 2020, more than 10 billion vaccine doses had been preordered by'),\n",
       " Document(metadata={'source': 'data\\\\1.txt'}, page_content='10 billion vaccine doses had been preordered by countries,[12] with about half of the doses'),\n",
       " Document(metadata={'source': 'data\\\\1.txt'}, page_content='by countries,[12] with about half of the doses purchased by high-income countries comprising 14% of'),\n",
       " Document(metadata={'source': 'data\\\\1.txt'}, page_content=\"by high-income countries comprising 14% of the world's population.[13]\"),\n",
       " Document(metadata={'source': 'data\\\\1.txt'}, page_content='Despite the extremely rapid development of effective mRNA and viral vector vaccines, worldwide'),\n",
       " Document(metadata={'source': 'data\\\\1.txt'}, page_content='mRNA and viral vector vaccines, worldwide vaccine equity has not been achieved. The development and'),\n",
       " Document(metadata={'source': 'data\\\\1.txt'}, page_content='equity has not been achieved. The development and use of whole inactivated virus (WIV) and'),\n",
       " Document(metadata={'source': 'data\\\\1.txt'}, page_content='and use of whole inactivated virus (WIV) and protein-based vaccines have also been recommended,'),\n",
       " Document(metadata={'source': 'data\\\\1.txt'}, page_content='vaccines have also been recommended, especially for use in developing countries.[14][15]'),\n",
       " Document(metadata={'source': 'data\\\\1.txt'}, page_content='The 2023 Nobel Prize in Physiology or Medicine was awarded to Katalin Karikó and Drew Weissman for'),\n",
       " Document(metadata={'source': 'data\\\\1.txt'}, page_content='awarded to Katalin Karikó and Drew Weissman for the development of effective mRNA vaccines against'),\n",
       " Document(metadata={'source': 'data\\\\1.txt'}, page_content='development of effective mRNA vaccines against COVID‑19.[16][17][18]'),\n",
       " Document(metadata={'source': 'data\\\\1.txt'}, page_content='Vaccine technologies'),\n",
       " Document(metadata={'source': 'data\\\\1.txt'}, page_content='A conceptual diagram showing three vaccine types for forming SARS‑CoV‑2 proteins to prompt an'),\n",
       " Document(metadata={'source': 'data\\\\1.txt'}, page_content='for forming SARS‑CoV‑2 proteins to prompt an immune response: (1) RNA vaccine; (2) subunit vaccine;'),\n",
       " Document(metadata={'source': 'data\\\\1.txt'}, page_content='response: (1) RNA vaccine; (2) subunit vaccine; (3) viral vector vaccine'),\n",
       " Document(metadata={'source': 'data\\\\1.txt'}, page_content='Vaccine platforms that are being employed for SARS-CoV-2. Whole-virus vaccines include both'),\n",
       " Document(metadata={'source': 'data\\\\1.txt'}, page_content='for SARS-CoV-2. Whole-virus vaccines include both attenuated and inactivated forms of the virus.'),\n",
       " Document(metadata={'source': 'data\\\\1.txt'}, page_content='attenuated and inactivated forms of the virus. Protein and peptide subunit vaccines are usually'),\n",
       " Document(metadata={'source': 'data\\\\1.txt'}, page_content='Protein and peptide subunit vaccines are usually combined with an adjuvant in order to enhance'),\n",
       " Document(metadata={'source': 'data\\\\1.txt'}, page_content='combined with an adjuvant in order to enhance immunogenicity. The main emphasis in SARS-CoV-2'),\n",
       " Document(metadata={'source': 'data\\\\1.txt'}, page_content='immunogenicity. The main emphasis in SARS-CoV-2 vaccine development has been on using the whole'),\n",
       " Document(metadata={'source': 'data\\\\1.txt'}, page_content='vaccine development has been on using the whole spike protein in its trimeric form, or components'),\n",
       " Document(metadata={'source': 'data\\\\1.txt'}, page_content='spike protein in its trimeric form, or components of it, such as the RBD region. Multiple'),\n",
       " Document(metadata={'source': 'data\\\\1.txt'}, page_content='of it, such as the RBD region. Multiple non-replicating viral vector vaccines have been developed,'),\n",
       " Document(metadata={'source': 'data\\\\1.txt'}, page_content='viral vector vaccines have been developed, particularly focused on adenovirus, while there has been'),\n",
       " Document(metadata={'source': 'data\\\\1.txt'}, page_content='focused on adenovirus, while there has been less emphasis on the replicating viral vector'),\n",
       " Document(metadata={'source': 'data\\\\1.txt'}, page_content='less emphasis on the replicating viral vector constructs.[38]'),\n",
       " Document(metadata={'source': 'data\\\\1.txt'}, page_content='The initial focus of SARS-CoV-2 vaccines was on preventing symptomatic, often severe, illness.[39]'),\n",
       " Document(metadata={'source': 'data\\\\1.txt'}, page_content='symptomatic, often severe, illness.[39] Most of the first COVID‑19 vaccines were two-dose vaccines,'),\n",
       " Document(metadata={'source': 'data\\\\1.txt'}, page_content='first COVID‑19 vaccines were two-dose vaccines, with the exception single-dose vaccines'),\n",
       " Document(metadata={'source': 'data\\\\1.txt'}, page_content='vaccines, with the exception single-dose vaccines Convidecia[40] and the Janssen COVID‑19'),\n",
       " Document(metadata={'source': 'data\\\\1.txt'}, page_content='vaccines Convidecia[40] and the Janssen COVID‑19 vaccine,[2] and vaccines with three-dose'),\n",
       " Document(metadata={'source': 'data\\\\1.txt'}, page_content='COVID‑19 vaccine,[2] and vaccines with three-dose schedules, Razi Cov Pars[41] and Soberana.[42]'),\n",
       " Document(metadata={'source': 'data\\\\1.txt'}, page_content='As of July 2021, at least nine different technology platforms were under research and development'),\n",
       " Document(metadata={'source': 'data\\\\1.txt'}, page_content='platforms were under research and development to create an effective vaccine against'),\n",
       " Document(metadata={'source': 'data\\\\1.txt'}, page_content='to create an effective vaccine against COVID‑19.[43][44] Most of the platforms of vaccine'),\n",
       " Document(metadata={'source': 'data\\\\1.txt'}, page_content='Most of the platforms of vaccine candidates in clinical trials are focused on the coronavirus spike'),\n",
       " Document(metadata={'source': 'data\\\\1.txt'}, page_content='trials are focused on the coronavirus spike protein (S protein) and its variants as the primary'),\n",
       " Document(metadata={'source': 'data\\\\1.txt'}, page_content='(S protein) and its variants as the primary antigen of COVID‑19 infection,[43] since the S protein'),\n",
       " Document(metadata={'source': 'data\\\\1.txt'}, page_content='of COVID‑19 infection,[43] since the S protein triggers strong B-cell and T-cell immune'),\n",
       " Document(metadata={'source': 'data\\\\1.txt'}, page_content='protein triggers strong B-cell and T-cell immune responses.[45][46] However, other coronavirus'),\n",
       " Document(metadata={'source': 'data\\\\1.txt'}, page_content='responses.[45][46] However, other coronavirus proteins are also being investigated for vaccine'),\n",
       " Document(metadata={'source': 'data\\\\1.txt'}, page_content='proteins are also being investigated for vaccine development, like the nucleocapsid, because they'),\n",
       " Document(metadata={'source': 'data\\\\1.txt'}, page_content='development, like the nucleocapsid, because they also induce a robust T-cell response and their'),\n",
       " Document(metadata={'source': 'data\\\\1.txt'}, page_content='also induce a robust T-cell response and their genes are more conserved and recombine less'),\n",
       " Document(metadata={'source': 'data\\\\1.txt'}, page_content='their genes are more conserved and recombine less frequently.[46][47][48] Future generations of'),\n",
       " Document(metadata={'source': 'data\\\\1.txt'}, page_content='frequently.[46][47][48] Future generations of COVID‑19 vaccines targeting more conserved genomic'),\n",
       " Document(metadata={'source': 'data\\\\1.txt'}, page_content='vaccines targeting more conserved genomic regions could be used to treat future variations of'),\n",
       " Document(metadata={'source': 'data\\\\1.txt'}, page_content='could be used to treat future variations of SARS-CoV-2, or any similar coronavirus'),\n",
       " Document(metadata={'source': 'data\\\\1.txt'}, page_content='of SARS-CoV-2, or any similar coronavirus epidemic/pandemic.[49]'),\n",
       " Document(metadata={'source': 'data\\\\1.txt'}, page_content='Platforms developed in 2020 involved nucleic acid technologies (nucleoside-modified messenger RNA'),\n",
       " Document(metadata={'source': 'data\\\\1.txt'}, page_content='technologies (nucleoside-modified messenger RNA and DNA), non-replicating viral vectors, peptides,'),\n",
       " Document(metadata={'source': 'data\\\\1.txt'}, page_content='DNA), non-replicating viral vectors, peptides, recombinant proteins, live attenuated viruses, and'),\n",
       " Document(metadata={'source': 'data\\\\1.txt'}, page_content='proteins, live attenuated viruses, and inactivated viruses.[19][43][50][51]'),\n",
       " Document(metadata={'source': 'data\\\\1.txt'}, page_content='Many vaccine technologies being developed for COVID‑19 use \"next-generation\" strategies for precise'),\n",
       " Document(metadata={'source': 'data\\\\1.txt'}, page_content='use \"next-generation\" strategies for precise targeting of COVID‑19 infection'),\n",
       " Document(metadata={'source': 'data\\\\1.txt'}, page_content='for precise targeting of COVID‑19 infection mechanisms.[43][50][51] Several of the synthetic'),\n",
       " Document(metadata={'source': 'data\\\\1.txt'}, page_content='mechanisms.[43][50][51] Several of the synthetic vaccines use a 2P mutation to lock the spike'),\n",
       " Document(metadata={'source': 'data\\\\1.txt'}, page_content='vaccines use a 2P mutation to lock the spike protein into its prefusion configuration, stimulating'),\n",
       " Document(metadata={'source': 'data\\\\1.txt'}, page_content='into its prefusion configuration, stimulating an adaptive immune response to the virus before it'),\n",
       " Document(metadata={'source': 'data\\\\1.txt'}, page_content='adaptive immune response to the virus before it attaches to a human cell.[52] Vaccine platforms in'),\n",
       " Document(metadata={'source': 'data\\\\1.txt'}, page_content='to a human cell.[52] Vaccine platforms in development may improve flexibility for antigen'),\n",
       " Document(metadata={'source': 'data\\\\1.txt'}, page_content='development may improve flexibility for antigen manipulation and effectiveness for targeting'),\n",
       " Document(metadata={'source': 'data\\\\1.txt'}, page_content='manipulation and effectiveness for targeting mechanisms of COVID‑19 infection in susceptible'),\n",
       " Document(metadata={'source': 'data\\\\1.txt'}, page_content='mechanisms of COVID‑19 infection in susceptible population subgroups, such as healthcare workers,'),\n",
       " Document(metadata={'source': 'data\\\\1.txt'}, page_content='population subgroups, such as healthcare workers, the elderly, children, pregnant women, and people'),\n",
       " Document(metadata={'source': 'data\\\\1.txt'}, page_content='the elderly, children, pregnant women, and people with weakened immune systems.[43][50]'),\n",
       " Document(metadata={'source': 'data\\\\Test_file.txt'}, page_content='What is a vector database?'),\n",
       " Document(metadata={'source': 'data\\\\Test_file.txt'}, page_content='A vector database stores, manages and indexes high-dimensional vector data. Data points are stored'),\n",
       " Document(metadata={'source': 'data\\\\Test_file.txt'}, page_content='vector data. Data points are stored as arrays of numbers called “vectors,” which are clustered'),\n",
       " Document(metadata={'source': 'data\\\\Test_file.txt'}, page_content='of numbers called “vectors,” which are clustered based on similarity. This design enables'),\n",
       " Document(metadata={'source': 'data\\\\Test_file.txt'}, page_content='based on similarity. This design enables low-latency queries, making it ideal for AI applications.'),\n",
       " Document(metadata={'source': 'data\\\\Test_file.txt'}, page_content='Vector databases are growing in popularity because they deliver the speed and performance needed to'),\n",
       " Document(metadata={'source': 'data\\\\Test_file.txt'}, page_content='they deliver the speed and performance needed to drive generative artificial intelligence (AI) use'),\n",
       " Document(metadata={'source': 'data\\\\Test_file.txt'}, page_content='drive generative artificial intelligence (AI) use cases and applications. According to Gartner®, by'),\n",
       " Document(metadata={'source': 'data\\\\Test_file.txt'}, page_content='cases and applications. According to Gartner®, by 2026, more than 30% of enterprises will have'),\n",
       " Document(metadata={'source': 'data\\\\Test_file.txt'}, page_content='by 2026, more than 30% of enterprises will have adopted vector databases to build their foundation'),\n",
       " Document(metadata={'source': 'data\\\\Test_file.txt'}, page_content='vector databases to build their foundation models with relevant business data.1'),\n",
       " Document(metadata={'source': 'data\\\\Test_file.txt'}, page_content='Vector databases versus traditional databases'),\n",
       " Document(metadata={'source': 'data\\\\Test_file.txt'}, page_content='Unlike traditional relational databases with rows and columns, data points in a vector database are'),\n",
       " Document(metadata={'source': 'data\\\\Test_file.txt'}, page_content='and columns, data points in a vector database are represented by vectors with a fixed number of'),\n",
       " Document(metadata={'source': 'data\\\\Test_file.txt'}, page_content='are represented by vectors with a fixed number of dimensions. Because they use high-dimensional'),\n",
       " Document(metadata={'source': 'data\\\\Test_file.txt'}, page_content='of dimensions. Because they use high-dimensional vector embeddings, vector databases are better'),\n",
       " Document(metadata={'source': 'data\\\\Test_file.txt'}, page_content='vector embeddings, vector databases are better able to handle unstructured datasets.'),\n",
       " Document(metadata={'source': 'data\\\\Test_file.txt'}, page_content=\"The nature of data has undergone a profound transformation. It's no longer confined to structured\"),\n",
       " Document(metadata={'source': 'data\\\\Test_file.txt'}, page_content=\"It's no longer confined to structured information easily stored in traditional databases.\"),\n",
       " Document(metadata={'source': 'data\\\\Test_file.txt'}, page_content='easily stored in traditional databases. Unstructured data—including social media posts, images,'),\n",
       " Document(metadata={'source': 'data\\\\Test_file.txt'}, page_content='data—including social media posts, images, videos, audio clips and more—is growing 30% to 60% year'),\n",
       " Document(metadata={'source': 'data\\\\Test_file.txt'}, page_content='audio clips and more—is growing 30% to 60% year over year.2'),\n",
       " Document(metadata={'source': 'data\\\\Test_file.txt'}, page_content='Relational databases excel at managing structured and semistructured datasets in specific formats.'),\n",
       " Document(metadata={'source': 'data\\\\Test_file.txt'}, page_content='and semistructured datasets in specific formats. Loading unstructured data sources into a'),\n",
       " Document(metadata={'source': 'data\\\\Test_file.txt'}, page_content='formats. Loading unstructured data sources into a traditional relational database to store, manage'),\n",
       " Document(metadata={'source': 'data\\\\Test_file.txt'}, page_content='traditional relational database to store, manage and prepare the data for artificial intelligence'),\n",
       " Document(metadata={'source': 'data\\\\Test_file.txt'}, page_content='and prepare the data for artificial intelligence (AI) is a labor-intensive process, especially with'),\n",
       " Document(metadata={'source': 'data\\\\Test_file.txt'}, page_content='is a labor-intensive process, especially with new generative use cases such as similarity search.'),\n",
       " Document(metadata={'source': 'data\\\\Test_file.txt'}, page_content='Traditional search typically represents data by using discrete tokens or features, such as'),\n",
       " Document(metadata={'source': 'data\\\\Test_file.txt'}, page_content='by using discrete tokens or features, such as keywords, tags or metadata. Traditional searches rely'),\n",
       " Document(metadata={'source': 'data\\\\Test_file.txt'}, page_content='tags or metadata. Traditional searches rely on exact matches to retrieve relevant results. For'),\n",
       " Document(metadata={'source': 'data\\\\Test_file.txt'}, page_content='exact matches to retrieve relevant results. For example, a search for \"smartphone\" would return'),\n",
       " Document(metadata={'source': 'data\\\\Test_file.txt'}, page_content='example, a search for \"smartphone\" would return results containing the word \"smartphone.\"'),\n",
       " Document(metadata={'source': 'data\\\\Test_file.txt'}, page_content='Opposed to this, vector search represents data as dense vectors, which are vectors with most or all'),\n",
       " Document(metadata={'source': 'data\\\\Test_file.txt'}, page_content='dense vectors, which are vectors with most or all elements being nonzero. Vectors are represented'),\n",
       " Document(metadata={'source': 'data\\\\Test_file.txt'}, page_content='elements being nonzero. Vectors are represented in a continuous vector space, the mathematical'),\n",
       " Document(metadata={'source': 'data\\\\Test_file.txt'}, page_content='in a continuous vector space, the mathematical space in which data is represented as vectors.'),\n",
       " Document(metadata={'source': 'data\\\\Test_file.txt'}, page_content='Vector representations enable similarity search. For example, a vector search for “smartphone”'),\n",
       " Document(metadata={'source': 'data\\\\Test_file.txt'}, page_content='For example, a vector search for “smartphone” might also return results for “cellphone” and “mobile'),\n",
       " Document(metadata={'source': 'data\\\\Test_file.txt'}, page_content='also return results for “cellphone” and “mobile devices.”'),\n",
       " Document(metadata={'source': 'data\\\\Test_file.txt'}, page_content='Each dimension of the dense vector corresponds to a latent feature or aspect of the data. A latent'),\n",
       " Document(metadata={'source': 'data\\\\Test_file.txt'}, page_content='a latent feature or aspect of the data. A latent feature is an underlying characteristic or'),\n",
       " Document(metadata={'source': 'data\\\\Test_file.txt'}, page_content='latent feature is an underlying characteristic or attribute that is not directly observed but'),\n",
       " Document(metadata={'source': 'data\\\\Test_file.txt'}, page_content='or attribute that is not directly observed but inferred from the data through mathematical models'),\n",
       " Document(metadata={'source': 'data\\\\Test_file.txt'}, page_content='from the data through mathematical models or algorithms.'),\n",
       " Document(metadata={'source': 'data\\\\Test_file.txt'}, page_content='Latent features capture the hidden patterns and relationships in the data, enabling more meaningful'),\n",
       " Document(metadata={'source': 'data\\\\Test_file.txt'}, page_content='in the data, enabling more meaningful and accurate representations of items as vectors in a'),\n",
       " Document(metadata={'source': 'data\\\\Test_file.txt'}, page_content='accurate representations of items as vectors in a high-dimensional space.'),\n",
       " Document(metadata={'source': 'data\\\\Test_file.txt'}, page_content='What are vectors?'),\n",
       " Document(metadata={'source': 'data\\\\Test_file.txt'}, page_content='Vectors are a subset of tensors, which in machine learning (ML) is a generic term for a group of'),\n",
       " Document(metadata={'source': 'data\\\\Test_file.txt'}, page_content='learning (ML) is a generic term for a group of numbers—or a grouping of groups of numbers—in'),\n",
       " Document(metadata={'source': 'data\\\\Test_file.txt'}, page_content='of numbers—or a grouping of groups of numbers—in n-dimensional space. Tensors function as a'),\n",
       " Document(metadata={'source': 'data\\\\Test_file.txt'}, page_content='n-dimensional space. Tensors function as a mathematical bookkeeping device for data. Working up'),\n",
       " Document(metadata={'source': 'data\\\\Test_file.txt'}, page_content='bookkeeping device for data. Working up from the smallest element:'),\n",
       " Document(metadata={'source': 'data\\\\Test_file.txt'}, page_content='A scalar is a zero-dimensional tensor, containing a single number. For example, a system modeling'),\n",
       " Document(metadata={'source': 'data\\\\Test_file.txt'}, page_content='a single number. For example, a system modeling weather data might represent a single day’s high'),\n",
       " Document(metadata={'source': 'data\\\\Test_file.txt'}, page_content='weather data might represent a single day’s high temperature (in Fahrenheit) in scalar form as 85.'),\n",
       " Document(metadata={'source': 'data\\\\Test_file.txt'}, page_content='Then, a vector is a one-dimensional (or first-degree or first-order) tensor, containing multiple'),\n",
       " Document(metadata={'source': 'data\\\\Test_file.txt'}, page_content='or first-order) tensor, containing multiple scalars of the same type of data. For example, a'),\n",
       " Document(metadata={'source': 'data\\\\Test_file.txt'}, page_content='scalars of the same type of data. For example, a weather model might use the low, mean and high'),\n",
       " Document(metadata={'source': 'data\\\\Test_file.txt'}, page_content='a weather model might use the low, mean and high temperatures for a single day in vector form: 62,'),\n",
       " Document(metadata={'source': 'data\\\\Test_file.txt'}, page_content='temperatures for a single day in vector form: 62, 77, 85. Each scalar component is a feature—that'),\n",
       " Document(metadata={'source': 'data\\\\Test_file.txt'}, page_content='77, 85. Each scalar component is a feature—that is, a dimension—of the vector, representing a'),\n",
       " Document(metadata={'source': 'data\\\\Test_file.txt'}, page_content='is, a dimension—of the vector, representing a feature of that day’s weather.'),\n",
       " Document(metadata={'source': 'data\\\\Test_file.txt'}, page_content='Vector numbers can represent complex objects such as words, images, videos and audio generated by'),\n",
       " Document(metadata={'source': 'data\\\\Test_file.txt'}, page_content='as words, images, videos and audio generated by an ML model. This high-dimensional vector data,'),\n",
       " Document(metadata={'source': 'data\\\\Test_file.txt'}, page_content='an ML model. This high-dimensional vector data, containing multiple features, is essential to'),\n",
       " Document(metadata={'source': 'data\\\\Test_file.txt'}, page_content='containing multiple features, is essential to machine learning, natural language processing (NLP)'),\n",
       " Document(metadata={'source': 'data\\\\Test_file.txt'}, page_content='learning, natural language processing (NLP) and other AI tasks. Some example uses of vector data'),\n",
       " Document(metadata={'source': 'data\\\\Test_file.txt'}, page_content='other AI tasks. Some example uses of vector data include:'),\n",
       " Document(metadata={'source': 'data\\\\Test_file.txt'}, page_content='Text: Chatbots need to understand natural language. They do this by relying on vectors that'),\n",
       " Document(metadata={'source': 'data\\\\Test_file.txt'}, page_content='language. They do this by relying on vectors that represent words, paragraphs and entire documents.'),\n",
       " Document(metadata={'source': 'data\\\\Test_file.txt'}, page_content='Images: Image pixels can be described by numerical data and combined to make up a high-dimensional'),\n",
       " Document(metadata={'source': 'data\\\\Test_file.txt'}, page_content='data and combined to make up a high-dimensional vector for that image.'),\n",
       " Document(metadata={'source': 'data\\\\Test_file.txt'}, page_content='Speech or audio: Like images, sound waves can also be broken into numerical data and represented as'),\n",
       " Document(metadata={'source': 'data\\\\Test_file.txt'}, page_content='be broken into numerical data and represented as vectors, enabling AI applications such as voice'),\n",
       " Document(metadata={'source': 'data\\\\Test_file.txt'}, page_content='vectors, enabling AI applications such as voice recognition.')]"
      ]
     },
     "execution_count": 89,
     "metadata": {},
     "output_type": "execute_result"
    }
   ],
   "source": [
    "new_docs"
   ]
  },
  {
   "cell_type": "code",
   "execution_count": 91,
   "metadata": {},
   "outputs": [
    {
     "data": {
      "text/plain": [
       "['A COVID‑19 vaccine is a vaccine intended to provide acquired immunity against severe acute',\n",
       " 'to provide acquired immunity against severe acute respiratory syndrome coronavirus 2 (SARS-CoV-2),',\n",
       " 'respiratory syndrome coronavirus 2 (SARS-CoV-2), the virus that causes coronavirus disease 2019',\n",
       " 'the virus that causes coronavirus disease 2019 (COVID‑19).',\n",
       " 'Knowledge about the structure and function of previous coronaviruses causing diseases like severe',\n",
       " 'coronaviruses causing diseases like severe acute respiratory syndrome (SARS) and Middle East',\n",
       " 'acute respiratory syndrome (SARS) and Middle East respiratory syndrome (MERS) accelerated the',\n",
       " 'East respiratory syndrome (MERS) accelerated the development of various vaccine platforms in early',\n",
       " 'development of various vaccine platforms in early 2020.[1] In 2020, the first COVID‑19 vaccines',\n",
       " '2020.[1] In 2020, the first COVID‑19 vaccines were developed and made available to the public',\n",
       " 'were developed and made available to the public through emergency authorizations[2] and conditional',\n",
       " 'emergency authorizations[2] and conditional approvals.[3][4] However, immunity from the vaccines',\n",
       " 'However, immunity from the vaccines wanes over time, requiring people to get booster doses of the',\n",
       " 'requiring people to get booster doses of the vaccine to maintain protection against COVID‑19.[2]',\n",
       " 'The COVID‑19 vaccines are widely credited for their role in reducing the spread of COVID‑19 and',\n",
       " 'their role in reducing the spread of COVID‑19 and reducing the severity and death caused by',\n",
       " 'and reducing the severity and death caused by COVID‑19.[2][5] Many countries implemented phased',\n",
       " 'COVID‑19.[2][5] Many countries implemented phased distribution plans that prioritized those at',\n",
       " 'distribution plans that prioritized those at highest risk of complications, such as the elderly,',\n",
       " 'risk of complications, such as the elderly, and those at high risk of exposure and transmission,',\n",
       " 'those at high risk of exposure and transmission, such as healthcare workers.[6][7]',\n",
       " 'Common side effects of COVID‑19 vaccines include soreness, redness, rash, inflammation at the',\n",
       " 'soreness, redness, rash, inflammation at the injection site, fatigue, headache, myalgia (muscle',\n",
       " 'site, fatigue, headache, myalgia (muscle pain), and arthralgia (joint pain), which resolve without',\n",
       " 'arthralgia (joint pain), which resolve without medical treatment within a few days.[8][9] COVID‑19',\n",
       " 'treatment within a few days.[8][9] COVID‑19 vaccination is safe for people who are pregnant or are',\n",
       " 'is safe for people who are pregnant or are breastfeeding.[10]',\n",
       " 'As of August 2024, 13.72 billion doses of COVID‑19 vaccines have been administered worldwide, based',\n",
       " 'vaccines have been administered worldwide, based on official reports from national public health',\n",
       " 'on official reports from national public health agencies.[11] By December 2020, more than 10',\n",
       " 'agencies.[11] By December 2020, more than 10 billion vaccine doses had been preordered by',\n",
       " '10 billion vaccine doses had been preordered by countries,[12] with about half of the doses',\n",
       " 'by countries,[12] with about half of the doses purchased by high-income countries comprising 14% of',\n",
       " \"by high-income countries comprising 14% of the world's population.[13]\",\n",
       " 'Despite the extremely rapid development of effective mRNA and viral vector vaccines, worldwide',\n",
       " 'mRNA and viral vector vaccines, worldwide vaccine equity has not been achieved. The development and',\n",
       " 'equity has not been achieved. The development and use of whole inactivated virus (WIV) and',\n",
       " 'and use of whole inactivated virus (WIV) and protein-based vaccines have also been recommended,',\n",
       " 'vaccines have also been recommended, especially for use in developing countries.[14][15]',\n",
       " 'The 2023 Nobel Prize in Physiology or Medicine was awarded to Katalin Karikó and Drew Weissman for',\n",
       " 'awarded to Katalin Karikó and Drew Weissman for the development of effective mRNA vaccines against',\n",
       " 'development of effective mRNA vaccines against COVID‑19.[16][17][18]',\n",
       " 'Vaccine technologies',\n",
       " 'A conceptual diagram showing three vaccine types for forming SARS‑CoV‑2 proteins to prompt an',\n",
       " 'for forming SARS‑CoV‑2 proteins to prompt an immune response: (1) RNA vaccine; (2) subunit vaccine;',\n",
       " 'response: (1) RNA vaccine; (2) subunit vaccine; (3) viral vector vaccine',\n",
       " 'Vaccine platforms that are being employed for SARS-CoV-2. Whole-virus vaccines include both',\n",
       " 'for SARS-CoV-2. Whole-virus vaccines include both attenuated and inactivated forms of the virus.',\n",
       " 'attenuated and inactivated forms of the virus. Protein and peptide subunit vaccines are usually',\n",
       " 'Protein and peptide subunit vaccines are usually combined with an adjuvant in order to enhance',\n",
       " 'combined with an adjuvant in order to enhance immunogenicity. The main emphasis in SARS-CoV-2',\n",
       " 'immunogenicity. The main emphasis in SARS-CoV-2 vaccine development has been on using the whole',\n",
       " 'vaccine development has been on using the whole spike protein in its trimeric form, or components',\n",
       " 'spike protein in its trimeric form, or components of it, such as the RBD region. Multiple',\n",
       " 'of it, such as the RBD region. Multiple non-replicating viral vector vaccines have been developed,',\n",
       " 'viral vector vaccines have been developed, particularly focused on adenovirus, while there has been',\n",
       " 'focused on adenovirus, while there has been less emphasis on the replicating viral vector',\n",
       " 'less emphasis on the replicating viral vector constructs.[38]',\n",
       " 'The initial focus of SARS-CoV-2 vaccines was on preventing symptomatic, often severe, illness.[39]',\n",
       " 'symptomatic, often severe, illness.[39] Most of the first COVID‑19 vaccines were two-dose vaccines,',\n",
       " 'first COVID‑19 vaccines were two-dose vaccines, with the exception single-dose vaccines',\n",
       " 'vaccines, with the exception single-dose vaccines Convidecia[40] and the Janssen COVID‑19',\n",
       " 'vaccines Convidecia[40] and the Janssen COVID‑19 vaccine,[2] and vaccines with three-dose',\n",
       " 'COVID‑19 vaccine,[2] and vaccines with three-dose schedules, Razi Cov Pars[41] and Soberana.[42]',\n",
       " 'As of July 2021, at least nine different technology platforms were under research and development',\n",
       " 'platforms were under research and development to create an effective vaccine against',\n",
       " 'to create an effective vaccine against COVID‑19.[43][44] Most of the platforms of vaccine',\n",
       " 'Most of the platforms of vaccine candidates in clinical trials are focused on the coronavirus spike',\n",
       " 'trials are focused on the coronavirus spike protein (S protein) and its variants as the primary',\n",
       " '(S protein) and its variants as the primary antigen of COVID‑19 infection,[43] since the S protein',\n",
       " 'of COVID‑19 infection,[43] since the S protein triggers strong B-cell and T-cell immune',\n",
       " 'protein triggers strong B-cell and T-cell immune responses.[45][46] However, other coronavirus',\n",
       " 'responses.[45][46] However, other coronavirus proteins are also being investigated for vaccine',\n",
       " 'proteins are also being investigated for vaccine development, like the nucleocapsid, because they',\n",
       " 'development, like the nucleocapsid, because they also induce a robust T-cell response and their',\n",
       " 'also induce a robust T-cell response and their genes are more conserved and recombine less',\n",
       " 'their genes are more conserved and recombine less frequently.[46][47][48] Future generations of',\n",
       " 'frequently.[46][47][48] Future generations of COVID‑19 vaccines targeting more conserved genomic',\n",
       " 'vaccines targeting more conserved genomic regions could be used to treat future variations of',\n",
       " 'could be used to treat future variations of SARS-CoV-2, or any similar coronavirus',\n",
       " 'of SARS-CoV-2, or any similar coronavirus epidemic/pandemic.[49]',\n",
       " 'Platforms developed in 2020 involved nucleic acid technologies (nucleoside-modified messenger RNA',\n",
       " 'technologies (nucleoside-modified messenger RNA and DNA), non-replicating viral vectors, peptides,',\n",
       " 'DNA), non-replicating viral vectors, peptides, recombinant proteins, live attenuated viruses, and',\n",
       " 'proteins, live attenuated viruses, and inactivated viruses.[19][43][50][51]',\n",
       " 'Many vaccine technologies being developed for COVID‑19 use \"next-generation\" strategies for precise',\n",
       " 'use \"next-generation\" strategies for precise targeting of COVID‑19 infection',\n",
       " 'for precise targeting of COVID‑19 infection mechanisms.[43][50][51] Several of the synthetic',\n",
       " 'mechanisms.[43][50][51] Several of the synthetic vaccines use a 2P mutation to lock the spike',\n",
       " 'vaccines use a 2P mutation to lock the spike protein into its prefusion configuration, stimulating',\n",
       " 'into its prefusion configuration, stimulating an adaptive immune response to the virus before it',\n",
       " 'adaptive immune response to the virus before it attaches to a human cell.[52] Vaccine platforms in',\n",
       " 'to a human cell.[52] Vaccine platforms in development may improve flexibility for antigen',\n",
       " 'development may improve flexibility for antigen manipulation and effectiveness for targeting',\n",
       " 'manipulation and effectiveness for targeting mechanisms of COVID‑19 infection in susceptible',\n",
       " 'mechanisms of COVID‑19 infection in susceptible population subgroups, such as healthcare workers,',\n",
       " 'population subgroups, such as healthcare workers, the elderly, children, pregnant women, and people',\n",
       " 'the elderly, children, pregnant women, and people with weakened immune systems.[43][50]',\n",
       " 'What is a vector database?',\n",
       " 'A vector database stores, manages and indexes high-dimensional vector data. Data points are stored',\n",
       " 'vector data. Data points are stored as arrays of numbers called “vectors,” which are clustered',\n",
       " 'of numbers called “vectors,” which are clustered based on similarity. This design enables',\n",
       " 'based on similarity. This design enables low-latency queries, making it ideal for AI applications.',\n",
       " 'Vector databases are growing in popularity because they deliver the speed and performance needed to',\n",
       " 'they deliver the speed and performance needed to drive generative artificial intelligence (AI) use',\n",
       " 'drive generative artificial intelligence (AI) use cases and applications. According to Gartner®, by',\n",
       " 'cases and applications. According to Gartner®, by 2026, more than 30% of enterprises will have',\n",
       " 'by 2026, more than 30% of enterprises will have adopted vector databases to build their foundation',\n",
       " 'vector databases to build their foundation models with relevant business data.1',\n",
       " 'Vector databases versus traditional databases',\n",
       " 'Unlike traditional relational databases with rows and columns, data points in a vector database are',\n",
       " 'and columns, data points in a vector database are represented by vectors with a fixed number of',\n",
       " 'are represented by vectors with a fixed number of dimensions. Because they use high-dimensional',\n",
       " 'of dimensions. Because they use high-dimensional vector embeddings, vector databases are better',\n",
       " 'vector embeddings, vector databases are better able to handle unstructured datasets.',\n",
       " \"The nature of data has undergone a profound transformation. It's no longer confined to structured\",\n",
       " \"It's no longer confined to structured information easily stored in traditional databases.\",\n",
       " 'easily stored in traditional databases. Unstructured data—including social media posts, images,',\n",
       " 'data—including social media posts, images, videos, audio clips and more—is growing 30% to 60% year',\n",
       " 'audio clips and more—is growing 30% to 60% year over year.2',\n",
       " 'Relational databases excel at managing structured and semistructured datasets in specific formats.',\n",
       " 'and semistructured datasets in specific formats. Loading unstructured data sources into a',\n",
       " 'formats. Loading unstructured data sources into a traditional relational database to store, manage',\n",
       " 'traditional relational database to store, manage and prepare the data for artificial intelligence',\n",
       " 'and prepare the data for artificial intelligence (AI) is a labor-intensive process, especially with',\n",
       " 'is a labor-intensive process, especially with new generative use cases such as similarity search.',\n",
       " 'Traditional search typically represents data by using discrete tokens or features, such as',\n",
       " 'by using discrete tokens or features, such as keywords, tags or metadata. Traditional searches rely',\n",
       " 'tags or metadata. Traditional searches rely on exact matches to retrieve relevant results. For',\n",
       " 'exact matches to retrieve relevant results. For example, a search for \"smartphone\" would return',\n",
       " 'example, a search for \"smartphone\" would return results containing the word \"smartphone.\"',\n",
       " 'Opposed to this, vector search represents data as dense vectors, which are vectors with most or all',\n",
       " 'dense vectors, which are vectors with most or all elements being nonzero. Vectors are represented',\n",
       " 'elements being nonzero. Vectors are represented in a continuous vector space, the mathematical',\n",
       " 'in a continuous vector space, the mathematical space in which data is represented as vectors.',\n",
       " 'Vector representations enable similarity search. For example, a vector search for “smartphone”',\n",
       " 'For example, a vector search for “smartphone” might also return results for “cellphone” and “mobile',\n",
       " 'also return results for “cellphone” and “mobile devices.”',\n",
       " 'Each dimension of the dense vector corresponds to a latent feature or aspect of the data. A latent',\n",
       " 'a latent feature or aspect of the data. A latent feature is an underlying characteristic or',\n",
       " 'latent feature is an underlying characteristic or attribute that is not directly observed but',\n",
       " 'or attribute that is not directly observed but inferred from the data through mathematical models',\n",
       " 'from the data through mathematical models or algorithms.',\n",
       " 'Latent features capture the hidden patterns and relationships in the data, enabling more meaningful',\n",
       " 'in the data, enabling more meaningful and accurate representations of items as vectors in a',\n",
       " 'accurate representations of items as vectors in a high-dimensional space.',\n",
       " 'What are vectors?',\n",
       " 'Vectors are a subset of tensors, which in machine learning (ML) is a generic term for a group of',\n",
       " 'learning (ML) is a generic term for a group of numbers—or a grouping of groups of numbers—in',\n",
       " 'of numbers—or a grouping of groups of numbers—in n-dimensional space. Tensors function as a',\n",
       " 'n-dimensional space. Tensors function as a mathematical bookkeeping device for data. Working up',\n",
       " 'bookkeeping device for data. Working up from the smallest element:',\n",
       " 'A scalar is a zero-dimensional tensor, containing a single number. For example, a system modeling',\n",
       " 'a single number. For example, a system modeling weather data might represent a single day’s high',\n",
       " 'weather data might represent a single day’s high temperature (in Fahrenheit) in scalar form as 85.',\n",
       " 'Then, a vector is a one-dimensional (or first-degree or first-order) tensor, containing multiple',\n",
       " 'or first-order) tensor, containing multiple scalars of the same type of data. For example, a',\n",
       " 'scalars of the same type of data. For example, a weather model might use the low, mean and high',\n",
       " 'a weather model might use the low, mean and high temperatures for a single day in vector form: 62,',\n",
       " 'temperatures for a single day in vector form: 62, 77, 85. Each scalar component is a feature—that',\n",
       " '77, 85. Each scalar component is a feature—that is, a dimension—of the vector, representing a',\n",
       " 'is, a dimension—of the vector, representing a feature of that day’s weather.',\n",
       " 'Vector numbers can represent complex objects such as words, images, videos and audio generated by',\n",
       " 'as words, images, videos and audio generated by an ML model. This high-dimensional vector data,',\n",
       " 'an ML model. This high-dimensional vector data, containing multiple features, is essential to',\n",
       " 'containing multiple features, is essential to machine learning, natural language processing (NLP)',\n",
       " 'learning, natural language processing (NLP) and other AI tasks. Some example uses of vector data',\n",
       " 'other AI tasks. Some example uses of vector data include:',\n",
       " 'Text: Chatbots need to understand natural language. They do this by relying on vectors that',\n",
       " 'language. They do this by relying on vectors that represent words, paragraphs and entire documents.',\n",
       " 'Images: Image pixels can be described by numerical data and combined to make up a high-dimensional',\n",
       " 'data and combined to make up a high-dimensional vector for that image.',\n",
       " 'Speech or audio: Like images, sound waves can also be broken into numerical data and represented as',\n",
       " 'be broken into numerical data and represented as vectors, enabling AI applications such as voice',\n",
       " 'vectors, enabling AI applications such as voice recognition.']"
      ]
     },
     "execution_count": 91,
     "metadata": {},
     "output_type": "execute_result"
    }
   ],
   "source": [
    "doc_strings"
   ]
  },
  {
   "cell_type": "code",
   "execution_count": 1,
   "metadata": {},
   "outputs": [
    {
     "ename": "NameError",
     "evalue": "name 'Chroma' is not defined",
     "output_type": "error",
     "traceback": [
      "\u001b[31m---------------------------------------------------------------------------\u001b[39m",
      "\u001b[31mNameError\u001b[39m                                 Traceback (most recent call last)",
      "\u001b[36mCell\u001b[39m\u001b[36m \u001b[39m\u001b[32mIn[1]\u001b[39m\u001b[32m, line 1\u001b[39m\n\u001b[32m----> \u001b[39m\u001b[32m1\u001b[39m db = \u001b[43mChroma\u001b[49m.from_documents(new_docs, embeddings)\n\u001b[32m      3\u001b[39m retriever = db.as_retriever(search_kwargs={\u001b[33m\"\u001b[39m\u001b[33mk\u001b[39m\u001b[33m\"\u001b[39m: \u001b[32m3\u001b[39m})\n",
      "\u001b[31mNameError\u001b[39m: name 'Chroma' is not defined"
     ]
    }
   ],
   "source": [
    "db = Chroma.from_documents(new_docs, embeddings)\n",
    "\n",
    "retriever = db.as_retriever(search_kwargs={\"k\": 3})"
   ]
  },
  {
   "cell_type": "code",
   "execution_count": 93,
   "metadata": {},
   "outputs": [
    {
     "name": "stdout",
     "output_type": "stream",
     "text": [
      "{'source': 'data\\\\Test_file.txt'}\n",
      "What are vectors?\n"
     ]
    }
   ],
   "source": [
    "query = \"Tell me about India's Industrial Growth?\"\n",
    "docs = retriever.get_relevant_documents(query)\n",
    "print(docs[0].metadata)\n",
    "print(docs[0].page_content)"
   ]
  },
  {
   "cell_type": "code",
   "execution_count": 94,
   "metadata": {},
   "outputs": [
    {
     "data": {
      "text/plain": [
       "[Document(metadata={'source': 'data\\\\Test_file.txt'}, page_content='What are vectors?'),\n",
       " Document(metadata={'source': 'data\\\\Test_file.txt'}, page_content='What is a vector database?'),\n",
       " Document(metadata={'source': 'data\\\\1.txt'}, page_content='acute respiratory syndrome (SARS) and Middle East respiratory syndrome (MERS) accelerated the')]"
      ]
     },
     "execution_count": 94,
     "metadata": {},
     "output_type": "execute_result"
    }
   ],
   "source": [
    "docs"
   ]
  },
  {
   "cell_type": "code",
   "execution_count": 96,
   "metadata": {},
   "outputs": [],
   "source": [
    "from typing import TypedDict, Annotated,Sequence"
   ]
  },
  {
   "cell_type": "code",
   "execution_count": 97,
   "metadata": {},
   "outputs": [],
   "source": [
    "import operator"
   ]
  },
  {
   "cell_type": "code",
   "execution_count": 98,
   "metadata": {},
   "outputs": [],
   "source": [
    "from langchain_core.messages import BaseMessage"
   ]
  },
  {
   "cell_type": "code",
   "execution_count": 99,
   "metadata": {},
   "outputs": [],
   "source": [
    "from langchain.prompts import PromptTemplate"
   ]
  },
  {
   "cell_type": "code",
   "execution_count": 100,
   "metadata": {},
   "outputs": [
    {
     "data": {
      "text/plain": [
       "{'messages': ['hi', 'how are you?', 'what are you doing?']}"
      ]
     },
     "execution_count": 100,
     "metadata": {},
     "output_type": "execute_result"
    }
   ],
   "source": [
    "AgentState"
   ]
  },
  {
   "cell_type": "code",
   "execution_count": 101,
   "metadata": {},
   "outputs": [],
   "source": [
    "state = {\"messages\":[\"hi\",\"how are you?\",\"what is a japan GDP?\",\"which is good model in llm world?\"]}"
   ]
  },
  {
   "cell_type": "code",
   "execution_count": 102,
   "metadata": {},
   "outputs": [
    {
     "data": {
      "text/plain": [
       "'which is good model in llm world?'"
      ]
     },
     "execution_count": 102,
     "metadata": {},
     "output_type": "execute_result"
    }
   ],
   "source": [
    "#last message inside the message list\n",
    "state[\"messages\"][-1]"
   ]
  },
  {
   "cell_type": "code",
   "execution_count": 103,
   "metadata": {},
   "outputs": [
    {
     "data": {
      "text/plain": [
       "'hi'"
      ]
     },
     "execution_count": 103,
     "metadata": {},
     "output_type": "execute_result"
    }
   ],
   "source": [
    "#first message from the message list\n",
    "state[\"messages\"][0]"
   ]
  },
  {
   "cell_type": "code",
   "execution_count": 104,
   "metadata": {},
   "outputs": [],
   "source": [
    "class AgentState(TypedDict):\n",
    "    messages:Annotated[Sequence[BaseMessage],operator.add]"
   ]
  },
  {
   "cell_type": "code",
   "execution_count": 105,
   "metadata": {},
   "outputs": [],
   "source": [
    "from langchain_core.messages import HumanMessage"
   ]
  },
  {
   "cell_type": "code",
   "execution_count": 106,
   "metadata": {},
   "outputs": [],
   "source": [
    "state = AgentState(messages=[HumanMessage(content=\"hi there\")])"
   ]
  },
  {
   "cell_type": "code",
   "execution_count": 107,
   "metadata": {},
   "outputs": [
    {
     "data": {
      "text/plain": [
       "{'messages': [HumanMessage(content='hi there', additional_kwargs={}, response_metadata={})]}"
      ]
     },
     "execution_count": 107,
     "metadata": {},
     "output_type": "execute_result"
    }
   ],
   "source": [
    "state"
   ]
  },
  {
   "cell_type": "code",
   "execution_count": 108,
   "metadata": {},
   "outputs": [],
   "source": [
    "state = AgentState(messages=[\"hi\"])"
   ]
  },
  {
   "cell_type": "code",
   "execution_count": 109,
   "metadata": {},
   "outputs": [
    {
     "data": {
      "text/plain": [
       "{'messages': ['hi']}"
      ]
     },
     "execution_count": 109,
     "metadata": {},
     "output_type": "execute_result"
    }
   ],
   "source": [
    "state"
   ]
  },
  {
   "cell_type": "code",
   "execution_count": 110,
   "metadata": {},
   "outputs": [],
   "source": [
    "from pydantic import BaseModel, Field"
   ]
  },
  {
   "cell_type": "code",
   "execution_count": 111,
   "metadata": {},
   "outputs": [],
   "source": [
    "class TopicSelectionParser(BaseModel):\n",
    "    Topic:str = Field(description=\"selected topic\")\n",
    "    Reasoning:str = Field(description=\"reasoning behind the topic\")"
   ]
  },
  {
   "cell_type": "code",
   "execution_count": 113,
   "metadata": {},
   "outputs": [],
   "source": [
    "pydantic_obj = TopicSelectionParser(Topic=\"india\", Reasoning=\"india is growing country?\")"
   ]
  },
  {
   "cell_type": "code",
   "execution_count": 114,
   "metadata": {},
   "outputs": [
    {
     "data": {
      "text/plain": [
       "'india'"
      ]
     },
     "execution_count": 114,
     "metadata": {},
     "output_type": "execute_result"
    }
   ],
   "source": [
    "pydantic_obj.Topic"
   ]
  },
  {
   "cell_type": "code",
   "execution_count": 115,
   "metadata": {},
   "outputs": [
    {
     "data": {
      "text/plain": [
       "'india is growing country?'"
      ]
     },
     "execution_count": 115,
     "metadata": {},
     "output_type": "execute_result"
    }
   ],
   "source": [
    "pydantic_obj.Reasoning"
   ]
  },
  {
   "cell_type": "code",
   "execution_count": 116,
   "metadata": {},
   "outputs": [],
   "source": [
    "from langchain.output_parsers import PydanticOutputParser\n",
    "from langchain.prompts import PromptTemplate"
   ]
  },
  {
   "cell_type": "code",
   "execution_count": 117,
   "metadata": {},
   "outputs": [],
   "source": [
    "parser = PydanticOutputParser(pydantic_object=TopicSelectionParser)"
   ]
  },
  {
   "cell_type": "code",
   "execution_count": 118,
   "metadata": {},
   "outputs": [
    {
     "name": "stdout",
     "output_type": "stream",
     "text": [
      "The output should be formatted as a JSON instance that conforms to the JSON schema below.\n",
      "\n",
      "As an example, for the schema {\"properties\": {\"foo\": {\"title\": \"Foo\", \"description\": \"a list of strings\", \"type\": \"array\", \"items\": {\"type\": \"string\"}}}, \"required\": [\"foo\"]}\n",
      "the object {\"foo\": [\"bar\", \"baz\"]} is a well-formatted instance of the schema. The object {\"properties\": {\"foo\": [\"bar\", \"baz\"]}} is not well-formatted.\n",
      "\n",
      "Here is the output schema:\n",
      "```\n",
      "{\"properties\": {\"Topic\": {\"description\": \"selected topic\", \"title\": \"Topic\", \"type\": \"string\"}, \"Reasoning\": {\"description\": \"reasoning behind the topic\", \"title\": \"Reasoning\", \"type\": \"string\"}}, \"required\": [\"Topic\", \"Reasoning\"]}\n",
      "```\n"
     ]
    }
   ],
   "source": [
    "print(parser.get_format_instructions())"
   ]
  },
  {
   "cell_type": "code",
   "execution_count": 119,
   "metadata": {},
   "outputs": [],
   "source": [
    "def function_1(state:AgentState):\n",
    "    \n",
    "    message = state[\"messages\"]\n",
    "    \n",
    "    question = message[-1] \n",
    "    \n",
    "    print(\"***********here is my question********\")\n",
    "    print(question)\n",
    "    \n",
    "    template=\"\"\"\n",
    "    Your task is to classify the given user query into one of the following categories: [Japan, Not Related]. \n",
    "    Only respond with the category name and nothing else.\n",
    "\n",
    "    User query: {question}\n",
    "    \n",
    "    {format_instructions}\n",
    "    \"\"\"\n",
    "    \n",
    "    prompt = PromptTemplate(template=template,\n",
    "                            input_variables=[question],\n",
    "                            partial_variables={\"format_instructions\" : parser.get_format_instructions()}\n",
    "                            )\n",
    "    \n",
    "    chain = prompt | llm | parser\n",
    "    \n",
    "    response = chain.invoke({\"question\":question,\"format_instructions\" : parser.get_format_instructions() })\n",
    "    \n",
    "    print(\"***********my response********\")\n",
    "    print(response)\n",
    "    \n",
    "    return {\"messages\":[response.Topic]}"
   ]
  },
  {
   "cell_type": "code",
   "execution_count": 120,
   "metadata": {},
   "outputs": [],
   "source": [
    "state = {\"messages\":[\"tell me about the japan's industrial growth?\"]}"
   ]
  },
  {
   "cell_type": "code",
   "execution_count": 121,
   "metadata": {},
   "outputs": [],
   "source": [
    "state = {\"messages\":[\"hi how are you?\"]}"
   ]
  },
  {
   "cell_type": "code",
   "execution_count": 122,
   "metadata": {},
   "outputs": [
    {
     "name": "stdout",
     "output_type": "stream",
     "text": [
      "***********here is my question********\n",
      "hi how are you?\n",
      "***********my response********\n",
      "Topic='Not Related' Reasoning='The query is a general greeting and does not mention Japan or anything related to it.'\n"
     ]
    },
    {
     "data": {
      "text/plain": [
       "{'messages': ['Not Related']}"
      ]
     },
     "execution_count": 122,
     "metadata": {},
     "output_type": "execute_result"
    }
   ],
   "source": [
    "function_1(state)"
   ]
  },
  {
   "cell_type": "code",
   "execution_count": 123,
   "metadata": {},
   "outputs": [],
   "source": [
    "def router(state:AgentState):\n",
    "    print(\"***********entering into router********\")\n",
    "    print(\"*********my state from router********\")\n",
    "    print(state)\n",
    "    \n",
    "    message=state[\"messages\"]\n",
    "    \n",
    "    last_message=message[-1]\n",
    "    \n",
    "    print(\"***********last message********\")    \n",
    "    print(last_message)\n",
    "    \n",
    "    if \"Japan\" in last_message:\n",
    "        return \"RAG Call\"\n",
    "    else:\n",
    "        return \"Simple LLM Call\""
   ]
  },
  {
   "cell_type": "code",
   "execution_count": 124,
   "metadata": {},
   "outputs": [],
   "source": [
    "def function_2(state:AgentState):\n",
    "    print(\"*********my state from function_2(rag)********\")\n",
    "    print(state)\n",
    "    \n",
    "    \n",
    "    print('-> Calling RAG ->')\n",
    "    \n",
    "    messages = state['messages']\n",
    "    \n",
    "    question = messages[0] ## Fetching the user question\n",
    "    \n",
    "    print(question)\n",
    "\n",
    "    template = \"\"\"Answer the question based only on the following context:\n",
    "    {context}\n",
    "\n",
    "    Question: {question}\n",
    "    \"\"\"\n",
    "    prompt = ChatPromptTemplate.from_template(template)\n",
    "    \n",
    "    print(prompt)\n",
    "\n",
    "    retrieval_chain = (\n",
    "        {\"context\": retriever, \"question\": RunnablePassthrough()}\n",
    "        | prompt\n",
    "        | llm\n",
    "        | StrOutputParser()\n",
    "        )\n",
    "    result = retrieval_chain.invoke(question)\n",
    "    response={\"messages\": [result]}\n",
    "    print(\"*********my state from function_2(rag)********\")\n",
    "    print(state)\n",
    "    return response\n",
    "    "
   ]
  },
  {
   "cell_type": "code",
   "execution_count": 125,
   "metadata": {},
   "outputs": [],
   "source": [
    "def function_3(state:AgentState):\n",
    "    print('-> Calling LLM ->')\n",
    "\n",
    "    messages = state['messages']\n",
    "    \n",
    "    question = messages[0] ## Fetching the user question\n",
    "\n",
    "    # Normal LLM call\n",
    "    complete_query = \"Anwer the follow question with your knowledge of the real world. Following is the user question: \" + question\n",
    "    response = llm.invoke(complete_query)\n",
    "    response={\"messages\": [response.content]}\n",
    "    print(\"*********my state from function_3(LLM)********\")\n",
    "    print(state)\n",
    "    return response"
   ]
  },
  {
   "cell_type": "code",
   "execution_count": 126,
   "metadata": {},
   "outputs": [],
   "source": [
    "from langgraph.graph import StateGraph, END"
   ]
  },
  {
   "cell_type": "code",
   "execution_count": 127,
   "metadata": {},
   "outputs": [],
   "source": [
    "workflow = StateGraph(AgentState)"
   ]
  },
  {
   "cell_type": "code",
   "execution_count": 128,
   "metadata": {},
   "outputs": [
    {
     "data": {
      "text/plain": [
       "<langgraph.graph.state.StateGraph at 0x2085d0f09d0>"
      ]
     },
     "execution_count": 128,
     "metadata": {},
     "output_type": "execute_result"
    }
   ],
   "source": [
    "workflow.add_node(\"supervisor\",function_1)"
   ]
  },
  {
   "cell_type": "code",
   "execution_count": 129,
   "metadata": {},
   "outputs": [
    {
     "data": {
      "text/plain": [
       "<langgraph.graph.state.StateGraph at 0x2085d0f09d0>"
      ]
     },
     "execution_count": 129,
     "metadata": {},
     "output_type": "execute_result"
    }
   ],
   "source": [
    "workflow.add_node(\"RAG\",function_2)"
   ]
  },
  {
   "cell_type": "code",
   "execution_count": 130,
   "metadata": {},
   "outputs": [
    {
     "data": {
      "text/plain": [
       "<langgraph.graph.state.StateGraph at 0x2085d0f09d0>"
      ]
     },
     "execution_count": 130,
     "metadata": {},
     "output_type": "execute_result"
    }
   ],
   "source": [
    "workflow.add_node(\"LLM\",function_3)"
   ]
  },
  {
   "cell_type": "code",
   "execution_count": 131,
   "metadata": {},
   "outputs": [
    {
     "data": {
      "text/plain": [
       "<langgraph.graph.state.StateGraph at 0x2085d0f09d0>"
      ]
     },
     "execution_count": 131,
     "metadata": {},
     "output_type": "execute_result"
    }
   ],
   "source": [
    "workflow.set_entry_point(\"supervisor\")"
   ]
  },
  {
   "cell_type": "code",
   "execution_count": 132,
   "metadata": {},
   "outputs": [
    {
     "data": {
      "text/plain": [
       "<langgraph.graph.state.StateGraph at 0x2085d0f09d0>"
      ]
     },
     "execution_count": 132,
     "metadata": {},
     "output_type": "execute_result"
    }
   ],
   "source": [
    "workflow.add_conditional_edges(\n",
    "    \"supervisor\",\n",
    "    router,\n",
    "    {\n",
    "        \"RAG Call\": \"RAG\",\n",
    "        \"Simple LLM Call\": \"LLM\"\n",
    "    },\n",
    "    \n",
    ")"
   ]
  },
  {
   "cell_type": "code",
   "execution_count": 133,
   "metadata": {},
   "outputs": [],
   "source": [
    "workflow.add_edge(\"RAG\",END)\n",
    "\n",
    "\n",
    "workflow.add_edge(\"LLM\",END)\n",
    "\n",
    "\n",
    "app=workflow.compile()"
   ]
  },
  {
   "cell_type": "code",
   "execution_count": null,
   "metadata": {},
   "outputs": [
    {
     "data": {
      "image/png": "[encoded data removed]",
      "text/plain": [
       "<IPython.core.display.Image object>"
      ]
     },
     "metadata": {},
     "output_type": "display_data"
    }
   ],
   "source": [
    "display(Image(app.get_graph().draw_mermaid_png()))"
   ]
  },
  {
   "cell_type": "code",
   "execution_count": 134,
   "metadata": {},
   "outputs": [
    {
     "name": "stdout",
     "output_type": "stream",
     "text": [
      "***********here is my question********\n",
      "can you tell me about the japan industrial growth with GDP?\n",
      "***********my response********\n",
      "Topic='Japan' Reasoning=\"The query explicitly asks about Japan's industrial growth and GDP.\"\n",
      "***********entering into router********\n",
      "*********my state from router********\n",
      "{'messages': ['can you tell me about the japan industrial growth with GDP?', 'Japan']}\n",
      "***********last message********\n",
      "Japan\n",
      "*********my state from function_2(rag)********\n",
      "{'messages': ['can you tell me about the japan industrial growth with GDP?', 'Japan']}\n",
      "-> Calling RAG ->\n",
      "can you tell me about the japan industrial growth with GDP?\n",
      "input_variables=['context', 'question'] input_types={} partial_variables={} messages=[HumanMessagePromptTemplate(prompt=PromptTemplate(input_variables=['context', 'question'], input_types={}, partial_variables={}, template='Answer the question based only on the following context:\\n    {context}\\n\\n    Question: {question}\\n    '), additional_kwargs={})]\n",
      "*********my state from function_2(rag)********\n",
      "{'messages': ['can you tell me about the japan industrial growth with GDP?', 'Japan']}\n"
     ]
    }
   ],
   "source": [
    "response = app.invoke({\"messages\":[\"can you tell me about the japan industrial growth with GDP?\"]})"
   ]
  },
  {
   "cell_type": "code",
   "execution_count": 135,
   "metadata": {},
   "outputs": [
    {
     "data": {
      "text/plain": [
       "{'messages': ['can you tell me about the japan industrial growth with GDP?',\n",
       "  'Japan',\n",
       "  \"This information is not available in the provided context. The text discusses high-income countries and technology platforms, but does not mention Japan's industrial growth or GDP.\"]}"
      ]
     },
     "execution_count": 135,
     "metadata": {},
     "output_type": "execute_result"
    }
   ],
   "source": [
    "response"
   ]
  },
  {
   "cell_type": "code",
   "execution_count": 137,
   "metadata": {},
   "outputs": [
    {
     "data": {
      "text/plain": [
       "\"This information is not available in the provided context. The text discusses high-income countries and technology platforms, but does not mention Japan's industrial growth or GDP.\""
      ]
     },
     "execution_count": 137,
     "metadata": {},
     "output_type": "execute_result"
    }
   ],
   "source": [
    "response[\"messages\"][-1]"
   ]
  },
  {
   "cell_type": "code",
   "execution_count": 138,
   "metadata": {},
   "outputs": [
    {
     "name": "stdout",
     "output_type": "stream",
     "text": [
      "***********here is my question********\n",
      "hi how are you?\n",
      "***********my response********\n",
      "Topic='Not Related' Reasoning='The query is a general greeting and does not mention Japan or anything related to it.'\n",
      "***********entering into router********\n",
      "*********my state from router********\n",
      "{'messages': ['hi how are you?', 'Not Related']}\n",
      "***********last message********\n",
      "Not Related\n",
      "-> Calling LLM ->\n",
      "*********my state from function_3(LLM)********\n",
      "{'messages': ['hi how are you?', 'Not Related']}\n"
     ]
    }
   ],
   "source": [
    "response = app.invoke({\"messages\":[\"hi how are you?\"]})"
   ]
  },
  {
   "cell_type": "code",
   "execution_count": 139,
   "metadata": {},
   "outputs": [
    {
     "data": {
      "text/plain": [
       "\"I'm doing well, thank you for asking! How are you?\""
      ]
     },
     "execution_count": 139,
     "metadata": {},
     "output_type": "execute_result"
    }
   ],
   "source": [
    "response[\"messages\"][-1]"
   ]
  },
  {
   "cell_type": "code",
   "execution_count": 140,
   "metadata": {},
   "outputs": [
    {
     "name": "stdout",
     "output_type": "stream",
     "text": [
      "***********here is my question********\n",
      "what is a age of donald trump?\n",
      "***********my response********\n",
      "Topic='Not Related' Reasoning=\"The query asks about Donald Trump's age, which has no relation to Japan.\"\n",
      "***********entering into router********\n",
      "*********my state from router********\n",
      "{'messages': ['what is a age of donald trump?', 'Not Related']}\n",
      "***********last message********\n",
      "Not Related\n",
      "here is output from supervisor\n",
      "_______\n",
      "{'messages': ['Not Related']}\n",
      "\n",
      "\n",
      "-> Calling LLM ->\n"
     ]
    },
    {
     "name": "stderr",
     "output_type": "stream",
     "text": [
      "Retrying langchain_google_genai.chat_models._chat_with_retry.<locals>._chat_with_retry in 2.0 seconds as it raised ResourceExhausted: 429 You exceeded your current quota, please check your plan and billing details. For more information on this error, head to: https://ai.google.dev/gemini-api/docs/rate-limits. [violations {\n",
      "}\n",
      ", links {\n",
      "  description: \"Learn more about Gemini API quotas\"\n",
      "  url: \"https://ai.google.dev/gemini-api/docs/rate-limits\"\n",
      "}\n",
      ", retry_delay {\n",
      "}\n",
      "].\n"
     ]
    },
    {
     "name": "stdout",
     "output_type": "stream",
     "text": [
      "*********my state from function_3(LLM)********\n",
      "{'messages': ['what is a age of donald trump?', 'Not Related']}\n",
      "here is output from LLM\n",
      "_______\n",
      "{'messages': ['Donald Trump was born on June 14, 1946.  Therefore, as of October 26, 2023, he is 77 years old.']}\n",
      "\n",
      "\n"
     ]
    }
   ],
   "source": [
    "for output in app.stream({\"messages\":[\"what is a age of donald trump?\"]}):\n",
    "    for key,value in output.items():\n",
    "        print(f\"here is output from {key}\")\n",
    "        print(\"_______\")\n",
    "        print(value)\n",
    "        print(\"\\n\")"
   ]
  },
  {
   "cell_type": "code",
   "execution_count": null,
   "metadata": {},
   "outputs": [],
   "source": [
    "# very useful method for routing in multiagent system\n",
    "# command()"
   ]
  }
 ],
 "metadata": {
  "kernelspec": {
   "display_name": "rag_env",
   "language": "python",
   "name": "python3"
  },
  "language_info": {
   "codemirror_mode": {
    "name": "ipython",
    "version": 3
   },
   "file_extension": ".py",
   "mimetype": "text/x-python",
   "name": "python",
   "nbconvert_exporter": "python",
   "pygments_lexer": "ipython3",
   "version": "3.11.11"
  }
 },
 "nbformat": 4,
 "nbformat_minor": 2
}

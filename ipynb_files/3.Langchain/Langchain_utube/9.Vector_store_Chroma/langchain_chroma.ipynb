{
  "nbformat": 4,
  "nbformat_minor": 0,
  "metadata": {
    "colab": {
      "provenance": []
    },
    "kernelspec": {
      "name": "python3",
      "display_name": "Python 3"
    },
    "language_info": {
      "name": "python"
    }
  },
  "cells": [
    {
      "cell_type": "code",
      "source": [
        "import getpass\n",
        "import os\n",
        "\n",
        "if not os.environ.get(\"OPENAI_API_KEY\"):\n",
        "  os.environ[\"OPENAI_API_KEY\"] = getpass.getpass(\"Enter API key for OpenAI: \")"
      ],
      "metadata": {
        "colab": {
          "base_uri": "https://localhost:8080/"
        },
        "id": "Yv_Ya1fxiAxw",
        "outputId": "bf42d199-a7b5-486b-d180-b1147eda28a0"
      },
      "execution_count": 10,
      "outputs": [
        {
          "name": "stdout",
          "output_type": "stream",
          "text": [
            "Enter API key for OpenAI: ··········\n"
          ]
        }
      ]
    },
    {
      "cell_type": "code",
      "source": [],
      "metadata": {
        "id": "X5k__vrf2uTL"
      },
      "execution_count": 10,
      "outputs": []
    },
    {
      "cell_type": "code",
      "execution_count": 2,
      "metadata": {
        "id": "KFmB4r2CZmzI"
      },
      "outputs": [],
      "source": [
        "!pip install langchain chromadb openai tiktoken pypdf langchain_openai langchain-community -q"
      ]
    },
    {
      "cell_type": "code",
      "source": [
        "from langchain_openai import OpenAIEmbeddings\n",
        "from langchain.vectorstores import Chroma"
      ],
      "metadata": {
        "id": "1YGuU6npaIFx"
      },
      "execution_count": 11,
      "outputs": []
    },
    {
      "cell_type": "code",
      "source": [
        "from langchain.schema import Document\n",
        "\n",
        "# Create LangChain documents for IPL players\n",
        "\n",
        "doc1 = Document(\n",
        "        page_content=\"Virat Kohli is one of the most successful and consistent batsmen in IPL history. Known for his aggressive batting style and fitness, he has led the Royal Challengers Bangalore in multiple seasons.\",\n",
        "        metadata={\"team\": \"Royal Challengers Bangalore\"}\n",
        "    )\n",
        "doc2 = Document(\n",
        "        page_content=\"Rohit Sharma is the most successful captain in IPL history, leading Mumbai Indians to five titles. He's known for his calm demeanor and ability to play big innings under pressure.\",\n",
        "        metadata={\"team\": \"Mumbai Indians\"}\n",
        "    )\n",
        "doc3 = Document(\n",
        "        page_content=\"MS Dhoni, famously known as Captain Cool, has led Chennai Super Kings to multiple IPL titles. His finishing skills, wicketkeeping, and leadership are legendary.\",\n",
        "        metadata={\"team\": \"Chennai Super Kings\"}\n",
        "    )\n",
        "doc4 = Document(\n",
        "        page_content=\"Jasprit Bumrah is considered one of the best fast bowlers in T20 cricket. Playing for Mumbai Indians, he is known for his yorkers and death-over expertise.\",\n",
        "        metadata={\"team\": \"Mumbai Indians\"}\n",
        "    )\n",
        "doc5 = Document(\n",
        "        page_content=\"Ravindra Jadeja is a dynamic all-rounder who contributes with both bat and ball. Representing Chennai Super Kings, his quick fielding and match-winning performances make him a key player.\",\n",
        "        metadata={\"team\": \"Chennai Super Kings\"}\n",
        "    )\n"
      ],
      "metadata": {
        "id": "FpqDxoo-28TT"
      },
      "execution_count": 28,
      "outputs": []
    },
    {
      "cell_type": "code",
      "source": [
        "docs = [doc1, doc2, doc3, doc4, doc5]"
      ],
      "metadata": {
        "id": "8gHb9o9Y3lfL"
      },
      "execution_count": 29,
      "outputs": []
    },
    {
      "cell_type": "code",
      "source": [
        "vector_store = Chroma(\n",
        "    embedding_function=OpenAIEmbeddings(),\n",
        "    persist_directory='my_chroma_db',\n",
        "    collection_name='sample'\n",
        ")"
      ],
      "metadata": {
        "id": "rIKW6J91c2Gw"
      },
      "execution_count": 30,
      "outputs": []
    },
    {
      "cell_type": "code",
      "source": [
        "# add documents\n",
        "vector_store.add_documents(docs)"
      ],
      "metadata": {
        "colab": {
          "base_uri": "https://localhost:8080/"
        },
        "id": "HY1WWRs3gLua",
        "outputId": "1dfd78df-70e1-4dc8-fbc0-87ca39671c9f"
      },
      "execution_count": 32,
      "outputs": [
        {
          "output_type": "execute_result",
          "data": {
            "text/plain": [
              "['a4fd618f-3478-41e5-a0e4-7666b9ddf305',\n",
              " '24723f2a-44c6-4dc1-8cee-5eeaff62af64',\n",
              " 'fcee9e99-2dec-43cb-8045-fb6e04ca49d1',\n",
              " '8502e5b1-0a0c-4bdd-9644-7baa9cda32cc',\n",
              " '0ee4b6be-eba5-49c8-9596-44c038c5d4a8']"
            ]
          },
          "metadata": {},
          "execution_count": 32
        }
      ]
    },
    {
      "cell_type": "code",
      "source": [
        "# view documents\n",
        "vector_store.get(include=['embeddings','documents', 'metadatas'])"
      ],
      "metadata": {
        "colab": {
          "base_uri": "https://localhost:8080/"
        },
        "id": "nG7XjDXwg0JZ",
        "outputId": "1a2d0cd7-6027-4e0c-deda-ef71e5e55b4d"
      },
      "execution_count": 33,
      "outputs": [
        {
          "output_type": "execute_result",
          "data": {
            "text/plain": [
              "{'ids': ['524ad40e-491c-4c9b-955d-962fdd185b4f',\n",
              "  '2623107e-e433-48a5-a4f4-bfd6e8022ed4',\n",
              "  '954c568e-14b6-40c4-a93e-5d555d8c8b61',\n",
              "  'd8642c53-880b-4eea-9b01-9dcec18657f0',\n",
              "  'fa35bf21-621f-40fd-a021-56b11a9d2706',\n",
              "  '8cca9549-26b9-4542-8075-5798588c3723',\n",
              "  '351321fa-a2b1-4684-9613-84774eaaf6e8',\n",
              "  '2252fd16-b069-49fd-8fde-57ad350dd1a0',\n",
              "  'fa79f22a-0011-42e0-ad10-6bfa93e78e7b',\n",
              "  'a4fd618f-3478-41e5-a0e4-7666b9ddf305',\n",
              "  '24723f2a-44c6-4dc1-8cee-5eeaff62af64',\n",
              "  'fcee9e99-2dec-43cb-8045-fb6e04ca49d1',\n",
              "  '8502e5b1-0a0c-4bdd-9644-7baa9cda32cc',\n",
              "  '0ee4b6be-eba5-49c8-9596-44c038c5d4a8'],\n",
              " 'embeddings': array([[-0.00268021, -0.00010323,  0.02815653, ..., -0.01501936,\n",
              "          0.00590092, -0.01164922],\n",
              "        [ 0.00092799, -0.00476   ,  0.0124662 , ..., -0.01731381,\n",
              "          0.00075886,  0.00296567],\n",
              "        [-0.02714536,  0.00885395,  0.02699314, ..., -0.02592762,\n",
              "          0.00900617, -0.01999116],\n",
              "        ...,\n",
              "        [ 0.00092799, -0.00476   ,  0.0124662 , ..., -0.01731381,\n",
              "          0.00075886,  0.00296567],\n",
              "        [-0.02714536,  0.00885395,  0.02699314, ..., -0.02592762,\n",
              "          0.00900617, -0.01999116],\n",
              "        [-0.01810451,  0.01281202,  0.0347942 , ..., -0.03034012,\n",
              "         -0.00595078,  0.00521716]]),\n",
              " 'documents': [\"Rohit Sharma is the most successful captain in IPL history, leading Mumbai Indians to five titles. He's known for his calm demeanor and ability to play big innings under pressure.\",\n",
              "  'MS Dhoni, famously known as Captain Cool, has led Chennai Super Kings to multiple IPL titles. His finishing skills, wicketkeeping, and leadership are legendary.',\n",
              "  'Jasprit Bumrah is considered one of the best fast bowlers in T20 cricket. Playing for Mumbai Indians, he is known for his yorkers and death-over expertise.',\n",
              "  'Ravindra Jadeja is a dynamic all-rounder who contributes with both bat and ball. Representing Chennai Super Kings, his quick fielding and match-winning performances make him a key player.',\n",
              "  'Virat Kohli is one of the most successful and consistent batsmen in IPL history. Known for his aggressive batting style and fitness, he has led the Royal Challengers Bangalore in multiple seasons.',\n",
              "  \"Rohit Sharma is the most successful captain in IPL history, leading Mumbai Indians to five titles. He's known for his calm demeanor and ability to play big innings under pressure.\",\n",
              "  'MS Dhoni, famously known as Captain Cool, has led Chennai Super Kings to multiple IPL titles. His finishing skills, wicketkeeping, and leadership are legendary.',\n",
              "  'Jasprit Bumrah is considered one of the best fast bowlers in T20 cricket. Playing for Mumbai Indians, he is known for his yorkers and death-over expertise.',\n",
              "  'Ravindra Jadeja is a dynamic all-rounder who contributes with both bat and ball. Representing Chennai Super Kings, his quick fielding and match-winning performances make him a key player.',\n",
              "  'Virat Kohli is one of the most successful and consistent batsmen in IPL history. Known for his aggressive batting style and fitness, he has led the Royal Challengers Bangalore in multiple seasons.',\n",
              "  \"Rohit Sharma is the most successful captain in IPL history, leading Mumbai Indians to five titles. He's known for his calm demeanor and ability to play big innings under pressure.\",\n",
              "  'MS Dhoni, famously known as Captain Cool, has led Chennai Super Kings to multiple IPL titles. His finishing skills, wicketkeeping, and leadership are legendary.',\n",
              "  'Jasprit Bumrah is considered one of the best fast bowlers in T20 cricket. Playing for Mumbai Indians, he is known for his yorkers and death-over expertise.',\n",
              "  'Ravindra Jadeja is a dynamic all-rounder who contributes with both bat and ball. Representing Chennai Super Kings, his quick fielding and match-winning performances make him a key player.'],\n",
              " 'uris': None,\n",
              " 'included': ['embeddings', 'documents', 'metadatas'],\n",
              " 'data': None,\n",
              " 'metadatas': [{'team': 'Mumbai Indians'},\n",
              "  {'team': 'Chennai Super Kings'},\n",
              "  {'team': 'Mumbai Indians'},\n",
              "  {'team': 'Chennai Super Kings'},\n",
              "  {'team': 'Royal Challengers Bangalore'},\n",
              "  {'team': 'Mumbai Indians'},\n",
              "  {'team': 'Chennai Super Kings'},\n",
              "  {'team': 'Mumbai Indians'},\n",
              "  {'team': 'Chennai Super Kings'},\n",
              "  {'team': 'Royal Challengers Bangalore'},\n",
              "  {'team': 'Mumbai Indians'},\n",
              "  {'team': 'Chennai Super Kings'},\n",
              "  {'team': 'Mumbai Indians'},\n",
              "  {'team': 'Chennai Super Kings'}]}"
            ]
          },
          "metadata": {},
          "execution_count": 33
        }
      ]
    },
    {
      "cell_type": "code",
      "source": [
        "# search documents\n",
        "vector_store.similarity_search(\n",
        "    query='Who among these are a bowler?',\n",
        "    k=2\n",
        ")"
      ],
      "metadata": {
        "colab": {
          "base_uri": "https://localhost:8080/"
        },
        "id": "LU-W9_9Jg3l3",
        "outputId": "bada506b-b2f8-4f79-abd5-b638b16d248c"
      },
      "execution_count": 34,
      "outputs": [
        {
          "output_type": "execute_result",
          "data": {
            "text/plain": [
              "[Document(metadata={'team': 'Mumbai Indians'}, page_content='Jasprit Bumrah is considered one of the best fast bowlers in T20 cricket. Playing for Mumbai Indians, he is known for his yorkers and death-over expertise.'),\n",
              " Document(metadata={'team': 'Mumbai Indians'}, page_content='Jasprit Bumrah is considered one of the best fast bowlers in T20 cricket. Playing for Mumbai Indians, he is known for his yorkers and death-over expertise.')]"
            ]
          },
          "metadata": {},
          "execution_count": 34
        }
      ]
    },
    {
      "cell_type": "code",
      "source": [
        "# search with similarity score\n",
        "vector_store.similarity_search_with_score(\n",
        "    query='Who among these are a bowler?',\n",
        "    k=2\n",
        ")"
      ],
      "metadata": {
        "colab": {
          "base_uri": "https://localhost:8080/"
        },
        "id": "fRVVrXeag_MI",
        "outputId": "68435445-387c-4347-8a53-601ff563fb13"
      },
      "execution_count": 19,
      "outputs": [
        {
          "output_type": "execute_result",
          "data": {
            "text/plain": [
              "[(Document(metadata={'team': 'Mumbai Indians'}, page_content='Jasprit Bumrah is considered one of the best fast bowlers in T20 cricket. Playing for Mumbai Indians, he is known for his yorkers and death-over expertise.'),\n",
              "  0.35445845127105713),\n",
              " (Document(metadata={'team': 'Chennai Super Kings'}, page_content='Ravindra Jadeja is a dynamic all-rounder who contributes with both bat and ball. Representing Chennai Super Kings, his quick fielding and match-winning performances make him a key player.'),\n",
              "  0.4085893929004669)]"
            ]
          },
          "metadata": {},
          "execution_count": 19
        }
      ]
    },
    {
      "cell_type": "code",
      "source": [
        "# meta-data filtering\n",
        "vector_store.similarity_search_with_score(\n",
        "    query=\"\",\n",
        "    filter={\"team\": \"Chennai Super Kings\"}\n",
        ")"
      ],
      "metadata": {
        "id": "NS6pINjhjldB",
        "colab": {
          "base_uri": "https://localhost:8080/"
        },
        "outputId": "62edbc55-e32f-4cd1-f9de-fc3822c35789"
      },
      "execution_count": 35,
      "outputs": [
        {
          "output_type": "execute_result",
          "data": {
            "text/plain": [
              "[(Document(metadata={'team': 'Chennai Super Kings'}, page_content='MS Dhoni, famously known as Captain Cool, has led Chennai Super Kings to multiple IPL titles. His finishing skills, wicketkeeping, and leadership are legendary.'),\n",
              "  0.6488258242607117),\n",
              " (Document(metadata={'team': 'Chennai Super Kings'}, page_content='MS Dhoni, famously known as Captain Cool, has led Chennai Super Kings to multiple IPL titles. His finishing skills, wicketkeeping, and leadership are legendary.'),\n",
              "  0.6488258242607117),\n",
              " (Document(metadata={'team': 'Chennai Super Kings'}, page_content='MS Dhoni, famously known as Captain Cool, has led Chennai Super Kings to multiple IPL titles. His finishing skills, wicketkeeping, and leadership are legendary.'),\n",
              "  0.6488258242607117),\n",
              " (Document(metadata={'team': 'Chennai Super Kings'}, page_content='Ravindra Jadeja is a dynamic all-rounder who contributes with both bat and ball. Representing Chennai Super Kings, his quick fielding and match-winning performances make him a key player.'),\n",
              "  0.6566494703292847)]"
            ]
          },
          "metadata": {},
          "execution_count": 35
        }
      ]
    },
    {
      "cell_type": "code",
      "source": [
        "# update documents\n",
        "updated_doc1 = Document(\n",
        "    page_content=\"Virat Kohli, the former captain of Royal Challengers Bangalore (RCB), is renowned for his aggressive leadership and consistent batting performances. He holds the record for the most runs in IPL history, including multiple centuries in a single season. Despite RCB not winning an IPL title under his captaincy, Kohli's passion and fitness set a benchmark for the league. His ability to chase targets and anchor innings has made him one of the most dependable players in T20 cricket.\",\n",
        "    metadata={\"team\": \"Royal Challengers Bangalore\"}\n",
        ")\n",
        "\n",
        "vector_store.update_document(document_id='a4fd618f-3478-41e5-a0e4-7666b9ddf305', document=updated_doc1)\n"
      ],
      "metadata": {
        "id": "5EXWk0T26qat"
      },
      "execution_count": 41,
      "outputs": []
    },
    {
      "cell_type": "code",
      "source": [
        "# view documents\n",
        "vector_store.get(include=['embeddings','documents', 'metadatas'])"
      ],
      "metadata": {
        "colab": {
          "base_uri": "https://localhost:8080/"
        },
        "id": "vkB9Yd_O7oEl",
        "outputId": "5300321d-366a-407a-bfc9-5b3b48eb1024"
      },
      "execution_count": 42,
      "outputs": [
        {
          "output_type": "execute_result",
          "data": {
            "text/plain": [
              "{'ids': ['524ad40e-491c-4c9b-955d-962fdd185b4f',\n",
              "  '2623107e-e433-48a5-a4f4-bfd6e8022ed4',\n",
              "  '954c568e-14b6-40c4-a93e-5d555d8c8b61',\n",
              "  'd8642c53-880b-4eea-9b01-9dcec18657f0',\n",
              "  'fa35bf21-621f-40fd-a021-56b11a9d2706',\n",
              "  '8cca9549-26b9-4542-8075-5798588c3723',\n",
              "  '351321fa-a2b1-4684-9613-84774eaaf6e8',\n",
              "  '2252fd16-b069-49fd-8fde-57ad350dd1a0',\n",
              "  'fa79f22a-0011-42e0-ad10-6bfa93e78e7b',\n",
              "  'a4fd618f-3478-41e5-a0e4-7666b9ddf305',\n",
              "  '24723f2a-44c6-4dc1-8cee-5eeaff62af64',\n",
              "  'fcee9e99-2dec-43cb-8045-fb6e04ca49d1',\n",
              "  '8502e5b1-0a0c-4bdd-9644-7baa9cda32cc',\n",
              "  '0ee4b6be-eba5-49c8-9596-44c038c5d4a8'],\n",
              " 'embeddings': array([[-0.00268021, -0.00010323,  0.02815653, ..., -0.01501936,\n",
              "          0.00590092, -0.01164922],\n",
              "        [ 0.00092799, -0.00476   ,  0.0124662 , ..., -0.01731381,\n",
              "          0.00075886,  0.00296567],\n",
              "        [-0.02714536,  0.00885395,  0.02699314, ..., -0.02592762,\n",
              "          0.00900617, -0.01999116],\n",
              "        ...,\n",
              "        [ 0.00092799, -0.00476   ,  0.0124662 , ..., -0.01731381,\n",
              "          0.00075886,  0.00296567],\n",
              "        [-0.02714536,  0.00885395,  0.02699314, ..., -0.02592762,\n",
              "          0.00900617, -0.01999116],\n",
              "        [-0.01810451,  0.01281202,  0.0347942 , ..., -0.03034012,\n",
              "         -0.00595078,  0.00521716]]),\n",
              " 'documents': [\"Rohit Sharma is the most successful captain in IPL history, leading Mumbai Indians to five titles. He's known for his calm demeanor and ability to play big innings under pressure.\",\n",
              "  'MS Dhoni, famously known as Captain Cool, has led Chennai Super Kings to multiple IPL titles. His finishing skills, wicketkeeping, and leadership are legendary.',\n",
              "  'Jasprit Bumrah is considered one of the best fast bowlers in T20 cricket. Playing for Mumbai Indians, he is known for his yorkers and death-over expertise.',\n",
              "  'Ravindra Jadeja is a dynamic all-rounder who contributes with both bat and ball. Representing Chennai Super Kings, his quick fielding and match-winning performances make him a key player.',\n",
              "  'Virat Kohli is one of the most successful and consistent batsmen in IPL history. Known for his aggressive batting style and fitness, he has led the Royal Challengers Bangalore in multiple seasons.',\n",
              "  \"Rohit Sharma is the most successful captain in IPL history, leading Mumbai Indians to five titles. He's known for his calm demeanor and ability to play big innings under pressure.\",\n",
              "  'MS Dhoni, famously known as Captain Cool, has led Chennai Super Kings to multiple IPL titles. His finishing skills, wicketkeeping, and leadership are legendary.',\n",
              "  'Jasprit Bumrah is considered one of the best fast bowlers in T20 cricket. Playing for Mumbai Indians, he is known for his yorkers and death-over expertise.',\n",
              "  'Ravindra Jadeja is a dynamic all-rounder who contributes with both bat and ball. Representing Chennai Super Kings, his quick fielding and match-winning performances make him a key player.',\n",
              "  \"Virat Kohli, the former captain of Royal Challengers Bangalore (RCB), is renowned for his aggressive leadership and consistent batting performances. He holds the record for the most runs in IPL history, including multiple centuries in a single season. Despite RCB not winning an IPL title under his captaincy, Kohli's passion and fitness set a benchmark for the league. His ability to chase targets and anchor innings has made him one of the most dependable players in T20 cricket.\",\n",
              "  \"Rohit Sharma is the most successful captain in IPL history, leading Mumbai Indians to five titles. He's known for his calm demeanor and ability to play big innings under pressure.\",\n",
              "  'MS Dhoni, famously known as Captain Cool, has led Chennai Super Kings to multiple IPL titles. His finishing skills, wicketkeeping, and leadership are legendary.',\n",
              "  'Jasprit Bumrah is considered one of the best fast bowlers in T20 cricket. Playing for Mumbai Indians, he is known for his yorkers and death-over expertise.',\n",
              "  'Ravindra Jadeja is a dynamic all-rounder who contributes with both bat and ball. Representing Chennai Super Kings, his quick fielding and match-winning performances make him a key player.'],\n",
              " 'uris': None,\n",
              " 'included': ['embeddings', 'documents', 'metadatas'],\n",
              " 'data': None,\n",
              " 'metadatas': [{'team': 'Mumbai Indians'},\n",
              "  {'team': 'Chennai Super Kings'},\n",
              "  {'team': 'Mumbai Indians'},\n",
              "  {'team': 'Chennai Super Kings'},\n",
              "  {'team': 'Royal Challengers Bangalore'},\n",
              "  {'team': 'Mumbai Indians'},\n",
              "  {'team': 'Chennai Super Kings'},\n",
              "  {'team': 'Mumbai Indians'},\n",
              "  {'team': 'Chennai Super Kings'},\n",
              "  {'team': 'Royal Challengers Bangalore'},\n",
              "  {'team': 'Mumbai Indians'},\n",
              "  {'team': 'Chennai Super Kings'},\n",
              "  {'team': 'Mumbai Indians'},\n",
              "  {'team': 'Chennai Super Kings'}]}"
            ]
          },
          "metadata": {},
          "execution_count": 42
        }
      ]
    },
    {
      "cell_type": "code",
      "source": [
        "# delete document\n",
        "vector_store.delete(ids=['a4fd618f-3478-41e5-a0e4-7666b9ddf305'])"
      ],
      "metadata": {
        "id": "JfP7Gkgc7r4A"
      },
      "execution_count": 50,
      "outputs": []
    },
    {
      "cell_type": "code",
      "source": [
        "# view documents\n",
        "vector_store.get(include=['embeddings','documents', 'metadatas'])"
      ],
      "metadata": {
        "colab": {
          "base_uri": "https://localhost:8080/"
        },
        "id": "Z8kVJ9UX76tG",
        "outputId": "8651ad12-1fde-4ae9-ea9c-c38759586bfe"
      },
      "execution_count": 51,
      "outputs": [
        {
          "output_type": "execute_result",
          "data": {
            "text/plain": [
              "{'ids': ['524ad40e-491c-4c9b-955d-962fdd185b4f',\n",
              "  '2623107e-e433-48a5-a4f4-bfd6e8022ed4',\n",
              "  '954c568e-14b6-40c4-a93e-5d555d8c8b61',\n",
              "  'd8642c53-880b-4eea-9b01-9dcec18657f0',\n",
              "  'fa35bf21-621f-40fd-a021-56b11a9d2706',\n",
              "  '8cca9549-26b9-4542-8075-5798588c3723',\n",
              "  '351321fa-a2b1-4684-9613-84774eaaf6e8',\n",
              "  '2252fd16-b069-49fd-8fde-57ad350dd1a0',\n",
              "  'fa79f22a-0011-42e0-ad10-6bfa93e78e7b',\n",
              "  '24723f2a-44c6-4dc1-8cee-5eeaff62af64',\n",
              "  'fcee9e99-2dec-43cb-8045-fb6e04ca49d1',\n",
              "  '8502e5b1-0a0c-4bdd-9644-7baa9cda32cc',\n",
              "  '0ee4b6be-eba5-49c8-9596-44c038c5d4a8'],\n",
              " 'embeddings': array([[-0.00268021, -0.00010323,  0.02815653, ..., -0.01501936,\n",
              "          0.00590092, -0.01164922],\n",
              "        [ 0.00092799, -0.00476   ,  0.0124662 , ..., -0.01731381,\n",
              "          0.00075886,  0.00296567],\n",
              "        [-0.02714536,  0.00885395,  0.02699314, ..., -0.02592762,\n",
              "          0.00900617, -0.01999116],\n",
              "        ...,\n",
              "        [ 0.00092799, -0.00476   ,  0.0124662 , ..., -0.01731381,\n",
              "          0.00075886,  0.00296567],\n",
              "        [-0.02714536,  0.00885395,  0.02699314, ..., -0.02592762,\n",
              "          0.00900617, -0.01999116],\n",
              "        [-0.01810451,  0.01281202,  0.0347942 , ..., -0.03034012,\n",
              "         -0.00595078,  0.00521716]]),\n",
              " 'documents': [\"Rohit Sharma is the most successful captain in IPL history, leading Mumbai Indians to five titles. He's known for his calm demeanor and ability to play big innings under pressure.\",\n",
              "  'MS Dhoni, famously known as Captain Cool, has led Chennai Super Kings to multiple IPL titles. His finishing skills, wicketkeeping, and leadership are legendary.',\n",
              "  'Jasprit Bumrah is considered one of the best fast bowlers in T20 cricket. Playing for Mumbai Indians, he is known for his yorkers and death-over expertise.',\n",
              "  'Ravindra Jadeja is a dynamic all-rounder who contributes with both bat and ball. Representing Chennai Super Kings, his quick fielding and match-winning performances make him a key player.',\n",
              "  'Virat Kohli is one of the most successful and consistent batsmen in IPL history. Known for his aggressive batting style and fitness, he has led the Royal Challengers Bangalore in multiple seasons.',\n",
              "  \"Rohit Sharma is the most successful captain in IPL history, leading Mumbai Indians to five titles. He's known for his calm demeanor and ability to play big innings under pressure.\",\n",
              "  'MS Dhoni, famously known as Captain Cool, has led Chennai Super Kings to multiple IPL titles. His finishing skills, wicketkeeping, and leadership are legendary.',\n",
              "  'Jasprit Bumrah is considered one of the best fast bowlers in T20 cricket. Playing for Mumbai Indians, he is known for his yorkers and death-over expertise.',\n",
              "  'Ravindra Jadeja is a dynamic all-rounder who contributes with both bat and ball. Representing Chennai Super Kings, his quick fielding and match-winning performances make him a key player.',\n",
              "  \"Rohit Sharma is the most successful captain in IPL history, leading Mumbai Indians to five titles. He's known for his calm demeanor and ability to play big innings under pressure.\",\n",
              "  'MS Dhoni, famously known as Captain Cool, has led Chennai Super Kings to multiple IPL titles. His finishing skills, wicketkeeping, and leadership are legendary.',\n",
              "  'Jasprit Bumrah is considered one of the best fast bowlers in T20 cricket. Playing for Mumbai Indians, he is known for his yorkers and death-over expertise.',\n",
              "  'Ravindra Jadeja is a dynamic all-rounder who contributes with both bat and ball. Representing Chennai Super Kings, his quick fielding and match-winning performances make him a key player.'],\n",
              " 'uris': None,\n",
              " 'included': ['embeddings', 'documents', 'metadatas'],\n",
              " 'data': None,\n",
              " 'metadatas': [{'team': 'Mumbai Indians'},\n",
              "  {'team': 'Chennai Super Kings'},\n",
              "  {'team': 'Mumbai Indians'},\n",
              "  {'team': 'Chennai Super Kings'},\n",
              "  {'team': 'Royal Challengers Bangalore'},\n",
              "  {'team': 'Mumbai Indians'},\n",
              "  {'team': 'Chennai Super Kings'},\n",
              "  {'team': 'Mumbai Indians'},\n",
              "  {'team': 'Chennai Super Kings'},\n",
              "  {'team': 'Mumbai Indians'},\n",
              "  {'team': 'Chennai Super Kings'},\n",
              "  {'team': 'Mumbai Indians'},\n",
              "  {'team': 'Chennai Super Kings'}]}"
            ]
          },
          "metadata": {},
          "execution_count": 51
        }
      ]
    },
    {
      "cell_type": "code",
      "source": [],
      "metadata": {
        "id": "Hg--cFdi79CV"
      },
      "execution_count": null,
      "outputs": []
    }
  ]
}